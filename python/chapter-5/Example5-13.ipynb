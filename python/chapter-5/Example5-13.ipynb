{
 "cells": [
  {
   "cell_type": "markdown",
   "metadata": {},
   "source": [
    "# Example 5.13 (Illustrating the EM algorithm)"
   ]
  },
  {
   "cell_type": "code",
   "execution_count": 1,
   "metadata": {},
   "outputs": [],
   "source": [
    "import numpy as np\n",
    "from collections import namedtuple"
   ]
  },
  {
   "cell_type": "code",
   "execution_count": 2,
   "metadata": {},
   "outputs": [],
   "source": [
    "class partition(object):\n",
    "    \"\"\"\n",
    "    Partition the mean vector and covariance matrix based on an input, \"missing\", vector.\n",
    "    The missing vector should be p-dimensions.\n",
    "    Also takes care of reordering variables in the mean vector and covariance matrix so\n",
    "    they're in block mu1 and S_11.\n",
    "    Don't really need this for example 5.13, but I did it anyway.\n",
    "    \"\"\"\n",
    "\n",
    "    XBarBlock = namedtuple('XBarBlock', ['xbar1' , 'xbar2'])\n",
    "    SBlock = namedtuple('SBlock', ['S11', 'S12', 'S21', 'S22'])\n",
    "    def __init__(self, xbar: np.ndarray, S: np.ndarray, missings: np.array):\n",
    "        self.xbar = xbar\n",
    "        self.S = S\n",
    "        self.missings = missings\n",
    "        self.missing_vars = np.where(self.missings)[0]  # Variable idx values with missing.\n",
    "        self.n_missing = self.missing_vars.shape[0]  # How many variables with missing.\n",
    "\n",
    "    def swap_rows(self, x: np.ndarray) -> np.ndarray:\n",
    "        \"\"\"\n",
    "        Swap rows in the input array so values true in the missing vector are at the\n",
    "        top (starting at row index 0).\n",
    "        Args:\n",
    "            x (np.ndarray): An input array with missing data that needs its rows swapped.\n",
    "        Return:\n",
    "            np.ndarray: An array where rows with any missing values are moved to the\n",
    "            top rows.\n",
    "        \"\"\"\n",
    "        x = x.copy()\n",
    "        for r in range(self.n_missing):\n",
    "            # If first row, then no need to swap.\n",
    "            if (self.missing_vars[r] == 0) | (r == self.missing_vars[r]):\n",
    "                continue\n",
    "            x[[r, self.missing_vars[r]]] = x[[self.missing_vars[r], r]]\n",
    "            print(f'Swap row {r} with row {self.missing_vars[r]}')\n",
    "        return x\n",
    "    \n",
    "    def swap_columns(self, x: np.ndarray) -> np.ndarray:\n",
    "        \"\"\"\n",
    "        Swap columns in the input array so values true in the missing vector are at the\n",
    "        first column(s) (starting at row index 0).\n",
    "        Args:\n",
    "            x (np.ndarray): An input array with missing data that needs its columns swapped.\n",
    "        Returns:\n",
    "            np.ndarray: An array where columns with any missing values are moved to the\n",
    "            columns on the most-left positions.\n",
    "        \"\"\"\n",
    "        x, missings = x.copy(), self.missings.copy()\n",
    "        for v in self.missing_vars:\n",
    "            if v > 0:\n",
    "                possible_places = [c for c in range(v) if ~missings[c]]\n",
    "                if len(possible_places) == 0:\n",
    "                    # Nowhere to swap.\n",
    "                    continue\n",
    "                free_spot = min(possible_places)\n",
    "                print(f'\\tthen swap column {v} with column {free_spot}')\n",
    "                x[:, [v, free_spot]] = x[:, [free_spot, v]]\n",
    "                missings[[v, free_spot]] = missings[[free_spot, v]]\n",
    "        return x, missings\n",
    "    \n",
    "    def swap_row_columns(self, x: np.ndarray) -> np.ndarray:\n",
    "        \"\"\"\n",
    "        Swap columns in the input array so values true in the missing vector are at the\n",
    "        first row(s)/column(s) (starting at row index [0, 0]). For a matrix with missing\n",
    "        values in rows and columns, rearrange the matrix so missing data appears in the\n",
    "        upper left of the matrix. This is so we can partition the matrix with those\n",
    "        variables together.\n",
    "        Args:\n",
    "            x (np.ndarray): A matrix with missing data for values in rows and columns.\n",
    "        Returns:\n",
    "            np.ndarray: A matrix where the missing data positions are moved to the\n",
    "            top-left.\n",
    "        \"\"\"\n",
    "        if self.n_missing == 0:\n",
    "            print(f'Observation has no missing data.')\n",
    "            return x\n",
    "        else:\n",
    "            print(f'Observation has {self.n_missing} missing variables.')\n",
    "\n",
    "        x, missings = x.copy(), self.missings.copy()\n",
    "        x = self.swap_rows(x)\n",
    "        x, missing_arrange = self.swap_columns(x)\n",
    "\n",
    "        for i in range(self.n_missing):\n",
    "            assert missing_arrange[i], f'Variable column {i} not moved!'\n",
    "        return x\n",
    "    \n",
    "    def partition_mean(self) -> XBarBlock:\n",
    "            \"\"\"\n",
    "            Partition the mean vector into 2 blocks.\n",
    "            Args:\n",
    "                None\n",
    "            Returns:\n",
    "                XBarBlock: The named tuple containing the partitioned mean vector.\n",
    "                The first partition contains the variables with missing data.\n",
    "            \"\"\"\n",
    "            xbar = self.xbar.copy()\n",
    "            # Swap any rows that need it.\n",
    "            xbar = self.swap_rows(xbar)\n",
    "            stop_idx = self.n_missing\n",
    "\n",
    "            xbar1 = xbar[0:stop_idx]\n",
    "            xbar2 = xbar[stop_idx:]\n",
    "            return self.XBarBlock(xbar1, xbar2)\n",
    "\n",
    "    def partition_covar(self) -> SBlock:\n",
    "        \"\"\"\n",
    "        Partition the covariance matrix into 4 blocks.\n",
    "        Ags:\n",
    "            None\n",
    "        Returns:\n",
    "            SBlock: The named tuple containing the partitioned covariance matrix.\n",
    "            The S11 block contains the variables with missing data.\n",
    "        \"\"\"\n",
    "        S = self.S.copy()\n",
    "        S = self.swap_row_columns(S)\n",
    "        stop_idx = self.n_missing\n",
    "        S11 = S[0:stop_idx, 0:stop_idx]\n",
    "        S12 = S[0:stop_idx, stop_idx:]\n",
    "        S21 = S[stop_idx:, 0:stop_idx]\n",
    "        S22 = S[stop_idx:, stop_idx:]\n",
    "        return self.SBlock(S11, S12, S21, S22)\n",
    "    \n",
    "    "
   ]
  },
  {
   "cell_type": "code",
   "execution_count": 3,
   "metadata": {},
   "outputs": [],
   "source": [
    "def extract_notna_submatrix(x: np.ndarray) -> np.ndarray:\n",
    "    \"\"\"\n",
    "    Used in the EM algorithm when computing values for T2_list, where we have a matrix\n",
    "    with certain rows and columns missing and only a block matrix\n",
    "    contains data. Extract the block of data without missing values.\n",
    "    For example, the input 4 x 4 matrix:\n",
    "    [NA NA NA NA]\n",
    "    [NA NA NA NA]\n",
    "    [NA NA 4  5 ]\n",
    "    [NA NA 6  7 ]\n",
    "    would return the 2 x 2 output matrix:\n",
    "    [4 5]\n",
    "    [6 7]\n",
    "    Args:\n",
    "        x (np.ndarray): An input matrix. It's going to be square and p x p.\n",
    "    Returns:\n",
    "        np.ndarray: The block matrix without missing data.\n",
    "    \"\"\"\n",
    "    notna_cols = ~np.all(np.isnan(x), axis=0)\n",
    "    notna_rows = ~np.all(np.isnan(x), axis=1)\n",
    "    return x[notna_rows][:, notna_cols]"
   ]
  },
  {
   "cell_type": "code",
   "execution_count": 4,
   "metadata": {},
   "outputs": [],
   "source": [
    "def compute_xxt(x: np.ndarray, predictions: dict[str, np.ndarray]) -> np.ndarray:\n",
    "    \"\"\"\n",
    "    Compute X * X^{\\prime} for an input p x 1 vector x.\n",
    "    Replace NA values with values predicted using the EM algorithm.\n",
    "    Args:\n",
    "        x (np.ndarray): An observation of data. Basically, a p x 1 array.\n",
    "        predictions (dict[str, np.ndarray]): An dictionary containing the estimates from EM.\n",
    "        The key values are 'a', 'b', and 'c'. Here, we only use 'b' and 'c'. The key 'b'\n",
    "        corresponds to the predictions for crossterms (like x_{1}x_{2}) when both values are missing. The key 'c' corresponds to the predictions when only one of the crossterm values (like x_{1}x_{2}) are missing. \n",
    "    Returns:\n",
    "        np.ndarray: A p x p matrix that has contains the results of X * X^{\\prime},\n",
    "        where the NA values in the results are filled in using the EM predictions.\n",
    "    \"\"\"\n",
    "    dotted = x @ x.T\n",
    "    s = np.hstack((predictions['b'], predictions['c']))\n",
    "    t = np.hstack((predictions['c'].T, extract_notna_submatrix(dotted)))\n",
    "    return np.vstack((s,t))"
   ]
  },
  {
   "cell_type": "code",
   "execution_count": 5,
   "metadata": {},
   "outputs": [],
   "source": [
    "def compute_em_estimates(X: np.ndarray) -> namedtuple:\n",
    "    \"\"\"\n",
    "    Use the EM algorithm to estimate the mean and covariance matrix when we have missing at random (MAR) data.\n",
    "    Args:\n",
    "        X (np.ndarray): n x p matrix of data. n observations with p measurements for each variable.\n",
    "    Returns:\n",
    "        namedtuple: The estimates for the vector mu and covariance vector sigma.\n",
    "    \"\"\"\n",
    "    EMEstimates = namedtuple('EMEstimates', ['mu' , 'sigma'])\n",
    "    X = X.copy()\n",
    "    X_missing = np.isnan(X)\n",
    "    n, p = X.shape\n",
    "    xbar_til = np.nanmean(X, axis=0, )\n",
    "    X_til = np.nan_to_num(X, nan=xbar_til)\n",
    "    S_til = np.cov(X_til.T, ddof=0)\n",
    "\n",
    "    T1_pre = X.copy()\n",
    "    T2_list = list()\n",
    "    for i, row in enumerate(X_missing):\n",
    "        X_row = X[i,:].reshape(p, 1).copy()\n",
    "        if row.sum() > 0:\n",
    "\n",
    "            # Split the mean vector and covariance matrix into blocks.\n",
    "            part = partition(xbar_til, S_til, X_missing[i])\n",
    "            xbar_til_p = part.partition_mean()\n",
    "            S_til_p = part.partition_covar()\n",
    "            predictions = dict()\n",
    "\n",
    "            # Estimate single terms for missing data found in (5-38) on page 252.\n",
    "            xj_til1 = xbar_til_p.xbar1.reshape(~X_missing[i].sum().size,1) + S_til_p.S12 @ np.linalg.inv(S_til_p.S22) @ (X[i,~X_missing[i]] - xbar_til[~X_missing[i]]).reshape(~X_missing[i].sum(), 1)\n",
    "            predictions['a'] = xj_til1\n",
    "\n",
    "            # Estimate cross(squared) terms, where both are missing found in (5-39) on page 252.\n",
    "            xj_til1_sq = S_til_p.S11 - S_til_p.S12 @ np.linalg.inv(S_til_p.S22) @ S_til_p.S21 + xj_til1 @ xj_til1.T\n",
    "            predictions['b'] = xj_til1_sq\n",
    "            \n",
    "            # Estimate cross (squared) terms, where one is missing and one is not\n",
    "            #  found in (5-39) on the top of page 253.\n",
    "            cross_term_est = xj_til1 * X[i,~X_missing[i]]\n",
    "            predictions['c'] = cross_term_est\n",
    "            T1_pre[i, row] = xj_til1.squeeze()\n",
    "\n",
    "            T2_list.append(compute_xxt(X_row, predictions))\n",
    "        else:\n",
    "            T2_list.append(X_row @ X_row.T)\n",
    "\n",
    "    T1_til = T1_pre.sum(axis=0).reshape(p, 1)\n",
    "    T2_til = sum(T2_list)\n",
    "\n",
    "    # Estimation of mu and sigma found in (5-40) on page 253.\n",
    "    mu_til = T1_til / n\n",
    "    sigma_til = T2_til / n - mu_til @ mu_til.T\n",
    "\n",
    "    return EMEstimates(mu=mu_til, sigma=sigma_til)"
   ]
  },
  {
   "cell_type": "code",
   "execution_count": 6,
   "metadata": {},
   "outputs": [],
   "source": [
    "X = np.array([\n",
    "    [np.NaN, 0, 3],\n",
    "    [7, 2, 6],\n",
    "    [5, 1, 2],\n",
    "    [np.NaN, np.NaN, 5]])"
   ]
  },
  {
   "cell_type": "code",
   "execution_count": 7,
   "metadata": {},
   "outputs": [
    {
     "name": "stdout",
     "output_type": "stream",
     "text": [
      "Observation has 1 missing variables.\n",
      "Observation has 2 missing variables.\n"
     ]
    }
   ],
   "source": [
    "results = compute_em_estimates(X)"
   ]
  },
  {
   "cell_type": "code",
   "execution_count": 8,
   "metadata": {},
   "outputs": [
    {
     "data": {
      "text/plain": [
       "array([[6.03181818],\n",
       "       [1.075     ],\n",
       "       [4.        ]])"
      ]
     },
     "execution_count": 8,
     "metadata": {},
     "output_type": "execute_result"
    }
   ],
   "source": [
    "results.mu"
   ]
  },
  {
   "cell_type": "code",
   "execution_count": 9,
   "metadata": {},
   "outputs": [
    {
     "data": {
      "text/plain": [
       "array([[0.60530992, 0.33329545, 1.16818182],\n",
       "       [0.33329545, 0.585625  , 0.825     ],\n",
       "       [1.16818182, 0.825     , 2.5       ]])"
      ]
     },
     "execution_count": 9,
     "metadata": {},
     "output_type": "execute_result"
    }
   ],
   "source": [
    "results.sigma"
   ]
  }
 ],
 "metadata": {
  "kernelspec": {
   "display_name": "myvmpy311",
   "language": "python",
   "name": "myvmpy311"
  },
  "language_info": {
   "codemirror_mode": {
    "name": "ipython",
    "version": 3
   },
   "file_extension": ".py",
   "mimetype": "text/x-python",
   "name": "python",
   "nbconvert_exporter": "python",
   "pygments_lexer": "ipython3",
   "version": "3.11.3"
  }
 },
 "nbformat": 4,
 "nbformat_minor": 2
}
