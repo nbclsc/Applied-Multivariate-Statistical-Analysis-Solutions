{
 "cells": [
  {
   "cell_type": "markdown",
   "metadata": {},
   "source": [
    "# Example 5.2 (Testing a multivariate mean vector with $T^{2}$)"
   ]
  },
  {
   "cell_type": "code",
   "execution_count": 1,
   "metadata": {},
   "outputs": [],
   "source": [
    "import scipy.stats\n",
    "import numpy as np\n",
    "import pandas as pd"
   ]
  },
  {
   "cell_type": "code",
   "execution_count": 4,
   "metadata": {},
   "outputs": [],
   "source": [
    "X = pd.read_excel(r'../../data/Table5.1.xlsx').iloc[:, 1:].to_numpy()\n",
    "n, p = X.shape\n",
    "\n",
    "xbar = np.mean(X, axis=0).reshape(p, 1)\n",
    "S = np.cov(X.T)"
   ]
  },
  {
   "cell_type": "code",
   "execution_count": 5,
   "metadata": {},
   "outputs": [],
   "source": [
    "mu0 = np.array([4, 50, 10]).reshape(p, 1)"
   ]
  },
  {
   "cell_type": "code",
   "execution_count": 6,
   "metadata": {},
   "outputs": [],
   "source": [
    "T2 = n * (xbar - mu0).T @ np.linalg.inv(S) @ (xbar - mu0)"
   ]
  },
  {
   "cell_type": "code",
   "execution_count": 7,
   "metadata": {},
   "outputs": [
    {
     "name": "stdout",
     "output_type": "stream",
     "text": [
      "T^2 values = 9.74\n"
     ]
    }
   ],
   "source": [
    "print(f'T^2 values = {T2[0][0]:.2f}')"
   ]
  },
  {
   "cell_type": "code",
   "execution_count": 8,
   "metadata": {},
   "outputs": [],
   "source": [
    "crit_value = ((n-1)*p)/(n-p) * scipy.stats.f.ppf(1-0.1, p, n-p)"
   ]
  },
  {
   "cell_type": "code",
   "execution_count": 9,
   "metadata": {},
   "outputs": [
    {
     "name": "stdout",
     "output_type": "stream",
     "text": [
      "Reject the null hypothesis. T^2 = 9.74 > 8.17\n"
     ]
    }
   ],
   "source": [
    "if T2 <= crit_value:\n",
    "    print(f'Fail to reject the null hypothesis. T^2 = {T2[0][0]:.2f} <= {crit_value:.2f}')\n",
    "else:\n",
    "    print(f'Reject the null hypothesis. T^2 = {T2[0][0]:.2f} > {crit_value:.2f}')"
   ]
  }
 ],
 "metadata": {
  "kernelspec": {
   "display_name": "myvmpy311",
   "language": "python",
   "name": "myvmpy311"
  },
  "language_info": {
   "codemirror_mode": {
    "name": "ipython",
    "version": 3
   },
   "file_extension": ".py",
   "mimetype": "text/x-python",
   "name": "python",
   "nbconvert_exporter": "python",
   "pygments_lexer": "ipython3",
   "version": "3.11.3"
  }
 },
 "nbformat": 4,
 "nbformat_minor": 2
}
