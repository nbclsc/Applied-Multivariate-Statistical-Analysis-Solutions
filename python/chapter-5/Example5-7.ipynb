{
 "cells": [
  {
   "cell_type": "markdown",
   "id": "80d3af61-5080-4077-a0d2-2446f5e6b2c1",
   "metadata": {},
   "source": [
    "# Example 5. 7 (Constructing large sample simultaneous confidence intervals)"
   ]
  },
  {
   "cell_type": "code",
   "execution_count": 1,
   "id": "345bf2a4-f976-4986-8d3a-d951793c63eb",
   "metadata": {},
   "outputs": [],
   "source": [
    "import pathlib\n",
    "import scipy.stats\n",
    "import numpy as np\n",
    "import pandas as pd\n",
    "from IPython.display import display, Math"
   ]
  },
  {
   "cell_type": "code",
   "execution_count": 2,
   "id": "e8ab2d71-3cce-41d9-8731-e7dfb2a8f374",
   "metadata": {},
   "outputs": [],
   "source": [
    "def load_ex_data() -> pd.DataFrame:\n",
    "    fpth = pathlib.Path(r\"..\\..\\data\\Table5.5.xlsx\")\n",
    "    return pd.read_excel(fpth)"
   ]
  },
  {
   "cell_type": "code",
   "execution_count": 3,
   "id": "b6dca02c-17cc-4a6a-96c6-0efd5f3df61b",
   "metadata": {},
   "outputs": [],
   "source": [
    "df = load_ex_data()"
   ]
  },
  {
   "cell_type": "code",
   "execution_count": 4,
   "id": "664d8403-93a9-41c9-9ab1-d20e6418d907",
   "metadata": {},
   "outputs": [],
   "source": [
    "alpha = 0.10\n",
    "n = 96\n",
    "p = df.shape[0]\n",
    "crit = scipy.stats.chi2.ppf(q=1-alpha, df=p)"
   ]
  },
  {
   "cell_type": "code",
   "execution_count": 5,
   "id": "219a21b7-277c-4e7c-8e29-f518e6295a28",
   "metadata": {},
   "outputs": [],
   "source": [
    "ci = df.Mean.to_numpy().reshape(p,1) + np.array([-1, 1]) * np.sqrt(crit) * df['Standard Deviation'].to_numpy().reshape(p,1) / np.sqrt(n)"
   ]
  },
  {
   "cell_type": "code",
   "execution_count": 6,
   "id": "31e18e1f-3e1c-4f2f-ab26-506cb56b8939",
   "metadata": {},
   "outputs": [
    {
     "data": {
      "text/latex": [
       "$\\displaystyle 28.1 \\pm \\sqrt{12.02} \\frac{5.76}{\\sqrt{96}}\\hspace{0.5cm} \\text{contains}\\hspace{0.5cm}\\mu_1\\hspace{1cm}\\text{or}\\hspace{1cm}26.06 \\leq \\mu_1 \\leq 30.14$"
      ],
      "text/plain": [
       "<IPython.core.display.Math object>"
      ]
     },
     "metadata": {},
     "output_type": "display_data"
    },
    {
     "data": {
      "text/latex": [
       "$\\displaystyle 26.6 \\pm \\sqrt{12.02} \\frac{5.85}{\\sqrt{96}}\\hspace{0.5cm} \\text{contains}\\hspace{0.5cm}\\mu_2\\hspace{1cm}\\text{or}\\hspace{1cm}24.53 \\leq \\mu_2 \\leq 28.67$"
      ],
      "text/plain": [
       "<IPython.core.display.Math object>"
      ]
     },
     "metadata": {},
     "output_type": "display_data"
    },
    {
     "data": {
      "text/latex": [
       "$\\displaystyle 35.4 \\pm \\sqrt{12.02} \\frac{3.82}{\\sqrt{96}}\\hspace{0.5cm} \\text{contains}\\hspace{0.5cm}\\mu_3\\hspace{1cm}\\text{or}\\hspace{1cm}34.05 \\leq \\mu_3 \\leq 36.75$"
      ],
      "text/plain": [
       "<IPython.core.display.Math object>"
      ]
     },
     "metadata": {},
     "output_type": "display_data"
    },
    {
     "data": {
      "text/latex": [
       "$\\displaystyle 34.2 \\pm \\sqrt{12.02} \\frac{5.12}{\\sqrt{96}}\\hspace{0.5cm} \\text{contains}\\hspace{0.5cm}\\mu_4\\hspace{1cm}\\text{or}\\hspace{1cm}32.39 \\leq \\mu_4 \\leq 36.01$"
      ],
      "text/plain": [
       "<IPython.core.display.Math object>"
      ]
     },
     "metadata": {},
     "output_type": "display_data"
    },
    {
     "data": {
      "text/latex": [
       "$\\displaystyle 23.6 \\pm \\sqrt{12.02} \\frac{3.76}{\\sqrt{96}}\\hspace{0.5cm} \\text{contains}\\hspace{0.5cm}\\mu_5\\hspace{1cm}\\text{or}\\hspace{1cm}22.27 \\leq \\mu_5 \\leq 24.93$"
      ],
      "text/plain": [
       "<IPython.core.display.Math object>"
      ]
     },
     "metadata": {},
     "output_type": "display_data"
    },
    {
     "data": {
      "text/latex": [
       "$\\displaystyle 22.0 \\pm \\sqrt{12.02} \\frac{3.93}{\\sqrt{96}}\\hspace{0.5cm} \\text{contains}\\hspace{0.5cm}\\mu_6\\hspace{1cm}\\text{or}\\hspace{1cm}20.61 \\leq \\mu_6 \\leq 23.39$"
      ],
      "text/plain": [
       "<IPython.core.display.Math object>"
      ]
     },
     "metadata": {},
     "output_type": "display_data"
    },
    {
     "data": {
      "text/latex": [
       "$\\displaystyle 22.7 \\pm \\sqrt{12.02} \\frac{4.03}{\\sqrt{96}}\\hspace{0.5cm} \\text{contains}\\hspace{0.5cm}\\mu_7\\hspace{1cm}\\text{or}\\hspace{1cm}21.27 \\leq \\mu_7 \\leq 24.13$"
      ],
      "text/plain": [
       "<IPython.core.display.Math object>"
      ]
     },
     "metadata": {},
     "output_type": "display_data"
    }
   ],
   "source": [
    "for i in range(ci.shape[0]):\n",
    "    display(Math(f'{df.iloc[i,1]} \\\\pm \\\\sqrt{{{crit:.2f}}} \\\\frac{{{df.iloc[i,2]}}}{{\\sqrt{{{n}}}}}\\\\hspace{{0.5cm}} \\\\text{{contains}}'\\\n",
    "                     f'\\\\hspace{{0.5cm}}\\\\mu_{i+1}\\\\hspace{{1cm}}\\\\text{{or}}\\\\hspace{{1cm}}{ci[i,0]:.2f} \\\\leq \\\\mu_{i+1} \\\\leq {ci[i,1]:.2f}'))"
   ]
  },
  {
   "cell_type": "code",
   "execution_count": 7,
   "id": "60d89083-2907-413a-bda8-2b8050a4418a",
   "metadata": {},
   "outputs": [],
   "source": [
    "mu0_american = np.array([31, 27, 34, 31, 23, 22, 22])"
   ]
  },
  {
   "cell_type": "code",
   "execution_count": 8,
   "id": "251be3f6-33b2-40b0-b07a-ef4c6cd8c44a",
   "metadata": {},
   "outputs": [
    {
     "data": {
      "text/plain": [
       "['melody', 'tempo', 'meter']"
      ]
     },
     "execution_count": 8,
     "metadata": {},
     "output_type": "execute_result"
    }
   ],
   "source": [
    "# Variables not in the interval.\n",
    "df.loc[~np.logical_and(mu0_american >= ci[:,0], mu0_american <= ci[:,1]), 'Variable'].tolist()"
   ]
  }
 ],
 "metadata": {
  "kernelspec": {
   "display_name": "myvmpy311",
   "language": "python",
   "name": "myvmpy311"
  },
  "language_info": {
   "codemirror_mode": {
    "name": "ipython",
    "version": 3
   },
   "file_extension": ".py",
   "mimetype": "text/x-python",
   "name": "python",
   "nbconvert_exporter": "python",
   "pygments_lexer": "ipython3",
   "version": "3.11.3"
  }
 },
 "nbformat": 4,
 "nbformat_minor": 5
}
