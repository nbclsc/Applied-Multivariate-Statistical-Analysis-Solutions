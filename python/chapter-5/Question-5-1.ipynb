{
 "cells": [
  {
   "cell_type": "markdown",
   "metadata": {},
   "source": [
    "# Exercise 5.1"
   ]
  },
  {
   "cell_type": "markdown",
   "metadata": {},
   "source": [
    "$ H_{0}: \\bm{\\mu} = \\begin{bmatrix}7 \\\\ 11\\end{bmatrix} $ against\n",
    "$ H_{1}: \\bm{\\mu} \\ne \\begin{bmatrix}7 \\\\ 11\\end{bmatrix} $"
   ]
  },
  {
   "cell_type": "code",
   "execution_count": 1,
   "metadata": {},
   "outputs": [],
   "source": [
    "from scipy import stats\n",
    "import numpy as np"
   ]
  },
  {
   "cell_type": "markdown",
   "metadata": {},
   "source": [
    "## (a)"
   ]
  },
  {
   "cell_type": "code",
   "execution_count": 2,
   "metadata": {},
   "outputs": [],
   "source": [
    "X = np.array([[2, 8, 6, 8], [12, 9, 9, 10]]).T\n",
    "n, p = X.shape\n",
    "\n",
    "xbar = np.mean(X, axis=0).reshape(p, 1)\n",
    "S = np.cov(X.T)"
   ]
  },
  {
   "cell_type": "code",
   "execution_count": 3,
   "metadata": {},
   "outputs": [],
   "source": [
    "mu0 = np.array([7, 11]).reshape(p, 1)"
   ]
  },
  {
   "cell_type": "code",
   "execution_count": 4,
   "metadata": {},
   "outputs": [
    {
     "name": "stdout",
     "output_type": "stream",
     "text": [
      "T^2 values = 13.64\n"
     ]
    }
   ],
   "source": [
    "T2 = n * (xbar - mu0).T @ np.linalg.inv(S) @ (xbar - mu0)\n",
    "print(f'T^2 values = {T2[0][0]:.2f}')"
   ]
  },
  {
   "cell_type": "markdown",
   "metadata": {},
   "source": [
    "## (b)\n"
   ]
  },
  {
   "cell_type": "markdown",
   "metadata": {},
   "source": [
    "$T^{2}$ has a distribution of\n",
    "$$\n",
    "\\frac{(n-1)p}{(n - p)}F_{p, n-p}(\\alpha)\n",
    "= \n",
    "\\frac{(4-1)2}{(4 - 2)}F_{2, 2}(\\alpha)\n",
    "=\n",
    "3 F_{2, 2}(\\alpha)\n",
    "$$"
   ]
  },
  {
   "cell_type": "markdown",
   "metadata": {},
   "source": [
    "## (c)"
   ]
  },
  {
   "cell_type": "code",
   "execution_count": 5,
   "metadata": {},
   "outputs": [],
   "source": [
    "alpha = 0.05\n",
    "crit_value = ((n-1)*p)/(n-p) * stats.f.ppf(1-alpha, p, n-p)\n"
   ]
  },
  {
   "cell_type": "code",
   "execution_count": 6,
   "metadata": {},
   "outputs": [
    {
     "name": "stdout",
     "output_type": "stream",
     "text": [
      "Fail to reject the null hypothesis. T^2 = 13.64 <= 57.00\n"
     ]
    }
   ],
   "source": [
    "if T2 <= crit_value:\n",
    "    print(f'Fail to reject the null hypothesis. T^2 = {T2[0][0]:.2f} <= {crit_value:.2f}')\n",
    "else:\n",
    "    print(f'Reject the null hypothesis. T^2 = {T2[0][0]:.2f} > {crit_value:.2f}')"
   ]
  }
 ],
 "metadata": {
  "kernelspec": {
   "display_name": "myvmpy311",
   "language": "python",
   "name": "myvmpy311"
  },
  "language_info": {
   "codemirror_mode": {
    "name": "ipython",
    "version": 3
   },
   "file_extension": ".py",
   "mimetype": "text/x-python",
   "name": "python",
   "nbconvert_exporter": "python",
   "pygments_lexer": "ipython3",
   "version": "3.11.3"
  }
 },
 "nbformat": 4,
 "nbformat_minor": 2
}
