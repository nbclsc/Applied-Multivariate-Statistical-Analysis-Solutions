{
 "cells": [
  {
   "cell_type": "markdown",
   "metadata": {},
   "source": [
    "# Exercise 5.12"
   ]
  },
  {
   "cell_type": "code",
   "execution_count": 1,
   "metadata": {},
   "outputs": [],
   "source": [
    "import numpy as np\n",
    "from collections import namedtuple\n",
    "from em_algorithm import compute_em_estimates"
   ]
  },
  {
   "cell_type": "code",
   "execution_count": 2,
   "metadata": {},
   "outputs": [],
   "source": [
    "X = np.array(\n",
    "    [\n",
    "    [     3,      6,      0],\n",
    "    [     4,      4,      3],\n",
    "    [np.NaN,      8,      3],\n",
    "    [     5, np.NaN, np.NaN]\n",
    "    ]\n",
    ")"
   ]
  },
  {
   "cell_type": "code",
   "execution_count": 3,
   "metadata": {},
   "outputs": [
    {
     "name": "stdout",
     "output_type": "stream",
     "text": [
      "Observation has 1 missing variables.\n",
      "\tthen swap column 1 with column 0\n",
      "\tthen swap column 2 with column 1\n",
      "Observation has 2 missing variables.\n",
      "\tthen swap column 1 with column 0\n",
      "\tthen swap column 2 with column 1\n",
      "\tthen swap column 1 with column 0\n",
      "\tthen swap column 2 with column 1\n"
     ]
    }
   ],
   "source": [
    "# Use the code I wrote in the em_algorithm module.\n",
    "results = compute_em_estimates(X)"
   ]
  },
  {
   "cell_type": "code",
   "execution_count": 4,
   "metadata": {},
   "outputs": [
    {
     "data": {
      "text/plain": [
       "array([[4.08333333],\n",
       "       [6.        ],\n",
       "       [2.25      ]])"
      ]
     },
     "execution_count": 4,
     "metadata": {},
     "output_type": "execute_result"
    }
   ],
   "source": [
    "# EM estimate of the mu vector.\n",
    "results.mu"
   ]
  },
  {
   "cell_type": "code",
   "execution_count": 5,
   "metadata": {},
   "outputs": [
    {
     "data": {
      "text/plain": [
       "array([[0.60416667, 0.16666667, 0.8125    ],\n",
       "       [0.16666667, 2.5       , 0.        ],\n",
       "       [0.8125    , 0.        , 1.9375    ]])"
      ]
     },
     "execution_count": 5,
     "metadata": {},
     "output_type": "execute_result"
    }
   ],
   "source": [
    "# EM estimate of the covariance marix.\n",
    "results.sigma"
   ]
  }
 ],
 "metadata": {
  "kernelspec": {
   "display_name": "myvmpy311",
   "language": "python",
   "name": "myvmpy311"
  },
  "language_info": {
   "codemirror_mode": {
    "name": "ipython",
    "version": 3
   },
   "file_extension": ".py",
   "mimetype": "text/x-python",
   "name": "python",
   "nbconvert_exporter": "python",
   "pygments_lexer": "ipython3",
   "version": "3.11.3"
  }
 },
 "nbformat": 4,
 "nbformat_minor": 2
}
