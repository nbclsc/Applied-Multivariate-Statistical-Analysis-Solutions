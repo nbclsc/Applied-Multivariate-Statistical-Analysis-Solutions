{
 "cells": [
  {
   "cell_type": "code",
   "execution_count": 1,
   "metadata": {},
   "outputs": [],
   "source": [
    "import numpy as np\n",
    "import pandas as pd\n",
    "from typing import Literal\n",
    "from scipy import stats"
   ]
  },
  {
   "cell_type": "markdown",
   "metadata": {},
   "source": [
    "- The length of the one-at-a-time $t$-interval is: $t_{n-1}(\\alpha/2)$\n",
    "- The length of the Bonferroni $t$-interval when is: $t_{n-1}(\\alpha/(2m))$\n",
    "- The length of the one-at-a-time $T^{2}$-interval is: $\\sqrt{\\frac{(n-1)p}{n-p}F_{p, n-p}(\\alpha)}$"
   ]
  },
  {
   "cell_type": "markdown",
   "metadata": {},
   "source": [
    "- The length of the one-at-a-time $t$-interval when $n$ is large is approximately: $z(\\alpha/2)$\n",
    "- The length of the Bonferroni $t$-interval when $n$ is large is approximately: $z(\\alpha/(2m))$\n",
    "- The length of the one-at-a-time $T^{2}$-interval when $n$ is large is approximately: $\\sqrt{\\chi_{p}^{2}(\\alpha)}$"
   ]
  },
  {
   "cell_type": "code",
   "execution_count": 2,
   "metadata": {},
   "outputs": [],
   "source": [
    "def len_compare(alpha, num: Literal['Bon-t','t', 'T2'], denom: Literal['Bon-t','t', 'T2']):\n",
    "    def bonferroni_t_len(alpha, n, m) -> float:\n",
    "        # Length of the Bonferroni t-interval.\n",
    "        if n == np.Inf:\n",
    "            return stats.norm.ppf(1-alpha/(2*m))\n",
    "        else:\n",
    "            return stats.t.ppf(1-alpha/(2*m), df=n-1)\n",
    "    \n",
    "    def T2_len(alpha, n, p) -> float:\n",
    "        # Length of the one-at-a-time T^{2} interval.\n",
    "        if n == np.Inf:\n",
    "            return np.sqrt(stats.chi2.ppf(1-alpha, df=p))\n",
    "        else:\n",
    "            return np.sqrt((((n-1)*p)/(n-p))*stats.f.ppf(1-alpha, dfn=p, dfd=n-p))\n",
    "        \n",
    "    def t_len(alpha, n) -> float:\n",
    "        # Length of the one-at-a-time t-interval.\n",
    "        if n == np.Inf:\n",
    "            return stats.norm.ppf(1-alpha/2)\n",
    "        else:\n",
    "            return stats.t.ppf(1-alpha/2, df=n-1)\n",
    "        \n",
    "    n_list = [15, 25, 50, 100, np.Inf]\n",
    "    p_list = [2, 4, 10]\n",
    "    output_dict = dict()\n",
    "    for n in n_list:\n",
    "        output_dict[n] = dict()\n",
    "        for p in p_list:\n",
    "            m = p\n",
    "            calls = {\n",
    "                'Bon-t' : bonferroni_t_len(alpha, n, m),\n",
    "                'T2': T2_len(alpha, n, p),\n",
    "                't': t_len(alpha, n),\n",
    "            }\n",
    "            output_dict[n][p] = calls[num]/calls[denom]\n",
    "    return pd.DataFrame(output_dict).T"
   ]
  },
  {
   "cell_type": "code",
   "execution_count": 3,
   "metadata": {},
   "outputs": [],
   "source": [
    "ci_len = len_compare(alpha=0.05, num='t', denom='Bon-t')"
   ]
  },
  {
   "cell_type": "code",
   "execution_count": 4,
   "metadata": {},
   "outputs": [
    {
     "data": {
      "text/html": [
       "<div>\n",
       "<style scoped>\n",
       "    .dataframe tbody tr th:only-of-type {\n",
       "        vertical-align: middle;\n",
       "    }\n",
       "\n",
       "    .dataframe tbody tr th {\n",
       "        vertical-align: top;\n",
       "    }\n",
       "\n",
       "    .dataframe thead th {\n",
       "        text-align: right;\n",
       "    }\n",
       "</style>\n",
       "<table border=\"1\" class=\"dataframe\">\n",
       "  <thead>\n",
       "    <tr style=\"text-align: right;\">\n",
       "      <th></th>\n",
       "      <th>2</th>\n",
       "      <th>4</th>\n",
       "      <th>10</th>\n",
       "    </tr>\n",
       "  </thead>\n",
       "  <tbody>\n",
       "    <tr>\n",
       "      <th>15.0</th>\n",
       "      <td>0.854643</td>\n",
       "      <td>0.748880</td>\n",
       "      <td>0.644914</td>\n",
       "    </tr>\n",
       "    <tr>\n",
       "      <th>25.0</th>\n",
       "      <td>0.863213</td>\n",
       "      <td>0.764341</td>\n",
       "      <td>0.667817</td>\n",
       "    </tr>\n",
       "    <tr>\n",
       "      <th>50.0</th>\n",
       "      <td>0.869052</td>\n",
       "      <td>0.774922</td>\n",
       "      <td>0.683592</td>\n",
       "    </tr>\n",
       "    <tr>\n",
       "      <th>100.0</th>\n",
       "      <td>0.871799</td>\n",
       "      <td>0.779910</td>\n",
       "      <td>0.691050</td>\n",
       "    </tr>\n",
       "    <tr>\n",
       "      <th>inf</th>\n",
       "      <td>0.874436</td>\n",
       "      <td>0.784706</td>\n",
       "      <td>0.698233</td>\n",
       "    </tr>\n",
       "  </tbody>\n",
       "</table>\n",
       "</div>"
      ],
      "text/plain": [
       "             2         4         10\n",
       "15.0   0.854643  0.748880  0.644914\n",
       "25.0   0.863213  0.764341  0.667817\n",
       "50.0   0.869052  0.774922  0.683592\n",
       "100.0  0.871799  0.779910  0.691050\n",
       "inf    0.874436  0.784706  0.698233"
      ]
     },
     "execution_count": 4,
     "metadata": {},
     "output_type": "execute_result"
    }
   ],
   "source": [
    "ci_len"
   ]
  }
 ],
 "metadata": {
  "kernelspec": {
   "display_name": "myvmpy311",
   "language": "python",
   "name": "myvmpy311"
  },
  "language_info": {
   "codemirror_mode": {
    "name": "ipython",
    "version": 3
   },
   "file_extension": ".py",
   "mimetype": "text/x-python",
   "name": "python",
   "nbconvert_exporter": "python",
   "pygments_lexer": "ipython3",
   "version": "3.11.3"
  }
 },
 "nbformat": 4,
 "nbformat_minor": 2
}
