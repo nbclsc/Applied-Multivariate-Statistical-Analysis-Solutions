{
 "cells": [
  {
   "cell_type": "markdown",
   "metadata": {},
   "source": [
    "# Exercise 5.16"
   ]
  },
  {
   "cell_type": "code",
   "execution_count": 1,
   "metadata": {},
   "outputs": [],
   "source": [
    "import numpy as np\n",
    "from IPython.display import display, Math\n",
    "from scipy import stats"
   ]
  },
  {
   "cell_type": "code",
   "execution_count": 2,
   "metadata": {},
   "outputs": [],
   "source": [
    "n = 355\n",
    "prob = np.array([[105], [119], [56], [25], [50]])/n\n",
    "q = prob.shape[0]\n",
    "alpha = 0.05"
   ]
  },
  {
   "cell_type": "code",
   "execution_count": 3,
   "metadata": {},
   "outputs": [],
   "source": [
    "# Create the sample covariance matrix from the proportions.\n",
    "S = -prob * prob.T\n",
    "np.fill_diagonal(S, prob*(1-prob))"
   ]
  },
  {
   "cell_type": "markdown",
   "metadata": {},
   "source": [
    "$$\n",
    "    \\textbf{a}^{\\prime} \\hat{\\textbf{p}}\n",
    "    \\pm\n",
    "    \\sqrt{\\chi_{q}^{2}(\\alpha)}\n",
    "    \\sqrt{\\frac{\\textbf{a}^{\\prime}\\hat{\\bm{\\Sigma}}\\textbf{a}}{n}}\n",
    "$$"
   ]
  },
  {
   "cell_type": "markdown",
   "metadata": {},
   "source": [
    "## (a)"
   ]
  },
  {
   "cell_type": "code",
   "execution_count": 4,
   "metadata": {},
   "outputs": [
    {
     "data": {
      "text/plain": [
       "9.487729036781154"
      ]
     },
     "execution_count": 4,
     "metadata": {},
     "output_type": "execute_result"
    }
   ],
   "source": [
    "crit_chi2 = stats.chi2.ppf(1-(alpha), df=q-1)\n",
    "crit_chi2"
   ]
  },
  {
   "cell_type": "code",
   "execution_count": 5,
   "metadata": {},
   "outputs": [
    {
     "data": {
      "text/plain": [
       "array([[0.22116358, 0.25803779, 0.09815719, 0.02859468, 0.08397634],\n",
       "       [0.37038572, 0.41238475, 0.21733577, 0.11225039, 0.1977138 ]])"
      ]
     },
     "execution_count": 5,
     "metadata": {},
     "output_type": "execute_result"
    }
   ],
   "source": [
    "cia = prob.T + np.array([[-1], [1]]) * np.sqrt(crit_chi2) * np.sqrt(np.diag(S)/n)\n",
    "cia"
   ]
  },
  {
   "cell_type": "code",
   "execution_count": 6,
   "metadata": {},
   "outputs": [
    {
     "data": {
      "text/latex": [
       "$\\displaystyle 0.30 \\pm \\sqrt{9.49} \\frac{\\sqrt{0.21}}{\\sqrt{355}}\\hspace{0.5cm} \\text{contains}\\hspace{0.5cm}\\mu_1\\hspace{1cm}\\text{or}\\hspace{1cm}0.22 \\leq \\mu_1 \\leq 0.37$"
      ],
      "text/plain": [
       "<IPython.core.display.Math object>"
      ]
     },
     "metadata": {},
     "output_type": "display_data"
    },
    {
     "data": {
      "text/latex": [
       "$\\displaystyle 0.34 \\pm \\sqrt{9.49} \\frac{\\sqrt{0.22}}{\\sqrt{355}}\\hspace{0.5cm} \\text{contains}\\hspace{0.5cm}\\mu_2\\hspace{1cm}\\text{or}\\hspace{1cm}0.26 \\leq \\mu_2 \\leq 0.41$"
      ],
      "text/plain": [
       "<IPython.core.display.Math object>"
      ]
     },
     "metadata": {},
     "output_type": "display_data"
    },
    {
     "data": {
      "text/latex": [
       "$\\displaystyle 0.16 \\pm \\sqrt{9.49} \\frac{\\sqrt{0.13}}{\\sqrt{355}}\\hspace{0.5cm} \\text{contains}\\hspace{0.5cm}\\mu_3\\hspace{1cm}\\text{or}\\hspace{1cm}0.10 \\leq \\mu_3 \\leq 0.22$"
      ],
      "text/plain": [
       "<IPython.core.display.Math object>"
      ]
     },
     "metadata": {},
     "output_type": "display_data"
    },
    {
     "data": {
      "text/latex": [
       "$\\displaystyle 0.07 \\pm \\sqrt{9.49} \\frac{\\sqrt{0.07}}{\\sqrt{355}}\\hspace{0.5cm} \\text{contains}\\hspace{0.5cm}\\mu_4\\hspace{1cm}\\text{or}\\hspace{1cm}0.03 \\leq \\mu_4 \\leq 0.11$"
      ],
      "text/plain": [
       "<IPython.core.display.Math object>"
      ]
     },
     "metadata": {},
     "output_type": "display_data"
    },
    {
     "data": {
      "text/latex": [
       "$\\displaystyle 0.14 \\pm \\sqrt{9.49} \\frac{\\sqrt{0.12}}{\\sqrt{355}}\\hspace{0.5cm} \\text{contains}\\hspace{0.5cm}\\mu_5\\hspace{1cm}\\text{or}\\hspace{1cm}0.08 \\leq \\mu_5 \\leq 0.20$"
      ],
      "text/plain": [
       "<IPython.core.display.Math object>"
      ]
     },
     "metadata": {},
     "output_type": "display_data"
    }
   ],
   "source": [
    "for i in range(cia.shape[1]):\n",
    "    display(Math(fr'{prob[i,0]:.2f} \\pm \\sqrt{{{crit_chi2:.2f}}} \\frac{{\\sqrt{{{S[i,i]:.2f}}}}}{{\\sqrt{{{n}}}}}\\hspace{{0.5cm}} \\text{{contains}}'\\\n",
    "                     fr'\\hspace{{0.5cm}}\\mu_{i+1}\\hspace{{1cm}}\\text{{or}}\\hspace{{1cm}}{cia[0,i]:.2f} \\leq \\mu_{i+1} \\leq {cia[1,i]:.2f}'))"
   ]
  },
  {
   "cell_type": "markdown",
   "metadata": {},
   "source": [
    "## (b)"
   ]
  },
  {
   "cell_type": "markdown",
   "metadata": {},
   "source": [
    "Using,\n",
    "$$\n",
    "    \\textbf{a}\n",
    "    =\n",
    "    \\left[\n",
    "        \\begin{array}{r}\n",
    "           -1 \\\\\n",
    "            1 \\\\\n",
    "            0 \\\\\n",
    "            0 \\\\\n",
    "            0\n",
    "        \\end{array}\n",
    "    \\right]\n",
    "$$"
   ]
  },
  {
   "cell_type": "code",
   "execution_count": 7,
   "metadata": {},
   "outputs": [],
   "source": [
    "a = np.array([[-1],[1],[0],[0],[0]])"
   ]
  },
  {
   "cell_type": "code",
   "execution_count": 8,
   "metadata": {},
   "outputs": [
    {
     "data": {
      "text/plain": [
       "array([[-0.09026366],\n",
       "       [ 0.1691369 ]])"
      ]
     },
     "execution_count": 8,
     "metadata": {},
     "output_type": "execute_result"
    }
   ],
   "source": [
    "cib = (a.T @ prob) + np.array([[-1], [1]]) * np.sqrt(crit_chi2) * np.sqrt((a.T @ S @ a)/ n)\n",
    "cib"
   ]
  },
  {
   "cell_type": "code",
   "execution_count": 9,
   "metadata": {},
   "outputs": [
    {
     "data": {
      "text/latex": [
       "$\\displaystyle 0.04 \\pm \\sqrt{9.49} \\frac{\\sqrt{0.63}}{\\sqrt{355}}\\hspace{0.5cm} \\text{contains}\\hspace{0.5cm}\\mu_5\\hspace{1cm}\\text{or}\\hspace{1cm}-0.09 \\leq \\mu_1 \\leq 0.17$"
      ],
      "text/plain": [
       "<IPython.core.display.Math object>"
      ]
     },
     "metadata": {},
     "output_type": "display_data"
    }
   ],
   "source": [
    "display(Math(fr'{(a.T @ prob).item():.2f} \\pm \\sqrt{{{crit_chi2:.2f}}}'\\\n",
    "             fr' \\frac{{\\sqrt{{{(a.T @ S @ a).item():.2f}}}}}{{\\sqrt{{{n}}}}}\\hspace{{0.5cm}}'\\\n",
    "                fr' \\text{{contains}}'\\\n",
    "                    fr'\\hspace{{0.5cm}}\\mu_{i+1}\\hspace{{1cm}}\\text{{or}}\\hspace{{1cm}}{cib[0].item():.2f} \\leq \\mu_{1} \\leq {cib[1].item():.2f}'))"
   ]
  }
 ],
 "metadata": {
  "kernelspec": {
   "display_name": "myvmpy311",
   "language": "python",
   "name": "myvmpy311"
  },
  "language_info": {
   "codemirror_mode": {
    "name": "ipython",
    "version": 3
   },
   "file_extension": ".py",
   "mimetype": "text/x-python",
   "name": "python",
   "nbconvert_exporter": "python",
   "pygments_lexer": "ipython3",
   "version": "3.11.3"
  }
 },
 "nbformat": 4,
 "nbformat_minor": 2
}
