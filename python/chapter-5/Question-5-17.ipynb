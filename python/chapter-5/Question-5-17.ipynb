{
 "cells": [
  {
   "cell_type": "markdown",
   "metadata": {},
   "source": [
    "# Exercise 5.17"
   ]
  },
  {
   "cell_type": "code",
   "execution_count": 1,
   "metadata": {},
   "outputs": [],
   "source": [
    "import numpy as np\n",
    "from IPython.display import display, Math\n",
    "from scipy import stats"
   ]
  },
  {
   "cell_type": "code",
   "execution_count": 2,
   "metadata": {},
   "outputs": [],
   "source": [
    "X = np.array([[117], [62], [21]])\n",
    "n = X.sum()\n",
    "q = X.shape[0]"
   ]
  },
  {
   "cell_type": "code",
   "execution_count": 3,
   "metadata": {},
   "outputs": [
    {
     "data": {
      "text/plain": [
       "array([[0.585],\n",
       "       [0.31 ],\n",
       "       [0.105]])"
      ]
     },
     "execution_count": 3,
     "metadata": {},
     "output_type": "execute_result"
    }
   ],
   "source": [
    "# Compute the p-hat vector.\n",
    "p = X/n\n",
    "p"
   ]
  },
  {
   "cell_type": "code",
   "execution_count": 4,
   "metadata": {},
   "outputs": [
    {
     "data": {
      "text/plain": [
       "array([[ 0.242775, -0.18135 , -0.061425],\n",
       "       [-0.18135 ,  0.2139  , -0.03255 ],\n",
       "       [-0.061425, -0.03255 ,  0.093975]])"
      ]
     },
     "execution_count": 4,
     "metadata": {},
     "output_type": "execute_result"
    }
   ],
   "source": [
    "# Compute the covariance matrix.\n",
    "S = -p @ p.T\n",
    "np.fill_diagonal(S, p*(1 - p))\n",
    "S"
   ]
  },
  {
   "cell_type": "code",
   "execution_count": 5,
   "metadata": {},
   "outputs": [],
   "source": [
    "alpha = 0.05"
   ]
  },
  {
   "cell_type": "code",
   "execution_count": 6,
   "metadata": {},
   "outputs": [
    {
     "data": {
      "text/plain": [
       "7.814727903251179"
      ]
     },
     "execution_count": 6,
     "metadata": {},
     "output_type": "execute_result"
    }
   ],
   "source": [
    "crit_chi2 = stats.chi2.ppf(1-alpha, q)\n",
    "crit_chi2"
   ]
  },
  {
   "cell_type": "markdown",
   "metadata": {},
   "source": [
    "## Simultaneous 95% confidence intervals"
   ]
  },
  {
   "cell_type": "markdown",
   "metadata": {},
   "source": [
    "$$\n",
    "\\textbf{a}^{\\prime} \\hat{\\textbf{p}}\n",
    "\\pm\n",
    "\\sqrt{\\chi_{q}^{2}(\\alpha)}\n",
    "\\sqrt{\\frac{\\textbf{a}^{\\prime} \\textbf{S} \\textbf{a}}{n}}\n",
    "$$"
   ]
  },
  {
   "cell_type": "code",
   "execution_count": 7,
   "metadata": {},
   "outputs": [],
   "source": [
    "# Create matrix A to store the three vectors used in the simultaneous CI's.\n",
    "A = np.eye(q)"
   ]
  },
  {
   "cell_type": "code",
   "execution_count": 8,
   "metadata": {},
   "outputs": [],
   "source": [
    "# Initialize the matrix to store the simultaneous CI for the proportions.\n",
    "ci = np.zeros((q, 2))\n",
    "for i in range(A.shape[0]):\n",
    "    # Pull a column from A.\n",
    "    a = A[:,i]\n",
    "    # Compute the 95% CI for a proportion using the result on page 265.\n",
    "    ci[i, :] = a.T @ p + np.array([-1, 1]) * np.sqrt(crit_chi2) * np.sqrt(a.T @ S @ a /n)"
   ]
  },
  {
   "cell_type": "code",
   "execution_count": 9,
   "metadata": {},
   "outputs": [
    {
     "data": {
      "text/latex": [
       "$\\displaystyle 0.58 \\pm \\sqrt{7.81} \\frac{\\sqrt{0.24}}{\\sqrt{200}}\\hspace{0.5cm} \\text{contains}\\hspace{0.5cm}p_1\\hspace{1cm}\\text{or}\\hspace{1cm}0.49 \\leq p_1 \\leq 0.68$"
      ],
      "text/plain": [
       "<IPython.core.display.Math object>"
      ]
     },
     "metadata": {},
     "output_type": "display_data"
    },
    {
     "data": {
      "text/latex": [
       "$\\displaystyle 0.31 \\pm \\sqrt{7.81} \\frac{\\sqrt{0.21}}{\\sqrt{200}}\\hspace{0.5cm} \\text{contains}\\hspace{0.5cm}p_2\\hspace{1cm}\\text{or}\\hspace{1cm}0.22 \\leq p_2 \\leq 0.40$"
      ],
      "text/plain": [
       "<IPython.core.display.Math object>"
      ]
     },
     "metadata": {},
     "output_type": "display_data"
    },
    {
     "data": {
      "text/latex": [
       "$\\displaystyle 0.10 \\pm \\sqrt{7.81} \\frac{\\sqrt{0.09}}{\\sqrt{200}}\\hspace{0.5cm} \\text{contains}\\hspace{0.5cm}p_3\\hspace{1cm}\\text{or}\\hspace{1cm}0.04 \\leq p_3 \\leq 0.17$"
      ],
      "text/plain": [
       "<IPython.core.display.Math object>"
      ]
     },
     "metadata": {},
     "output_type": "display_data"
    }
   ],
   "source": [
    "for i in range(ci.shape[0]):\n",
    "    display(Math(fr'{p[i,0]:.2f} \\pm \\sqrt{{{crit_chi2:.2f}}} \\frac{{\\sqrt{{{S[i,i]:.2f}}}}}{{\\sqrt{{{n}}}}}\\hspace{{0.5cm}} \\text{{contains}}'\\\n",
    "                     fr'\\hspace{{0.5cm}}p_{i+1}\\hspace{{1cm}}\\text{{or}}\\hspace{{1cm}}{ci[i,0]:.2f} \\leq p_{i+1} \\leq {ci[i,1]:.2f}'))"
   ]
  },
  {
   "cell_type": "markdown",
   "metadata": {},
   "source": [
    "Could also compute the CI for $p_{3}$ using $p_{3} = 1 - (p_{1} + p_{2})$. We get the same answer as above."
   ]
  },
  {
   "cell_type": "code",
   "execution_count": 10,
   "metadata": {},
   "outputs": [
    {
     "data": {
      "text/plain": [
       "array([0.04440342, 0.16559658])"
      ]
     },
     "execution_count": 10,
     "metadata": {},
     "output_type": "execute_result"
    }
   ],
   "source": [
    "(1 - (p[0] + p[1])) + np.array([-1, 1]) * np.sqrt(crit_chi2) * np.sqrt(((p[0] + p[1])*(1-(p[0] + p[1])))/n)"
   ]
  }
 ],
 "metadata": {
  "kernelspec": {
   "display_name": "myvmpy311",
   "language": "python",
   "name": "myvmpy311"
  },
  "language_info": {
   "codemirror_mode": {
    "name": "ipython",
    "version": 3
   },
   "file_extension": ".py",
   "mimetype": "text/x-python",
   "name": "python",
   "nbconvert_exporter": "python",
   "pygments_lexer": "ipython3",
   "version": "3.11.3"
  }
 },
 "nbformat": 4,
 "nbformat_minor": 2
}
