{
 "cells": [
  {
   "cell_type": "code",
   "execution_count": 1,
   "metadata": {},
   "outputs": [],
   "source": [
    "import pathlib\n",
    "import numpy as np\n",
    "import pandas as pd\n",
    "from IPython.display import display, Math\n",
    "from scipy import stats\n",
    "from chapter_5_utils import simult_conf_int, bonferroni_conf_int"
   ]
  },
  {
   "cell_type": "code",
   "execution_count": 2,
   "metadata": {},
   "outputs": [],
   "source": [
    "def load_data() -> pd.DataFrame:\n",
    "    # Load the bone material content data from page 43.\n",
    "    fpath = pathlib.WindowsPath(r'..\\..\\data\\Table1.8.xlsx')\n",
    "    return pd.read_excel(fpath)"
   ]
  },
  {
   "cell_type": "code",
   "execution_count": 3,
   "metadata": {},
   "outputs": [
    {
     "data": {
      "text/html": [
       "<div>\n",
       "<style scoped>\n",
       "    .dataframe tbody tr th:only-of-type {\n",
       "        vertical-align: middle;\n",
       "    }\n",
       "\n",
       "    .dataframe tbody tr th {\n",
       "        vertical-align: top;\n",
       "    }\n",
       "\n",
       "    .dataframe thead th {\n",
       "        text-align: right;\n",
       "    }\n",
       "</style>\n",
       "<table border=\"1\" class=\"dataframe\">\n",
       "  <thead>\n",
       "    <tr style=\"text-align: right;\">\n",
       "      <th></th>\n",
       "      <th>subject number</th>\n",
       "      <th>Dominant radius</th>\n",
       "      <th>Radius</th>\n",
       "      <th>Dominant humerus</th>\n",
       "      <th>Humerus</th>\n",
       "      <th>Dominant ulna</th>\n",
       "      <th>Ulna</th>\n",
       "    </tr>\n",
       "  </thead>\n",
       "  <tbody>\n",
       "    <tr>\n",
       "      <th>0</th>\n",
       "      <td>1</td>\n",
       "      <td>1.103</td>\n",
       "      <td>1.052</td>\n",
       "      <td>2.139</td>\n",
       "      <td>2.238</td>\n",
       "      <td>0.873</td>\n",
       "      <td>0.872</td>\n",
       "    </tr>\n",
       "    <tr>\n",
       "      <th>1</th>\n",
       "      <td>2</td>\n",
       "      <td>0.842</td>\n",
       "      <td>0.859</td>\n",
       "      <td>1.873</td>\n",
       "      <td>1.741</td>\n",
       "      <td>0.590</td>\n",
       "      <td>0.744</td>\n",
       "    </tr>\n",
       "    <tr>\n",
       "      <th>2</th>\n",
       "      <td>3</td>\n",
       "      <td>0.925</td>\n",
       "      <td>0.873</td>\n",
       "      <td>1.887</td>\n",
       "      <td>1.809</td>\n",
       "      <td>0.767</td>\n",
       "      <td>0.713</td>\n",
       "    </tr>\n",
       "  </tbody>\n",
       "</table>\n",
       "</div>"
      ],
      "text/plain": [
       "   subject number  Dominant radius  Radius  Dominant humerus  Humerus   \n",
       "0               1            1.103   1.052             2.139    2.238  \\\n",
       "1               2            0.842   0.859             1.873    1.741   \n",
       "2               3            0.925   0.873             1.887    1.809   \n",
       "\n",
       "   Dominant ulna   Ulna  \n",
       "0          0.873  0.872  \n",
       "1          0.590  0.744  \n",
       "2          0.767  0.713  "
      ]
     },
     "execution_count": 3,
     "metadata": {},
     "output_type": "execute_result"
    }
   ],
   "source": [
    "bone_df = load_data()\n",
    "bone_df.head(3)"
   ]
  },
  {
   "cell_type": "code",
   "execution_count": 4,
   "metadata": {},
   "outputs": [],
   "source": [
    "X = bone_df.to_numpy()[:,1:]\n",
    "n, p = X.shape\n",
    "alpha = 0.05"
   ]
  },
  {
   "cell_type": "code",
   "execution_count": 5,
   "metadata": {},
   "outputs": [],
   "source": [
    "xbar = np.mean(X, axis=0).reshape(p, 1)\n",
    "S = np.cov(X, rowvar=False)\n",
    "f_crit = stats.f.ppf(1-alpha, dfn=p, dfd=n-p)\n",
    "const = ((n-1)*p)/(n-p)"
   ]
  },
  {
   "cell_type": "code",
   "execution_count": 6,
   "metadata": {},
   "outputs": [
    {
     "data": {
      "text/plain": [
       "array([[0.8438 ],\n",
       "       [0.81832],\n",
       "       [1.79268],\n",
       "       [1.73484],\n",
       "       [0.7044 ],\n",
       "       [0.69384]])"
      ]
     },
     "execution_count": 6,
     "metadata": {},
     "output_type": "execute_result"
    }
   ],
   "source": [
    "xbar"
   ]
  },
  {
   "cell_type": "code",
   "execution_count": 7,
   "metadata": {},
   "outputs": [
    {
     "data": {
      "text/plain": [
       "array([[0.01300158, 0.01037844, 0.02234997, 0.02008567, 0.00912071,\n",
       "        0.00795784],\n",
       "       [0.01037844, 0.01141789, 0.01853519, 0.02109951, 0.00852978,\n",
       "        0.00890851],\n",
       "       [0.02234997, 0.01853519, 0.08035723, 0.0667762 , 0.01683692,\n",
       "        0.01284703],\n",
       "       [0.02008567, 0.02109951, 0.0667762 , 0.06948447, 0.01773548,\n",
       "        0.0167936 ],\n",
       "       [0.00912071, 0.00852978, 0.01683692, 0.01773548, 0.01156842,\n",
       "        0.00807115],\n",
       "       [0.00795784, 0.00890851, 0.01284703, 0.0167936 , 0.00807115,\n",
       "        0.01059914]])"
      ]
     },
     "execution_count": 7,
     "metadata": {},
     "output_type": "execute_result"
    }
   ],
   "source": [
    "S"
   ]
  },
  {
   "cell_type": "markdown",
   "metadata": {},
   "source": [
    "## The 95% $T^{2}$ simultaneous confidence intervals:"
   ]
  },
  {
   "cell_type": "markdown",
   "metadata": {},
   "source": [
    "$$\n",
    "\\bar{x}_{i}\n",
    "\\pm\n",
    "\\sqrt{\n",
    "    \\frac{(n-1)p}{(n-p)}\n",
    "    F_{p, n-p}\\left(\\alpha\\right)\n",
    "}\n",
    "\\sqrt{\n",
    "    \\frac{s_{ii}}{n}\n",
    "}\n",
    "$$"
   ]
  },
  {
   "cell_type": "code",
   "execution_count": 8,
   "metadata": {},
   "outputs": [],
   "source": [
    "# Computed by-hand as a check.\n",
    "# xbar + np.array([-1, 1]) * np.sqrt(const*f_crit)*np.sqrt(np.diag(S).reshape(p, 1)/n)"
   ]
  },
  {
   "cell_type": "code",
   "execution_count": 9,
   "metadata": {},
   "outputs": [
    {
     "data": {
      "text/plain": [
       "array([[0.74201787, 0.94558213],\n",
       "       [0.72293801, 0.91370199],\n",
       "       [1.53964193, 2.04571807],\n",
       "       [1.49954252, 1.97013748],\n",
       "       [0.60839135, 0.80040865],\n",
       "       [0.60194144, 0.78573856]])"
      ]
     },
     "execution_count": 9,
     "metadata": {},
     "output_type": "execute_result"
    }
   ],
   "source": [
    "simult_ci = simult_conf_int(X, alpha=0.05)\n",
    "simult_ci"
   ]
  },
  {
   "cell_type": "code",
   "execution_count": 10,
   "metadata": {},
   "outputs": [
    {
     "data": {
      "text/latex": [
       "$\\displaystyle 0.84 \\pm \\sqrt{19.92} \\frac{\\sqrt{0.01}}{\\sqrt{25}}\\hspace{0.5cm} \\text{contains}\\hspace{0.5cm}\\mu_1\\hspace{1cm}\\text{or}\\hspace{1cm}0.74 \\leq \\mu_1 \\leq 0.95$"
      ],
      "text/plain": [
       "<IPython.core.display.Math object>"
      ]
     },
     "metadata": {},
     "output_type": "display_data"
    },
    {
     "data": {
      "text/latex": [
       "$\\displaystyle 0.82 \\pm \\sqrt{19.92} \\frac{\\sqrt{0.01}}{\\sqrt{25}}\\hspace{0.5cm} \\text{contains}\\hspace{0.5cm}\\mu_2\\hspace{1cm}\\text{or}\\hspace{1cm}0.72 \\leq \\mu_2 \\leq 0.91$"
      ],
      "text/plain": [
       "<IPython.core.display.Math object>"
      ]
     },
     "metadata": {},
     "output_type": "display_data"
    },
    {
     "data": {
      "text/latex": [
       "$\\displaystyle 1.79 \\pm \\sqrt{19.92} \\frac{\\sqrt{0.08}}{\\sqrt{25}}\\hspace{0.5cm} \\text{contains}\\hspace{0.5cm}\\mu_3\\hspace{1cm}\\text{or}\\hspace{1cm}1.54 \\leq \\mu_3 \\leq 2.05$"
      ],
      "text/plain": [
       "<IPython.core.display.Math object>"
      ]
     },
     "metadata": {},
     "output_type": "display_data"
    },
    {
     "data": {
      "text/latex": [
       "$\\displaystyle 1.73 \\pm \\sqrt{19.92} \\frac{\\sqrt{0.07}}{\\sqrt{25}}\\hspace{0.5cm} \\text{contains}\\hspace{0.5cm}\\mu_4\\hspace{1cm}\\text{or}\\hspace{1cm}1.50 \\leq \\mu_4 \\leq 1.97$"
      ],
      "text/plain": [
       "<IPython.core.display.Math object>"
      ]
     },
     "metadata": {},
     "output_type": "display_data"
    },
    {
     "data": {
      "text/latex": [
       "$\\displaystyle 0.70 \\pm \\sqrt{19.92} \\frac{\\sqrt{0.01}}{\\sqrt{25}}\\hspace{0.5cm} \\text{contains}\\hspace{0.5cm}\\mu_5\\hspace{1cm}\\text{or}\\hspace{1cm}0.61 \\leq \\mu_5 \\leq 0.80$"
      ],
      "text/plain": [
       "<IPython.core.display.Math object>"
      ]
     },
     "metadata": {},
     "output_type": "display_data"
    },
    {
     "data": {
      "text/latex": [
       "$\\displaystyle 0.69 \\pm \\sqrt{19.92} \\frac{\\sqrt{0.01}}{\\sqrt{25}}\\hspace{0.5cm} \\text{contains}\\hspace{0.5cm}\\mu_6\\hspace{1cm}\\text{or}\\hspace{1cm}0.60 \\leq \\mu_6 \\leq 0.79$"
      ],
      "text/plain": [
       "<IPython.core.display.Math object>"
      ]
     },
     "metadata": {},
     "output_type": "display_data"
    }
   ],
   "source": [
    "for i in range(simult_ci.shape[0]):\n",
    "    display(Math(fr'{xbar[i,0]:.2f} \\pm \\sqrt{{{const*f_crit:.2f}}} '\\\n",
    "                 fr'\\frac{{\\sqrt{{{S[i,i]:.2f}}}}}{{\\sqrt{{{n}}}}}\\hspace{{0.5cm}} \\text{{contains}}'\\\n",
    "                 fr'\\hspace{{0.5cm}}\\mu_{i+1}\\hspace{{1cm}}\\text{{or}}'\\\n",
    "                 fr'\\hspace{{1cm}}{simult_ci[i,0]:.2f} \\leq \\mu_{i+1} '\\\n",
    "                 fr'\\leq {simult_ci[i,1]:.2f}'))"
   ]
  },
  {
   "cell_type": "markdown",
   "metadata": {},
   "source": [
    "## The 95% Bonferroni confidence intervals:"
   ]
  },
  {
   "cell_type": "markdown",
   "metadata": {},
   "source": [
    "$$\n",
    "\\bar{x}_{i}\n",
    "\\pm\n",
    "t_{n-1}\n",
    "\\left(\\frac{\\alpha}{2m}\\right)\n",
    "\\sqrt{\n",
    "    \\frac{\n",
    "            s_{ii}\n",
    "        }{\n",
    "            n\n",
    "        }\n",
    "    }"
   ]
  },
  {
   "cell_type": "code",
   "execution_count": 11,
   "metadata": {},
   "outputs": [],
   "source": [
    "m = p\n",
    "t_crit = stats.t.ppf(1-(alpha/(2*m)), n-1)"
   ]
  },
  {
   "cell_type": "code",
   "execution_count": 12,
   "metadata": {},
   "outputs": [],
   "source": [
    "# Computed by-hand as a check.\n",
    "# xbar + np.array([-1, 1]) * t_crit * np.sqrt(np.diag(S).reshape(p, 1)/n)"
   ]
  },
  {
   "cell_type": "code",
   "execution_count": 13,
   "metadata": {},
   "outputs": [
    {
     "data": {
      "text/plain": [
       "array([[0.77823377, 0.90936623],\n",
       "       [0.75687662, 0.87976338],\n",
       "       [1.62967739, 1.95568261],\n",
       "       [1.58326556, 1.88641444],\n",
       "       [0.64255294, 0.76624706],\n",
       "       [0.63464059, 0.75303941]])"
      ]
     },
     "execution_count": 13,
     "metadata": {},
     "output_type": "execute_result"
    }
   ],
   "source": [
    "bonfer_ci = bonferroni_conf_int(X, alpha=alpha, m=m)\n",
    "bonfer_ci"
   ]
  },
  {
   "cell_type": "code",
   "execution_count": 14,
   "metadata": {},
   "outputs": [
    {
     "name": "stdout",
     "output_type": "stream",
     "text": [
      "Bonferroni confidence intervals for the 6 mean lengths\n"
     ]
    },
    {
     "data": {
      "text/latex": [
       "$\\displaystyle 0.84 \\pm 2.88 \\frac{\\sqrt{0.01}}{\\sqrt{25}}\\hspace{0.5cm} \\text{contains}\\hspace{0.5cm}\\mu_1\\hspace{1cm}\\text{or}\\hspace{1cm}0.78 \\leq \\mu_1 \\leq 0.91$"
      ],
      "text/plain": [
       "<IPython.core.display.Math object>"
      ]
     },
     "metadata": {},
     "output_type": "display_data"
    },
    {
     "data": {
      "text/latex": [
       "$\\displaystyle 0.82 \\pm 2.88 \\frac{\\sqrt{0.01}}{\\sqrt{25}}\\hspace{0.5cm} \\text{contains}\\hspace{0.5cm}\\mu_2\\hspace{1cm}\\text{or}\\hspace{1cm}0.76 \\leq \\mu_2 \\leq 0.88$"
      ],
      "text/plain": [
       "<IPython.core.display.Math object>"
      ]
     },
     "metadata": {},
     "output_type": "display_data"
    },
    {
     "data": {
      "text/latex": [
       "$\\displaystyle 1.79 \\pm 2.88 \\frac{\\sqrt{0.08}}{\\sqrt{25}}\\hspace{0.5cm} \\text{contains}\\hspace{0.5cm}\\mu_3\\hspace{1cm}\\text{or}\\hspace{1cm}1.63 \\leq \\mu_3 \\leq 1.96$"
      ],
      "text/plain": [
       "<IPython.core.display.Math object>"
      ]
     },
     "metadata": {},
     "output_type": "display_data"
    },
    {
     "data": {
      "text/latex": [
       "$\\displaystyle 1.73 \\pm 2.88 \\frac{\\sqrt{0.07}}{\\sqrt{25}}\\hspace{0.5cm} \\text{contains}\\hspace{0.5cm}\\mu_4\\hspace{1cm}\\text{or}\\hspace{1cm}1.58 \\leq \\mu_4 \\leq 1.89$"
      ],
      "text/plain": [
       "<IPython.core.display.Math object>"
      ]
     },
     "metadata": {},
     "output_type": "display_data"
    },
    {
     "data": {
      "text/latex": [
       "$\\displaystyle 0.70 \\pm 2.88 \\frac{\\sqrt{0.01}}{\\sqrt{25}}\\hspace{0.5cm} \\text{contains}\\hspace{0.5cm}\\mu_5\\hspace{1cm}\\text{or}\\hspace{1cm}0.64 \\leq \\mu_5 \\leq 0.77$"
      ],
      "text/plain": [
       "<IPython.core.display.Math object>"
      ]
     },
     "metadata": {},
     "output_type": "display_data"
    },
    {
     "data": {
      "text/latex": [
       "$\\displaystyle 0.69 \\pm 2.88 \\frac{\\sqrt{0.01}}{\\sqrt{25}}\\hspace{0.5cm} \\text{contains}\\hspace{0.5cm}\\mu_6\\hspace{1cm}\\text{or}\\hspace{1cm}0.63 \\leq \\mu_6 \\leq 0.75$"
      ],
      "text/plain": [
       "<IPython.core.display.Math object>"
      ]
     },
     "metadata": {},
     "output_type": "display_data"
    }
   ],
   "source": [
    "print(f'Bonferroni confidence intervals for the {p} mean lengths')\n",
    "for i in range(bonfer_ci.shape[0]):\n",
    "    display(Math(fr'{xbar[i,0]:.2f} \\pm {t_crit:.2f} \\frac{{\\sqrt{{{S[i,i]:.2f}}}}}'\\\n",
    "                 fr'{{\\sqrt{{{n}}}}}\\hspace{{0.5cm}} \\text{{contains}}'\\\n",
    "                 fr'\\hspace{{0.5cm}}\\mu_{i+1}\\hspace{{1cm}}\\text{{or}}'\\\n",
    "                 fr'\\hspace{{1cm}}{bonfer_ci[i,0]:.2f} \\leq \\mu_{i+1} '\\\n",
    "                 fr'\\leq {bonfer_ci[i,1]:.2f}'))"
   ]
  }
 ],
 "metadata": {
  "kernelspec": {
   "display_name": "myvmpy311",
   "language": "python",
   "name": "myvmpy311"
  },
  "language_info": {
   "codemirror_mode": {
    "name": "ipython",
    "version": 3
   },
   "file_extension": ".py",
   "mimetype": "text/x-python",
   "name": "python",
   "nbconvert_exporter": "python",
   "pygments_lexer": "ipython3",
   "version": "3.11.3"
  }
 },
 "nbformat": 4,
 "nbformat_minor": 2
}
