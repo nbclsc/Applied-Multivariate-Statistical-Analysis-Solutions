{
 "cells": [
  {
   "cell_type": "markdown",
   "metadata": {},
   "source": [
    "# Exercise 5.26"
   ]
  },
  {
   "cell_type": "code",
   "execution_count": 1,
   "metadata": {},
   "outputs": [],
   "source": [
    "import pathlib\n",
    "import matplotlib.pyplot as plt\n",
    "import numpy as np\n",
    "import pandas as pd\n",
    "import numpy.linalg as la\n",
    "from scipy import stats"
   ]
  },
  {
   "cell_type": "code",
   "execution_count": 2,
   "metadata": {},
   "outputs": [],
   "source": [
    "def load_data() -> pd.DataFrame:\n",
    "    # Five types of overtime hours for the Madison, Wisconsin, Police.\n",
    "    fpth = pathlib.Path(r'..\\..\\data\\Table5.8.xlsx')\n",
    "    return pd.read_excel(fpth)"
   ]
  },
  {
   "cell_type": "code",
   "execution_count": 3,
   "metadata": {},
   "outputs": [
    {
     "data": {
      "text/html": [
       "<div>\n",
       "<style scoped>\n",
       "    .dataframe tbody tr th:only-of-type {\n",
       "        vertical-align: middle;\n",
       "    }\n",
       "\n",
       "    .dataframe tbody tr th {\n",
       "        vertical-align: top;\n",
       "    }\n",
       "\n",
       "    .dataframe thead th {\n",
       "        text-align: right;\n",
       "    }\n",
       "</style>\n",
       "<table border=\"1\" class=\"dataframe\">\n",
       "  <thead>\n",
       "    <tr style=\"text-align: right;\">\n",
       "      <th></th>\n",
       "      <th>Legal Appearances Hours</th>\n",
       "      <th>Extraordinary Event Hours</th>\n",
       "      <th>Holdover Hours</th>\n",
       "    </tr>\n",
       "  </thead>\n",
       "  <tbody>\n",
       "    <tr>\n",
       "      <th>0</th>\n",
       "      <td>3387</td>\n",
       "      <td>2200</td>\n",
       "      <td>1181</td>\n",
       "    </tr>\n",
       "    <tr>\n",
       "      <th>1</th>\n",
       "      <td>3109</td>\n",
       "      <td>875</td>\n",
       "      <td>3532</td>\n",
       "    </tr>\n",
       "    <tr>\n",
       "      <th>2</th>\n",
       "      <td>2670</td>\n",
       "      <td>957</td>\n",
       "      <td>2502</td>\n",
       "    </tr>\n",
       "  </tbody>\n",
       "</table>\n",
       "</div>"
      ],
      "text/plain": [
       "   Legal Appearances Hours  Extraordinary Event Hours  Holdover Hours\n",
       "0                     3387                       2200            1181\n",
       "1                     3109                        875            3532\n",
       "2                     2670                        957            2502"
      ]
     },
     "execution_count": 3,
     "metadata": {},
     "output_type": "execute_result"
    }
   ],
   "source": [
    "overtime_df = load_data()[['Legal Appearances Hours', 'Extraordinary Event Hours', 'Holdover Hours']]\n",
    "overtime_df.head(3)"
   ]
  },
  {
   "cell_type": "code",
   "execution_count": 4,
   "metadata": {},
   "outputs": [],
   "source": [
    "n, p = overtime_df.shape\n",
    "alpha = 0.05\n",
    "X = overtime_df.to_numpy()"
   ]
  },
  {
   "cell_type": "code",
   "execution_count": 5,
   "metadata": {},
   "outputs": [
    {
     "data": {
      "text/plain": [
       "array([[3557.75  ],\n",
       "       [1478.4375],\n",
       "       [2676.875 ]])"
      ]
     },
     "execution_count": 5,
     "metadata": {},
     "output_type": "execute_result"
    }
   ],
   "source": [
    "xbar = np.mean(X, axis=0).reshape(p, 1)\n",
    "xbar"
   ]
  },
  {
   "cell_type": "code",
   "execution_count": 6,
   "metadata": {},
   "outputs": [
    {
     "data": {
      "text/plain": [
       "array([[ 367884.73333333,  -72093.81666667,   85714.76666667],\n",
       "       [ -72093.81666667, 1399053.0625    ,   43399.85833333],\n",
       "       [  85714.76666667,   43399.85833333, 1458543.05      ]])"
      ]
     },
     "execution_count": 6,
     "metadata": {},
     "output_type": "execute_result"
    }
   ],
   "source": [
    "S = np.cov(X, rowvar=False)\n",
    "S"
   ]
  },
  {
   "cell_type": "markdown",
   "metadata": {},
   "source": [
    "Compute the $T^{2}$ values, using ${(\\textbf{x} - \\bar{\\textbf{x}})}^{\\prime} \\textbf{S}^{-1} {(\\textbf{x} - \\bar{\\textbf{x}})}$"
   ]
  },
  {
   "cell_type": "code",
   "execution_count": 7,
   "metadata": {},
   "outputs": [],
   "source": [
    "T2 = list()\n",
    "for i in range(n):\n",
    "    T2.append(((X[i,:].reshape(p,1) - xbar).T @ la.inv(S) @ (X[i, :].reshape(p,1) - xbar)).item())"
   ]
  },
  {
   "cell_type": "code",
   "execution_count": 8,
   "metadata": {},
   "outputs": [
    {
     "name": "stdout",
     "output_type": "stream",
     "text": [
      "95% UCL = 7.814727903251179\n",
      "99% UCL = 11.344866730144373\n"
     ]
    }
   ],
   "source": [
    "ucl_crit95 = stats.chi2.ppf(1-0.05, p)\n",
    "ucl_crit99 = stats.chi2.ppf(1-0.01, p)\n",
    "print(f'95% UCL = {ucl_crit95}')\n",
    "print(f'99% UCL = {ucl_crit99}')"
   ]
  },
  {
   "cell_type": "code",
   "execution_count": 9,
   "metadata": {},
   "outputs": [
    {
     "data": {
      "image/png": "[encoded data removed]",
      "text/plain": [
       "<Figure size 640x480 with 1 Axes>"
      ]
     },
     "metadata": {},
     "output_type": "display_data"
    }
   ],
   "source": [
    "plt.axhline(y=ucl_crit95, color='r', linestyle='--')\n",
    "plt.axhline(y=ucl_crit99, color='r', linestyle='-')\n",
    "plt.annotate('95% Limit', xy=(15, ucl_crit95), xytext=(14, ucl_crit95+.2))\n",
    "plt.annotate('99% Limit', xy=(15, ucl_crit99), xytext=(14, ucl_crit99+.2))\n",
    "\n",
    "plt.scatter(np.arange(n)+1, T2, alpha=0.70, facecolors='royalblue', edgecolors='royalblue')\n",
    "plt.ylim([-1, 13])\n",
    "plt.title(f'$T^{2}$-chart for legal appearance hours and \\n extraordinary event hours and holdover hours')\n",
    "plt.xlabel('Period')\n",
    "plt.ylabel('$T^{2}$')\n",
    "plt.savefig('Question-5-26-T2.png')\n",
    "plt.show()"
   ]
  }
 ],
 "metadata": {
  "kernelspec": {
   "display_name": "myvmpy311",
   "language": "python",
   "name": "myvmpy311"
  },
  "language_info": {
   "codemirror_mode": {
    "name": "ipython",
    "version": 3
   },
   "file_extension": ".py",
   "mimetype": "text/x-python",
   "name": "python",
   "nbconvert_exporter": "python",
   "pygments_lexer": "ipython3",
   "version": "3.11.3"
  }
 },
 "nbformat": 4,
 "nbformat_minor": 2
}
