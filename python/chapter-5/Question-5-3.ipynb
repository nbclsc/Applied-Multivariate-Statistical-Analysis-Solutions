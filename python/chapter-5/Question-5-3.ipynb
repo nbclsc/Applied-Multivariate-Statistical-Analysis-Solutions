{
 "cells": [
  {
   "cell_type": "markdown",
   "metadata": {},
   "source": [
    "# Exercise 5.3"
   ]
  },
  {
   "cell_type": "code",
   "execution_count": 1,
   "metadata": {},
   "outputs": [],
   "source": [
    "import numpy as np"
   ]
  },
  {
   "cell_type": "code",
   "execution_count": 2,
   "metadata": {},
   "outputs": [],
   "source": [
    "X = np.array([[2, 8, 6, 8], [12, 9, 9, 10]]).T\n",
    "mu0 = np.array([[7], [11]])"
   ]
  },
  {
   "cell_type": "code",
   "execution_count": 3,
   "metadata": {},
   "outputs": [],
   "source": [
    "n, p = X.shape\n",
    "xbar = np.mean(X, axis=0).reshape(p, 1)\n",
    "S = np.cov(X.T)"
   ]
  },
  {
   "cell_type": "markdown",
   "metadata": {},
   "source": [
    "## (a)"
   ]
  },
  {
   "cell_type": "code",
   "execution_count": 4,
   "metadata": {},
   "outputs": [],
   "source": [
    "def compute_sq_diff(X: np.array, X0: np.array, printout: bool=False) -> np.ndarray:\n",
    "    n, p = X.shape\n",
    "    assert p == X0.shape[0], \"Number cols in X must be same number of rows in X0.\"\n",
    "    assert X0.shape[1] == 1, \"X0 should only have 1 column.\"\n",
    "\n",
    "    sqd = np.zeros((p, p))\n",
    "    for i in range(n):\n",
    "        Xj = X[i,:].reshape(p, 1)\n",
    "        elem = (Xj - X0) @ (Xj - X0).T\n",
    "        if printout:\n",
    "            print(elem)\n",
    "            print()\n",
    "        sqd += elem\n",
    "    return sqd"
   ]
  },
  {
   "cell_type": "code",
   "execution_count": 5,
   "metadata": {},
   "outputs": [],
   "source": [
    "# Compute the squared differences for numerator and denominator of (5-15)\n",
    "S0_sq_diff = compute_sq_diff(X, mu0)\n",
    "S_sq_diff = compute_sq_diff(X, xbar)"
   ]
  },
  {
   "cell_type": "code",
   "execution_count": 6,
   "metadata": {},
   "outputs": [
    {
     "data": {
      "text/plain": [
       "13.63636363636363"
      ]
     },
     "execution_count": 6,
     "metadata": {},
     "output_type": "execute_result"
    }
   ],
   "source": [
    "# Compute T^2 from (5-15).\n",
    "T2 = (n-1)*np.linalg.det(S0_sq_diff)/np.linalg.det(S_sq_diff) - (n-1)\n",
    "T2"
   ]
  },
  {
   "cell_type": "code",
   "execution_count": 7,
   "metadata": {},
   "outputs": [],
   "source": [
    "# Make sure the computation is correct.\n",
    "assert T2 == (n * (xbar - mu0).T @ np.linalg.inv(S) @ (xbar - mu0)).flatten()[0],\\\n",
    "    \"Computation of T^2 from (5-15) not equal to T^2 from (5-5)!\""
   ]
  },
  {
   "cell_type": "markdown",
   "metadata": {},
   "source": [
    "## (b)"
   ]
  },
  {
   "cell_type": "code",
   "execution_count": 8,
   "metadata": {},
   "outputs": [
    {
     "data": {
      "text/plain": [
       "array([[ 8.        , -3.33333333],\n",
       "       [-3.33333333,  2.        ]])"
      ]
     },
     "execution_count": 8,
     "metadata": {},
     "output_type": "execute_result"
    }
   ],
   "source": [
    "(1/(n-1))*S_sq_diff"
   ]
  },
  {
   "cell_type": "code",
   "execution_count": 9,
   "metadata": {},
   "outputs": [
    {
     "data": {
      "text/plain": [
       "0.1803278688524591"
      ]
     },
     "execution_count": 9,
     "metadata": {},
     "output_type": "execute_result"
    }
   ],
   "source": [
    "wilks_lmbda = np.linalg.det(S_sq_diff) / np.linalg.det(S0_sq_diff)\n",
    "wilks_lmbda"
   ]
  },
  {
   "cell_type": "code",
   "execution_count": 10,
   "metadata": {},
   "outputs": [
    {
     "data": {
      "text/plain": [
       "0.03251814028486969"
      ]
     },
     "execution_count": 10,
     "metadata": {},
     "output_type": "execute_result"
    }
   ],
   "source": [
    "# Compute Lambda value from (5-13).\n",
    "lmbda = (wilks_lmbda)**(n/2)\n",
    "lmbda"
   ]
  }
 ],
 "metadata": {
  "kernelspec": {
   "display_name": "myvmpy311",
   "language": "python",
   "name": "myvmpy311"
  },
  "language_info": {
   "codemirror_mode": {
    "name": "ipython",
    "version": 3
   },
   "file_extension": ".py",
   "mimetype": "text/x-python",
   "name": "python",
   "nbconvert_exporter": "python",
   "pygments_lexer": "ipython3",
   "version": "3.11.3"
  }
 },
 "nbformat": 4,
 "nbformat_minor": 2
}
