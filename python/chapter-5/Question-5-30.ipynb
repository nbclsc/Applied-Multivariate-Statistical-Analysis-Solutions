{
 "cells": [
  {
   "cell_type": "markdown",
   "metadata": {},
   "source": [
    "# Exercise 5.30"
   ]
  },
  {
   "cell_type": "code",
   "execution_count": 1,
   "metadata": {},
   "outputs": [],
   "source": [
    "import pathlib\n",
    "import numpy as np\n",
    "import pandas as pd\n",
    "import numpy.linalg as la\n",
    "from IPython.display import display, Math\n",
    "from scipy import stats"
   ]
  },
  {
   "cell_type": "markdown",
   "metadata": {},
   "source": [
    "Energy consumption in 2001, by state, from the major sources\n",
    "- $x_{1}$ = petroleum\n",
    "- $x_{2}$ = natural gas\n",
    "- $x_{3}$ = hydroelectric power\n",
    "- $x_{4}$ = nuclear electric power"
   ]
  },
  {
   "cell_type": "code",
   "execution_count": 2,
   "metadata": {},
   "outputs": [],
   "source": [
    "xbar = np.array([[0.766], [0.508], [0.438], [0.161]])\n",
    "S = np.array([[0.856, 0.635, 0.173, 0.096],\n",
    "              [0.635, 0.568, 0.128, 0.067],\n",
    "              [0.173, 0.127, 0.171, 0.039],\n",
    "              [0.096, 0.067, 0.039, 0.043]])\n",
    "n, p = 50, 4"
   ]
  },
  {
   "cell_type": "markdown",
   "metadata": {},
   "source": [
    "## (a)"
   ]
  },
  {
   "cell_type": "markdown",
   "metadata": {},
   "source": [
    "Large sample Bonferroni confidence intervals (use normal distribution)\n",
    "$$\n",
    "\\textbf{a}^{\\prime} \\bar{\\textbf{x}}\n",
    "\\pm\n",
    "z(\\alpha/2m)\n",
    "\\sqrt{\\frac{\\textbf{a}^{\\prime} \\textbf{S} \\textbf{a}}{n}}\n",
    "$$"
   ]
  },
  {
   "cell_type": "markdown",
   "metadata": {},
   "source": [
    "Setup a matrix like what's in (3-38) on page 144\n",
    "$$\n",
    "\\textbf{A}\n",
    "=\n",
    "\\begin{bmatrix}\n",
    "    \\textbf{a}_{1}^{\\prime} \\\\\n",
    "    \\textbf{a}_{2}^{\\prime} \\\\\n",
    "    \\textbf{a}_{3}^{\\prime} \\\\\n",
    "    \\textbf{a}_{4}^{\\prime} \\\\\n",
    "    \\textbf{a}_{5}^{\\prime} \\\\\n",
    "    \\textbf{a}_{6}^{\\prime}\n",
    "\\end{bmatrix}\n",
    "=\n",
    "\\begin{bmatrix}\n",
    "    1 &  0 & 0 & 0 \\\\\n",
    "    0 &  1 & 0 & 0 \\\\\n",
    "    0 &  0 & 1 & 0 \\\\\n",
    "    0 &  0 & 0 & 1 \\\\\n",
    "    1 &  1 & 1 & 1 \\\\\n",
    "    1 & -1 & 0 & 0\n",
    "\\end{bmatrix}\n",
    "$$"
   ]
  },
  {
   "cell_type": "code",
   "execution_count": 3,
   "metadata": {},
   "outputs": [
    {
     "data": {
      "text/plain": [
       "array([[ 1.,  0.,  0.,  0.],\n",
       "       [ 0.,  1.,  0.,  0.],\n",
       "       [ 0.,  0.,  1.,  0.],\n",
       "       [ 0.,  0.,  0.,  1.],\n",
       "       [ 1.,  1.,  1.,  1.],\n",
       "       [ 1., -1.,  0.,  0.]])"
      ]
     },
     "execution_count": 3,
     "metadata": {},
     "output_type": "execute_result"
    }
   ],
   "source": [
    "# Stack all the different vectors a we want into the matrix A.\n",
    "A = np.vstack([np.eye(4),\n",
    "               np.array([1, 1, 1, 1]).reshape(1, p),\n",
    "               np.array([1, -1, 0, 0]).reshape(1, p)\n",
    "               ])\n",
    "A"
   ]
  },
  {
   "cell_type": "code",
   "execution_count": 4,
   "metadata": {},
   "outputs": [],
   "source": [
    "alpha = 0.05\n",
    "m = A.shape[0]\n",
    "z_crit = stats.norm().ppf(1-alpha/(2*m))"
   ]
  },
  {
   "cell_type": "code",
   "execution_count": 5,
   "metadata": {},
   "outputs": [
    {
     "data": {
      "text/plain": [
       "array([[0.4208014 , 1.1111986 ],\n",
       "       [0.22680583, 0.78919417],\n",
       "       [0.28371269, 0.59228731],\n",
       "       [0.08363111, 0.23836889],\n",
       "       [1.13494782, 2.61105218],\n",
       "       [0.11158266, 0.40441734]])"
      ]
     },
     "execution_count": 5,
     "metadata": {},
     "output_type": "execute_result"
    }
   ],
   "source": [
    "bonf_lrg_ci = A @ xbar + np.array([-1, 1]) * z_crit * np.sqrt(np.diag(A @ S @ A.T).reshape(m, 1)/ n)\n",
    "bonf_lrg_ci"
   ]
  },
  {
   "cell_type": "markdown",
   "metadata": {},
   "source": [
    "Alternatively, we could have also looped through the rows of $A$ and used the formula above\n",
    "```python\n",
    "for i in range(A.shape[0]):\n",
    "    print(A[i,:] @ xbar + np.array([-1, 1]) * stats.norm().ppf(1-alpha/(2*m)) * np.sqrt(A[i,:] @ S @ A[i,:].T / n))\n",
    "```"
   ]
  },
  {
   "cell_type": "code",
   "execution_count": 6,
   "metadata": {},
   "outputs": [
    {
     "data": {
      "text/latex": [
       "$\\displaystyle 0.77 \\pm 2.64 \\frac{\\sqrt{0.86}}{\\sqrt{50}}\\hspace{0.5cm} \\text{contains}\\hspace{0.5cm}\\mu_1\\hspace{1cm}\\text{or}\\hspace{1cm}0.42 \\leq \\mu_1 \\leq 1.11$"
      ],
      "text/plain": [
       "<IPython.core.display.Math object>"
      ]
     },
     "metadata": {},
     "output_type": "display_data"
    },
    {
     "data": {
      "text/latex": [
       "$\\displaystyle 0.51 \\pm 2.64 \\frac{\\sqrt{0.57}}{\\sqrt{50}}\\hspace{0.5cm} \\text{contains}\\hspace{0.5cm}\\mu_2\\hspace{1cm}\\text{or}\\hspace{1cm}0.23 \\leq \\mu_2 \\leq 0.79$"
      ],
      "text/plain": [
       "<IPython.core.display.Math object>"
      ]
     },
     "metadata": {},
     "output_type": "display_data"
    },
    {
     "data": {
      "text/latex": [
       "$\\displaystyle 0.44 \\pm 2.64 \\frac{\\sqrt{0.17}}{\\sqrt{50}}\\hspace{0.5cm} \\text{contains}\\hspace{0.5cm}\\mu_3\\hspace{1cm}\\text{or}\\hspace{1cm}0.28 \\leq \\mu_3 \\leq 0.59$"
      ],
      "text/plain": [
       "<IPython.core.display.Math object>"
      ]
     },
     "metadata": {},
     "output_type": "display_data"
    },
    {
     "data": {
      "text/latex": [
       "$\\displaystyle 0.16 \\pm 2.64 \\frac{\\sqrt{0.04}}{\\sqrt{50}}\\hspace{0.5cm} \\text{contains}\\hspace{0.5cm}\\mu_4\\hspace{1cm}\\text{or}\\hspace{1cm}0.08 \\leq \\mu_4 \\leq 0.24$"
      ],
      "text/plain": [
       "<IPython.core.display.Math object>"
      ]
     },
     "metadata": {},
     "output_type": "display_data"
    },
    {
     "data": {
      "text/latex": [
       "$\\displaystyle 1.87 \\pm 2.64 \\frac{\\sqrt{3.91}}{\\sqrt{50}}\\hspace{0.5cm} \\text{contains}\\hspace{0.5cm}\\mu_5\\hspace{1cm}\\text{or}\\hspace{1cm}1.13 \\leq \\mu_5 \\leq 2.61$"
      ],
      "text/plain": [
       "<IPython.core.display.Math object>"
      ]
     },
     "metadata": {},
     "output_type": "display_data"
    },
    {
     "data": {
      "text/latex": [
       "$\\displaystyle 0.26 \\pm 2.64 \\frac{\\sqrt{0.15}}{\\sqrt{50}}\\hspace{0.5cm} \\text{contains}\\hspace{0.5cm}\\mu_6\\hspace{1cm}\\text{or}\\hspace{1cm}0.11 \\leq \\mu_6 \\leq 0.40$"
      ],
      "text/plain": [
       "<IPython.core.display.Math object>"
      ]
     },
     "metadata": {},
     "output_type": "display_data"
    }
   ],
   "source": [
    "for i in range(bonf_lrg_ci.shape[0]):\n",
    "    display(Math(fr'{(A[i] @ xbar).item():.2f} \\pm {stats.norm.ppf(1-alpha/(2*m)):.2f} '\\\n",
    "                 fr'\\frac{{\\sqrt{{{A[i] @ S @ A[i].T:.2f}}}}}{{\\sqrt{{{n}}}}}\\hspace{{0.5cm}} \\text{{contains}}'\\\n",
    "                 fr'\\hspace{{0.5cm}}\\mu_{i+1}\\hspace{{1cm}}\\text{{or}}'\\\n",
    "                 fr'\\hspace{{1cm}}{bonf_lrg_ci[i,0]:.2f} \\leq \\mu_{i+1} '\\\n",
    "                 fr'\\leq {bonf_lrg_ci[i,1]:.2f}'))"
   ]
  },
  {
   "cell_type": "markdown",
   "metadata": {},
   "source": [
    "where $\\mu_{5} = \\mu_{1} + \\mu_{2} + \\mu_{3} + \\mu_{4}$ and $\\mu_{6} = \\mu_{1} - \\mu_{2}$."
   ]
  },
  {
   "cell_type": "markdown",
   "metadata": {},
   "source": [
    "## (b)"
   ]
  },
  {
   "cell_type": "markdown",
   "metadata": {},
   "source": [
    "Large sample simultaneous $T^{2}$ confidence intervals (use $\\chi^{2}$ distribution)\n",
    "$$\n",
    "\\textbf{a}^{\\prime} \\bar{\\textbf{x}}\n",
    "\\pm\n",
    "\\sqrt{\\chi_{p}^{2}(\\alpha/2m)}\n",
    "\\sqrt{\\frac{\\textbf{a}^{\\prime} \\textbf{S} \\textbf{a}}{n}}\n",
    "$$"
   ]
  },
  {
   "cell_type": "code",
   "execution_count": 7,
   "metadata": {},
   "outputs": [],
   "source": [
    "chi2_crit = stats.chi2(df=p).ppf(1-alpha/m)"
   ]
  },
  {
   "cell_type": "code",
   "execution_count": 8,
   "metadata": {},
   "outputs": [
    {
     "data": {
      "text/plain": [
       "array([[0.28178339, 1.25021661],\n",
       "       [0.11356361, 0.90243639],\n",
       "       [0.22157827, 0.65442173],\n",
       "       [0.05247319, 0.26952681],\n",
       "       [0.83772023, 2.90827977],\n",
       "       [0.05261763, 0.46338237]])"
      ]
     },
     "execution_count": 8,
     "metadata": {},
     "output_type": "execute_result"
    }
   ],
   "source": [
    "T2_lrg_ci = A @ xbar + np.array([-1, 1]) * np.sqrt(chi2_crit) * np.sqrt(np.diag(A @ S @ A.T).reshape(m, 1)/ n)\n",
    "T2_lrg_ci"
   ]
  },
  {
   "cell_type": "code",
   "execution_count": 9,
   "metadata": {},
   "outputs": [
    {
     "data": {
      "text/latex": [
       "$\\displaystyle 0.77 \\pm \\sqrt{13.70} \\frac{\\sqrt{0.86}}{\\sqrt{50}}\\hspace{0.5cm} \\text{contains}\\hspace{0.5cm}\\mu_1\\hspace{1cm}\\text{or}\\hspace{1cm}0.28 \\leq \\mu_1 \\leq 1.25$"
      ],
      "text/plain": [
       "<IPython.core.display.Math object>"
      ]
     },
     "metadata": {},
     "output_type": "display_data"
    },
    {
     "data": {
      "text/latex": [
       "$\\displaystyle 0.51 \\pm \\sqrt{13.70} \\frac{\\sqrt{0.57}}{\\sqrt{50}}\\hspace{0.5cm} \\text{contains}\\hspace{0.5cm}\\mu_2\\hspace{1cm}\\text{or}\\hspace{1cm}0.11 \\leq \\mu_2 \\leq 0.90$"
      ],
      "text/plain": [
       "<IPython.core.display.Math object>"
      ]
     },
     "metadata": {},
     "output_type": "display_data"
    },
    {
     "data": {
      "text/latex": [
       "$\\displaystyle 0.44 \\pm \\sqrt{13.70} \\frac{\\sqrt{0.17}}{\\sqrt{50}}\\hspace{0.5cm} \\text{contains}\\hspace{0.5cm}\\mu_3\\hspace{1cm}\\text{or}\\hspace{1cm}0.22 \\leq \\mu_3 \\leq 0.65$"
      ],
      "text/plain": [
       "<IPython.core.display.Math object>"
      ]
     },
     "metadata": {},
     "output_type": "display_data"
    },
    {
     "data": {
      "text/latex": [
       "$\\displaystyle 0.16 \\pm \\sqrt{13.70} \\frac{\\sqrt{0.04}}{\\sqrt{50}}\\hspace{0.5cm} \\text{contains}\\hspace{0.5cm}\\mu_4\\hspace{1cm}\\text{or}\\hspace{1cm}0.05 \\leq \\mu_4 \\leq 0.27$"
      ],
      "text/plain": [
       "<IPython.core.display.Math object>"
      ]
     },
     "metadata": {},
     "output_type": "display_data"
    },
    {
     "data": {
      "text/latex": [
       "$\\displaystyle 1.87 \\pm \\sqrt{13.70} \\frac{\\sqrt{3.91}}{\\sqrt{50}}\\hspace{0.5cm} \\text{contains}\\hspace{0.5cm}\\mu_5\\hspace{1cm}\\text{or}\\hspace{1cm}0.84 \\leq \\mu_5 \\leq 2.91$"
      ],
      "text/plain": [
       "<IPython.core.display.Math object>"
      ]
     },
     "metadata": {},
     "output_type": "display_data"
    },
    {
     "data": {
      "text/latex": [
       "$\\displaystyle 0.26 \\pm \\sqrt{13.70} \\frac{\\sqrt{0.15}}{\\sqrt{50}}\\hspace{0.5cm} \\text{contains}\\hspace{0.5cm}\\mu_6\\hspace{1cm}\\text{or}\\hspace{1cm}0.05 \\leq \\mu_6 \\leq 0.46$"
      ],
      "text/plain": [
       "<IPython.core.display.Math object>"
      ]
     },
     "metadata": {},
     "output_type": "display_data"
    }
   ],
   "source": [
    "\n",
    "for i in range(T2_lrg_ci.shape[0]):\n",
    "    display(Math(fr'{(A[i] @ xbar).item():.2f} \\pm \\sqrt{{{stats.chi2(df=p).ppf(1-alpha/m):.2f}}} '\\\n",
    "                 fr'\\frac{{\\sqrt{{{A[i] @ S @ A[i].T:.2f}}}}}{{\\sqrt{{{n}}}}}\\hspace{{0.5cm}} \\text{{contains}}'\\\n",
    "                 fr'\\hspace{{0.5cm}}\\mu_{i+1}\\hspace{{1cm}}\\text{{or}}'\\\n",
    "                 fr'\\hspace{{1cm}}{T2_lrg_ci[i,0]:.2f} \\leq \\mu_{i+1} '\\\n",
    "                 fr'\\leq {T2_lrg_ci[i,1]:.2f}'))"
   ]
  },
  {
   "cell_type": "markdown",
   "metadata": {},
   "source": [
    "where $\\mu_{5} = \\mu_{1} + \\mu_{2} + \\mu_{3} + \\mu_{4}$ and $\\mu_{6} = \\mu_{1} - \\mu_{2}$."
   ]
  },
  {
   "cell_type": "code",
   "execution_count": 10,
   "metadata": {},
   "outputs": [
    {
     "data": {
      "text/plain": [
       "0.7129011885927707"
      ]
     },
     "execution_count": 10,
     "metadata": {},
     "output_type": "execute_result"
    }
   ],
   "source": [
    "# How much shorter is the Bonferroni interval than the T^{2}?\n",
    "z_crit / np.sqrt(chi2_crit)"
   ]
  }
 ],
 "metadata": {
  "kernelspec": {
   "display_name": "Python 3",
   "language": "python",
   "name": "python3"
  },
  "language_info": {
   "codemirror_mode": {
    "name": "ipython",
    "version": 3
   },
   "file_extension": ".py",
   "mimetype": "text/x-python",
   "name": "python",
   "nbconvert_exporter": "python",
   "pygments_lexer": "ipython3",
   "version": "3.12.5"
  }
 },
 "nbformat": 4,
 "nbformat_minor": 2
}
