{
 "cells": [
  {
   "cell_type": "markdown",
   "metadata": {},
   "source": [
    "# Exercise 5.8"
   ]
  },
  {
   "cell_type": "code",
   "execution_count": 1,
   "metadata": {},
   "outputs": [],
   "source": [
    "import pathlib\n",
    "import numpy as np\n",
    "import pandas as pd\n",
    "import numpy.linalg as la\n",
    "from IPython.display import display, Math"
   ]
  },
  {
   "cell_type": "code",
   "execution_count": 2,
   "metadata": {},
   "outputs": [],
   "source": [
    "def load_data() -> pd.DataFrame:\n",
    "    \"\"\"\n",
    "    Load the microwave radiation data from Example 5.3 and Example 5.4.\n",
    "    \"\"\"\n",
    "    closed_pth = pathlib.Path('..\\..\\data\\Table4.1.xlsx')\n",
    "    closed_df = pd.read_excel(closed_pth, names=['Oven', 'ClosedRadiation'])\n",
    "\n",
    "    open_pth = pathlib.Path('..\\..\\data\\Table4.5.xlsx')\n",
    "    open_df = pd.read_excel(open_pth, names=['Oven', 'OpenRadiation'])\n",
    "\n",
    "    return closed_df.merge(open_df).set_index('Oven')**(1/4)"
   ]
  },
  {
   "cell_type": "code",
   "execution_count": 3,
   "metadata": {},
   "outputs": [
    {
     "data": {
      "text/html": [
       "<div>\n",
       "<style scoped>\n",
       "    .dataframe tbody tr th:only-of-type {\n",
       "        vertical-align: middle;\n",
       "    }\n",
       "\n",
       "    .dataframe tbody tr th {\n",
       "        vertical-align: top;\n",
       "    }\n",
       "\n",
       "    .dataframe thead th {\n",
       "        text-align: right;\n",
       "    }\n",
       "</style>\n",
       "<table border=\"1\" class=\"dataframe\">\n",
       "  <thead>\n",
       "    <tr style=\"text-align: right;\">\n",
       "      <th></th>\n",
       "      <th>ClosedRadiation</th>\n",
       "      <th>OpenRadiation</th>\n",
       "    </tr>\n",
       "    <tr>\n",
       "      <th>Oven</th>\n",
       "      <th></th>\n",
       "      <th></th>\n",
       "    </tr>\n",
       "  </thead>\n",
       "  <tbody>\n",
       "    <tr>\n",
       "      <th>1</th>\n",
       "      <td>0.622333</td>\n",
       "      <td>0.740083</td>\n",
       "    </tr>\n",
       "    <tr>\n",
       "      <th>2</th>\n",
       "      <td>0.547723</td>\n",
       "      <td>0.547723</td>\n",
       "    </tr>\n",
       "    <tr>\n",
       "      <th>3</th>\n",
       "      <td>0.651356</td>\n",
       "      <td>0.740083</td>\n",
       "    </tr>\n",
       "  </tbody>\n",
       "</table>\n",
       "</div>"
      ],
      "text/plain": [
       "      ClosedRadiation  OpenRadiation\n",
       "Oven                                \n",
       "1            0.622333       0.740083\n",
       "2            0.547723       0.547723\n",
       "3            0.651356       0.740083"
      ]
     },
     "execution_count": 3,
     "metadata": {},
     "output_type": "execute_result"
    }
   ],
   "source": [
    "radiation_df = load_data()\n",
    "radiation_df.head(3)"
   ]
  },
  {
   "cell_type": "code",
   "execution_count": 4,
   "metadata": {},
   "outputs": [],
   "source": [
    "X = radiation_df.to_numpy()\n",
    "n, p = X.shape"
   ]
  },
  {
   "cell_type": "code",
   "execution_count": 5,
   "metadata": {},
   "outputs": [],
   "source": [
    "xbar = np.mean(X, axis=0).reshape(p, 1)\n",
    "S = np.cov(X.T)\n",
    "Sinv = la.inv(S)\n",
    "mu0 = np.array([[0.55],[0.60]])"
   ]
  },
  {
   "cell_type": "code",
   "execution_count": 6,
   "metadata": {},
   "outputs": [
    {
     "data": {
      "text/plain": [
       "1.227116250844468"
      ]
     },
     "execution_count": 6,
     "metadata": {},
     "output_type": "execute_result"
    }
   ],
   "source": [
    "# Compute T^2.\n",
    "T2 = (n * (xbar - mu0).T @ Sinv @ (xbar - mu0)).squeeze().item()\n",
    "T2"
   ]
  },
  {
   "cell_type": "code",
   "execution_count": 7,
   "metadata": {},
   "outputs": [
    {
     "data": {
      "text/plain": [
       "array([[ 2.41273089],\n",
       "       [-1.73836409]])"
      ]
     },
     "execution_count": 7,
     "metadata": {},
     "output_type": "execute_result"
    }
   ],
   "source": [
    "# Compute a, when max is attained.\n",
    "a = Sinv @ (xbar - mu0)\n",
    "a"
   ]
  },
  {
   "cell_type": "code",
   "execution_count": 8,
   "metadata": {},
   "outputs": [
    {
     "data": {
      "text/plain": [
       "1.2271162508444557"
      ]
     },
     "execution_count": 8,
     "metadata": {},
     "output_type": "execute_result"
    }
   ],
   "source": [
    "# Using the equation for t in (5-22) to get t^2.\n",
    "t2 = (np.sqrt(n) * ((a.T @ xbar - a.T @ mu0) / np.sqrt(a.T @ S @ a))).squeeze()**2\n",
    "t2"
   ]
  },
  {
   "cell_type": "code",
   "execution_count": 9,
   "metadata": {},
   "outputs": [
    {
     "data": {
      "text/latex": [
       "$\\displaystyle \\text{Congratulations! Computing }T^{2}\\text{ and }t^{2}\\text{ (with max a) are the same with value 1.2271.}$"
      ],
      "text/plain": [
       "<IPython.core.display.Math object>"
      ]
     },
     "metadata": {},
     "output_type": "display_data"
    }
   ],
   "source": [
    "if round(T2, 10) == round(t2, 10):\n",
    "    display(Math(fr'\\text{{Congratulations! Computing }}T^{{2}}\\text{{ and }}t^{{2}}\\text{{ (with max a) are the same with value {t2:.4f}.}}'))\n",
    "else:\n",
    "    print('A mistake was made!')"
   ]
  }
 ],
 "metadata": {
  "kernelspec": {
   "display_name": "myvmpy311",
   "language": "python",
   "name": "myvmpy311"
  },
  "language_info": {
   "codemirror_mode": {
    "name": "ipython",
    "version": 3
   },
   "file_extension": ".py",
   "mimetype": "text/x-python",
   "name": "python",
   "nbconvert_exporter": "python",
   "pygments_lexer": "ipython3",
   "version": "3.11.3"
  }
 },
 "nbformat": 4,
 "nbformat_minor": 2
}
