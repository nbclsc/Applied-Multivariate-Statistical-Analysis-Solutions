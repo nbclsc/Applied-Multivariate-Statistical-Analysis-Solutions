{
 "cells": [
  {
   "cell_type": "markdown",
   "metadata": {},
   "source": [
    "# Exercise 6.1"
   ]
  },
  {
   "cell_type": "code",
   "execution_count": 1,
   "metadata": {},
   "outputs": [],
   "source": [
    "import pathlib\n",
    "import numpy as np\n",
    "import pandas as pd\n",
    "import numpy.linalg as la\n",
    "from IPython.display import display, Math\n",
    "from scipy import stats"
   ]
  },
  {
   "cell_type": "code",
   "execution_count": 2,
   "metadata": {},
   "outputs": [],
   "source": [
    "def load_data() -> pd.DataFrame:\n",
    "    fpth = pathlib.WindowsPath(r'..\\..\\data\\Table6.1.xlsx')\n",
    "    return pd.read_excel(fpth)"
   ]
  },
  {
   "cell_type": "code",
   "execution_count": 3,
   "metadata": {},
   "outputs": [
    {
     "data": {
      "text/html": [
       "<div>\n",
       "<style scoped>\n",
       "    .dataframe tbody tr th:only-of-type {\n",
       "        vertical-align: middle;\n",
       "    }\n",
       "\n",
       "    .dataframe tbody tr th {\n",
       "        vertical-align: top;\n",
       "    }\n",
       "\n",
       "    .dataframe thead th {\n",
       "        text-align: right;\n",
       "    }\n",
       "</style>\n",
       "<table border=\"1\" class=\"dataframe\">\n",
       "  <thead>\n",
       "    <tr style=\"text-align: right;\">\n",
       "      <th></th>\n",
       "      <th>Sample j</th>\n",
       "      <th>Commercial lab BOD</th>\n",
       "      <th>Commercial lab SS</th>\n",
       "      <th>State lab of hygiene BOD</th>\n",
       "      <th>State lab of hygiene SS</th>\n",
       "    </tr>\n",
       "  </thead>\n",
       "  <tbody>\n",
       "    <tr>\n",
       "      <th>0</th>\n",
       "      <td>1</td>\n",
       "      <td>6</td>\n",
       "      <td>27</td>\n",
       "      <td>25</td>\n",
       "      <td>15</td>\n",
       "    </tr>\n",
       "    <tr>\n",
       "      <th>1</th>\n",
       "      <td>2</td>\n",
       "      <td>6</td>\n",
       "      <td>23</td>\n",
       "      <td>28</td>\n",
       "      <td>13</td>\n",
       "    </tr>\n",
       "    <tr>\n",
       "      <th>2</th>\n",
       "      <td>3</td>\n",
       "      <td>18</td>\n",
       "      <td>64</td>\n",
       "      <td>36</td>\n",
       "      <td>22</td>\n",
       "    </tr>\n",
       "  </tbody>\n",
       "</table>\n",
       "</div>"
      ],
      "text/plain": [
       "   Sample j  Commercial lab BOD  Commercial lab SS  State lab of hygiene BOD  \\\n",
       "0         1                   6                 27                        25   \n",
       "1         2                   6                 23                        28   \n",
       "2         3                  18                 64                        36   \n",
       "\n",
       "   State lab of hygiene SS  \n",
       "0                       15  \n",
       "1                       13  \n",
       "2                       22  "
      ]
     },
     "execution_count": 3,
     "metadata": {},
     "output_type": "execute_result"
    }
   ],
   "source": [
    "effluent_df = load_data()\n",
    "effluent_df.head(3)"
   ]
  },
  {
   "cell_type": "code",
   "execution_count": 4,
   "metadata": {},
   "outputs": [
    {
     "data": {
      "text/html": [
       "<div>\n",
       "<style scoped>\n",
       "    .dataframe tbody tr th:only-of-type {\n",
       "        vertical-align: middle;\n",
       "    }\n",
       "\n",
       "    .dataframe tbody tr th {\n",
       "        vertical-align: top;\n",
       "    }\n",
       "\n",
       "    .dataframe thead th {\n",
       "        text-align: right;\n",
       "    }\n",
       "</style>\n",
       "<table border=\"1\" class=\"dataframe\">\n",
       "  <thead>\n",
       "    <tr style=\"text-align: right;\">\n",
       "      <th></th>\n",
       "      <th>Sample j</th>\n",
       "      <th>Commercial lab BOD</th>\n",
       "      <th>Commercial lab SS</th>\n",
       "      <th>State lab of hygiene BOD</th>\n",
       "      <th>State lab of hygiene SS</th>\n",
       "      <th>d1</th>\n",
       "      <th>d2</th>\n",
       "    </tr>\n",
       "  </thead>\n",
       "  <tbody>\n",
       "    <tr>\n",
       "      <th>0</th>\n",
       "      <td>1</td>\n",
       "      <td>6</td>\n",
       "      <td>27</td>\n",
       "      <td>25</td>\n",
       "      <td>15</td>\n",
       "      <td>-19</td>\n",
       "      <td>12</td>\n",
       "    </tr>\n",
       "    <tr>\n",
       "      <th>1</th>\n",
       "      <td>2</td>\n",
       "      <td>6</td>\n",
       "      <td>23</td>\n",
       "      <td>28</td>\n",
       "      <td>13</td>\n",
       "      <td>-22</td>\n",
       "      <td>10</td>\n",
       "    </tr>\n",
       "    <tr>\n",
       "      <th>2</th>\n",
       "      <td>3</td>\n",
       "      <td>18</td>\n",
       "      <td>64</td>\n",
       "      <td>36</td>\n",
       "      <td>22</td>\n",
       "      <td>-18</td>\n",
       "      <td>42</td>\n",
       "    </tr>\n",
       "  </tbody>\n",
       "</table>\n",
       "</div>"
      ],
      "text/plain": [
       "   Sample j  Commercial lab BOD  Commercial lab SS  State lab of hygiene BOD  \\\n",
       "0         1                   6                 27                        25   \n",
       "1         2                   6                 23                        28   \n",
       "2         3                  18                 64                        36   \n",
       "\n",
       "   State lab of hygiene SS  d1  d2  \n",
       "0                       15 -19  12  \n",
       "1                       13 -22  10  \n",
       "2                       22 -18  42  "
      ]
     },
     "execution_count": 4,
     "metadata": {},
     "output_type": "execute_result"
    }
   ],
   "source": [
    "effluent_df['d1'] = effluent_df['Commercial lab BOD'] - effluent_df['State lab of hygiene BOD']\n",
    "effluent_df['d2'] = effluent_df['Commercial lab SS'] - effluent_df['State lab of hygiene SS']\n",
    "effluent_df.head(3)"
   ]
  },
  {
   "cell_type": "code",
   "execution_count": 5,
   "metadata": {},
   "outputs": [],
   "source": [
    "X = effluent_df[['d1', 'd2']].to_numpy()\n",
    "n, p = X.shape\n",
    "alpha = 0.05"
   ]
  },
  {
   "cell_type": "code",
   "execution_count": 6,
   "metadata": {},
   "outputs": [
    {
     "data": {
      "text/plain": [
       "array([[-9.36363636],\n",
       "       [13.27272727]])"
      ]
     },
     "execution_count": 6,
     "metadata": {},
     "output_type": "execute_result"
    }
   ],
   "source": [
    "xbar = np.mean(X, axis=0)[:, np.newaxis]\n",
    "xbar"
   ]
  },
  {
   "cell_type": "code",
   "execution_count": 7,
   "metadata": {},
   "outputs": [
    {
     "data": {
      "text/plain": [
       "array([[199.25454545,  88.30909091],\n",
       "       [ 88.30909091, 418.61818182]])"
      ]
     },
     "execution_count": 7,
     "metadata": {},
     "output_type": "execute_result"
    }
   ],
   "source": [
    "S = np.cov(X, rowvar=False)\n",
    "S"
   ]
  },
  {
   "cell_type": "markdown",
   "metadata": {},
   "source": [
    "$$\n",
    "\\begin{align}\n",
    "    H_{0}: & \\bm{\\delta} = \\textbf{0} \\\\\n",
    "    H_{a}: & \\bm{\\delta} \\ne \\textbf{0}\n",
    "\\end{align}\n",
    "$$"
   ]
  },
  {
   "cell_type": "markdown",
   "metadata": {},
   "source": [
    "$$\n",
    "T^{2}\n",
    "=\n",
    "n\n",
    "{(\\bar{\\textbf{d}} - \\bm{\\delta})}^{\\prime}\n",
    "\\textbf{S}_{d}^{-1}\n",
    "(\\bar{\\textbf{d}} - \\bm{\\delta})\n",
    "=\n",
    "n\n",
    "{(\\bar{\\textbf{d}} - \\textbf{0})}^{\\prime}\n",
    "\\textbf{S}_{d}^{-1}\n",
    "(\\bar{\\textbf{d}} - \\textbf{0})\n",
    "=\n",
    "n\n",
    "{\\bar{\\textbf{d}}}^{\\prime}\n",
    "\\textbf{S}_{d}^{-1}\n",
    "\\bar{\\textbf{d}}\n",
    "$$"
   ]
  },
  {
   "cell_type": "code",
   "execution_count": 8,
   "metadata": {},
   "outputs": [
    {
     "data": {
      "text/plain": [
       "13.639312140174692"
      ]
     },
     "execution_count": 8,
     "metadata": {},
     "output_type": "execute_result"
    }
   ],
   "source": [
    "T2 = (n * xbar.T @ la.inv(S) @ xbar).item()\n",
    "T2"
   ]
  },
  {
   "cell_type": "code",
   "execution_count": 14,
   "metadata": {},
   "outputs": [
    {
     "data": {
      "text/plain": [
       "9.458877175763888"
      ]
     },
     "execution_count": 14,
     "metadata": {},
     "output_type": "execute_result"
    }
   ],
   "source": [
    "f_crit = ((n-1)*p)/(n-p) * stats.f.ppf(1-alpha, p, n-p)\n",
    "f_crit"
   ]
  },
  {
   "cell_type": "code",
   "execution_count": 13,
   "metadata": {},
   "outputs": [
    {
     "name": "stdout",
     "output_type": "stream",
     "text": [
      "Reject the null hypothesis.\n"
     ]
    }
   ],
   "source": [
    "if T2 > f_crit:\n",
    "    print('Reject the null hypothesis.')\n",
    "else:\n",
    "    print('Fail to reject the null hypothesis.')"
   ]
  },
  {
   "cell_type": "code",
   "execution_count": 11,
   "metadata": {},
   "outputs": [],
   "source": [
    "# Construct the 95% simultaneous confidence intervals.\n",
    "ci95 = xbar + np.array([-1, 1]) * np.sqrt(f_crit) * np.sqrt(np.diag(S)[:, np.newaxis]/n)"
   ]
  },
  {
   "cell_type": "code",
   "execution_count": 12,
   "metadata": {},
   "outputs": [
    {
     "data": {
      "text/latex": [
       "$\\displaystyle \\delta_{1}: \\bar{d}_{1}\\pm\\sqrt{\\frac{(n-1)p}{n-p}F_{p, n-p}(\\alpha)}\\sqrt{\\frac{S_{d_1}}{n}} =-9.36\\pm\\sqrt{9.46}\\sqrt{\\frac{199.25}{11}}\\hspace{0.4cm}\\text{or}\\hspace{0.4cm}(-22.45, 3.73)$"
      ],
      "text/plain": [
       "<IPython.core.display.Math object>"
      ]
     },
     "metadata": {},
     "output_type": "display_data"
    },
    {
     "data": {
      "text/latex": [
       "$\\displaystyle \\delta_{2}: \\bar{d}_{2}\\pm\\sqrt{\\frac{(n-1)p}{n-p}F_{p, n-p}(\\alpha)}\\sqrt{\\frac{S_{d_2}}{n}} =13.27\\pm\\sqrt{9.46}\\sqrt{\\frac{418.62}{11}}\\hspace{0.4cm}\\text{or}\\hspace{0.4cm}(-5.70, 32.25)$"
      ],
      "text/plain": [
       "<IPython.core.display.Math object>"
      ]
     },
     "metadata": {},
     "output_type": "display_data"
    }
   ],
   "source": [
    "for i in range(p):\n",
    "    display(Math(fr'\\delta_{{{i+1}}}: \\bar{{d}}_{{{i+1}}}'\n",
    "                  + r'\\pm'\n",
    "                  + fr'\\sqrt{{\\frac{{(n-1)p}}{{n-p}}F_{{p, n-p}}(\\alpha)}}'\n",
    "                  + fr'\\sqrt{{\\frac{{S_{{d_{i+1}}}}}{{n}}}} ='\n",
    "                  + fr'{xbar[i].item():.2f}'\n",
    "                  + r'\\pm'\n",
    "                  + fr'\\sqrt{{{f_crit:.2f}}}'\n",
    "                  + fr'\\sqrt{{\\frac{{{round(S[i,i],2):.2f}}}{{{n}}}}}'\n",
    "                  + r'\\hspace{0.4cm}\\text{or}\\hspace{0.4cm}'\n",
    "                  +fr'({ci95[i,0]:.2f}, {ci95[i,1]:.2f})'\n",
    "                  ))"
   ]
  }
 ],
 "metadata": {
  "kernelspec": {
   "display_name": "Python 3",
   "language": "python",
   "name": "python3"
  },
  "language_info": {
   "codemirror_mode": {
    "name": "ipython",
    "version": 3
   },
   "file_extension": ".py",
   "mimetype": "text/x-python",
   "name": "python",
   "nbconvert_exporter": "python",
   "pygments_lexer": "ipython3",
   "version": "3.12.5"
  }
 },
 "nbformat": 4,
 "nbformat_minor": 2
}
