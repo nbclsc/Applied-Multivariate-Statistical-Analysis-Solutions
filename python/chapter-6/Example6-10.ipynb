{
 "cells": [
  {
   "cell_type": "markdown",
   "metadata": {},
   "source": [
    "# Example 6.10"
   ]
  },
  {
   "cell_type": "code",
   "execution_count": 1,
   "metadata": {},
   "outputs": [],
   "source": [
    "import numpy as np\n",
    "import numpy.linalg as la\n",
    "from IPython.display import display, Math\n",
    "from scipy import stats"
   ]
  },
  {
   "cell_type": "markdown",
   "metadata": {},
   "source": [
    "- $X_{1} = $ cost of nursing labor\n",
    "- $X_{2} = $ cost of dietary labor\n",
    "- $X_{3} = $ cost of plant operation and maintenance labor\n",
    "- $X_{4} = $ cost of housekeeping and laundry labor."
   ]
  },
  {
   "cell_type": "markdown",
   "metadata": {},
   "source": [
    "Group\n",
    "- $\\ell = 1$: private\n",
    "- $\\ell = 2$: nonprofit\n",
    "- $\\ell = 3$: government"
   ]
  },
  {
   "cell_type": "code",
   "execution_count": 2,
   "metadata": {},
   "outputs": [],
   "source": [
    "n1, n2, n3 = 271, 138, 107\n",
    "n = n1 + n2 + n3\n",
    "p, g = 4, 3\n",
    "xbar1 = np.array([2.066, 0.480, 0.082, 0.360])[:,np.newaxis]\n",
    "xbar2 = np.array([2.167, 0.596, 0.124, 0.418])[:,np.newaxis]\n",
    "xbar3 = np.array([2.273, 0.521, 0.125, 0.383])[:,np.newaxis]"
   ]
  },
  {
   "cell_type": "code",
   "execution_count": 3,
   "metadata": {},
   "outputs": [],
   "source": [
    "S1 = np.array([[ 0.291, 0.000, 0.000, 0.000],\n",
    "               [-0.001, 0.011, 0.000, 0.000],\n",
    "               [ 0.002, 0.000, 0.001, 0.000],\n",
    "               [ 0.010, 0.003, 0.000, 0.010]])\n",
    "S1 = np.tril(S1) + np.tril(S1, -1).T\n",
    "\n",
    "S2 = np.array([[0.561, 0.000, 0.000, 0.000],\n",
    "               [0.011, 0.025, 0.000, 0.000],\n",
    "               [0.001, 0.004, 0.005, 0.000],\n",
    "               [0.037, 0.007, 0.002, 0.019]])\n",
    "S2 = np.tril(S2) + np.tril(S2, -1).T\n",
    "\n",
    "S3 = np.array([[0.261,  0.000, 0.000, 0.000],\n",
    "               [0.030,  0.017, 0.000, 0.000],\n",
    "               [0.003, -0.000, 0.004, 0.000],\n",
    "               [0.018,  0.006, 0.001, 0.013],])\n",
    "S3 = np.tril(S3) + np.tril(S3, -1).T"
   ]
  },
  {
   "cell_type": "code",
   "execution_count": 4,
   "metadata": {},
   "outputs": [
    {
     "data": {
      "text/plain": [
       "array([[183.093,   4.417,   0.995,   9.677],\n",
       "       [  4.417,   8.197,   0.548,   2.405],\n",
       "       [  0.995,   0.548,   1.379,   0.38 ],\n",
       "       [  9.677,   2.405,   0.38 ,   6.681]])"
      ]
     },
     "execution_count": 4,
     "metadata": {},
     "output_type": "execute_result"
    }
   ],
   "source": [
    "W = (n1 - 1)*S1 + (n2 - 1)*S2 + (n3 - 1)*S3\n",
    "W"
   ]
  },
  {
   "cell_type": "code",
   "execution_count": 5,
   "metadata": {},
   "outputs": [
    {
     "data": {
      "text/plain": [
       "array([[2.13593605],\n",
       "       [0.51952519],\n",
       "       [0.10214922],\n",
       "       [0.38028101]])"
      ]
     },
     "execution_count": 5,
     "metadata": {},
     "output_type": "execute_result"
    }
   ],
   "source": [
    "xbar = (n1*xbar1 + n2*xbar2 + n3*xbar3)/n\n",
    "xbar"
   ]
  },
  {
   "cell_type": "code",
   "execution_count": 6,
   "metadata": {},
   "outputs": [
    {
     "data": {
      "text/plain": [
       "array([[3.46879889, 1.09857133, 0.81067792, 0.58595027],\n",
       "       [1.09857133, 1.23067867, 0.45003356, 0.61573385],\n",
       "       [0.81067792, 0.45003356, 0.23178351, 0.23112936],\n",
       "       [0.58595027, 0.61573385, 0.23112936, 0.30859425]])"
      ]
     },
     "execution_count": 6,
     "metadata": {},
     "output_type": "execute_result"
    }
   ],
   "source": [
    "B = n1*(xbar1 - xbar) @ (xbar1 - xbar).T + n2*(xbar2 - xbar) @ (xbar2 - xbar).T + n3*(xbar3 - xbar) @ (xbar3 - xbar).T\n",
    "B"
   ]
  },
  {
   "cell_type": "code",
   "execution_count": 7,
   "metadata": {},
   "outputs": [
    {
     "data": {
      "text/plain": [
       "0.7627582047406533"
      ]
     },
     "execution_count": 7,
     "metadata": {},
     "output_type": "execute_result"
    }
   ],
   "source": [
    "lmbda_star = la.det(W)/(la.det(B + W))\n",
    "lmbda_star"
   ]
  },
  {
   "cell_type": "code",
   "execution_count": 8,
   "metadata": {},
   "outputs": [
    {
     "data": {
      "text/latex": [
       "$\\displaystyle \\Lambda^{\\star}=\\frac{\\left|\\textbf{W}\\right|}{\\left|\\textbf{B} + \\textbf{W}\\right|}=0.7628$"
      ],
      "text/plain": [
       "<IPython.core.display.Math object>"
      ]
     },
     "metadata": {},
     "output_type": "display_data"
    }
   ],
   "source": [
    "display(Math(r'\\Lambda^{\\star}'\n",
    "             '='\n",
    "             r'\\frac{\\left|\\textbf{W}\\right|}{\\left|\\textbf{B} + \\textbf{W}\\right|}'\n",
    "             '='\n",
    "             f'{lmbda_star:.4f}'\n",
    "             ))"
   ]
  },
  {
   "cell_type": "code",
   "execution_count": 9,
   "metadata": {},
   "outputs": [
    {
     "data": {
      "text/latex": [
       "$\\displaystyle \\text{Since} \\hspace{0.2cm} p = 4\\hspace{0.2cm} \\text{and} \\hspace{0.2cm} g = 3 \\hspace{0.2cm} \\text{using Table 6.3},\\left( \\frac{ \\sum n_{\\ell} - p - 2 }{ p } \\right)\\left( \\frac{ 1 - \\sqrt{\\Lambda^{\\star}} }{ \\sqrt{\\Lambda^{\\star}} } \\right)\\sim F_{2p, 2(\\sum n_{\\ell} - p - 2)}$"
      ],
      "text/plain": [
       "<IPython.core.display.Math object>"
      ]
     },
     "metadata": {},
     "output_type": "display_data"
    }
   ],
   "source": [
    "display(Math(fr'\\text{{Since}} \\hspace{{0.2cm}} p = {p}'\n",
    "             fr'\\hspace{{0.2cm}} \\text{{and}} \\hspace{{0.2cm}} '\n",
    "             fr'g = {g} \\hspace{{0.2cm}} \\text{{using Table 6.3}},'\n",
    "             r'\\left( \\frac{ \\sum n_{\\ell} - p - 2 }{ p } \\right)'\n",
    "             r'\\left( \\frac{ 1 - \\sqrt{\\Lambda^{\\star}} }{ \\sqrt{\\Lambda^{\\star}} } \\right)'\n",
    "             r'\\sim F_{2p, 2(\\sum n_{\\ell} - p - 2)}'\n",
    "             ))\n",
    "# "
   ]
  },
  {
   "cell_type": "code",
   "execution_count": 10,
   "metadata": {},
   "outputs": [],
   "source": [
    "test_stat = ((n - p - 2)/p)*((1 - np.sqrt(lmbda_star))/np.sqrt(lmbda_star))\n",
    "alpha = 0.01\n",
    "f_crit = stats.f.ppf(1 - alpha, dfn=2*p, dfd=2*(n-p-2))\n",
    "chi2_crit = stats.chi2.ppf(1 - alpha, df=2*p)/(2*p)"
   ]
  },
  {
   "cell_type": "code",
   "execution_count": 11,
   "metadata": {},
   "outputs": [
    {
     "data": {
      "text/latex": [
       "$\\displaystyle F^{\\star} = \\left( \\frac{ \\sum n_{\\ell} - p - 2 }{ p } \\right)\\left( \\frac{ 1 - \\sqrt{\\Lambda^{\\star}} }{ \\sqrt{\\Lambda^{\\star}} } \\right)=\\left( \\frac{ 516 - 4 - 2 }{ 4 } \\right)\\left( \\frac{ 1 - \\sqrt{ 0.7628 } }{ \\sqrt{ 0.7628 } } \\right)=18.4879$"
      ],
      "text/plain": [
       "<IPython.core.display.Math object>"
      ]
     },
     "metadata": {},
     "output_type": "display_data"
    }
   ],
   "source": [
    "display(Math(r'F^{\\star} = \\left( \\frac{ \\sum n_{\\ell} - p - 2 }{ p } \\right)'\n",
    "             r'\\left( \\frac{ 1 - \\sqrt{\\Lambda^{\\star}} }{ \\sqrt{\\Lambda^{\\star}} } \\right)'\n",
    "             '='\n",
    "             fr'\\left( \\frac{{ {n} - {p} - 2 }}{{ {p} }} \\right)'\n",
    "             fr'\\left( \\frac{{ 1 - \\sqrt{{ {lmbda_star:.4f} }} }}{{ \\sqrt{{ {lmbda_star:.4f} }} }} \\right)'\n",
    "             '='\n",
    "             f'{test_stat:.4f}'\n",
    "             ))"
   ]
  },
  {
   "cell_type": "code",
   "execution_count": 12,
   "metadata": {},
   "outputs": [
    {
     "data": {
      "text/latex": [
       "$\\displaystyle F_{\\text{crit}} = F_{2(g-1), 2(\\sum n_{\\ell} - g - 1)}=F_{2(3-1), 2(516 - 3 - 1)} \\left( 0.01 \\right)=F_{4, 1024 } \\left( 0.01 \\right)=2.529$"
      ],
      "text/plain": [
       "<IPython.core.display.Math object>"
      ]
     },
     "metadata": {},
     "output_type": "display_data"
    }
   ],
   "source": [
    "display(Math(fr'F_{{\\text{{crit}}}} = F_{{2(g-1), 2(\\sum n_{{\\ell}} - g - 1)}}'\n",
    "             '='\n",
    "             fr'F_{{2({g}-1), 2({n} - {g} - 1)}} \\left( {alpha} \\right)'\n",
    "             '='\n",
    "             fr'F_{{{2*(g-1)}, {2*(n-g-1)} }} \\left( {alpha} \\right)'\n",
    "             '='\n",
    "             f'{f_crit:.3f}'\n",
    "             ))"
   ]
  },
  {
   "cell_type": "code",
   "execution_count": 13,
   "metadata": {},
   "outputs": [
    {
     "data": {
      "text/latex": [
       "$\\displaystyle \\text{We have that } F^{\\star} = 18.488 > F_{\\text{crit}} = F_{8, 1020 } \\left( 0.01 \\right) \\doteq \\chi^{2}_{8} \\left( 0.01 \\right)/8 = 2.511 \\text{, so we would reject the null hypothesis that } \\bm{\\tau}_{1} = \\bm{\\tau}_{3} = \\bm{\\tau}_{3} = \\textbf{0}$"
      ],
      "text/plain": [
       "<IPython.core.display.Math object>"
      ]
     },
     "metadata": {},
     "output_type": "display_data"
    }
   ],
   "source": [
    "if test_stat > f_crit:\n",
    "    display(Math(fr'\\text{{We have that }} F^{{\\star}} = {test_stat:.3f} > F_{{\\text{{crit}}}} = F_{{{2*p}, {2*(n-p-2)} }} \\left( {alpha} \\right) \\doteq '\n",
    "                 fr'\\chi^{{2}}_{{{2*p}}} \\left( {alpha} \\right)/{2*p} = {chi2_crit:.3f} \\text{{, so we would reject the null hypothesis that }} '\n",
    "                 r'\\bm{\\tau}_{1} = \\bm{\\tau}_{3} = \\bm{\\tau}_{3} = \\textbf{0}'))\n",
    "else:\n",
    "    display(Math(fr'\\text{{We have that }} F^{{\\star}} = {test_stat:.3f} \\leq F_{{\\text{{crit}}}} = F_{{{2*p}, {2*(n-p-2)} }} \\left( {alpha} \\right) \\doteq '\n",
    "                 fr'\\chi^{{2}}_{{{2*p}}} \\left( {alpha} \\right)/{2*p} = {chi2_crit:.3f} \\text{{, so we would fail to reject the null hypothesis that }} '\n",
    "                 r'\\bm{\\tau}_{1} = \\bm{\\tau}_{3} = \\bm{\\tau}_{3} = \\textbf{0}'))"
   ]
  },
  {
   "cell_type": "markdown",
   "metadata": {},
   "source": [
    "## The Bartlett test for $\\sum{n}_{\\ell} = n$ large"
   ]
  },
  {
   "cell_type": "markdown",
   "metadata": {},
   "source": [
    "$$\n",
    "\\begin{align*}\n",
    "H_{0}\\text{: } & \\bm{\\tau}_{1} = \\bm{\\tau}_{2} = \\bm{\\tau}_{3} = \\textbf{0} \\\\\n",
    "H_{1}\\text{: } & \\text{at least one } \\bm{\\tau}_{\\ell} \\ne \\textbf{0}\n",
    "\\end{align*}\n",
    "$$"
   ]
  },
  {
   "cell_type": "code",
   "execution_count": 14,
   "metadata": {},
   "outputs": [],
   "source": [
    "test_stat_bartlett = - (n - 1 - ((p + g)/2))*np.log(lmbda_star)\n",
    "chi2_crit_bartlett = stats.chi2.ppf(1 - alpha, df=p*(g-1))"
   ]
  },
  {
   "cell_type": "code",
   "execution_count": 15,
   "metadata": {},
   "outputs": [
    {
     "data": {
      "text/latex": [
       "$\\displaystyle X^{2\\star}= - \\left(n - 1 - \\frac{ (p + g) }{ 2 }\\right)\\left( \\frac{ 1 - \\sqrt{\\Lambda_{\\star}} }{ \\sqrt{\\Lambda_{\\star}} } \\right)=- \\left(516 - 1 - \\frac{ (4 + 3) }{ 2 }\\right)\\left( \\frac{ 1 - \\sqrt{ 0.7628 } }{ \\sqrt{ 0.7628 } } \\right)=138.5215$"
      ],
      "text/plain": [
       "<IPython.core.display.Math object>"
      ]
     },
     "metadata": {},
     "output_type": "display_data"
    }
   ],
   "source": [
    "display(Math(r'X^{2\\star}'\n",
    "             '='\n",
    "             r' - \\left(n - 1 - \\frac{ (p + g) }{ 2 }\\right)'\n",
    "             r'\\left( \\frac{ 1 - \\sqrt{\\Lambda_{\\star}} }{ \\sqrt{\\Lambda_{\\star}} } \\right)'\n",
    "             '='\n",
    "             fr'- \\left({n} - 1 - \\frac{{ ({p} + {g}) }}{{ 2 }}\\right)'\n",
    "             fr'\\left( \\frac{{ 1 - \\sqrt{{ {lmbda_star:.4f} }} }}{{ \\sqrt{{ {lmbda_star:.4f} }} }} \\right)'\n",
    "             '='\n",
    "             f'{test_stat_bartlett:.4f}'\n",
    "             ))"
   ]
  },
  {
   "cell_type": "code",
   "execution_count": 16,
   "metadata": {},
   "outputs": [
    {
     "data": {
      "text/latex": [
       "$\\displaystyle X_{\\text{crit}}^{2} = \\chi_{ p(g-1) }^{2}=\\chi_{ 4(3-1) }^{2} \\left( 0.01 \\right)=\\chi_{ 8 }^{2} \\left( 0.01 \\right)=20.090$"
      ],
      "text/plain": [
       "<IPython.core.display.Math object>"
      ]
     },
     "metadata": {},
     "output_type": "display_data"
    }
   ],
   "source": [
    "display(Math(fr'X_{{\\text{{crit}}}}^{{2}} = \\chi_{{ p(g-1) }}^{{2}}'\n",
    "             '='\n",
    "             fr'\\chi_{{ {p}({g}-1) }}^{{2}} \\left( {alpha} \\right)'\n",
    "             '='\n",
    "             fr'\\chi_{{ {p*(g-1)} }}^{{2}} \\left( {alpha} \\right)'\n",
    "             '='\n",
    "             f'{chi2_crit_bartlett:.3f}'\n",
    "             ))"
   ]
  },
  {
   "cell_type": "code",
   "execution_count": 17,
   "metadata": {},
   "outputs": [
    {
     "data": {
      "text/latex": [
       "$\\displaystyle \\text{We have that } X^{2\\star} = 138.521 > X_{\\text{crit}}^{2}=\\chi^{2}_{8} \\left( 0.01 \\right) = 20.090\\text{{, so we would reject the null hypothesis that }} \\bm{\\tau}_{1} = \\bm{\\tau}_{3} = \\bm{\\tau}_{3} = \\textbf{0}$"
      ],
      "text/plain": [
       "<IPython.core.display.Math object>"
      ]
     },
     "metadata": {},
     "output_type": "display_data"
    }
   ],
   "source": [
    "if test_stat_bartlett > chi2_crit_bartlett:\n",
    "    display(Math(fr'\\text{{We have that }} X^{{2\\star}} = {test_stat_bartlett:.3f} > '\n",
    "                 r'X_{\\text{crit}}^{2}'\n",
    "                 '='\n",
    "                 fr'\\chi^{{2}}_{{{p*(g-1)}}} \\left( {alpha} \\right) = {chi2_crit_bartlett:.3f}'\n",
    "                 r'\\text{{, so we would reject the null hypothesis that }} '\n",
    "                 r'\\bm{\\tau}_{1} = \\bm{\\tau}_{3} = \\bm{\\tau}_{3} = \\textbf{0}'\n",
    "                 ))\n",
    "else:\n",
    "    display(Math(fr'\\text{{We have that }} X^{{2\\star}} = {test_stat_bartlett:.3f} \\leq '\n",
    "                 r'X_{\\text{crit}}^{2}'\n",
    "                 '='\n",
    "                 fr'\\chi^{{2}}_{{{p*(g-1)}}} \\left( {alpha} \\right) = {chi2_crit_bartlett:.3f}'\n",
    "                 r'\\text{{, so we would fail to reject the null hypothesis that }} '\n",
    "                 r'\\bm{\\tau}_{1} = \\bm{\\tau}_{3} = \\bm{\\tau}_{3} = \\textbf{0}'\n",
    "                 ))"
   ]
  }
 ],
 "metadata": {
  "kernelspec": {
   "display_name": "Python 3",
   "language": "python",
   "name": "python3"
  },
  "language_info": {
   "codemirror_mode": {
    "name": "ipython",
    "version": 3
   },
   "file_extension": ".py",
   "mimetype": "text/x-python",
   "name": "python",
   "nbconvert_exporter": "python",
   "pygments_lexer": "ipython3",
   "version": "3.12.5"
  }
 },
 "nbformat": 4,
 "nbformat_minor": 2
}
