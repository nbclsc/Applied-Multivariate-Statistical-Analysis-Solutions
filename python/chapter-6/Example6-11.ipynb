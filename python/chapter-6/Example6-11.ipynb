{
 "cells": [
  {
   "cell_type": "markdown",
   "metadata": {},
   "source": [
    "# Example 6.11"
   ]
  },
  {
   "cell_type": "code",
   "execution_count": 1,
   "metadata": {},
   "outputs": [],
   "source": [
    "import numpy as np\n",
    "from collections import namedtuple\n",
    "from IPython.display import display, Math\n",
    "from scipy import stats\n",
    "from typing import Literal"
   ]
  },
  {
   "cell_type": "code",
   "execution_count": 2,
   "metadata": {},
   "outputs": [],
   "source": [
    "# Single place to store nursing home group data.\n",
    "Data = namedtuple('Data', ['n', 'xbar', 'S'])"
   ]
  },
  {
   "cell_type": "markdown",
   "metadata": {},
   "source": [
    "- $X_{1} = $ cost of nursing labor\n",
    "- $X_{2} = $ cost of dietary labor\n",
    "- $X_{3} = $ cost of plant operation and maintenance labor\n",
    "- $X_{4} = $ cost of housekeeping and laundry labor"
   ]
  },
  {
   "cell_type": "code",
   "execution_count": 3,
   "metadata": {},
   "outputs": [],
   "source": [
    "# For each cost category (within each group), attach the index the cost value can be found.\n",
    "cost_category_index = {'cost of nursing labor': 0,\n",
    "                       'cost of dietary labor': 1,\n",
    "                       'cost of plant operation and maintenance labor': 2,\n",
    "                       'cost of housekeeping and laundry labor': 3,}\n",
    "p = len(cost_category_index)"
   ]
  },
  {
   "cell_type": "markdown",
   "metadata": {},
   "source": [
    "Group\n",
    "- $\\ell = 1$: private\n",
    "- $\\ell = 2$: nonprofit\n",
    "- $\\ell = 3$: government"
   ]
  },
  {
   "cell_type": "code",
   "execution_count": 4,
   "metadata": {},
   "outputs": [],
   "source": [
    "group_category_index = {'private': 1,\n",
    "                        'nonprofit': 2,\n",
    "                        'government':3}"
   ]
  },
  {
   "cell_type": "code",
   "execution_count": 5,
   "metadata": {},
   "outputs": [],
   "source": [
    "def create_nursing_home_data() -> Data:\n",
    "    n1, n2, n3 = 271, 138, 107\n",
    "    n = n1 + n2 + n3\n",
    "    p, g = 4, 3\n",
    "    xbar1 = np.array([2.066, 0.480, 0.082, 0.360])[:,np.newaxis]\n",
    "    xbar2 = np.array([2.167, 0.596, 0.124, 0.418])[:,np.newaxis]\n",
    "    xbar3 = np.array([2.273, 0.521, 0.125, 0.383])[:,np.newaxis]\n",
    "\n",
    "    S1 = np.array([[ 0.291, 0.000, 0.000, 0.000],\n",
    "                [-0.001, 0.011, 0.000, 0.000],\n",
    "                [ 0.002, 0.000, 0.001, 0.000],\n",
    "                [ 0.010, 0.003, 0.000, 0.010]])\n",
    "    S1 = np.tril(S1) + np.tril(S1, -1).T\n",
    "\n",
    "    S2 = np.array([[0.561, 0.000, 0.000, 0.000],\n",
    "                [0.011, 0.025, 0.000, 0.000],\n",
    "                [0.001, 0.004, 0.005, 0.000],\n",
    "                [0.037, 0.007, 0.002, 0.019]])\n",
    "    S2 = np.tril(S2) + np.tril(S2, -1).T\n",
    "\n",
    "    S3 = np.array([[0.261,  0.000, 0.000, 0.000],\n",
    "                [0.030,  0.017, 0.000, 0.000],\n",
    "                [0.003, -0.000, 0.004, 0.000],\n",
    "                [0.018,  0.006, 0.001, 0.013],])\n",
    "    S3 = np.tril(S3) + np.tril(S3, -1).T\n",
    "\n",
    "    # Store all of our nursing home data in a dictionary.\n",
    "    nursing_home_data = {'private': Data(n=271, xbar=xbar1, S=S1),\n",
    "                        'nonprofit': Data(n=138, xbar=xbar2, S=S2),\n",
    "                        'government': Data(n=107, xbar=xbar3, S=S3)\n",
    "                        }\n",
    "    return nursing_home_data"
   ]
  },
  {
   "cell_type": "code",
   "execution_count": 6,
   "metadata": {},
   "outputs": [],
   "source": [
    "nursing_home_data = create_nursing_home_data()"
   ]
  },
  {
   "cell_type": "code",
   "execution_count": 7,
   "metadata": {},
   "outputs": [],
   "source": [
    "# The number of groups.\n",
    "g = len(nursing_home_data)\n",
    "\n",
    "# The number of measurements with each group.\n",
    "p = len(cost_category_index)\n",
    "\n",
    "# The total number of observations.\n",
    "n = sum([t.n for t in nursing_home_data.values()])\n",
    "\n",
    "# The mean vector (across all groups).\n",
    "xbar = sum([t.n*t.xbar for t in nursing_home_data.values()])/n"
   ]
  },
  {
   "cell_type": "code",
   "execution_count": 8,
   "metadata": {},
   "outputs": [],
   "source": [
    "def construct_ci(data: Data,\n",
    "                 alpha: float,\n",
    "                 group1: str,\n",
    "                 group2: str,\n",
    "                 cost_category: str) -> np.ndarray:\n",
    "    '''Construct the 100(1-\\alpha)% Simultaneous Bonferroni CI for treatment means.'''\n",
    "    \n",
    "    # Make sure input group strings and cost category string are valid entries.\n",
    "    assert group1 in group_category_index.keys(), f'Invalid group1 value: {group1}'\n",
    "    assert group2 in group_category_index.keys(), f'Invalid group2 value: {group2}'\n",
    "    assert cost_category in cost_category_index.keys(), f'Invalid cost category: {cost_category}'\n",
    "\n",
    "    tau_1 = nursing_home_data.get(group1).xbar - xbar\n",
    "    tau_2 = nursing_home_data.get(group2).xbar - xbar\n",
    "    W = sum([(t.n - 1)*t.S for t in nursing_home_data.values()])\n",
    "\n",
    "    # Select the variable of interest.\n",
    "    group1_idx = group_category_index.get(group1)\n",
    "    group2_idx = group_category_index.get(group2)\n",
    "    cost_idx = cost_category_index.get(cost_category)\n",
    "\n",
    "    diff = (tau_1[cost_idx] - tau_2[cost_idx]).item()\n",
    "    std_err = np.sqrt(((1/nursing_home_data.get(group1).n) + (1/nursing_home_data.get(group2).n))*W[cost_idx, cost_idx]/(n-g))\n",
    "    t_crit = stats.t.ppf(1-alpha/(p*g*(g-1)), df=n - g)\n",
    "    ci = diff + np.array([-1, 1])*t_crit*std_err\n",
    "\n",
    "    display(Math(r'\\begin{array}{rl}'\n",
    "             fr'\\tau_{{ {group1_idx} {cost_idx+1}}} - \\tau_{{ {group2_idx} {cost_idx+1}}} '\n",
    "             fr'\\text{{ belongs to }} '\n",
    "             fr'\\hat{{\\tau}}_{{ {group1_idx} {cost_idx+1}}} - \\hat{{\\tau}}_{{ {group2_idx} {cost_idx+1}}} \\pm '\n",
    "             f't_{{ {n-g} }} ( {alpha/(p*g*(g-1)):.5f} ) &'\n",
    "             fr'\\sqrt{{ \\left( \\frac{{1}}{{n_{{ {group1_idx} }}}} + \\frac{{1}}{{n_{{ {group2_idx} }}}} \\right) \\frac{{w_{{ {cost_idx+1} {cost_idx+1} }}}}{{n - g}} }} \\\\'\n",
    "             fr' & = {diff:.3f} \\pm {t_crit:.2f} ( {std_err:.5f} ) \\\\'\n",
    "             fr' & = {diff:.3f} \\pm {t_crit*std_err:.2f} \\text{{, or }} ({ci[0]:.3f}, {ci[1]:.3f})'\n",
    "             r'\\end{array}'\n",
    "             ))\n",
    "    return ci"
   ]
  },
  {
   "cell_type": "code",
   "execution_count": 9,
   "metadata": {},
   "outputs": [
    {
     "data": {
      "text/latex": [
       "$\\displaystyle \\begin{array}{rl}\\tau_{ 1 3} - \\tau_{ 3 3} \\text{ belongs to } \\hat{\\tau}_{ 1 3} - \\hat{\\tau}_{ 3 3} \\pm t_{ 513 } ( 0.00208 ) &\\sqrt{ \\left( \\frac{1}{n_{ 1 }} + \\frac{1}{n_{ 3 }} \\right) \\frac{w_{ 3 3 }}{n - g} } \\\\ & = -0.043 \\pm 2.88 ( 0.00592 ) \\\\ & = -0.043 \\pm 0.02 \\text{, or } (-0.060, -0.026)\\end{array}$"
      ],
      "text/plain": [
       "<IPython.core.display.Math object>"
      ]
     },
     "metadata": {},
     "output_type": "display_data"
    }
   ],
   "source": [
    "alpha = 0.05\n",
    "ci13 = construct_ci(data=nursing_home_data, alpha=alpha, group1='private', group2='government', cost_category='cost of plant operation and maintenance labor')"
   ]
  },
  {
   "cell_type": "code",
   "execution_count": 10,
   "metadata": {},
   "outputs": [
    {
     "data": {
      "text/latex": [
       "$\\displaystyle \\begin{array}{rl}\\tau_{ 1 3} - \\tau_{ 2 3} \\text{ belongs to } \\hat{\\tau}_{ 1 3} - \\hat{\\tau}_{ 2 3} \\pm t_{ 513 } ( 0.00208 ) &\\sqrt{ \\left( \\frac{1}{n_{ 1 }} + \\frac{1}{n_{ 2 }} \\right) \\frac{w_{ 3 3 }}{n - g} } \\\\ & = -0.042 \\pm 2.88 ( 0.00542 ) \\\\ & = -0.042 \\pm 0.02 \\text{, or } (-0.058, -0.026)\\end{array}$"
      ],
      "text/plain": [
       "<IPython.core.display.Math object>"
      ]
     },
     "metadata": {},
     "output_type": "display_data"
    }
   ],
   "source": [
    "ci12 = construct_ci(data=nursing_home_data, alpha=alpha, group1='private', group2='nonprofit', cost_category='cost of plant operation and maintenance labor')"
   ]
  },
  {
   "cell_type": "code",
   "execution_count": 11,
   "metadata": {},
   "outputs": [
    {
     "data": {
      "text/latex": [
       "$\\displaystyle \\begin{array}{rl}\\tau_{ 2 3} - \\tau_{ 3 3} \\text{ belongs to } \\hat{\\tau}_{ 2 3} - \\hat{\\tau}_{ 3 3} \\pm t_{ 513 } ( 0.00208 ) &\\sqrt{ \\left( \\frac{1}{n_{ 2 }} + \\frac{1}{n_{ 3 }} \\right) \\frac{w_{ 3 3 }}{n - g} } \\\\ & = -0.001 \\pm 2.88 ( 0.00668 ) \\\\ & = -0.001 \\pm 0.02 \\text{, or } (-0.020, 0.018)\\end{array}$"
      ],
      "text/plain": [
       "<IPython.core.display.Math object>"
      ]
     },
     "metadata": {},
     "output_type": "display_data"
    }
   ],
   "source": [
    "ci23 = construct_ci(data=nursing_home_data, alpha=alpha, group1='nonprofit', group2='government', cost_category='cost of plant operation and maintenance labor')"
   ]
  }
 ],
 "metadata": {
  "kernelspec": {
   "display_name": "Python 3",
   "language": "python",
   "name": "python3"
  },
  "language_info": {
   "codemirror_mode": {
    "name": "ipython",
    "version": 3
   },
   "file_extension": ".py",
   "mimetype": "text/x-python",
   "name": "python",
   "nbconvert_exporter": "python",
   "pygments_lexer": "ipython3",
   "version": "3.12.5"
  }
 },
 "nbformat": 4,
 "nbformat_minor": 2
}
