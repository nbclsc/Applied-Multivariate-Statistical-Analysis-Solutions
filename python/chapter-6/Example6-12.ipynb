{
 "cells": [
  {
   "cell_type": "markdown",
   "metadata": {},
   "source": [
    "# Example 6.12"
   ]
  },
  {
   "cell_type": "code",
   "execution_count": 1,
   "metadata": {},
   "outputs": [],
   "source": [
    "import numpy as np\n",
    "from collections import namedtuple\n",
    "from IPython.display import display, Math\n",
    "from scipy import linalg as la\n",
    "from scipy import stats"
   ]
  },
  {
   "cell_type": "code",
   "execution_count": 2,
   "metadata": {},
   "outputs": [],
   "source": [
    "# Single place to store nursing home group data.\n",
    "Data = namedtuple('Data', ['n', 'xbar', 'S'])"
   ]
  },
  {
   "cell_type": "markdown",
   "metadata": {},
   "source": [
    "- $X_{1} = $ cost of nursing labor\n",
    "- $X_{2} = $ cost of dietary labor\n",
    "- $X_{3} = $ cost of plant operation and maintenance labor\n",
    "- $X_{4} = $ cost of housekeeping and laundry labor"
   ]
  },
  {
   "cell_type": "code",
   "execution_count": 3,
   "metadata": {},
   "outputs": [],
   "source": [
    "# For each cost category (within each group), attach the index the cost value can be found.\n",
    "cost_category_index = {'cost of nursing labor': 0,\n",
    "                       'cost of dietary labor': 1,\n",
    "                       'cost of plant operation and maintenance labor': 2,\n",
    "                       'cost of housekeeping and laundry labor': 3,}\n",
    "p = len(cost_category_index)"
   ]
  },
  {
   "cell_type": "markdown",
   "metadata": {},
   "source": [
    "Group\n",
    "- $\\ell = 1$: private\n",
    "- $\\ell = 2$: nonprofit\n",
    "- $\\ell = 3$: government"
   ]
  },
  {
   "cell_type": "code",
   "execution_count": 4,
   "metadata": {},
   "outputs": [],
   "source": [
    "group_category_index = {'private': 1,\n",
    "                        'nonprofit': 2,\n",
    "                        'government':3}"
   ]
  },
  {
   "cell_type": "code",
   "execution_count": 5,
   "metadata": {},
   "outputs": [],
   "source": [
    "def create_nursing_home_data() -> Data:\n",
    "    n1, n2, n3 = 271, 138, 107\n",
    "    n = n1 + n2 + n3\n",
    "    p, g = 4, 3\n",
    "    xbar1 = np.array([2.066, 0.480, 0.082, 0.360])[:,np.newaxis]\n",
    "    xbar2 = np.array([2.167, 0.596, 0.124, 0.418])[:,np.newaxis]\n",
    "    xbar3 = np.array([2.273, 0.521, 0.125, 0.383])[:,np.newaxis]\n",
    "\n",
    "    S1 = np.array([[ 0.291, 0.000, 0.000, 0.000],\n",
    "                   [-0.001, 0.011, 0.000, 0.000],\n",
    "                   [ 0.002, 0.000, 0.001, 0.000],\n",
    "                   [ 0.010, 0.003, 0.000, 0.010]])\n",
    "    S1 = np.tril(S1) + np.tril(S1, -1).T\n",
    "\n",
    "    S2 = np.array([[0.561, 0.000, 0.000, 0.000],\n",
    "                   [0.011, 0.025, 0.000, 0.000],\n",
    "                   [0.001, 0.004, 0.005, 0.000],\n",
    "                   [0.037, 0.007, 0.002, 0.019]])\n",
    "    S2 = np.tril(S2) + np.tril(S2, -1).T\n",
    "\n",
    "    S3 = np.array([[0.261,  0.000, 0.000, 0.000],\n",
    "                   [0.030,  0.017, 0.000, 0.000],\n",
    "                   [0.003, -0.000, 0.004, 0.000],\n",
    "                   [0.018,  0.006, 0.001, 0.013],])\n",
    "    S3 = np.tril(S3) + np.tril(S3, -1).T\n",
    "\n",
    "    # Store all of our nursing home data in a dictionary.\n",
    "    nursing_home_data = {'private': Data(n=271, xbar=xbar1, S=S1),\n",
    "                        'nonprofit': Data(n=138, xbar=xbar2, S=S2),\n",
    "                        'government': Data(n=107, xbar=xbar3, S=S3)\n",
    "                        }\n",
    "    return nursing_home_data"
   ]
  },
  {
   "cell_type": "code",
   "execution_count": 6,
   "metadata": {},
   "outputs": [],
   "source": [
    "nursing_home_data = create_nursing_home_data()"
   ]
  },
  {
   "cell_type": "code",
   "execution_count": 7,
   "metadata": {},
   "outputs": [],
   "source": [
    "# The number of groups.\n",
    "g = len(nursing_home_data)\n",
    "\n",
    "# The number of measurements with each group.\n",
    "p = len(cost_category_index)\n",
    "\n",
    "# The total number of observations.\n",
    "n = sum([t.n for t in nursing_home_data.values()])\n",
    "\n",
    "# The mean vector (across all groups).\n",
    "xbar = sum([t.n*t.xbar for t in nursing_home_data.values()])/n"
   ]
  },
  {
   "cell_type": "code",
   "execution_count": 8,
   "metadata": {},
   "outputs": [],
   "source": [
    "S_pooled = sum([(data.n - 1)*data.S for data in nursing_home_data.values()])/(n-g)"
   ]
  },
  {
   "cell_type": "code",
   "execution_count": 9,
   "metadata": {},
   "outputs": [
    {
     "data": {
      "text/latex": [
       "$\\displaystyle u =\\left[ \\sum_{\\ell} \\frac{1}{(n_{\\ell} - 1)} - \\frac{1}{\\sum_{\\ell}(n_{\\ell} - 1)} \\right]\\left[ \\frac{2p^{2} + 3p - 1}{6(p+1)(g-1)} \\right] = 0.0132$"
      ],
      "text/plain": [
       "<IPython.core.display.Math object>"
      ]
     },
     "metadata": {},
     "output_type": "display_data"
    }
   ],
   "source": [
    "u = (sum([1/(t.n - 1) for t in nursing_home_data.values()])  - (1/(n-g)))*((2*p**2 + 3*p - 1)/(6*(p+1)*(g-1)))\n",
    "display(Math('u ='\n",
    "             r'\\left[ \\sum_{\\ell} \\frac{1}{(n_{\\ell} - 1)} - \\frac{1}{\\sum_{\\ell}(n_{\\ell} - 1)} \\right]'\n",
    "             r'\\left[ \\frac{2p^{2} + 3p - 1}{6(p+1)(g-1)} \\right] = '\n",
    "             f'{u:.4f}'\n",
    "             ))"
   ]
  },
  {
   "cell_type": "code",
   "execution_count": 10,
   "metadata": {},
   "outputs": [
    {
     "data": {
      "text/latex": [
       "$\\displaystyle  M = \\left[ \\sum_{\\ell} (n_{\\ell} - 1) \\right]\\ln \\left| \\textbf{S}_{\\text{pooled}} \\right| -\\sum_{\\ell} \\left[ (n_{\\ell} - 1) \\ln \\left| \\textbf{S}_{\\ell} \\right| \\right]=-15.652 - (-8273.776)=244.1$"
      ],
      "text/plain": [
       "<IPython.core.display.Math object>"
      ]
     },
     "metadata": {},
     "output_type": "display_data"
    }
   ],
   "source": [
    "# In the book, M is 289.3, and here it's 244.146. The difference has to do with np.log(la.det(S_pooled)).\n",
    "# We don't have enough precision for each group sample covariance matrix.\n",
    "M = (n-g)*np.log(la.det(S_pooled)) - sum([(data.n - 1)*np.log(la.det(data.S)) for data in nursing_home_data.values()])\n",
    "display(Math(r' M = '\n",
    "             r'\\left[ \\sum_{\\ell} (n_{\\ell} - 1) \\right]'\n",
    "             r'\\ln \\left| \\textbf{S}_{\\text{pooled}} \\right| -'\n",
    "             r'\\sum_{\\ell} \\left[ (n_{\\ell} - 1) \\ln \\left| \\textbf{S}_{\\ell} \\right| \\right]'\n",
    "             '='\n",
    "             f'{np.log(la.det(S_pooled)):.3f} - ({sum([(data.n - 1)*np.log(la.det(data.S)) for data in nursing_home_data.values()]):.3f})'\n",
    "             '='\n",
    "             f'{M:.1f}'\n",
    "             ))"
   ]
  },
  {
   "cell_type": "code",
   "execution_count": 11,
   "metadata": {},
   "outputs": [
    {
     "data": {
      "text/latex": [
       "$\\displaystyle C =(1 - u)M =(1 - 0.0132)244.1 =240.9$"
      ],
      "text/plain": [
       "<IPython.core.display.Math object>"
      ]
     },
     "metadata": {},
     "output_type": "display_data"
    }
   ],
   "source": [
    "C = (1-u)*M\n",
    "display(Math('C ='\n",
    "             '(1 - u)M ='\n",
    "             f'(1 - {u:.4f}){M:.1f} ='\n",
    "             f'{C:.1f}'\n",
    "             ))"
   ]
  },
  {
   "cell_type": "code",
   "execution_count": 12,
   "metadata": {},
   "outputs": [
    {
     "data": {
      "text/latex": [
       "$\\displaystyle \\nu =\\frac{1}{2}p(p+1)(g-1) =20.0$"
      ],
      "text/plain": [
       "<IPython.core.display.Math object>"
      ]
     },
     "metadata": {},
     "output_type": "display_data"
    }
   ],
   "source": [
    "nu = (1/2)*p*(p+1)*(g-1)\n",
    "display(Math(r'\\nu ='\n",
    "             r'\\frac{1}{2}p(p+1)(g-1) ='\n",
    "             f'{nu}'\n",
    "             ))"
   ]
  },
  {
   "cell_type": "code",
   "execution_count": 13,
   "metadata": {},
   "outputs": [
    {
     "data": {
      "text/latex": [
       "$\\displaystyle X_{\\text{crit}}^{2} =\\chi_{ \\nu }^{2}=\\chi_{ p(p+1)(g-1)/2 }^{2}=\\chi_{ 4(4+1)(3-1)/2}^{2} \\left( 0.001 \\right)=\\chi_{ 20 }^{2} \\left( 0.001 \\right)=45.315$"
      ],
      "text/plain": [
       "<IPython.core.display.Math object>"
      ]
     },
     "metadata": {},
     "output_type": "display_data"
    }
   ],
   "source": [
    "alpha = 0.001\n",
    "chi2_crit = stats.chi2.ppf(1-alpha, nu)\n",
    "display(Math(r'X_{\\text{crit}}^{2} ='\n",
    "             r'\\chi_{ \\nu }^{2}'\n",
    "             '='\n",
    "             r'\\chi_{ p(p+1)(g-1)/2 }^{2}'\n",
    "             '='\n",
    "             fr'\\chi_{{ {p}({p}+1)({g}-1)/2}}^{{2}} \\left( {alpha} \\right)'\n",
    "             '='\n",
    "             fr'\\chi_{{ {nu:.0f} }}^{{2}} \\left( {alpha} \\right)'\n",
    "             '='\n",
    "             f'{chi2_crit:.3f}'\n",
    "             ))"
   ]
  },
  {
   "cell_type": "code",
   "execution_count": 14,
   "metadata": {},
   "outputs": [
    {
     "data": {
      "text/latex": [
       "$\\displaystyle \\text{We have that } C = 240.911 > X_{\\text{crit}}^{2}=\\chi^{2}_{20} \\left( 0.001 \\right) = 45.315\\text{{, so we would reject the null hypothesis that }} \\bm{\\Sigma}_{1} = \\bm{\\Sigma}_{2} = \\bm{\\Sigma}_{3} = \\bm{\\Sigma}$"
      ],
      "text/plain": [
       "<IPython.core.display.Math object>"
      ]
     },
     "metadata": {},
     "output_type": "display_data"
    }
   ],
   "source": [
    "if C > chi2_crit:\n",
    "    display(Math(fr'\\text{{We have that }} C = {C:.3f} > '\n",
    "                 r'X_{\\text{crit}}^{2}'\n",
    "                 '='\n",
    "                 fr'\\chi^{{2}}_{{{nu:.0f}}} \\left( {alpha} \\right) = {chi2_crit:.3f}'\n",
    "                 r'\\text{{, so we would reject the null hypothesis that }} '\n",
    "                 r'\\bm{\\Sigma}_{1} = \\bm{\\Sigma}_{2} = \\bm{\\Sigma}_{3} = \\bm{\\Sigma}'\n",
    "                 ))\n",
    "else:\n",
    "    display(Math(fr'\\text{{We have that }} C = {C:.3f} \\leq '\n",
    "                 r'X_{\\text{crit}}^{2}'\n",
    "                 '='\n",
    "                 fr'\\chi^{{2}}_{{{nu}}} \\left( {alpha} \\right) = {chi2_crit:.3f}'\n",
    "                 r'\\text{{, so we would fail to reject the null hypothesis that }} '\n",
    "                 r'\\bm{\\Sigma}_{1} = \\bm{\\Sigma}_{2} = \\bm{\\Sigma}_{3} = \\bm{\\Sigma}'\n",
    "                 ))"
   ]
  }
 ],
 "metadata": {
  "kernelspec": {
   "display_name": "Python 3",
   "language": "python",
   "name": "python3"
  },
  "language_info": {
   "codemirror_mode": {
    "name": "ipython",
    "version": 3
   },
   "file_extension": ".py",
   "mimetype": "text/x-python",
   "name": "python",
   "nbconvert_exporter": "python",
   "pygments_lexer": "ipython3",
   "version": "3.12.5"
  }
 },
 "nbformat": 4,
 "nbformat_minor": 2
}
