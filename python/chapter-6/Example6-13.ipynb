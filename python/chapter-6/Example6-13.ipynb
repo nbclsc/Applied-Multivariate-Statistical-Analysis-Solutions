{
 "cells": [
  {
   "cell_type": "markdown",
   "metadata": {},
   "source": [
    "# Example 6.13"
   ]
  },
  {
   "cell_type": "code",
   "execution_count": 1,
   "metadata": {},
   "outputs": [],
   "source": [
    "import pathlib\n",
    "import subprocess\n",
    "\n",
    "import numpy as np\n",
    "import pandas as pd\n",
    "from collections import namedtuple\n",
    "from IPython.display import display, Math\n",
    "from scipy import linalg as la\n",
    "from scipy import stats\n",
    "\n",
    "import statsmodels.api as sm\n",
    "from statsmodels.formula.api import ols\n",
    "from statsmodels.multivariate.manova import MANOVA"
   ]
  },
  {
   "cell_type": "code",
   "execution_count": 2,
   "metadata": {},
   "outputs": [],
   "source": [
    "def load_data() -> pd.DataFrame:\n",
    "    fpth = pathlib.Path(r'..\\..\\data\\Table6.4.xlsx')\n",
    "    df = pd.read_excel(fpth)\n",
    "    df.rename(columns={'rate of extrusion': 'factor1',\n",
    "                       'amount of additive': 'factor2',\n",
    "                       'tear resistance': 'x1',\n",
    "                       'gloss': 'x2',\n",
    "                       'opacity': 'x3'}, inplace=True)\n",
    "    \n",
    "    df['factor1'] = df['factor1'].astype('category')\n",
    "    df['factor2'] = df['factor2'].astype('category')\n",
    "\n",
    "    return df"
   ]
  },
  {
   "cell_type": "code",
   "execution_count": 3,
   "metadata": {},
   "outputs": [],
   "source": [
    "film_df = load_data()"
   ]
  },
  {
   "cell_type": "code",
   "execution_count": 4,
   "metadata": {},
   "outputs": [
    {
     "name": "stdout",
     "output_type": "stream",
     "text": [
      "                 Multivariate linear model\n",
      "============================================================\n",
      "                                                            \n",
      "------------------------------------------------------------\n",
      "       C(factor1)       Value  Num DF  Den DF F Value Pr > F\n",
      "------------------------------------------------------------\n",
      "          Wilks' lambda 0.4627 3.0000 14.0000  5.4184 0.0110\n",
      "         Pillai's trace 0.5373 3.0000 14.0000  5.4184 0.0110\n",
      " Hotelling-Lawley trace 1.1611 3.0000 14.0000  5.4184 0.0110\n",
      "    Roy's greatest root 1.1611 3.0000 14.0000  5.4184 0.0110\n",
      "------------------------------------------------------------\n",
      "                                                            \n",
      "------------------------------------------------------------\n",
      "       C(factor2)       Value  Num DF  Den DF F Value Pr > F\n",
      "------------------------------------------------------------\n",
      "          Wilks' lambda 0.8134 3.0000 14.0000  1.0707 0.3931\n",
      "         Pillai's trace 0.1866 3.0000 14.0000  1.0707 0.3931\n",
      " Hotelling-Lawley trace 0.2294 3.0000 14.0000  1.0707 0.3931\n",
      "    Roy's greatest root 0.2294 3.0000 14.0000  1.0707 0.3931\n",
      "------------------------------------------------------------\n",
      "                                                            \n",
      "------------------------------------------------------------\n",
      " C(factor1):C(factor2)  Value  Num DF  Den DF F Value Pr > F\n",
      "------------------------------------------------------------\n",
      "          Wilks' lambda 0.7771 3.0000 14.0000  1.3385 0.3018\n",
      "         Pillai's trace 0.2229 3.0000 14.0000  1.3385 0.3018\n",
      " Hotelling-Lawley trace 0.2868 3.0000 14.0000  1.3385 0.3018\n",
      "    Roy's greatest root 0.2868 3.0000 14.0000  1.3385 0.3018\n",
      "============================================================\n",
      "\n"
     ]
    }
   ],
   "source": [
    "# Using MANOVA from statsmodels, we get a Wilk's lambda value different than SAS or R.\n",
    "manova = MANOVA.from_formula('x1 + x2 + x3 ~ C(factor1) * C(factor2)', data=film_df)\n",
    "print(manova.mv_test(skip_intercept_test=True))"
   ]
  },
  {
   "cell_type": "code",
   "execution_count": 35,
   "metadata": {},
   "outputs": [],
   "source": [
    "# The SS_sq terms in this output are the diagonal terms from from the SPP matrices on page 319.\n",
    "# print(\"\\nANOVA tables for each variable:\")\n",
    "# for dependent_var in ['x1', 'x2', 'x3']:\n",
    "#     model = ols(f'{dependent_var} ~ factor1 * factor2', data=film_df).fit()\n",
    "#     anova_table = sm.stats.anova_lm(model, typ=2)\n",
    "#     print(f\"\\nANOVA table for {dependent_var}:\\n\", anova_table)"
   ]
  },
  {
   "cell_type": "markdown",
   "metadata": {},
   "source": [
    "## Compute MANOVA using formulas on page 316"
   ]
  },
  {
   "cell_type": "code",
   "execution_count": 6,
   "metadata": {},
   "outputs": [],
   "source": [
    "measure_cols = ['x1','x2','x3']\n",
    "p = film_df.columns.size - 2\n",
    "n = set(film_df.groupby(['factor1','factor2'],observed=False).size()).pop()"
   ]
  },
  {
   "cell_type": "code",
   "execution_count": 7,
   "metadata": {},
   "outputs": [],
   "source": [
    "def compute_factors(df: pd.DataFrame, a_factor: str, measure_cols: list[str], n: int, p: int) -> np.ndarray:\n",
    "    '''Compute the sum of squares and cross-products for individual factors.'''\n",
    "    # Global mean.\n",
    "    xbar = np.mean(film_df[measure_cols],axis=0).to_numpy()[:,np.newaxis]\n",
    "    # Sub-group mean. Mean computed for each variable (measure) at each level of the factor.\n",
    "    mean_vectors = df.groupby(a_factor,observed=False).mean([measure_cols])\n",
    "    # Sub-group size.\n",
    "    w = film_df[a_factor].unique().size\n",
    "\n",
    "    result = np.zeros((p, p))\n",
    "    for _, xbar_row in mean_vectors.iterrows():\n",
    "        d = xbar_row.to_numpy()[:,np.newaxis] - xbar\n",
    "        result += w*n*(d @ d.T)\n",
    "    return result"
   ]
  },
  {
   "cell_type": "code",
   "execution_count": 8,
   "metadata": {},
   "outputs": [],
   "source": [
    "def compute_interaction(df: pd.DataFrame, int_factors: list[str], measure_cols: list[str], n: int, p: str) -> np.ndarray:\n",
    "    '''Compute the sum of squares and cross-products for the interaction term.'''\n",
    "    # Global mean.\n",
    "    xbar = np.mean(df[measure_cols],axis=0).to_numpy()[:,np.newaxis]\n",
    "    # Sub-group mean. Mean computed for each variable (measure) at each level of the factor.\n",
    "    mean_vectors = np.stack([df.groupby(a_factor,observed=False).mean([measure_cols]) for a_factor in int_factors])\n",
    "    # Interaction mean.\n",
    "    int_mean_vectors = df.groupby(int_factors,observed=False).mean([measure_cols])\n",
    "\n",
    "    result = np.zeros((p, p))\n",
    "    for idx, int_xbar_row in int_mean_vectors.iterrows():\n",
    "        xbar_lk = int_xbar_row.to_numpy()[:,np.newaxis]\n",
    "        xbar_l = mean_vectors[0,idx[0],:][:,np.newaxis]\n",
    "        xbar_k = mean_vectors[1,idx[1],:][:,np.newaxis]\n",
    "        d = xbar_lk - xbar_l - xbar_k + xbar\n",
    "        result += n*(d @ d.T)\n",
    "    return result"
   ]
  },
  {
   "cell_type": "code",
   "execution_count": 9,
   "metadata": {},
   "outputs": [],
   "source": [
    "def compute_residual_error(df: pd.DataFrame, int_factors: list[str], measure_cols: list[str], p: str) -> np.ndarray:\n",
    "    '''Compute the residual sum of squares and cross products.'''\n",
    "    # Interaction mean.\n",
    "    int_mean_vectors = df.groupby(int_factors,observed=False).mean([measure_cols])\n",
    "\n",
    "    # Merge the interaction means onto the data.\n",
    "    col_renames =  {c: '_'.join([c,'mean']) for c in int_mean_vectors}\n",
    "    merged_df = df.merge(int_mean_vectors.rename(columns=col_renames).reset_index(),validate='m:1')\n",
    "\n",
    "    # Create the difference values (obs - int_mean).\n",
    "    difference_cols = list()\n",
    "    for c in col_renames:\n",
    "        diff_col = '_'.join([c,'d'])\n",
    "        merged_df[diff_col] = merged_df[c] - merged_df[c + '_mean']\n",
    "        difference_cols.append(diff_col)\n",
    "\n",
    "    # Compute the outer products for the SS_{res}.\n",
    "    result = np.zeros((p, p))\n",
    "    for i, row in merged_df[difference_cols].iterrows():\n",
    "        d = row.to_numpy()[:,np.newaxis]\n",
    "        result += d @ d.T\n",
    "\n",
    "    return result"
   ]
  },
  {
   "cell_type": "code",
   "execution_count": 10,
   "metadata": {},
   "outputs": [],
   "source": [
    "def compute_total_corrected_ss(df: pd.DataFrame, measure_cols: list[str], p: str) -> np.ndarray:\n",
    "    '''Compute the sum of squares and cross product total.'''\n",
    "    df = df.copy()\n",
    "\n",
    "    # Global mean.\n",
    "    xbar = np.mean(df[measure_cols],axis=0)\n",
    "    for c in np.mean(film_df[measure_cols],axis=0).index:\n",
    "        df['_'.join([c,'mean'])] = np.mean(df[measure_cols],axis=0)[c]\n",
    "\n",
    "    # Create the difference values (obs - global_mean).\n",
    "    difference_cols = list()\n",
    "    for c in measure_cols:\n",
    "        diff_col = '_'.join([c,'d'])\n",
    "        df[diff_col] = df[c] - df['_'.join([c,'mean'])]\n",
    "        difference_cols.append(diff_col)\n",
    "\n",
    "    # Compute the outer products for the SS_{cor}.\n",
    "    result = np.zeros((p, p))\n",
    "    for i, row in df[difference_cols].iterrows():\n",
    "        d = row.to_numpy()[:,np.newaxis]\n",
    "        result += d @ d.T\n",
    "\n",
    "    return result\n",
    "    "
   ]
  },
  {
   "cell_type": "code",
   "execution_count": 11,
   "metadata": {},
   "outputs": [],
   "source": [
    "SSP_fac1 = compute_factors(film_df, 'factor1', measure_cols, n, p)\n",
    "SSP_fac2 = compute_factors(film_df, 'factor2', measure_cols, n, p)\n",
    "SSP_int = compute_interaction(film_df, ['factor1','factor2'], measure_cols, n, p)\n",
    "SSP_res = compute_residual_error(film_df, ['factor1','factor2'], measure_cols, p)\n",
    "SSP_cor = compute_total_corrected_ss(film_df, measure_cols, p)"
   ]
  },
  {
   "cell_type": "code",
   "execution_count": 12,
   "metadata": {},
   "outputs": [],
   "source": [
    "g = film_df.factor1.unique().size\n",
    "b = film_df.factor2.unique().size"
   ]
  },
  {
   "cell_type": "code",
   "execution_count": 13,
   "metadata": {},
   "outputs": [
    {
     "data": {
      "text/latex": [
       "$\\displaystyle \\begin{array}{lcc}\\hline \\\\\\text{Source of variation} & \\text{SSP} & \\text{Degrees of freedom} \\\\ &  &  \\\\\\hline \\\\\\text{Factor 1:} & \\left[ \\begin{array}{rrr} 1.7405 & -1.5045 & 0.8555 \\\\                     & 1.3005 & -0.7395 \\\\                     &                     & 0.4205 \\end{array} \\right] &g - 1 = 2 - 1 = 1 \\\\ \\\\\\text{Factor 2:} & \\left[ \\begin{array}{rrr} 0.7605 & 0.6825 & 1.9305 \\\\                     & 0.6125 & 1.7325 \\\\                     &                     & 4.9005 \\end{array} \\right] &b - 1 = 2 - 1 = 1 \\\\ \\\\\\text{Interaction} & \\left[ \\begin{array}{rrr} 0.0005 & 0.0165 & 0.0445 \\\\                    & 0.5445 & 1.4685 \\\\                    &                    & 3.9605 \\end{array} \\right] &(g - 1)(b - 1) = (2 - 1)(2 - 1) = 1 \\\\ \\\\\\text{Residual} & \\left[ \\begin{array}{rrr} 1.7640 & 0.0200 & -3.0700 \\\\                    & 2.6280 & -0.5520 \\\\                    &                    & 64.9240 \\end{array} \\right] &gb(n - 1) = 2(2)(5 - 1) = 16 \\\\ \\\\\\hline \\\\\\text{Total (corrected)} & \\left[ \\begin{array}{rr} 4.2655 & -0.7855 & -0.2395 \\\\                    & 5.0855 & 1.9095 \\\\                    &                    & 74.2055 \\end{array} \\right] &gbn - 1 = 2(2)(5) - 1 = 19\\end{array}$"
      ],
      "text/plain": [
       "<IPython.core.display.Math object>"
      ]
     },
     "metadata": {},
     "output_type": "display_data"
    }
   ],
   "source": [
    "display(Math(r'\\begin{array}{lcc}'\n",
    "             r'\\hline \\\\'\n",
    "             r'\\text{Source of variation} & \\text{SSP} & \\text{Degrees of freedom} \\\\'\n",
    "             r' &  &  \\\\'\n",
    "             r'\\hline \\\\'\n",
    "             r'\\text{Factor 1:} &'\n",
    "             r' \\left[ \\begin{array}{rrr}'\n",
    "             fr' {SSP_fac1[0,0]:.4f} & {SSP_fac1[0,1]:.4f} & {SSP_fac1[0,2]:.4f} \\\\'\n",
    "             fr'                     & {SSP_fac1[1,1]:.4f} & {SSP_fac1[1,2]:.4f} \\\\'\n",
    "             fr'                     &                     & {SSP_fac1[2,2]:.4f}'\n",
    "             r' \\end{array} \\right] &'\n",
    "             fr'g - 1 = {g} - 1 = {g - 1} \\\\ \\\\'\n",
    "             r'\\text{Factor 2:} &'\n",
    "             r' \\left[ \\begin{array}{rrr}'\n",
    "             fr' {SSP_fac2[0,0]:.4f} & {SSP_fac2[0,1]:.4f} & {SSP_fac2[0,2]:.4f} \\\\'\n",
    "             fr'                     & {SSP_fac2[1,1]:.4f} & {SSP_fac2[1,2]:.4f} \\\\'\n",
    "             fr'                     &                     & {SSP_fac2[2,2]:.4f}'\n",
    "             r' \\end{array} \\right] &'\n",
    "             fr'b - 1 = {b} - 1 = {b - 1} \\\\ \\\\'\n",
    "             r'\\text{Interaction} &'\n",
    "             r' \\left[ \\begin{array}{rrr}'\n",
    "             fr' {SSP_int[0,0]:.4f} & {SSP_int[0,1]:.4f} & {SSP_int[0,2]:.4f} \\\\'\n",
    "             fr'                    & {SSP_int[1,1]:.4f} & {SSP_int[1,2]:.4f} \\\\'\n",
    "             fr'                    &                    & {SSP_int[2,2]:.4f}'\n",
    "             r' \\end{array} \\right] &'\n",
    "             fr'(g - 1)(b - 1) = ({2} - 1)({b} - 1) = {(g-1)*(b-1)} \\\\ \\\\'\n",
    "             r'\\text{Residual} &'\n",
    "             r' \\left[ \\begin{array}{rrr}'\n",
    "             fr' {SSP_res[0,0]:.4f} & {SSP_res[0,1]:.4f} & {SSP_res[0,2]:.4f} \\\\'\n",
    "             fr'                    & {SSP_res[1,1]:.4f} & {SSP_res[1,2]:.4f} \\\\'\n",
    "             fr'                    &                    & {SSP_res[2,2]:.4f}'\n",
    "             r' \\end{array} \\right] &'\n",
    "             fr'gb(n - 1) = {g}({b})({n} - {1}) = {g*b*(n - 1)} \\\\ \\\\'\n",
    "             r'\\hline \\\\'\n",
    "             r'\\text{Total (corrected)} &'\n",
    "             r' \\left[ \\begin{array}{rr}'\n",
    "             fr' {SSP_cor[0,0]:.4f} & {SSP_cor[0,1]:.4f} & {SSP_cor[0,2]:.4f} \\\\'\n",
    "             fr'                    & {SSP_cor[1,1]:.4f} & {SSP_cor[1,2]:.4f} \\\\'\n",
    "             fr'                    &                    & {SSP_cor[2,2]:.4f}'\n",
    "             r' \\end{array} \\right] &'\n",
    "             f'gbn - 1 = {g}({b})({n}) - 1 = {g*b*n - 1}'\n",
    "             r'\\end{array}'\n",
    "             ))"
   ]
  },
  {
   "cell_type": "markdown",
   "metadata": {},
   "source": [
    "## Test for interaction"
   ]
  },
  {
   "cell_type": "code",
   "execution_count": 15,
   "metadata": {},
   "outputs": [
    {
     "data": {
      "text/latex": [
       "$\\displaystyle \\Lambda^{\\star}=\\frac{\\left| \\text{SSP}_{\\text{res}} \\right|}{\\left| \\text{SSP}_{\\text{int}} + \\text{SSP}_{\\text{res}} \\right|}=\\frac{ 275.7098 }{ 354.7906 }=0.7771$"
      ],
      "text/plain": [
       "<IPython.core.display.Math object>"
      ]
     },
     "metadata": {},
     "output_type": "display_data"
    }
   ],
   "source": [
    "Lmbda_star_int = la.det(SSP_res) / la.det(SSP_int + SSP_res)\n",
    "display(Math(r'\\Lambda^{\\star}'\n",
    "             '='\n",
    "             r'\\frac{\\left| \\text{SSP}_{\\text{res}} \\right|}{\\left| \\text{SSP}_{\\text{int}} + \\text{SSP}_{\\text{res}} \\right|}'\n",
    "             '='\n",
    "             fr'\\frac{{ {la.det(SSP_res):.4f} }}{{ {la.det(SSP_int + SSP_res):.4f} }}'\n",
    "             '='\n",
    "             f'{la.det(SSP_res) / la.det(SSP_int + SSP_res):.4f}'\n",
    "             ))"
   ]
  },
  {
   "cell_type": "code",
   "execution_count": 16,
   "metadata": {},
   "outputs": [
    {
     "data": {
      "text/latex": [
       "$\\displaystyle F=\\left( \\frac{1 - \\Lambda^{\\star}}{\\Lambda^{\\star}} \\right)\\frac{(gb(n-1) - p + 1)/2}{(|(g-1)(b-1) - p| + 1)/2}=\\left( \\frac{ 1 - 0.7771 }{ 0.7771 } \\right)\\frac{ (2(2)(4) - 3 + 1) /2 }{ (|1(1) - 3| + 1)/2 }=1.34$"
      ],
      "text/plain": [
       "<IPython.core.display.Math object>"
      ]
     },
     "metadata": {},
     "output_type": "display_data"
    }
   ],
   "source": [
    "F_int = ((1-Lmbda_star_int)/Lmbda_star_int)*((g*b*(n-1)-p+1)/2) / ((np.abs((g-1)*(b-1) - p) + 1)/2)\n",
    "display(Math('F'\n",
    "             '='\n",
    "             r'\\left( \\frac{1 - \\Lambda^{\\star}}{\\Lambda^{\\star}} \\right)'\n",
    "             r'\\frac{(gb(n-1) - p + 1)/2}{(|(g-1)(b-1) - p| + 1)/2}'\n",
    "             '='\n",
    "             fr'\\left( \\frac{{ 1 - {Lmbda_star_int:.4f} }}{{ {Lmbda_star_int:.4f} }} \\right)'\n",
    "             fr'\\frac{{ ({g}({b})({n-1}) - {p} + 1) /2 }}{{ (|{g-1}({b-1}) - {p}| + 1)/2 }}'\n",
    "             '='\n",
    "             f'{F_int:.2f}'\n",
    "             ))"
   ]
  },
  {
   "cell_type": "code",
   "execution_count": 17,
   "metadata": {},
   "outputs": [
    {
     "data": {
      "text/latex": [
       "$\\displaystyle \\nu_{1}=\\left| (g-1)(b-1) - p \\right| + 1=\\left| 1(1) - 3 \\right| + 1=3$"
      ],
      "text/plain": [
       "<IPython.core.display.Math object>"
      ]
     },
     "metadata": {},
     "output_type": "display_data"
    }
   ],
   "source": [
    "v1_int = np.abs((g-1)*(b-1) - p) + 1\n",
    "display(Math(r'\\nu_{1}'\n",
    "             '='\n",
    "             r'\\left| (g-1)(b-1) - p \\right| + 1'\n",
    "             '='\n",
    "             fr'\\left| {g-1}({b-1}) - {p} \\right| + 1'\n",
    "             '='\n",
    "             f'{v1_int}'\n",
    "             ))"
   ]
  },
  {
   "cell_type": "code",
   "execution_count": 18,
   "metadata": {},
   "outputs": [
    {
     "data": {
      "text/latex": [
       "$\\displaystyle \\nu_{2}=gb(n - 1) - p + 1=2(2)(4) - 3 + 1=14$"
      ],
      "text/plain": [
       "<IPython.core.display.Math object>"
      ]
     },
     "metadata": {},
     "output_type": "display_data"
    }
   ],
   "source": [
    "v2_int = g*b*(n-1) - p + 1\n",
    "display(Math(r'\\nu_{2}'\n",
    "             '='\n",
    "             'gb(n - 1) - p + 1'\n",
    "             '='\n",
    "             fr'{g}({b})({n-1}) - {p} + 1'\n",
    "             '='\n",
    "             f'{v2_int}'\n",
    "             ))"
   ]
  },
  {
   "cell_type": "code",
   "execution_count": 19,
   "metadata": {},
   "outputs": [
    {
     "data": {
      "text/latex": [
       "$\\displaystyle F_{\\nu_{1}, \\nu_{2}}(\\alpha)=F_{ 3, 14 }(0.05)=3.34$"
      ],
      "text/plain": [
       "<IPython.core.display.Math object>"
      ]
     },
     "metadata": {},
     "output_type": "display_data"
    }
   ],
   "source": [
    "alpha = 0.05\n",
    "f_crit_int = stats.f.ppf(1-alpha,v1_int,v2_int)\n",
    "display(Math(r'F_{\\nu_{1}, \\nu_{2}}(\\alpha)'\n",
    "             '='\n",
    "             fr'F_{{ {v1_int}, {v2_int} }}({alpha})'\n",
    "             '='\n",
    "             f'{f_crit_int:.2f}'\n",
    "             ))"
   ]
  },
  {
   "cell_type": "code",
   "execution_count": 20,
   "metadata": {},
   "outputs": [
    {
     "data": {
      "text/latex": [
       "$\\displaystyle \\text{We have that } F = 1.34 < F_{\\text{crit}} = F_{ 3, 14 } \\left( 0.05 \\right) = 3.34 \\text{, so we would fail to reject the null hypothesis that } \\bm{\\gamma}_{11} = \\bm{\\gamma}_{12} = \\bm{\\gamma}_{21} = \\bm{\\gamma}_{22} = \\textbf{0}$"
      ],
      "text/plain": [
       "<IPython.core.display.Math object>"
      ]
     },
     "metadata": {},
     "output_type": "display_data"
    }
   ],
   "source": [
    "if F_int > f_crit_int:\n",
    "    display(Math(fr'\\text{{We have that }} F = {F_int:.2f} > F_{{\\text{{crit}}}} = F_{{ {v1_int}, {v2_int} }} \\left( {alpha} \\right) = '\n",
    "                 fr'{f_crit_int:.2f} \\text{{, so we would reject the null hypothesis that }} '\n",
    "                 r'\\bm{\\gamma}_{11} = \\bm{\\gamma}_{12} = \\bm{\\gamma}_{21} = \\bm{\\gamma}_{22} = \\textbf{0}'))\n",
    "else:\n",
    "    display(Math(fr'\\text{{We have that }} F = {F_int:.2f} < F_{{\\text{{crit}}}} = F_{{ {v1_int}, {v2_int} }} \\left( {alpha} \\right) = '\n",
    "                fr'{f_crit_int:.2f} \\text{{, so we would fail to reject the null hypothesis that }} '\n",
    "                r'\\bm{\\gamma}_{11} = \\bm{\\gamma}_{12} = \\bm{\\gamma}_{21} = \\bm{\\gamma}_{22} = \\textbf{0}'))"
   ]
  },
  {
   "cell_type": "markdown",
   "metadata": {},
   "source": [
    "## Test for factor 1 and factor 2 effects"
   ]
  },
  {
   "cell_type": "code",
   "execution_count": 21,
   "metadata": {},
   "outputs": [
    {
     "data": {
      "text/latex": [
       "$\\displaystyle \\Lambda_{1}^{\\star}=\\frac{\\left| \\text{SSP}_{\\text{res}} \\right|}{\\left| \\text{SSP}_{\\text{fac1}} + \\text{SSP}_{\\text{res}} \\right|}=\\frac{ 275.7098 }{ 722.0212 }=0.3819$"
      ],
      "text/plain": [
       "<IPython.core.display.Math object>"
      ]
     },
     "metadata": {},
     "output_type": "display_data"
    }
   ],
   "source": [
    "Lmbda_star_fac1 = la.det(SSP_res) / la.det(SSP_fac1 + SSP_res)\n",
    "display(Math(r'\\Lambda_{1}^{\\star}'\n",
    "             '='\n",
    "             r'\\frac{\\left| \\text{SSP}_{\\text{res}} \\right|}{\\left| \\text{SSP}_{\\text{fac1}} + \\text{SSP}_{\\text{res}} \\right|}'\n",
    "             '='\n",
    "             fr'\\frac{{ {la.det(SSP_res):.4f} }}{{ {la.det(SSP_fac1 + SSP_res):.4f} }}'\n",
    "             '='\n",
    "             f'{Lmbda_star_fac1:.4f}'\n",
    "             ))"
   ]
  },
  {
   "cell_type": "code",
   "execution_count": 22,
   "metadata": {},
   "outputs": [
    {
     "data": {
      "text/latex": [
       "$\\displaystyle F_{1}=\\left( \\frac{1 - \\Lambda_{1}^{\\star}}{\\Lambda_{1}^{\\star}} \\right)\\frac{(gb(n-1) - p + 1)/2}{(|(g-1) - p| + 1)/2}=\\left( \\frac{ 1 - 0.3819 }{ 0.3819 } \\right)\\frac{ (2(2)(4) - 3 + 1) /2 }{ (|1 - 3| + 1)/2 }=7.55$"
      ],
      "text/plain": [
       "<IPython.core.display.Math object>"
      ]
     },
     "metadata": {},
     "output_type": "display_data"
    }
   ],
   "source": [
    "F_fac1 = ((1-Lmbda_star_fac1)/Lmbda_star_fac1)*((g*b*(n-1)-p+1)/2) / ((np.abs((g-1) - p) + 1)/2)\n",
    "display(Math('F_{1}'\n",
    "             '='\n",
    "             r'\\left( \\frac{1 - \\Lambda_{1}^{\\star}}{\\Lambda_{1}^{\\star}} \\right)'\n",
    "             r'\\frac{(gb(n-1) - p + 1)/2}{(|(g-1) - p| + 1)/2}'\n",
    "             '='\n",
    "             fr'\\left( \\frac{{ 1 - {Lmbda_star_fac1:.4f} }}{{ {Lmbda_star_fac1:.4f} }} \\right)'\n",
    "             fr'\\frac{{ ({g}({b})({n-1}) - {p} + 1) /2 }}{{ (|{g-1} - {p}| + 1)/2 }}'\n",
    "             '='\n",
    "             f'{F_fac1:.2f}'\n",
    "             ))"
   ]
  },
  {
   "cell_type": "code",
   "execution_count": 23,
   "metadata": {},
   "outputs": [
    {
     "data": {
      "text/latex": [
       "$\\displaystyle \\nu_{1}=|(g-1) - p| + 1=|1 - 3| + 1=3$"
      ],
      "text/plain": [
       "<IPython.core.display.Math object>"
      ]
     },
     "metadata": {},
     "output_type": "display_data"
    }
   ],
   "source": [
    "v1_fac1 = np.abs((g-1) - p) + 1\n",
    "display(Math(r'\\nu_{1}'\n",
    "             '='\n",
    "             '|(g-1) - p| + 1'\n",
    "             '='\n",
    "             f'|{g-1} - {p}| + 1'\n",
    "             '='\n",
    "             f'{v1_fac1}'\n",
    "             ))"
   ]
  },
  {
   "cell_type": "code",
   "execution_count": 24,
   "metadata": {},
   "outputs": [
    {
     "data": {
      "text/latex": [
       "$\\displaystyle \\nu_{2}=gb(n-1) - p + 1=16 - 3 + 1=14$"
      ],
      "text/plain": [
       "<IPython.core.display.Math object>"
      ]
     },
     "metadata": {},
     "output_type": "display_data"
    }
   ],
   "source": [
    "v2_fac1 = g*b*(n-1)-p+1\n",
    "display(Math(r'\\nu_{2}'\n",
    "             '='\n",
    "             'gb(n-1) - p + 1'\n",
    "             '='\n",
    "             f'{g*b*(n-1)} - {p} + 1'\n",
    "             '='\n",
    "             f'{v2_fac1}'\n",
    "             ))"
   ]
  },
  {
   "cell_type": "code",
   "execution_count": 25,
   "metadata": {},
   "outputs": [
    {
     "data": {
      "text/latex": [
       "$\\displaystyle F_{\\nu_{1}, \\nu_{2}}(\\alpha)=F_{ 3, 14 }(0.05)=3.34$"
      ],
      "text/plain": [
       "<IPython.core.display.Math object>"
      ]
     },
     "metadata": {},
     "output_type": "display_data"
    }
   ],
   "source": [
    "f_crit_fac1 = stats.f.ppf(1-alpha,v1_fac1,v2_fac1)\n",
    "display(Math(r'F_{\\nu_{1}, \\nu_{2}}(\\alpha)'\n",
    "             '='\n",
    "             fr'F_{{ {v1_fac1}, {v2_fac1} }}({alpha})'\n",
    "             '='\n",
    "             f'{f_crit_fac1:.2f}'\n",
    "             ))"
   ]
  },
  {
   "cell_type": "code",
   "execution_count": 26,
   "metadata": {},
   "outputs": [
    {
     "data": {
      "text/latex": [
       "$\\displaystyle \\text{We have that } F_{1} = 7.55 > F_{\\text{crit}} = F_{ 3, 14 } \\left( 0.05 \\right) = 3.34 \\text{, so we would reject the null hypothesis that } \\bm{\\tau}_{1} = \\bm{\\tau}_{2} = \\textbf{0}$"
      ],
      "text/plain": [
       "<IPython.core.display.Math object>"
      ]
     },
     "metadata": {},
     "output_type": "display_data"
    }
   ],
   "source": [
    "if F_fac1 > f_crit_fac1:\n",
    "    display(Math(fr'\\text{{We have that }} F_{{1}} = {F_fac1:.2f} > F_{{\\text{{crit}}}} = F_{{ {v1_fac1}, {v2_fac1} }} \\left( {alpha} \\right) = '\n",
    "                 fr'{f_crit_fac1:.2f} \\text{{, so we would reject the null hypothesis that }} '\n",
    "                 r'\\bm{\\tau}_{1} = \\bm{\\tau}_{2} = \\textbf{0}'))\n",
    "else:\n",
    "    display(Math(fr'\\text{{We have that }} F_{{1}} = {F_fac1:.2f} < F_{{\\text{{crit}}}} = F_{{ {v1_fac1}, {v2_fac1} }} \\left( {alpha} \\right) = '\n",
    "                fr'{f_crit_fac1:.2f} \\text{{, so we would fail to reject the null hypothesis that }} '\n",
    "                r'\\bm{\\tau}_{1} = \\bm{\\tau}_{2} = \\textbf{0}'))"
   ]
  },
  {
   "cell_type": "code",
   "execution_count": 27,
   "metadata": {},
   "outputs": [
    {
     "data": {
      "text/latex": [
       "$\\displaystyle \\Lambda_{2}^{\\star}=\\frac{\\left| \\text{SSP}_{\\text{res}} \\right|}{\\left| \\text{SSP}_{\\text{fac2}} + \\text{SSP}_{\\text{res}} \\right|}=\\frac{ 275.7098 }{ 527.1347 }=0.5230$"
      ],
      "text/plain": [
       "<IPython.core.display.Math object>"
      ]
     },
     "metadata": {},
     "output_type": "display_data"
    }
   ],
   "source": [
    "Lmbda_star_fac2 = la.det(SSP_res) / la.det(SSP_fac2 + SSP_res)\n",
    "display(Math(r'\\Lambda_{2}^{\\star}'\n",
    "             '='\n",
    "             r'\\frac{\\left| \\text{SSP}_{\\text{res}} \\right|}{\\left| \\text{SSP}_{\\text{fac2}} + \\text{SSP}_{\\text{res}} \\right|}'\n",
    "             '='\n",
    "             fr'\\frac{{ {la.det(SSP_res):.4f} }}{{ {la.det(SSP_fac2 + SSP_res):.4f} }}'\n",
    "             '='\n",
    "             f'{Lmbda_star_fac2:.4f}'\n",
    "             ))"
   ]
  },
  {
   "cell_type": "code",
   "execution_count": 28,
   "metadata": {},
   "outputs": [
    {
     "data": {
      "text/latex": [
       "$\\displaystyle F_{2}=\\left( \\frac{1 - \\Lambda_{2}^{\\star}}{\\Lambda_{2}^{\\star}} \\right)\\frac{(gb(n-1) - p + 1)/2}{(|(b-1) - p| + 1)/2}=\\left( \\frac{ 1 - 0.5230 }{ 0.5230 } \\right)\\frac{ (2(2)(4) - 3 + 1) /2 }{ (|1 - 3| + 1)/2 }=4.26$"
      ],
      "text/plain": [
       "<IPython.core.display.Math object>"
      ]
     },
     "metadata": {},
     "output_type": "display_data"
    }
   ],
   "source": [
    "F_fac2 = ((1-Lmbda_star_fac2)/Lmbda_star_fac2)*((g*b*(n-1)-p+1)/2) / ((np.abs((b-1) - p) + 1)/2)\n",
    "display(Math('F_{2}'\n",
    "             '='\n",
    "             r'\\left( \\frac{1 - \\Lambda_{2}^{\\star}}{\\Lambda_{2}^{\\star}} \\right)'\n",
    "             r'\\frac{(gb(n-1) - p + 1)/2}{(|(b-1) - p| + 1)/2}'\n",
    "             '='\n",
    "             fr'\\left( \\frac{{ 1 - {Lmbda_star_fac2:.4f} }}{{ {Lmbda_star_fac2:.4f} }} \\right)'\n",
    "             fr'\\frac{{ ({g}({b})({n-1}) - {p} + 1) /2 }}{{ (|{b-1} - {p}| + 1)/2 }}'\n",
    "             '='\n",
    "             f'{F_fac2:.2f}'\n",
    "             ))"
   ]
  },
  {
   "cell_type": "code",
   "execution_count": 29,
   "metadata": {},
   "outputs": [
    {
     "data": {
      "text/latex": [
       "$\\displaystyle \\nu_{1}=|(b-1) - p| + 1=|1 - 3| + 1=3$"
      ],
      "text/plain": [
       "<IPython.core.display.Math object>"
      ]
     },
     "metadata": {},
     "output_type": "display_data"
    }
   ],
   "source": [
    "v1_fac2 = np.abs((b-1) - p) + 1\n",
    "display(Math(r'\\nu_{1}'\n",
    "             '='\n",
    "             '|(b-1) - p| + 1'\n",
    "             '='\n",
    "             f'|{b-1} - {p}| + 1'\n",
    "             '='\n",
    "             f'{v1_fac2}'\n",
    "             ))"
   ]
  },
  {
   "cell_type": "code",
   "execution_count": 30,
   "metadata": {},
   "outputs": [
    {
     "data": {
      "text/latex": [
       "$\\displaystyle \\nu_{2}=gb(n-1) - p + 1=16 - 3 + 1=14$"
      ],
      "text/plain": [
       "<IPython.core.display.Math object>"
      ]
     },
     "metadata": {},
     "output_type": "display_data"
    }
   ],
   "source": [
    "v2_fac2 = g*b*(n-1)-p+1\n",
    "display(Math(r'\\nu_{2}'\n",
    "             '='\n",
    "             'gb(n-1) - p + 1'\n",
    "             '='\n",
    "             f'{g*b*(n-1)} - {p} + 1'\n",
    "             '='\n",
    "             f'{v2_fac2}'\n",
    "             ))"
   ]
  },
  {
   "cell_type": "code",
   "execution_count": 31,
   "metadata": {},
   "outputs": [
    {
     "data": {
      "text/latex": [
       "$\\displaystyle F_{\\nu_{1}, \\nu_{2}}(\\alpha)=F_{ 3, 14 }(0.05)=3.34$"
      ],
      "text/plain": [
       "<IPython.core.display.Math object>"
      ]
     },
     "metadata": {},
     "output_type": "display_data"
    }
   ],
   "source": [
    "f_crit_fac2 = stats.f.ppf(1-alpha,v1_fac2,v2_fac2)\n",
    "display(Math(r'F_{\\nu_{1}, \\nu_{2}}(\\alpha)'\n",
    "             '='\n",
    "             fr'F_{{ {v1_fac2}, {v2_fac2} }}({alpha})'\n",
    "             '='\n",
    "             f'{f_crit_fac2:.2f}'\n",
    "             ))"
   ]
  },
  {
   "cell_type": "code",
   "execution_count": 32,
   "metadata": {},
   "outputs": [
    {
     "data": {
      "text/latex": [
       "$\\displaystyle \\text{We have that } F_{2} = 4.26 > F_{\\text{crit}} = F_{ 3, 14 } \\left( 0.05 \\right) = 3.34 \\text{, so we would reject the null hypothesis that } \\bm{\\beta}_{1} = \\bm{\\beta}_{2} = \\textbf{0}$"
      ],
      "text/plain": [
       "<IPython.core.display.Math object>"
      ]
     },
     "metadata": {},
     "output_type": "display_data"
    }
   ],
   "source": [
    "if F_fac2 > f_crit_fac2:\n",
    "    display(Math(fr'\\text{{We have that }} F_{{2}} = {F_fac2:.2f} > F_{{\\text{{crit}}}} = F_{{ {v1_fac2}, {v2_fac2} }} \\left( {alpha} \\right) = '\n",
    "                 fr'{f_crit_fac2:.2f} \\text{{, so we would reject the null hypothesis that }} '\n",
    "                 r'\\bm{\\beta}_{1} = \\bm{\\beta}_{2} = \\textbf{0}'))\n",
    "else:\n",
    "    display(Math(fr'\\text{{We have that }} F_{{1}} = {F_fac2:.2f} < F_{{\\text{{crit}}}} = F_{{ {v1_fac2}, {v2_fac2} }} \\left( {alpha} \\right) = '\n",
    "                fr'{f_crit_fac2:.2f} \\text{{, so we would fail to reject the null hypothesis that }} '\n",
    "                r'\\bm{\\beta}_{1} = \\bm{\\beta}_{2} = \\textbf{0}'))"
   ]
  },
  {
   "cell_type": "markdown",
   "metadata": {},
   "source": [
    "## MANOVA Wilk's lambda results from R"
   ]
  },
  {
   "cell_type": "markdown",
   "metadata": {},
   "source": [
    "Using manova in R we get a matching Wilk's lambda."
   ]
  },
  {
   "cell_type": "code",
   "execution_count": 33,
   "metadata": {},
   "outputs": [
    {
     "name": "stdout",
     "output_type": "stream",
     "text": [
      "                Df   Wilks approx F num Df den Df   Pr(>F)   \n",
      "factor1          1 0.38186   7.5543      3     14 0.003034 **\n",
      "factor2          1 0.52303   4.2556      3     14 0.024745 * \n",
      "factor1:factor2  1 0.77711   1.3385      3     14 0.301782   \n",
      "Residuals       16                                           \n",
      "---\n",
      "Signif. codes:  0 '***' 0.001 '**' 0.01 '*' 0.05 '.' 0.1 ' ' 1\n",
      "\n"
     ]
    }
   ],
   "source": [
    "result = subprocess.run(['Rscript', r'..\\..\\r\\chapter-6\\Example6-13.R'], capture_output=True, text=True)\n",
    "print(result.stdout)"
   ]
  }
 ],
 "metadata": {
  "kernelspec": {
   "display_name": "Python 3",
   "language": "python",
   "name": "python3"
  },
  "language_info": {
   "codemirror_mode": {
    "name": "ipython",
    "version": 3
   },
   "file_extension": ".py",
   "mimetype": "text/x-python",
   "name": "python",
   "nbconvert_exporter": "python",
   "pygments_lexer": "ipython3",
   "version": "3.12.5"
  }
 },
 "nbformat": 4,
 "nbformat_minor": 2
}
