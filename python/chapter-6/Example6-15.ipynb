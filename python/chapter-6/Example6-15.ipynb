{
 "cells": [
  {
   "cell_type": "markdown",
   "metadata": {},
   "source": [
    "# Example 6.15"
   ]
  },
  {
   "cell_type": "code",
   "execution_count": 1,
   "metadata": {},
   "outputs": [],
   "source": [
    "import numpy as np\n",
    "import pandas as pd\n",
    "from IPython.display import display, Math\n",
    "from scipy import stats\n",
    "from scipy import linalg as la"
   ]
  },
  {
   "cell_type": "code",
   "execution_count": 2,
   "metadata": {},
   "outputs": [],
   "source": [
    "def load_data() -> pd.DataFrame:\n",
    "    df1 = pd.read_excel(r'..\\..\\data\\Table6.5.xlsx')\n",
    "    df1['Group'] = 1\n",
    "\n",
    "    df2 = pd.read_excel(r'..\\..\\data\\Table6.6.xlsx')\n",
    "    df2['Group'] = 2\n",
    "\n",
    "    return pd.concat([df1, df2])"
   ]
  },
  {
   "cell_type": "code",
   "execution_count": 3,
   "metadata": {},
   "outputs": [],
   "source": [
    "df = load_data()"
   ]
  },
  {
   "cell_type": "code",
   "execution_count": 4,
   "metadata": {},
   "outputs": [],
   "source": [
    "data_cols = ['Initial','1 year','2 year','3 year']\n",
    "X1 = df.loc[df.Group.eq(1), data_cols].to_numpy()\n",
    "X2 = df.loc[df.Group.eq(2), data_cols].to_numpy()\n",
    "X = np.vstack([X1,X2])"
   ]
  },
  {
   "cell_type": "code",
   "execution_count": 5,
   "metadata": {},
   "outputs": [],
   "source": [
    "n1 = X1.shape[0]\n",
    "n2 = X2.shape[0]\n",
    "N = n1 + n2\n",
    "g = 2\n",
    "p = len(data_cols)"
   ]
  },
  {
   "cell_type": "code",
   "execution_count": 6,
   "metadata": {},
   "outputs": [
    {
     "data": {
      "text/plain": [
       "array([[1, 0, 0],\n",
       "       [1, 1, 1],\n",
       "       [1, 2, 4],\n",
       "       [1, 3, 9]])"
      ]
     },
     "execution_count": 6,
     "metadata": {},
     "output_type": "execute_result"
    }
   ],
   "source": [
    "q = 2  # Parabola.\n",
    "parab = lambda t: np.array([1, t, t**2])\n",
    "B = np.array([parab(i) for i in range(4)])\n",
    "B"
   ]
  },
  {
   "cell_type": "markdown",
   "metadata": {},
   "source": [
    "$$\n",
    "    \\bar{\\textbf{X}}\n",
    "    =\n",
    "    \\left[\n",
    "        \\begin{array}{cc}\n",
    "            \\bar{\\textbf{x}}_{1} & \\bar{\\textbf{x}}_{2}\n",
    "        \\end{array}\n",
    "    \\right]\n",
    "    =\n",
    "    \\left[\n",
    "        \\begin{array}{cc}\n",
    "            \\bar{\\textbf{x}}_{11} & \\bar{\\textbf{x}}_{21} \\\\\n",
    "            \\bar{\\textbf{x}}_{12} & \\bar{\\textbf{x}}_{22} \\\\\n",
    "            \\bar{\\textbf{x}}_{13} & \\bar{\\textbf{x}}_{23} \\\\\n",
    "            \\bar{\\textbf{x}}_{14} & \\bar{\\textbf{x}}_{24}\n",
    "        \\end{array}\n",
    "    \\right]\n",
    "$$"
   ]
  },
  {
   "cell_type": "code",
   "execution_count": 7,
   "metadata": {},
   "outputs": [],
   "source": [
    "xbar1 = np.mean(X1,axis=0)[:,np.newaxis]\n",
    "xbar2 = np.mean(X2,axis=0)[:,np.newaxis]"
   ]
  },
  {
   "cell_type": "markdown",
   "metadata": {},
   "source": [
    "$$\n",
    "\\textbf{S}_{\\text{pooled}}\n",
    "\\frac{1}{(N - g)}\n",
    "((n_{1} - 1)\\textbf{S}_{1} + \\cdots + (n_{g} - 1)\\textbf{S}_{g})\n",
    "=\n",
    "\\frac{1}{(N - g)}\n",
    "\\textbf{W}\n",
    "$$"
   ]
  },
  {
   "cell_type": "code",
   "execution_count": 8,
   "metadata": {},
   "outputs": [
    {
     "data": {
      "text/plain": [
       "array([[95.25108621, 91.74997414, 81.70028448, 80.54869828],\n",
       "       [91.74997414, 95.03478305, 80.81083477, 80.27450144],\n",
       "       [81.70028448, 80.81083477, 79.36943822, 72.36358764],\n",
       "       [80.54869828, 80.27450144, 72.36358764, 78.53281753]])"
      ]
     },
     "execution_count": 8,
     "metadata": {},
     "output_type": "execute_result"
    }
   ],
   "source": [
    "S_pooled = (1/(N-g))*((n1- 1)*np.cov(X1,rowvar=False) + (n2- 1)*np.cov(X2,rowvar=False))\n",
    "S_pooled"
   ]
  },
  {
   "cell_type": "markdown",
   "metadata": {},
   "source": [
    "$$\n",
    "    {\\left(\n",
    "        \\textbf{B}^{\\prime}\n",
    "        \\textbf{S}_{\\text{pooled}}^{-1}\n",
    "        \\textbf{B}\n",
    "    \\right)}^{-1}\n",
    "$$"
   ]
  },
  {
   "cell_type": "code",
   "execution_count": 9,
   "metadata": {},
   "outputs": [
    {
     "data": {
      "text/plain": [
       "array([[93.17444074, -5.83684974,  0.21835566],\n",
       "       [-5.83684974,  9.56994602, -3.02401088],\n",
       "       [ 0.21835566, -3.02401088,  1.10507904]])"
      ]
     },
     "execution_count": 9,
     "metadata": {},
     "output_type": "execute_result"
    }
   ],
   "source": [
    "la.inv(B.T @ la.inv(S_pooled) @ B)"
   ]
  },
  {
   "cell_type": "markdown",
   "metadata": {},
   "source": [
    "$$\n",
    "\\widehat{\\text{Cov}}(\\hat{\\bm{\\beta}}_{\\ell})\n",
    "=\n",
    "\\frac{k}{n_{\\ell}}\n",
    "{\\left(\n",
    "    \\textbf{B}^{\\prime}\n",
    "    \\textbf{S}_{\\text{pooled}}^{-1}\n",
    "    \\textbf{B}\n",
    "\\right)}^{-1}\n",
    "\\hspace{0.4cm}\n",
    "\\text{for}\n",
    "\\hspace{0.4cm}\n",
    "\\ell = 1, 2, \\dots, g\n",
    "$$\n",
    "\n",
    "$$\n",
    "k\n",
    "=\n",
    "\\frac{(N-g)(N-g-1)}{(N-g-p+q)(N-g-p+q+1)}\n",
    "$$"
   ]
  },
  {
   "cell_type": "code",
   "execution_count": 10,
   "metadata": {},
   "outputs": [],
   "source": [
    "k = ((N - g)*(N - g - 1))/((N - g - p + q)*(N - g - p + q + 1))"
   ]
  },
  {
   "cell_type": "markdown",
   "metadata": {},
   "source": [
    "Group 1"
   ]
  },
  {
   "cell_type": "code",
   "execution_count": 11,
   "metadata": {},
   "outputs": [
    {
     "data": {
      "text/plain": [
       "array([[ 6.67175008, -0.41794727,  0.01563534],\n",
       "       [-0.41794727,  0.68525539, -0.21653411],\n",
       "       [ 0.01563534, -0.21653411,  0.07912912]])"
      ]
     },
     "execution_count": 11,
     "metadata": {},
     "output_type": "execute_result"
    }
   ],
   "source": [
    "cov_est_group_1 = (k/n1)*la.inv(B.T @ la.inv(S_pooled) @ B)\n",
    "cov_est_group_1"
   ]
  },
  {
   "cell_type": "markdown",
   "metadata": {},
   "source": [
    "Group 2"
   ]
  },
  {
   "cell_type": "code",
   "execution_count": 12,
   "metadata": {},
   "outputs": [
    {
     "data": {
      "text/plain": [
       "array([[ 6.2547657 , -0.39182556,  0.01465813],\n",
       "       [-0.39182556,  0.64242693, -0.20300073],\n",
       "       [ 0.01465813, -0.20300073,  0.07418355]])"
      ]
     },
     "execution_count": 12,
     "metadata": {},
     "output_type": "execute_result"
    }
   ],
   "source": [
    "cov_est_group_2 = (k/n2)*la.inv(B.T @ la.inv(S_pooled) @ B)\n",
    "cov_est_group_2"
   ]
  },
  {
   "cell_type": "markdown",
   "metadata": {},
   "source": [
    "$$\n",
    "\\hat{\\bm{\\beta}}_{\\ell}\n",
    "=\n",
    "{\\left(\n",
    "    \\textbf{B}^{\\prime}\n",
    "    \\textbf{S}_{\\text{pooled}}^{-1}\n",
    "    \\textbf{B}\n",
    "\\right)}^{-1}\n",
    "\\textbf{B}^{\\prime}\n",
    "\\textbf{S}_{\\text{pooled}}^{-1}\n",
    "\\bar{\\textbf{X}}_{\\ell}\n",
    "\\hspace{0.4cm}\n",
    "\\text{for}\n",
    "\\hspace{0.4cm}\n",
    "\\ell = 1, 2, \\dots, g\n",
    "$$"
   ]
  },
  {
   "cell_type": "code",
   "execution_count": 13,
   "metadata": {},
   "outputs": [],
   "source": [
    "beta_est = np.hstack([la.inv(B.T @ la.inv(S_pooled) @ B) @ B.T @ la.inv(S_pooled) @ xbar1,\n",
    "                      la.inv(B.T @ la.inv(S_pooled) @ B) @ B.T @ la.inv(S_pooled) @ xbar2])"
   ]
  },
  {
   "cell_type": "code",
   "execution_count": 14,
   "metadata": {},
   "outputs": [
    {
     "data": {
      "text/latex": [
       "$\\displaystyle \\text{The estimated growth curves are}$"
      ],
      "text/plain": [
       "<IPython.core.display.Math object>"
      ]
     },
     "metadata": {},
     "output_type": "display_data"
    },
    {
     "data": {
      "text/latex": [
       "$\\displaystyle \\begin{array}{lccccc}\\text{Control group:}   & 73.07 & + & 3.64t & - & 2.03t^2 \\\\ & (2.58) & & (0.83) & & (0.28) \\\\\\text{Treatment group:} & 70.14 & + & 4.09t & - & 1.85t^2 \\\\ & (2.50) & & (0.80) & & (0.27)\\end{array}$"
      ],
      "text/plain": [
       "<IPython.core.display.Math object>"
      ]
     },
     "metadata": {},
     "output_type": "display_data"
    }
   ],
   "source": [
    "# The standard deviations are in parenthesis.\n",
    "display(Math(r'\\text{The estimated growth curves are}'))\n",
    "display(Math(r'\\begin{array}{lccccc}'\n",
    "             fr'\\text{{Control group:}}   & {beta_est[0,0]:.2f} & + & {beta_est[1,0]:.2f}t & - & {np.abs(beta_est[2,0]):.2f}t^{2} \\\\'\n",
    "             fr' & ({np.sqrt(cov_est_group_1[0,0]):.2f}) & & ({np.sqrt(cov_est_group_1[1,1]):.2f}) & & ({np.sqrt(cov_est_group_1[2,2]):.2f}) \\\\'\n",
    "             fr'\\text{{Treatment group:}} & {beta_est[0,1]:.2f} & + & {beta_est[1,1]:.2f}t & - & {np.abs(beta_est[2,1]):.2f}t^{2} \\\\'\n",
    "             fr' & ({np.sqrt(cov_est_group_2[0,0]):.2f}) & & ({np.sqrt(cov_est_group_2[1,1]):.2f}) & & ({np.sqrt(cov_est_group_2[2,2]):.2f})'\n",
    "             r'\\end{array}'\n",
    "             ))"
   ]
  },
  {
   "cell_type": "code",
   "execution_count": 15,
   "metadata": {},
   "outputs": [],
   "source": [
    "def compute_Wq(X: np.ndarray, B: np.ndarray, beta_est: np.array):\n",
    "    n, p = X.shape\n",
    "    results = np.zeros((p, p))\n",
    "    for i in range(n):\n",
    "        obs = X[i,:].copy()[:,np.newaxis]\n",
    "        results += (obs - B @ beta_est) @ (obs - B @ beta_est).T\n",
    "    return results"
   ]
  },
  {
   "cell_type": "markdown",
   "metadata": {},
   "source": [
    "$$\n",
    "    \\textbf{W}_{q}\n",
    "    =\n",
    "    \\sum_{\\ell = 1}^{g}\n",
    "    \\sum_{j = 1}^{n_{\\ell}}\n",
    "    (\\textbf{X}_{\\ell j} - \\textbf{B} \\hat{\\bm{\\beta}}_{\\ell})\n",
    "    {(\\textbf{X}_{\\ell j} - \\textbf{B} \\hat{\\bm{\\beta}}_{\\ell})}^{\\prime}\n",
    "$$"
   ]
  },
  {
   "cell_type": "code",
   "execution_count": 16,
   "metadata": {},
   "outputs": [
    {
     "data": {
      "text/plain": [
       "array([[2781.01741477, 2698.58861289, 2363.22837387, 2362.2535235 ],\n",
       "       [2698.58861289, 2832.42971057, 2331.23519008, 2381.15981267],\n",
       "       [2363.22837387, 2331.23519008, 2303.68665144, 2089.99619748],\n",
       "       [2362.2535235 , 2381.15981267, 2089.99619748, 2314.48553872]])"
      ]
     },
     "execution_count": 16,
     "metadata": {},
     "output_type": "execute_result"
    }
   ],
   "source": [
    "# q is the degree of the polynomial. Here's that's 2.\n",
    "W_2 = compute_Wq(X1, B, beta_est[:,[0]]) + compute_Wq(X2, B, beta_est[:,[1]])\n",
    "W_2"
   ]
  },
  {
   "cell_type": "code",
   "execution_count": 17,
   "metadata": {},
   "outputs": [],
   "source": [
    "def compute_W(X: np.ndarray):\n",
    "    n, p = X.shape\n",
    "    xbar = np.mean(X,axis=0)[:,np.newaxis]\n",
    "    results = np.zeros((p, p))\n",
    "    for i in range(n):\n",
    "        obs = X[i,:].copy()[:,np.newaxis]\n",
    "        results += (obs - xbar) @ (obs - xbar).T\n",
    "    return results"
   ]
  },
  {
   "cell_type": "markdown",
   "metadata": {},
   "source": [
    "$$\n",
    "    \\textbf{W}\n",
    "    =\n",
    "    \\sum_{\\ell}^{g}\n",
    "    \\sum_{j}^{n_{\\ell}}\n",
    "    (\\textbf{x}_{\\ell j} - \\bar{\\textbf{x}}_{\\ell})\n",
    "    {(\\textbf{x}_{\\ell j} - \\bar{\\textbf{x}}_{\\ell})}^{\\prime}\n",
    "$$"
   ]
  },
  {
   "cell_type": "code",
   "execution_count": 18,
   "metadata": {},
   "outputs": [
    {
     "data": {
      "text/plain": [
       "array([[2762.2815    , 2660.74925   , 2369.30825   , 2335.91225   ],\n",
       "       [2660.74925   , 2756.00870833, 2343.51420833, 2327.96054167],\n",
       "       [2369.30825   , 2343.51420833, 2301.71370833, 2098.54404167],\n",
       "       [2335.91225   , 2327.96054167, 2098.54404167, 2277.45170833]])"
      ]
     },
     "execution_count": 18,
     "metadata": {},
     "output_type": "execute_result"
    }
   ],
   "source": [
    "W = compute_W(X1) + compute_W(X2)\n",
    "W"
   ]
  },
  {
   "cell_type": "code",
   "execution_count": 19,
   "metadata": {},
   "outputs": [
    {
     "data": {
      "text/latex": [
       "$\\displaystyle -\\left( N - \\frac{1}{2} (p - q + g) \\right) \\ln \\Lambda^{\\star}=-\\left( 31 - \\frac{1}{2} (4 - 2 + 2) \\right) \\ln 0.7627=7.86$"
      ],
      "text/plain": [
       "<IPython.core.display.Math object>"
      ]
     },
     "metadata": {},
     "output_type": "display_data"
    }
   ],
   "source": [
    "lmbda_star = la.det(W) / la.det(W_2)\n",
    "test_value = -(N - 0.5*(p - q + g))*np.log(lmbda_star)\n",
    "display(Math(r'-\\left( N - \\frac{1}{2} (p - q + g) \\right) \\ln \\Lambda^{\\star}'\n",
    "             '='\n",
    "             fr'-\\left( {N} - \\frac{{1}}{{2}} ({p} - {q} + {g}) \\right) \\ln {lmbda_star:.4f}'\n",
    "             '='\n",
    "             f'{test_value:.2f}'\n",
    "             ))"
   ]
  },
  {
   "cell_type": "code",
   "execution_count": 20,
   "metadata": {},
   "outputs": [
    {
     "data": {
      "text/latex": [
       "$\\displaystyle \\chi_{ (4 - (2+1))2 }^{2}(0.01)=9.21$"
      ],
      "text/plain": [
       "<IPython.core.display.Math object>"
      ]
     },
     "metadata": {},
     "output_type": "display_data"
    }
   ],
   "source": [
    "alpha = 0.01\n",
    "chi2_crit = stats.chi2.ppf(1-alpha, df=(p-(g+1))*2)\n",
    "display(Math(fr'\\chi_{{ ({p} - ({g}+1))2 }}^{{2}}({alpha})'\n",
    "             '='\n",
    "             f'{chi2_crit:.2f}'\n",
    "             ))"
   ]
  },
  {
   "cell_type": "code",
   "execution_count": 21,
   "metadata": {},
   "outputs": [
    {
     "data": {
      "text/latex": [
       "$\\displaystyle \\text{We have that } X^{2\\star} = 7.86 < \\chi_{ 2 }^2(0.01) = 9.21 \\text{, so we would fail to reject the null hypothesis that } \\text{the polynomial is adequate.}$"
      ],
      "text/plain": [
       "<IPython.core.display.Math object>"
      ]
     },
     "metadata": {},
     "output_type": "display_data"
    }
   ],
   "source": [
    "if test_value > chi2_crit:\n",
    "    display(Math(fr'\\text{{We have that }} X^{{2\\star}} = {test_value:.2f} > \\chi_{{ {(p-(g+1))*2} }}^{2}({alpha}) = '\n",
    "                 fr'{chi2_crit:.2f} \\text{{, so we would reject the null hypothesis that }} '\n",
    "                 r'\\text{the polynomial is adequate.}'\n",
    "                 ))\n",
    "else:\n",
    "    display(Math(fr'\\text{{We have that }} X^{{2\\star}} = {test_value:.2f} < \\chi_{{ {(p - (g+1))*2} }}^{2}({alpha}) = '\n",
    "                 fr'{chi2_crit:.2f} \\text{{, so we would fail to reject the null hypothesis that }} '\n",
    "                 r'\\text{the polynomial is adequate.}'\n",
    "                ))"
   ]
  },
  {
   "cell_type": "code",
   "execution_count": 22,
   "metadata": {},
   "outputs": [
    {
     "data": {
      "text/latex": [
       "$\\displaystyle \\text{ The p-value for the test is } 0.0197.$"
      ],
      "text/plain": [
       "<IPython.core.display.Math object>"
      ]
     },
     "metadata": {},
     "output_type": "display_data"
    }
   ],
   "source": [
    "# The survival finction is 1 - CDF, so this gives the same answer: 1 - stats.chi2.cdf(test_value, df=(p-(g+1))*2)\n",
    "p_value = stats.chi2.sf(test_value, df=(p-(g+1))*2)\n",
    "display(Math(fr'\\text{{ The p-value for the test is }} {p_value:.4f}.'))"
   ]
  },
  {
   "cell_type": "markdown",
   "metadata": {},
   "source": [
    "# From the book Advanced Linear Models by Ronald Christensen"
   ]
  },
  {
   "cell_type": "markdown",
   "metadata": {},
   "source": [
    "These estimates from the book are broken up so we compute the estimates for each group separately, but we can also compute the estimates at once. For this we'd use the generalized least squares estimate for $\\bm{\\beta}$ (all of our parameters), where the formula the formula can be found in Theorem 2.7.1 (b) on page 40 of the book Plane Answers to Complex Questions 5th edition by Ronald Christensen. Along with our model setup in 11.1.2 on page 424 of the book Advanced Linear Models 3rd edition, also by Ronald Christensen to get...\n",
    "$$\n",
    "\\text{Vec}(\\hat{\\bm{\\Gamma}})\n",
    "=\n",
    "{\\left(\n",
    "    {[ \\textbf{Z} \\otimes \\textbf{X} ]}^{\\prime}\n",
    "    {( \\bm{\\Sigma}^{-1} \\otimes \\textbf{I}_{n} )}\n",
    "    [ \\textbf{Z} \\otimes \\textbf{X} ]\n",
    "\\right)}^{-1}\n",
    "{[ \\textbf{Z} \\otimes \\textbf{X} ]}^{\\prime}\n",
    "{( \\bm{\\Sigma}^{-1} \\otimes \\textbf{I}_{n} )}\n",
    "\\text{Vec}(\\textbf{Y})\n",
    "$$\n",
    "The notation here differs from the book we're using though. We need to replace $\\textbf{Z}$ above with $\\textbf{B}$ and replace $\\textbf{Y}$ above with $\\textbf{X}$. The matrix $\\textbf{X}$ above is the design matix, which identify which group an observation belongs to. We create that with\n",
    "$$\n",
    "\\textbf{E}\n",
    "=\n",
    "{\\left[\n",
    "    \\begin{array}{cc}\n",
    "        \\textbf{1}_{n_{1}} \\textbf{0}_{n_{1}} \\\\\n",
    "        \\textbf{0}_{n_{2}} \\textbf{1}_{n_{2}}\n",
    "    \\end{array}\n",
    "\\right]}_{N \\times 2}\n",
    "$$\n",
    "This consists of $N = n_{1} + n_{2}$ rows and two columns. The first column has $n_{1}$ values of 1 (for the control group observations) followed by $n_{2}$ values of 0. The second column has $n_{1}$ values of 0 followed by $n_{2}$ values of 1 (for the treatment group observations). The last thing is that we don't have the population covariance matrix $\\bm{\\Sigma}$, but estimate it with $\\textbf{S}_{\\text{pooled}}$, so we can replace $\\bm{\\Sigma}$ with $\\textbf{S}_{\\text{pooled}}$. Using $\\textbf{S}_{\\text{pooled}}$ is a consistent estimator, so for a big $n$ we have and estimate close to the population. The estimates will be created below by computing...\n",
    "$$\n",
    "\\text{Vec}(\\hat{\\bm{\\Gamma}})\n",
    "=\n",
    "{\\left(\n",
    "    {[ \\textbf{B} \\otimes \\textbf{E} ]}^{\\prime}\n",
    "    {( \\textbf{S}_{\\text{pooled}}^{-1} \\otimes \\textbf{I}_{N} )}\n",
    "    [ \\textbf{B} \\otimes \\textbf{E} ]\n",
    "\\right)}^{-1}\n",
    "{[ \\textbf{B} \\otimes \\textbf{E} ]}^{\\prime}\n",
    "{( \\textbf{S}_{\\text{pooled}}^{-1} \\otimes \\textbf{I}_{N} )}\n",
    "\\text{Vec}(\\textbf{X})\n",
    "$$\n",
    "The estimates, $\\text{Vec}(\\hat{\\bm{\\Gamma}})$, will come out stacked on one another. First two are intercepts, next two are slope, and last two are quadratic parameters.\n"
   ]
  },
  {
   "cell_type": "code",
   "execution_count": 23,
   "metadata": {},
   "outputs": [],
   "source": [
    "# Create design matrix X. Column 1 is group 1. Column 2 is group 2.\n",
    "E = np.vstack([np.hstack([np.ones((n1,1)),  np.zeros((n1,1))]),\n",
    "               np.hstack([np.zeros((n2,1)), np.ones((n2,1))])])"
   ]
  },
  {
   "cell_type": "code",
   "execution_count": 24,
   "metadata": {},
   "outputs": [
    {
     "data": {
      "text/plain": [
       "array([[73.07012323],\n",
       "       [70.13867065],\n",
       "       [ 3.64435751],\n",
       "       [ 4.09004971],\n",
       "       [-2.02736314],\n",
       "       [-1.85343205]])"
      ]
     },
     "execution_count": 24,
     "metadata": {},
     "output_type": "execute_result"
    }
   ],
   "source": [
    "la.inv(np.kron(B,E).T @ la.inv(np.kron(S_pooled, np.eye(N))) @ np.kron(B,E)) @ np.kron(B,E).T @ la.inv(np.kron(S_pooled, np.eye(N))) @ X.T.reshape([-1,1])"
   ]
  }
 ],
 "metadata": {
  "kernelspec": {
   "display_name": "Python 3",
   "language": "python",
   "name": "python3"
  },
  "language_info": {
   "codemirror_mode": {
    "name": "ipython",
    "version": 3
   },
   "file_extension": ".py",
   "mimetype": "text/x-python",
   "name": "python",
   "nbconvert_exporter": "python",
   "pygments_lexer": "ipython3",
   "version": "3.12.5"
  }
 },
 "nbformat": 4,
 "nbformat_minor": 2
}
