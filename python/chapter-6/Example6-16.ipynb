{
 "cells": [
  {
   "cell_type": "markdown",
   "metadata": {},
   "source": [
    "# Example 6.16"
   ]
  },
  {
   "cell_type": "code",
   "execution_count": 1,
   "metadata": {},
   "outputs": [],
   "source": [
    "import numpy as np\n",
    "import matplotlib.pyplot as plt\n",
    "import pandas as pd\n",
    "from IPython.display import display, Math\n",
    "from scipy import stats\n",
    "from scipy import linalg as la"
   ]
  },
  {
   "cell_type": "code",
   "execution_count": 2,
   "metadata": {},
   "outputs": [],
   "source": [
    "def load_data() -> pd.DataFrame:\n",
    "    df = pd.read_excel(r'..\\..\\data\\Example6.16.xlsx')\n",
    "    return df"
   ]
  },
  {
   "cell_type": "code",
   "execution_count": 3,
   "metadata": {},
   "outputs": [
    {
     "data": {
      "text/html": [
       "<div>\n",
       "<style scoped>\n",
       "    .dataframe tbody tr th:only-of-type {\n",
       "        vertical-align: middle;\n",
       "    }\n",
       "\n",
       "    .dataframe tbody tr th {\n",
       "        vertical-align: top;\n",
       "    }\n",
       "\n",
       "    .dataframe thead th {\n",
       "        text-align: right;\n",
       "    }\n",
       "</style>\n",
       "<table border=\"1\" class=\"dataframe\">\n",
       "  <thead>\n",
       "    <tr style=\"text-align: right;\">\n",
       "      <th></th>\n",
       "      <th>x1</th>\n",
       "      <th>x2</th>\n",
       "      <th>Group</th>\n",
       "    </tr>\n",
       "  </thead>\n",
       "  <tbody>\n",
       "    <tr>\n",
       "      <th>0</th>\n",
       "      <td>5.0</td>\n",
       "      <td>3.0</td>\n",
       "      <td>1</td>\n",
       "    </tr>\n",
       "    <tr>\n",
       "      <th>1</th>\n",
       "      <td>4.5</td>\n",
       "      <td>3.2</td>\n",
       "      <td>1</td>\n",
       "    </tr>\n",
       "    <tr>\n",
       "      <th>2</th>\n",
       "      <td>6.0</td>\n",
       "      <td>3.5</td>\n",
       "      <td>1</td>\n",
       "    </tr>\n",
       "  </tbody>\n",
       "</table>\n",
       "</div>"
      ],
      "text/plain": [
       "    x1   x2  Group\n",
       "0  5.0  3.0      1\n",
       "1  4.5  3.2      1\n",
       "2  6.0  3.5      1"
      ]
     },
     "execution_count": 3,
     "metadata": {},
     "output_type": "execute_result"
    }
   ],
   "source": [
    "df = load_data()\n",
    "df.head(3)"
   ]
  },
  {
   "cell_type": "code",
   "execution_count": 4,
   "metadata": {},
   "outputs": [],
   "source": [
    "# Break up the data into groups.\n",
    "group_1 = df[df.Group.eq(1)].copy()\n",
    "group_2 = df[df.Group.eq(2)].copy()\n",
    "\n",
    "# Create columns with heights based on duplicate count for the dot diagrams.\n",
    "group_1['x1_count'] = group_1.groupby('x1').cumcount()*0.01 + 0.01\n",
    "group_1['x2_count'] = group_1.groupby('x2').cumcount()*0.01 + 0.01\n",
    "group_2['x1_count'] = group_2.groupby('x1').cumcount()*0.01 + 0.02\n",
    "group_2['x2_count'] = group_2.groupby('x2').cumcount()*0.01 + 0.02\n"
   ]
  },
  {
   "cell_type": "code",
   "execution_count": 5,
   "metadata": {},
   "outputs": [
    {
     "data": {
      "image/png": "[encoded data removed]",
      "text/plain": [
       "<Figure size 800x800 with 3 Axes>"
      ]
     },
     "metadata": {},
     "output_type": "display_data"
    }
   ],
   "source": [
    "# Recreate Figure 6.6:\n",
    "\n",
    "# Create figure\n",
    "fig = plt.figure(figsize=(8, 8))\n",
    "grid = fig.add_gridspec(4, 4, hspace=0.35, wspace=0.35,\n",
    "                        width_ratios=[1, 10, 0.5, 0.5],\n",
    "                        height_ratios=[0.5, 10, 1, 1])\n",
    "\n",
    "# Main scatterplot.\n",
    "ax_scatter = fig.add_subplot(grid[1:3, 1:])\n",
    "ax_scatter.set_xlim(3.5,8.1)\n",
    "ax_scatter.set_ylim(2.5,9.1)\n",
    "ax_scatter.scatter(group_1.x1, group_1.x2, marker='o', facecolors='none', edgecolor='royalblue', label='1', alpha=1.0)\n",
    "ax_scatter.scatter(group_2.x1, group_2.x2, marker='+', color='royalblue', label='2', alpha=1.0)\n",
    "ax_scatter.set_xlabel('$x_{1}$')\n",
    "ax_scatter.set_ylabel('$x_{2}$')\n",
    "ax_scatter.legend()\n",
    "ax_scatter.spines['top'].set_visible(False)\n",
    "ax_scatter.spines['left'].set_visible(False)\n",
    "ax_scatter.spines['right'].set_visible(False)\n",
    "ax_scatter.spines['bottom'].set_visible(False)\n",
    "\n",
    "# Arrow on the x-axis.\n",
    "ax_scatter.arrow(3.5, 2.5, 4.8, 0., fc='k', ec='k', lw = 0.3, \n",
    "            head_width=0.2, head_length=0.2, overhang = 0.1, \n",
    "             length_includes_head= True, clip_on = False)\n",
    "\n",
    "# Arrow on the y-axis.\n",
    "ax_scatter.arrow(3.5, 2.5, 0, 6.9, fc='k', ec='k', lw = 0.5, \n",
    "            head_width=0.1, head_length=0.3, overhang = 0.1, \n",
    "             length_includes_head= True, clip_on = False)\n",
    "\n",
    "# Stacked dot diagram below the x-axis.\n",
    "ax_bottom = fig.add_subplot(grid[3, 1:], sharex=ax_scatter)\n",
    "ax_bottom.set_ylim(0,0.03)\n",
    "ax_bottom.plot(group_1.x1, group_1.x1_count, marker='o', linestyle='none', markerfacecolor='none', markeredgecolor='royalblue', alpha=1.0)\n",
    "ax_bottom.plot(group_2.x1, group_2.x1_count, marker='+', linestyle='none', color='royalblue', alpha=1.0)\n",
    "ax_bottom.tick_params(axis='x', which='both', bottom=True, labelbottom=False)\n",
    "ax_bottom.set_yticks([])\n",
    "ax_bottom.spines['top'].set_visible(False)\n",
    "ax_bottom.spines['left'].set_visible(False)\n",
    "ax_bottom.spines['right'].set_visible(False)\n",
    "\n",
    "# # Stacked dot diagram to the left of the y-axis.\n",
    "ax_left = fig.add_subplot(grid[1:3, 0], sharey=ax_scatter)\n",
    "ax_left.set_xlim(0,0.03)\n",
    "ax_left.plot(group_1.x2_count, group_1.x2, marker='o', linestyle='none', markerfacecolor='none', markeredgecolor='royalblue', alpha=1.0)\n",
    "ax_left.plot(group_2.x2_count, group_2.x2, marker='+', linestyle='none', color='royalblue', alpha=1.0)\n",
    "ax_left.tick_params(axis='y', which='both', left=True, labelleft=False)\n",
    "ax_left.set_xticks([])\n",
    "ax_left.spines['top'].set_visible(False)\n",
    "ax_left.spines['right'].set_visible(False)\n",
    "ax_left.spines['bottom'].set_visible(False)\n",
    "\n",
    "plt.show()"
   ]
  },
  {
   "cell_type": "code",
   "execution_count": 6,
   "metadata": {},
   "outputs": [],
   "source": [
    "n1 = n2 = 10\n",
    "n = n1 + n2\n",
    "p = 2\n",
    "g = len(df.Group.unique())"
   ]
  },
  {
   "cell_type": "markdown",
   "metadata": {},
   "source": [
    "### Univariate tests"
   ]
  },
  {
   "cell_type": "markdown",
   "metadata": {},
   "source": [
    "Using the formulas found on page 300\n",
    "$$\n",
    "\\text{SS}_{\\text{tr}}\n",
    "=\n",
    "\\sum_{\\ell = 1}^{g} n_{\\ell} {\\left( \\bar{x}_{\\ell} - \\bar{x} \\right)}^{2}\n",
    "$$\n",
    "$$\n",
    "\\text{SS}_{\\text{res}}\n",
    "=\n",
    "\\sum_{\\ell = 1}^{g} \\sum_{j = 1}^{n_{\\ell}} {\\left( x_{\\ell j} - \\bar{x}_{\\ell} \\right)}^{2}\n",
    "$$\n",
    "$$\n",
    "F\n",
    "=\n",
    "\\frac{\\text{SS}_{\\text{tr}} / (g-1)}{\\text{SS}_{\\text{res}} / \\left( \\sum_{\\ell = 1}^{g} n_{\\ell} - g \\right)}\n",
    "$$\n",
    "for the test\n",
    "$$\n",
    "\\begin{array}{cc}\n",
    "    \\text{H}_{0}:& \\tau_{1} = \\tau_{2} \\\\\n",
    "    \\text{vs.}                       & \\\\\n",
    "    \\text{H}_{1}:& \\tau_{1} \\ne \\tau_{2}\n",
    "\\end{array}\n",
    "$$\n",
    "where $\\tau_{\\ell} = \\mu_{\\ell} - \\mu$"
   ]
  },
  {
   "cell_type": "code",
   "execution_count": 7,
   "metadata": {},
   "outputs": [],
   "source": [
    "# Rows are variables and columns are groups.\n",
    "xbar_groups = df.groupby('Group').mean(['x1','x2']).T\n",
    "\n",
    "# Global mean.\n",
    "xbar = df[['x1','x2']].mean().to_numpy()[:,np.newaxis]\n",
    "\n",
    "# Mean values for x1 and x2 by group.\n",
    "x1xbar = xbar_groups.loc['x1',:].to_numpy()[:,np.newaxis]\n",
    "x2xbar = xbar_groups.loc['x2',:].to_numpy()[:,np.newaxis]"
   ]
  },
  {
   "cell_type": "code",
   "execution_count": 8,
   "metadata": {},
   "outputs": [
    {
     "data": {
      "text/latex": [
       "$\\displaystyle F_{\\text{crit}}=F_{g-1, \\sum_{\\ell} n_{\\ell} - g}(\\alpha)=F_{ 1, 18 }(0.1)=3.01$"
      ],
      "text/plain": [
       "<IPython.core.display.Math object>"
      ]
     },
     "metadata": {},
     "output_type": "display_data"
    }
   ],
   "source": [
    "# Used for both tests.\n",
    "alpha_one_way = 0.10\n",
    "f_crit_one_way = stats.f.ppf(1-0.10,g-1,n-g)\n",
    "display(Math(r'F_{\\text{crit}}'\n",
    "             '='\n",
    "             r'F_{g-1, \\sum_{\\ell} n_{\\ell} - g}(\\alpha)'\n",
    "             '='\n",
    "             fr'F_{{ {g-1}, {n-g} }}({alpha_one_way})'\n",
    "            '='\n",
    "            f'{f_crit_one_way:.2f}' \n",
    "             ))"
   ]
  },
  {
   "cell_type": "markdown",
   "metadata": {},
   "source": [
    "#### One-way ANOVA for $x_{1}$:"
   ]
  },
  {
   "cell_type": "code",
   "execution_count": 9,
   "metadata": {},
   "outputs": [],
   "source": [
    "SS_tr_x1 = (10*(x1xbar - xbar[0])**2).sum()\n",
    "SS_res_x1 = ((group_1.x1.to_numpy() - x1xbar[0])**2 + (group_2.x1.to_numpy() - x1xbar[1])**2).sum()\n",
    "F_x1 = (SS_tr_x1/(g-1))/(SS_res_x1/(n-g))"
   ]
  },
  {
   "cell_type": "code",
   "execution_count": 10,
   "metadata": {},
   "outputs": [
    {
     "data": {
      "text/latex": [
       "$\\displaystyle F_{x_{1}}=\\frac{\\text{SS}_{\\text{tr}(x_{1})} / (g-1)}{\\text{SS}_{\\text{res}(x_{1})} / \\left( \\sum_{\\ell = 1}^{g} n_{\\ell} - g \\right)}=\\frac{ 2.52 / (2 - 1) }{ 18.45 / \\left( 20 - 2 \\right) }=2.46$"
      ],
      "text/plain": [
       "<IPython.core.display.Math object>"
      ]
     },
     "metadata": {},
     "output_type": "display_data"
    }
   ],
   "source": [
    "display(Math('F_{x_{1}}'\n",
    "             '='\n",
    "             r'\\frac{\\text{SS}_{\\text{tr}(x_{1})} / (g-1)}{\\text{SS}_{\\text{res}(x_{1})} / \\left( \\sum_{\\ell = 1}^{g} n_{\\ell} - g \\right)}'\n",
    "             '='\n",
    "             fr'\\frac{{ {SS_tr_x1:.2f} / ({g} - 1) }}{{ {SS_res_x1:.2f} / \\left( {n} - {g} \\right) }}'\n",
    "             '='\n",
    "             f'{F_x1:.2f}'\n",
    "             ))\n"
   ]
  },
  {
   "cell_type": "code",
   "execution_count": 11,
   "metadata": {},
   "outputs": [
    {
     "data": {
      "text/plain": [
       "F_onewayResult(statistic=2.4591576779229225, pvalue=0.1342529358046891)"
      ]
     },
     "execution_count": 11,
     "metadata": {},
     "output_type": "execute_result"
    }
   ],
   "source": [
    "# Same statistic as running the one-way ANOVA method.\n",
    "stats.f_oneway(group_1.x1,group_2.x1)"
   ]
  },
  {
   "cell_type": "code",
   "execution_count": 12,
   "metadata": {},
   "outputs": [
    {
     "data": {
      "text/latex": [
       "$\\displaystyle \\text{We have that } F_{ x_1 } = 2.46 < F_{ \\text{crit} } = F_{ 1, 18 }(0.1) = 3.01 \\text{, so we would fail to reject the null hypothesis that } \\tau_{1} = \\tau_{2} \\text{ (for the variable }x_{1}\\text{ the means for the two groups are equal)}.$"
      ],
      "text/plain": [
       "<IPython.core.display.Math object>"
      ]
     },
     "metadata": {},
     "output_type": "display_data"
    }
   ],
   "source": [
    "if F_x1 > f_crit_one_way:\n",
    "    display(Math(fr'\\text{{We have that }} F_{{ x_{1} }} = {F_x1:.2f} > F_{{ \\text{{crit}} }} = F_{{ {g-1}, {n-g} }}({alpha_one_way}) = '\n",
    "                 fr'{f_crit_one_way:.2f} \\text{{, so we would reject the null hypothesis that }} '\n",
    "                 r'\\tau_{1} = \\tau_{2} \\text{ (for the variable }x_{1}\\text{ the means for the two groups are equal)}.'\n",
    "                 ))\n",
    "else:\n",
    "    display(Math(fr'\\text{{We have that }} F_{{ x_{1} }} = {F_x1:.2f} < F_{{ \\text{{crit}} }} = F_{{ {g-1}, {n-g} }}({alpha_one_way}) = '\n",
    "                 fr'{f_crit_one_way:.2f} \\text{{, so we would fail to reject the null hypothesis that }} '\n",
    "                 r'\\tau_{1} = \\tau_{2} \\text{ (for the variable }x_{1}\\text{ the means for the two groups are equal)}.'\n",
    "                ))"
   ]
  },
  {
   "cell_type": "markdown",
   "metadata": {},
   "source": [
    "#### One-way ANOVA for $x_{2}$:"
   ]
  },
  {
   "cell_type": "code",
   "execution_count": 13,
   "metadata": {},
   "outputs": [],
   "source": [
    "SS_tr_x2 = (10*(x2xbar - xbar[1])**2).sum()\n",
    "SS_res_x2 = ((group_1.x2.to_numpy() - x2xbar[0])**2 + (group_2.x2.to_numpy() - x2xbar[1])**2).sum()\n",
    "F_x2 = (SS_tr_x2/(g-1))/(SS_res_x2/(n-g))"
   ]
  },
  {
   "cell_type": "code",
   "execution_count": 14,
   "metadata": {},
   "outputs": [
    {
     "data": {
      "text/latex": [
       "$\\displaystyle F_{x_{2}}=\\frac{\\text{SS}_{\\text{tr}(x_{2})} / (g-1)}{\\text{SS}_{\\text{res}(x_{2})} / \\left( \\sum_{\\ell = 1}^{g} n_{\\ell} - g \\right)}=\\frac{ 5.10 / (2 - 1) }{ 34.29 / \\left( 20 - 2 \\right) }=2.68$"
      ],
      "text/plain": [
       "<IPython.core.display.Math object>"
      ]
     },
     "metadata": {},
     "output_type": "display_data"
    }
   ],
   "source": [
    "display(Math('F_{x_{2}}'\n",
    "             '='\n",
    "             r'\\frac{\\text{SS}_{\\text{tr}(x_{2})} / (g-1)}{\\text{SS}_{\\text{res}(x_{2})} / \\left( \\sum_{\\ell = 1}^{g} n_{\\ell} - g \\right)}'\n",
    "             '='\n",
    "             fr'\\frac{{ {SS_tr_x2:.2f} / ({g} - 1) }}{{ {SS_res_x2:.2f} / \\left( {n} - {g} \\right) }}'\n",
    "             '='\n",
    "             f'{F_x2:.2f}'\n",
    "             ))"
   ]
  },
  {
   "cell_type": "code",
   "execution_count": 15,
   "metadata": {},
   "outputs": [
    {
     "data": {
      "text/plain": [
       "F_onewayResult(statistic=2.6775059056840385, pvalue=0.11913961809877849)"
      ]
     },
     "execution_count": 15,
     "metadata": {},
     "output_type": "execute_result"
    }
   ],
   "source": [
    "# Same statistic as running the one-way ANOVA method.\n",
    "stats.f_oneway(group_1.x2,group_2.x2)"
   ]
  },
  {
   "cell_type": "code",
   "execution_count": 16,
   "metadata": {},
   "outputs": [
    {
     "data": {
      "text/latex": [
       "$\\displaystyle \\text{We have that } F_{ x_2 } = 2.68 < F_{ \\text{crit} } = F_{ 1, 18 }(0.1) = 3.01 \\text{, so we would fail to reject the null hypothesis that } \\tau_{1} = \\tau_{2} \\text{ (for the variable }x_{2}\\text{ the means for the two groups are equal)}.$"
      ],
      "text/plain": [
       "<IPython.core.display.Math object>"
      ]
     },
     "metadata": {},
     "output_type": "display_data"
    }
   ],
   "source": [
    "if F_x2 > f_crit_one_way:\n",
    "    display(Math(fr'\\text{{We have that }} F_{{ x_{2} }} = {F_x2:.2f} > F_{{ \\text{{crit}} }} = F_{{ {g-1}, {n-g} }}({alpha_one_way}) = '\n",
    "                 fr'{f_crit_one_way:.2f} \\text{{, so we would reject the null hypothesis that }} '\n",
    "                 r'\\tau_{1} = \\tau_{2} \\text{ (for the variable }x_{2}\\text{ the means for the two groups are equal)}.'\n",
    "                 ))\n",
    "else:\n",
    "    display(Math(fr'\\text{{We have that }} F_{{ x_{2} }} = {F_x2:.2f} < F_{{ \\text{{crit}} }} = F_{{ {g-1}, {n-g} }}({alpha_one_way}) = '\n",
    "                 fr'{f_crit_one_way:.2f} \\text{{, so we would fail to reject the null hypothesis that }} '\n",
    "                 r'\\tau_{1} = \\tau_{2} \\text{ (for the variable }x_{2}\\text{ the means for the two groups are equal)}.'\n",
    "                ))"
   ]
  },
  {
   "cell_type": "markdown",
   "metadata": {},
   "source": [
    "### Multivariate test"
   ]
  },
  {
   "cell_type": "markdown",
   "metadata": {},
   "source": [
    "Using the assumptions from pages 284 and 285, that both populations are multivariate normal and their covariance matrices are equal, we construct the test:\n",
    "$$\n",
    "\\begin{array}{cc}\n",
    "    \\text{H}_{0}: & \\bm{\\mu}_{1} - \\bm{\\mu}_{2} = \\textbf{0} \\Rightarrow \\bm{\\mu}_{1} = \\bm{\\mu}_{2} \\\\\n",
    "    \\text{vs.} & \\\\\n",
    "    \\text{H}_{1}: & \\bm{\\mu}_{1} - \\bm{\\mu}_{2} \\ne \\textbf{0} \\Rightarrow \\bm{\\mu}_{1} \\ne \\bm{\\mu}_{2}\n",
    "\\end{array}\n",
    "$$"
   ]
  },
  {
   "cell_type": "code",
   "execution_count": 17,
   "metadata": {},
   "outputs": [],
   "source": [
    "# Assuming equal covariance matrices for the two groups and small sample size (pages 285 and 286).\n",
    "alpha = 0.01\n",
    "f_value = stats.f.ppf(q=1-alpha, dfn=p, dfd=n-p-1)"
   ]
  },
  {
   "cell_type": "code",
   "execution_count": 18,
   "metadata": {},
   "outputs": [],
   "source": [
    "S_pooled = (1/(n-g)) * sum([(df.Group.eq(g).sum() - 1) * np.cov(df.loc[df.Group.eq(g),['x1','x2']],rowvar=False) for g in df.Group.unique()])"
   ]
  },
  {
   "cell_type": "code",
   "execution_count": 19,
   "metadata": {},
   "outputs": [
    {
     "data": {
      "text/latex": [
       "$\\displaystyle T^{2}={[\\bar{\\textbf{X}}_{1} - \\bar{\\textbf{X}}_{2} - (\\bm{\\mu_{1}} - \\bm{\\mu_{2}})]}^{\\prime}{\\left[ \\left( \\frac{1}{n_{1}} + \\frac{1}{n_{2}} \\right) \\textbf{S}_{\\text{pooled}} \\right]}^{-1}[\\bar{\\textbf{X}}_{1} - \\bar{\\textbf{X}}_{2} - (\\bm{\\mu_{1}} - \\bm{\\mu_{2}})]=17.29$"
      ],
      "text/plain": [
       "<IPython.core.display.Math object>"
      ]
     },
     "metadata": {},
     "output_type": "display_data"
    }
   ],
   "source": [
    "# The values 1 and 2 in xbars[1] and xbars[2] are the column names not an index.\n",
    "T2 = (xbar_groups[1] - xbar_groups[2]).T @ la.inv((1/n1 + 1/n2) * S_pooled) @ (xbar_groups[1] - xbar_groups[2])\n",
    "display(Math(r'T^{2}'\n",
    "             '='\n",
    "             r'{[\\bar{\\textbf{X}}_{1} - \\bar{\\textbf{X}}_{2} - (\\bm{\\mu_{1}} - \\bm{\\mu_{2}})]}^{\\prime}'\n",
    "             r'{\\left[ \\left( \\frac{1}{n_{1}} + \\frac{1}{n_{2}} \\right) \\textbf{S}_{\\text{pooled}} \\right]}^{-1}'\n",
    "             r'[\\bar{\\textbf{X}}_{1} - \\bar{\\textbf{X}}_{2} - (\\bm{\\mu_{1}} - \\bm{\\mu_{2}})]'\n",
    "             '='\n",
    "             f'{T2:.2f}'\n",
    "             ))"
   ]
  },
  {
   "cell_type": "code",
   "execution_count": 20,
   "metadata": {},
   "outputs": [
    {
     "data": {
      "text/latex": [
       "$\\displaystyle \\frac{(n_{1} - 1 + n_{2} - 1)p}{(n1 + n2 - (p + 1))}F_{p, n_{1} + n_{2} - (p+1)}(\\alpha)=\\frac{ (18)(2) }{ 17 }F_{ 2, 17 }(0.01)=2.118 \\times 6.11=12.94$"
      ],
      "text/plain": [
       "<IPython.core.display.Math object>"
      ]
     },
     "metadata": {},
     "output_type": "display_data"
    }
   ],
   "source": [
    "const = ((n1 + n2 - 2)*p)/(n1 + n2 - (p + 1))\n",
    "f_crit = const * f_value\n",
    "f_crit\n",
    "display(Math(r'\\frac{(n_{1} - 1 + n_{2} - 1)p}{(n1 + n2 - (p + 1))}'\n",
    "             r'F_{p, n_{1} + n_{2} - (p+1)}(\\alpha)'\n",
    "             '='\n",
    "             fr'\\frac{{ ({n1 + n2 - 2})({p}) }}{{ {n1 + n2 - (p + 1)} }}'\n",
    "             fr'F_{{ {p}, {n-(p+1)} }}({alpha})'\n",
    "             '='\n",
    "             fr'{const:.3f} \\times {f_value:.2f}'\n",
    "             '='\n",
    "             f'{f_crit:.2f}'\n",
    "             ))"
   ]
  },
  {
   "cell_type": "code",
   "execution_count": 21,
   "metadata": {},
   "outputs": [
    {
     "data": {
      "text/latex": [
       "$\\displaystyle \\text{We have that } T^{2} = 17.29 > F_{ 2, 17 }(0.01) = 12.94 \\text{, so we would reject the null hypothesis that } \\bm{\\mu}_{1} = \\bm{\\mu}_{2} \\text{ (the mean vectors for the two groups are equal)}.$"
      ],
      "text/plain": [
       "<IPython.core.display.Math object>"
      ]
     },
     "metadata": {},
     "output_type": "display_data"
    }
   ],
   "source": [
    "if T2 > f_crit:\n",
    "    display(Math(fr'\\text{{We have that }} T^{{2}} = {T2:.2f} > F_{{ {p}, {n1+n2-(p+1)} }}({alpha}) = '\n",
    "                 fr'{f_crit:.2f} \\text{{, so we would reject the null hypothesis that }} '\n",
    "                 r'\\bm{\\mu}_{1} = \\bm{\\mu}_{2} \\text{ (the mean vectors for the two groups are equal)}.'\n",
    "                 ))\n",
    "else:\n",
    "    display(Math(fr'\\text{{We have that }} T^{{2}} = {T2:.2f} < F_{{ {p}, {n1+n2-(p+1)} }}({alpha}) = '\n",
    "                 fr'{f_crit:.2f} \\text{{, so we would fail to reject the null hypothesis that }} '\n",
    "                 r'\\bm{\\mu}_{1} = \\bm{\\mu}_{2} \\text{ (the mean vectors for the two groups are equal)}.'\n",
    "                ))"
   ]
  }
 ],
 "metadata": {
  "kernelspec": {
   "display_name": "py312",
   "language": "python",
   "name": "py312"
  },
  "language_info": {
   "codemirror_mode": {
    "name": "ipython",
    "version": 3
   },
   "file_extension": ".py",
   "mimetype": "text/x-python",
   "name": "python",
   "nbconvert_exporter": "python",
   "pygments_lexer": "ipython3",
   "version": "3.12.5"
  }
 },
 "nbformat": 4,
 "nbformat_minor": 2
}
