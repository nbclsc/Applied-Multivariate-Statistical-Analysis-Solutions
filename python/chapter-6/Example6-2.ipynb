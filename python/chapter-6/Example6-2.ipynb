{
 "cells": [
  {
   "cell_type": "markdown",
   "metadata": {},
   "source": [
    "# Example 6.2"
   ]
  },
  {
   "cell_type": "code",
   "execution_count": 1,
   "metadata": {},
   "outputs": [],
   "source": [
    "import pathlib\n",
    "import numpy as np\n",
    "import pandas as pd\n",
    "import numpy.linalg as la\n",
    "from IPython.display import display, Math\n",
    "from scipy import stats"
   ]
  },
  {
   "cell_type": "markdown",
   "metadata": {},
   "source": [
    "Table 6.2 contains the four measurements for each of the 19 dogs, where\n",
    "\n",
    "$$\n",
    "    \\begin{align*}\n",
    "        \\text{Treatment 1} &= \\text{high CO2 pressure without H} \\\\\n",
    "        \\text{Treatment 2} &= \\text{low CO2 pressure without H} \\\\\n",
    "        \\text{Treatment 3} &= \\text{high CO2 pressure with H} \\\\\n",
    "        \\text{Treatment 4} &= \\text{low CO2 pressure with H}\n",
    "    \\end{align*}\n",
    "$$"
   ]
  },
  {
   "cell_type": "code",
   "execution_count": 2,
   "metadata": {},
   "outputs": [],
   "source": [
    "def load_data() -> pd.DataFrame:\n",
    "    # Load the sleeping dog data.\n",
    "    fpth = pathlib.WindowsPath(r'..\\..\\data\\Table6.2.xlsx')\n",
    "    df = pd.read_excel(fpth).drop(columns='Dog')\n",
    "    return df"
   ]
  },
  {
   "cell_type": "code",
   "execution_count": 3,
   "metadata": {},
   "outputs": [
    {
     "data": {
      "text/html": [
       "<div>\n",
       "<style scoped>\n",
       "    .dataframe tbody tr th:only-of-type {\n",
       "        vertical-align: middle;\n",
       "    }\n",
       "\n",
       "    .dataframe tbody tr th {\n",
       "        vertical-align: top;\n",
       "    }\n",
       "\n",
       "    .dataframe thead th {\n",
       "        text-align: right;\n",
       "    }\n",
       "</style>\n",
       "<table border=\"1\" class=\"dataframe\">\n",
       "  <thead>\n",
       "    <tr style=\"text-align: right;\">\n",
       "      <th></th>\n",
       "      <th>Treatment1</th>\n",
       "      <th>Treatment2</th>\n",
       "      <th>Treatment3</th>\n",
       "      <th>Treatment4</th>\n",
       "    </tr>\n",
       "  </thead>\n",
       "  <tbody>\n",
       "    <tr>\n",
       "      <th>0</th>\n",
       "      <td>426</td>\n",
       "      <td>609</td>\n",
       "      <td>556</td>\n",
       "      <td>600</td>\n",
       "    </tr>\n",
       "    <tr>\n",
       "      <th>1</th>\n",
       "      <td>253</td>\n",
       "      <td>236</td>\n",
       "      <td>392</td>\n",
       "      <td>395</td>\n",
       "    </tr>\n",
       "    <tr>\n",
       "      <th>2</th>\n",
       "      <td>359</td>\n",
       "      <td>433</td>\n",
       "      <td>349</td>\n",
       "      <td>357</td>\n",
       "    </tr>\n",
       "  </tbody>\n",
       "</table>\n",
       "</div>"
      ],
      "text/plain": [
       "   Treatment1  Treatment2  Treatment3  Treatment4\n",
       "0         426         609         556         600\n",
       "1         253         236         392         395\n",
       "2         359         433         349         357"
      ]
     },
     "execution_count": 3,
     "metadata": {},
     "output_type": "execute_result"
    }
   ],
   "source": [
    "dog_df = load_data()\n",
    "dog_df.head(3)"
   ]
  },
  {
   "cell_type": "markdown",
   "metadata": {},
   "source": [
    "$$\n",
    "    \\begin{align*}\n",
    "    (\\mu_{3} + \\mu_{4}) - (\\mu_{1} + \\mu_{2}) &= \\left(\\begin{matrix} \\text{Halothane contrast representing the} \\\\ \\text{difference between the presence and} \\\\ \\text{absence of halothane}\\end{matrix}\\right) \\\\\n",
    "    (\\mu_{1} + \\mu_{3}) - (\\mu_{2} + \\mu_{4}) &= \\left(\\begin{matrix} \\text{CO}_{2}\\text{ contrast representing the difference} \\\\ \\text{between high and low }\\text{CO}_{2}\\text{ pressure}\\end{matrix}\\right) \\\\\n",
    "    (\\mu_{1} + \\mu_{4}) - (\\mu_{2} + \\mu_{3}) &= \\left(\\begin{matrix} \\text{Contrast representing the influence} \\\\ \\text{of halothane on }\\text{CO}_{2}\\text{ pressure differences} \\\\ \\text{(H-CO}_{2}\\text{ pressure \"interaction\")}\\end{matrix}\\right)\n",
    "    \\end{align*}\n",
    "$$"
   ]
  },
  {
   "cell_type": "code",
   "execution_count": 4,
   "metadata": {},
   "outputs": [],
   "source": [
    "X = dog_df.to_numpy()\n",
    "n, p = X.shape\n",
    "C = np.array([[-1, -1,  1,  1],\n",
    "              [ 1, -1,  1, -1],\n",
    "              [ 1, -1, -1,  1]]\n",
    "             )\n",
    "q = C.shape[1]"
   ]
  },
  {
   "cell_type": "code",
   "execution_count": 5,
   "metadata": {},
   "outputs": [],
   "source": [
    "xbar = np.mean(X, axis=0)[:, np.newaxis]\n",
    "S = np.cov(X, rowvar=False)"
   ]
  },
  {
   "cell_type": "code",
   "execution_count": 6,
   "metadata": {},
   "outputs": [],
   "source": [
    "Cxbar = C @ xbar\n",
    "CSC = C @ S @ C.T"
   ]
  },
  {
   "cell_type": "markdown",
   "metadata": {},
   "source": [
    "Creating an $\\alpha=0.05$-level test of the hypothesis\n",
    "$$\n",
    "    \\begin{align*}\n",
    "        H_{0}: \\textbf{C}\\bm{\\mu} = &\\textbf{0} \\\\\n",
    "        H_{a}: \\textbf{C}\\bm{\\mu} \\ne &\\textbf{0}\n",
    "    \\end{align*}\n",
    "$$"
   ]
  },
  {
   "cell_type": "markdown",
   "metadata": {},
   "source": [
    "$$\n",
    "    T^{2}\n",
    "    =\n",
    "    n\n",
    "    {\\left(\\textbf{C}\\bar{\\textbf{x}}\\right)}^{\\prime}\n",
    "    {\\left(\\textbf{C}\\textbf{S}\\textbf{C}\\right)}^{-1}\n",
    "    \\left(\\textbf{C}\\bar{\\textbf{x}}\\right)\n",
    "$$"
   ]
  },
  {
   "cell_type": "code",
   "execution_count": 7,
   "metadata": {},
   "outputs": [
    {
     "data": {
      "text/plain": [
       "116.01632120098769"
      ]
     },
     "execution_count": 7,
     "metadata": {},
     "output_type": "execute_result"
    }
   ],
   "source": [
    "T2 = n*(Cxbar.T @ la.inv(CSC) @ Cxbar).item()\n",
    "T2"
   ]
  },
  {
   "cell_type": "markdown",
   "metadata": {},
   "source": [
    "$$\n",
    "    \\frac{(n-1)(q-1)}{n-(q-1)}\n",
    "    F_{q-1, n-(q-1)}\n",
    "    (\\alpha)\n",
    "$$"
   ]
  },
  {
   "cell_type": "code",
   "execution_count": 8,
   "metadata": {},
   "outputs": [
    {
     "data": {
      "text/plain": [
       "10.931191371405848"
      ]
     },
     "execution_count": 8,
     "metadata": {},
     "output_type": "execute_result"
    }
   ],
   "source": [
    "const = ((n-1)*(q-1))/(n-(q-1))\n",
    "f_val = stats.f.ppf(1-0.05, dfn=q-1, dfd=n-(q-1))\n",
    "f_crit = const*f_val\n",
    "f_crit"
   ]
  },
  {
   "cell_type": "markdown",
   "metadata": {},
   "source": [
    "Print out the result"
   ]
  },
  {
   "cell_type": "code",
   "execution_count": 9,
   "metadata": {},
   "outputs": [
    {
     "data": {
      "text/latex": [
       "$\\displaystyle \\text{Reject }H_{0}: C\\bar{\\textbf{x}} = \\textbf{0}\\text{ in favor of }H_{a}: \\textbf{C}\\bar{\\textbf{x}} \\ne \\textbf{0}\\text{, since }T^{2} = 116.016 > \\frac{(n-1)(q-1)}{n-(q-1)}F_{q-1, n-(q-1)}(0.05) = 10.931$"
      ],
      "text/plain": [
       "<IPython.core.display.Math object>"
      ]
     },
     "metadata": {},
     "output_type": "display_data"
    }
   ],
   "source": [
    "if T2 <= f_crit:\n",
    "    display(Math(fr'\\text{{Fail to reject }}H_{{0}}: C\\bar{{\\textbf{{x}}}} = \\textbf{{0}}'\n",
    "                fr'\\text{{, since }}T^{{2}} = {T2:.3f} \\le '\n",
    "                fr'\\frac{{(n-1)(q-1)}}{{n-(q-1)}}F_{{q-1, n-(q-1)}}(0.05) = {f_crit:.3f}'))\n",
    "else:\n",
    "    display(Math(fr'\\text{{Reject }}H_{{0}}: C\\bar{{\\textbf{{x}}}} = \\textbf{{0}}'\n",
    "                 fr'\\text{{ in favor of }}H_{{a}}: \\textbf{{C}}\\bar{{\\textbf{{x}}}} \\ne \\textbf{{0}}'\n",
    "                fr'\\text{{, since }}T^{{2}} = {T2:.3f} > '\n",
    "                fr'\\frac{{(n-1)(q-1)}}{{n-(q-1)}}F_{{q-1, n-(q-1)}}(0.05) = {f_crit:.3f}'))"
   ]
  },
  {
   "cell_type": "markdown",
   "metadata": {},
   "source": [
    "Create 95% simultaneous confidence intervals"
   ]
  },
  {
   "cell_type": "code",
   "execution_count": 10,
   "metadata": {},
   "outputs": [
    {
     "data": {
      "text/plain": [
       "array([[ 135.65029727,  282.98128168],\n",
       "       [-114.72708272,   -5.37818044],\n",
       "       [ -78.72858439,   53.14963702]])"
      ]
     },
     "execution_count": 10,
     "metadata": {},
     "output_type": "execute_result"
    }
   ],
   "source": [
    "ci95 = Cxbar + np.array([-1, 1]) * np.sqrt(f_crit) * np.sqrt(np.diag(CSC)[:, np.newaxis] / n)\n",
    "ci95"
   ]
  },
  {
   "cell_type": "code",
   "execution_count": 11,
   "metadata": {},
   "outputs": [],
   "source": [
    "# Text descriptions for each contrast.\n",
    "desc_text = [r'\\text{halothane influence}',\n",
    "             r'CO_{2}\\text{ pressure influence }',\n",
    "             r'\\text{H-CO}_{2}\\text{ pressure \"interaction\" }']"
   ]
  },
  {
   "cell_type": "code",
   "execution_count": 12,
   "metadata": {},
   "outputs": [
    {
     "data": {
      "text/latex": [
       "$\\displaystyle \\text{halothane influence} = 209.316 \\pm \\sqrt{10.931} \\sqrt{\\frac{9432.228}{19}} = 209.316 \\pm 73.665 \\hspace{0.4cm}\\text{ or as }\\hspace{0.4cm}(135.650, 282.981)$"
      ],
      "text/plain": [
       "<IPython.core.display.Math object>"
      ]
     },
     "metadata": {},
     "output_type": "display_data"
    },
    {
     "data": {
      "text/latex": [
       "$\\displaystyle CO_{2}\\text{ pressure influence } = -60.053 \\pm \\sqrt{10.931} \\sqrt{\\frac{5195.830}{19}} = -60.053 \\pm 54.674 \\hspace{0.4cm}\\text{ or as }\\hspace{0.4cm}(-114.727, -5.378)$"
      ],
      "text/plain": [
       "<IPython.core.display.Math object>"
      ]
     },
     "metadata": {},
     "output_type": "display_data"
    },
    {
     "data": {
      "text/latex": [
       "$\\displaystyle \\text{H-CO}_{2}\\text{ pressure \"interaction\" } = -12.789 \\pm \\sqrt{10.931} \\sqrt{\\frac{7557.398}{19}} = -12.789 \\pm 65.939 \\hspace{0.4cm}\\text{ or as }\\hspace{0.4cm}(-78.729, 53.150)$"
      ],
      "text/plain": [
       "<IPython.core.display.Math object>"
      ]
     },
     "metadata": {},
     "output_type": "display_data"
    }
   ],
   "source": [
    "for i in range(ci95.shape[0]):\n",
    "    display(Math(desc_text[i] + fr' = {Cxbar[i].item():.3f} \\pm '\n",
    "                fr'\\sqrt{{{f_crit:.3f}}} '\n",
    "                fr'\\sqrt{{\\frac{{{np.diag(CSC)[i]:.3f}}}{{{n}}}}} = '\n",
    "                fr'{Cxbar[i].item():.3f} \\pm {np.sqrt(f_crit*(np.diag(CSC)[i]/n)):.3f} '\n",
    "                fr'\\hspace{{0.4cm}}\\text{{ or as }}\\hspace{{0.4cm}}'\n",
    "                fr'({ci95[i,0]:.3f}, {ci95[i,1]:.3f})'\n",
    "                ))"
   ]
  }
 ],
 "metadata": {
  "kernelspec": {
   "display_name": "Python 3",
   "language": "python",
   "name": "python3"
  },
  "language_info": {
   "codemirror_mode": {
    "name": "ipython",
    "version": 3
   },
   "file_extension": ".py",
   "mimetype": "text/x-python",
   "name": "python",
   "nbconvert_exporter": "python",
   "pygments_lexer": "ipython3",
   "version": "3.12.5"
  }
 },
 "nbformat": 4,
 "nbformat_minor": 2
}
