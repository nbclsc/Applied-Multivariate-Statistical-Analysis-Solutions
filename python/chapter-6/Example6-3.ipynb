{
 "cells": [
  {
   "cell_type": "markdown",
   "metadata": {},
   "source": [
    "# Example 6.3"
   ]
  },
  {
   "cell_type": "code",
   "execution_count": 1,
   "metadata": {},
   "outputs": [],
   "source": [
    "import numpy as np\n",
    "import pandas as pd\n",
    "import matplotlib.pyplot as plt\n",
    "import numpy.linalg as la\n",
    "from matplotlib.patches import Ellipse\n",
    "from scipy import stats"
   ]
  },
  {
   "cell_type": "markdown",
   "metadata": {},
   "source": [
    "- $X_{1} =$ lather\n",
    "- $X_{2} =$ mildness"
   ]
  },
  {
   "cell_type": "code",
   "execution_count": 2,
   "metadata": {},
   "outputs": [],
   "source": [
    "xbar1 = np.array([8.3, 4.1])[:, np.newaxis]\n",
    "xbar2 = np.array([10.2, 3.9])[:, np.newaxis]"
   ]
  },
  {
   "cell_type": "code",
   "execution_count": 3,
   "metadata": {},
   "outputs": [],
   "source": [
    "S1 = np.array([[2,1],[1,6]])\n",
    "S2 = np.array([[2,1],[1,4]])"
   ]
  },
  {
   "cell_type": "code",
   "execution_count": 4,
   "metadata": {},
   "outputs": [],
   "source": [
    "n1 = n2 = 50\n",
    "p = 2\n",
    "alpha = 0.05"
   ]
  },
  {
   "cell_type": "markdown",
   "metadata": {},
   "source": [
    "$$\n",
    "\\textbf{S}_{\\text{pooled}}\n",
    "=\n",
    "\\frac{n_{1} - 1}{n_{1} + n_{2} - 2} \\textbf{S}_{1}\n",
    "+\n",
    "\\frac{n_{2} - 1}{n_{1} + n_{2} - 2} \\textbf{S}_{2}\n",
    "$$"
   ]
  },
  {
   "cell_type": "code",
   "execution_count": 5,
   "metadata": {},
   "outputs": [
    {
     "data": {
      "text/plain": [
       "array([[2., 1.],\n",
       "       [1., 5.]])"
      ]
     },
     "execution_count": 5,
     "metadata": {},
     "output_type": "execute_result"
    }
   ],
   "source": [
    "S_pooled = ((n1-1)/(n1 + n2 - 2))*S1 + ((n2-1)/(n1 + n2 - 2))*S2\n",
    "S_pooled"
   ]
  },
  {
   "cell_type": "code",
   "execution_count": 6,
   "metadata": {},
   "outputs": [
    {
     "data": {
      "text/plain": [
       "array([[-1.9],\n",
       "       [ 0.2]])"
      ]
     },
     "execution_count": 6,
     "metadata": {},
     "output_type": "execute_result"
    }
   ],
   "source": [
    "xbard = xbar1 - xbar2\n",
    "xbard"
   ]
  },
  {
   "cell_type": "code",
   "execution_count": 7,
   "metadata": {},
   "outputs": [],
   "source": [
    "l, e = la.eigh(S_pooled)"
   ]
  },
  {
   "cell_type": "markdown",
   "metadata": {},
   "source": [
    "$$\n",
    "    c^{2}\n",
    "    =\n",
    "    \\frac{(n_{1} + n_{2} - 2)p}{n_{1} + n_{2} - (p + 1)}\n",
    "    F_{p, n_{1} + n_{2} - (p + 1)}\n",
    "    (\\alpha)\n",
    "$$"
   ]
  },
  {
   "cell_type": "code",
   "execution_count": 8,
   "metadata": {},
   "outputs": [
    {
     "data": {
      "text/plain": [
       "6.244088539488174"
      ]
     },
     "execution_count": 8,
     "metadata": {},
     "output_type": "execute_result"
    }
   ],
   "source": [
    "const = (((n1 + n2 - 2)*p)/(n1 + n2 - (p + 1)))\n",
    "f_value = stats.f.ppf(1-alpha, dfn=p, dfd=n1+n2-(p+1))\n",
    "c2 = const*f_value\n",
    "c2"
   ]
  },
  {
   "cell_type": "code",
   "execution_count": 9,
   "metadata": {},
   "outputs": [
    {
     "data": {
      "text/plain": [
       "array([0.65107969, 1.15084318])"
      ]
     },
     "execution_count": 9,
     "metadata": {},
     "output_type": "execute_result"
    }
   ],
   "source": [
    "np.sqrt(l)*np.sqrt(((1/n1) + (1/n2))*c2)"
   ]
  },
  {
   "cell_type": "code",
   "execution_count": 10,
   "metadata": {},
   "outputs": [],
   "source": [
    "max_idx, min_idx = np.argmax(l), np.argmin(l)\n",
    "lmbda1, lmbda2 = l[max_idx], l[min_idx]\n",
    "e1, e2 = e[:, max_idx].copy(), e[:, min_idx].copy()\n",
    "ell_width = np.sqrt(lmbda1)*np.sqrt((1/n1) + (1/n2))*np.sqrt(const*f_value)\n",
    "ell_height = np.sqrt(lmbda2)*np.sqrt((1/n1) + (1/n2))*np.sqrt(const*f_value)\n",
    "ell_angle = np.degrees(np.arctan2(e1[1], e1[0]))"
   ]
  },
  {
   "cell_type": "code",
   "execution_count": 11,
   "metadata": {},
   "outputs": [
    {
     "data": {
      "image/png": "[encoded data removed]",
      "text/plain": [
       "<Figure size 640x480 with 1 Axes>"
      ]
     },
     "metadata": {},
     "output_type": "display_data"
    }
   ],
   "source": [
    "plt.figure()\n",
    "ax = plt.gca()\n",
    "ellipse = Ellipse(xy=xbard,\n",
    "                width=2*ell_width,\n",
    "                height=2*ell_height,\n",
    "                angle=ell_angle,\n",
    "                fill=False)\n",
    "ax.add_patch(ellipse)\n",
    "for i in [-1, 1]:\n",
    "    plt.quiver(xbard[0],\n",
    "            xbard[1],\n",
    "            e1[0] * ell_width * i,\n",
    "            e1[1] * ell_width * i,\n",
    "            angles='xy',\n",
    "            scale_units='xy',\n",
    "            scale=1\n",
    "            )\n",
    "    plt.quiver(xbard[0],\n",
    "            xbard[1],\n",
    "            e2[0]* ell_height * i,\n",
    "            e2[1]* ell_height * i,\n",
    "            angles='xy',\n",
    "            scale_units='xy',\n",
    "            scale=1)\n",
    "ax.set_aspect('equal')\n",
    "\n",
    "# Set the spines to cross at (0, 0).\n",
    "ax.spines['left'].set_position('zero')\n",
    "ax.spines['bottom'].set_position('zero')\n",
    "\n",
    "# Hide the top and right spines.\n",
    "ax.spines['top'].set_color('none')\n",
    "ax.spines['right'].set_color('none')\n",
    "\n",
    "# Add arrows at the ends of the axes.\n",
    "ax.plot(1, 0, \">k\", transform=ax.get_yaxis_transform(), clip_on=False)\n",
    "ax.plot(0, 1, \"^k\", transform=ax.get_xaxis_transform(), clip_on=False)\n",
    "\n",
    "# Add labels for the axes.\n",
    "ax.text(2, 0.2, r'$\\mu_{11} - \\mu_{21}$', fontsize=12, ha='right')\n",
    "ax.text(0.2, 2, r'$\\mu_{12} - \\mu_{22}$', fontsize=12, va='bottom')\n",
    "\n",
    "plt.xlim(-3,2)\n",
    "plt.ylim(-1.2, 2.0)\n",
    "plt.show()"
   ]
  }
 ],
 "metadata": {
  "kernelspec": {
   "display_name": "Python 3",
   "language": "python",
   "name": "python3"
  },
  "language_info": {
   "codemirror_mode": {
    "name": "ipython",
    "version": 3
   },
   "file_extension": ".py",
   "mimetype": "text/x-python",
   "name": "python",
   "nbconvert_exporter": "python",
   "pygments_lexer": "ipython3",
   "version": "3.12.5"
  }
 },
 "nbformat": 4,
 "nbformat_minor": 2
}
