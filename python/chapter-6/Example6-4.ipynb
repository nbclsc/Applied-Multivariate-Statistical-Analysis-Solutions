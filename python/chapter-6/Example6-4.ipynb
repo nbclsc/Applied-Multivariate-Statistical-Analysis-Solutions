{
 "cells": [
  {
   "cell_type": "markdown",
   "metadata": {},
   "source": [
    "# Example 6.4"
   ]
  },
  {
   "cell_type": "code",
   "execution_count": 1,
   "metadata": {},
   "outputs": [],
   "source": [
    "import numpy as np\n",
    "import pandas as pd\n",
    "import matplotlib.pyplot as plt\n",
    "import numpy.linalg as la\n",
    "from collections import namedtuple\n",
    "from IPython.display import Math, display\n",
    "from matplotlib.patches import Ellipse\n",
    "from scipy import stats"
   ]
  },
  {
   "cell_type": "markdown",
   "metadata": {},
   "source": [
    "Samples of sizes $n_{1} = 45$ and $n_{2} = 55$ were taken of Wisconsin\n",
    "homeowners with and without air conditioning, respectively. (Data courtesy of Statistical\n",
    "Laboratory, University of Wisconsin.) Two measurements of electrical usage\n",
    "(in kilowatt hours) were considered. The first is a measure of total on-peak consumption\n",
    "($X_{1}$) during July, and the second is a measure of total off-peak consumption\n",
    "( $X_{2}$) during July."
   ]
  },
  {
   "cell_type": "code",
   "execution_count": 2,
   "metadata": {},
   "outputs": [],
   "source": [
    "n1 = 45\n",
    "n2 = 55"
   ]
  },
  {
   "cell_type": "code",
   "execution_count": 3,
   "metadata": {},
   "outputs": [],
   "source": [
    "xbar1 = np.array([[204.4], [556.6]])\n",
    "xbar2 = np.array([[130.0], [355.0]])\n",
    "p = xbar1.shape[0]"
   ]
  },
  {
   "cell_type": "code",
   "execution_count": 4,
   "metadata": {},
   "outputs": [],
   "source": [
    "S1 = np.array([[13825.3, 23823.4], [23823.4, 73107.4]])\n",
    "S2 = np.array([[ 8632.0, 19616.7], [19616.7, 55964.5]])"
   ]
  },
  {
   "cell_type": "markdown",
   "metadata": {},
   "source": [
    "$$\n",
    "    \\textbf{S}_{\\text{pooled}}\n",
    "    =\n",
    "    \\frac{(n_{1} - 1)\\textbf{S}_{1} + (n_{2} - 1)\\textbf{S}_{2}}{(n_{1} - 1) + (n_{2} - 1)}\n",
    "$$"
   ]
  },
  {
   "cell_type": "code",
   "execution_count": 5,
   "metadata": {},
   "outputs": [
    {
     "data": {
      "text/plain": [
       "array([[10963.68571429, 21505.42244898],\n",
       "       [21505.42244898, 63661.3122449 ]])"
      ]
     },
     "execution_count": 5,
     "metadata": {},
     "output_type": "execute_result"
    }
   ],
   "source": [
    "S_pooled = ((n1 - 1)*S1 + (n2 - 1)*S2) / ((n1 - 1) + (n2 - 1))\n",
    "S_pooled"
   ]
  },
  {
   "cell_type": "markdown",
   "metadata": {},
   "source": [
    "$$\n",
    "c^{2}\n",
    "=\n",
    "\\frac{((n_{1} - 1) + (n_{2} - 1))p}{n_{1} + n_{2} - (p + 1)}\n",
    "F_{p, n_{1} + n_{2} - (p + 1)}(\\alpha)\n",
    "$$"
   ]
  },
  {
   "cell_type": "code",
   "execution_count": 6,
   "metadata": {},
   "outputs": [
    {
     "data": {
      "text/plain": [
       "6.244088539488174"
      ]
     },
     "execution_count": 6,
     "metadata": {},
     "output_type": "execute_result"
    }
   ],
   "source": [
    "alpha = 0.05\n",
    "const = (((n1 - 1) + (n2 - 1))*p) / (n1 + n2 - (p + 1))\n",
    "f_value = stats.f.ppf(1 - alpha, dfn=p, dfd=n1 + n2 - (p + 1))\n",
    "c2 = const*f_value\n",
    "c2"
   ]
  },
  {
   "cell_type": "markdown",
   "metadata": {},
   "source": [
    "$$\n",
    "    (\\bar{\\textbf{x}}_{1} - \\bar{\\textbf{x}}_{2})\n",
    "    \\pm\n",
    "    c\n",
    "    \\sqrt{\n",
    "        \\left(\n",
    "            \\frac{1}{n_{1}}\n",
    "            +\n",
    "            \\frac{1}{n_{2}}\n",
    "        \\right)\n",
    "        \\textbf{S}_{\\text{pooled}}\n",
    "        }\n",
    "$$"
   ]
  },
  {
   "cell_type": "code",
   "execution_count": 7,
   "metadata": {},
   "outputs": [
    {
     "data": {
      "text/plain": [
       "array([[ 21.80733073, 126.99266927],\n",
       "       [ 74.86845837, 328.33154163]])"
      ]
     },
     "execution_count": 7,
     "metadata": {},
     "output_type": "execute_result"
    }
   ],
   "source": [
    "ci95 = (xbar1 - xbar2) + np.array([-1, 1]) * np.sqrt(c2) * np.sqrt(((1/n1) + (1/n2))*np.diag(S_pooled)[:, np.newaxis])\n",
    "ci95"
   ]
  },
  {
   "cell_type": "code",
   "execution_count": 8,
   "metadata": {},
   "outputs": [],
   "source": [
    "# Something to store information about the CI variables.\n",
    "LabelCI = namedtuple('LabelCI', ['Text', 'Math'])\n",
    "ci95_labels = [LabelCI(Text='on-peak', Math=r'\\mu_{11} - \\mu_{21}'),\n",
    "               LabelCI(Text='off-peak', Math=r'\\mu_{12} - \\mu_{22}')]"
   ]
  },
  {
   "cell_type": "code",
   "execution_count": 9,
   "metadata": {},
   "outputs": [
    {
     "data": {
      "text/latex": [
       "$\\displaystyle \\mu_{11} - \\mu_{21}:(204.4 - 130.0)\\pm \\sqrt{6.24} \\sqrt{\\left(\\frac{1}{45} + \\frac{1}{55}\\right) 10963.7}\\hspace{0.4cm}\\text{or}\\hspace{0.4cm}21.8 \\leq \\mu_{11} - \\mu_{21} \\leq 127.0\\hspace{0.8cm}(\\text{on-peak})$"
      ],
      "text/plain": [
       "<IPython.core.display.Math object>"
      ]
     },
     "metadata": {},
     "output_type": "display_data"
    },
    {
     "data": {
      "text/latex": [
       "$\\displaystyle \\mu_{12} - \\mu_{22}:(556.6 - 355.0)\\pm \\sqrt{6.24} \\sqrt{\\left(\\frac{1}{45} + \\frac{1}{55}\\right) 63661.3}\\hspace{0.4cm}\\text{or}\\hspace{0.4cm}74.9 \\leq \\mu_{12} - \\mu_{22} \\leq 328.3\\hspace{0.8cm}(\\text{off-peak})$"
      ],
      "text/plain": [
       "<IPython.core.display.Math object>"
      ]
     },
     "metadata": {},
     "output_type": "display_data"
    }
   ],
   "source": [
    "for i in range(ci95.shape[0]):\n",
    "    display(Math(f'{ci95_labels[i].Math}:'\n",
    "                 fr'({xbar1[i,0]:.1f} - {xbar2[i,0]:.1f})'\n",
    "                 fr'\\pm \\sqrt{{{c2:.2f}}} '\n",
    "                 fr'\\sqrt{{\\left(\\frac{{1}}{{{n1}}} + \\frac{{1}}{{{n2}}}\\right) {S_pooled[i,i]:.1f}}}'\n",
    "                 r'\\hspace{0.4cm}\\text{or}\\hspace{0.4cm}'\n",
    "                 fr'{ci95[i,0]:.1f} \\leq {ci95_labels[i].Math} \\leq {ci95[i,1]:.1f}'\n",
    "                 fr'\\hspace{{0.8cm}}(\\text{{{ci95_labels[i].Text}}})'\n",
    "                 ))"
   ]
  },
  {
   "cell_type": "code",
   "execution_count": 10,
   "metadata": {},
   "outputs": [],
   "source": [
    "l, e = la.eigh(S_pooled)\n",
    "max_idx, min_idx = np.argmax(l), np.argmin(l)\n",
    "lmbda1, lmbda2 = l[max_idx], l[min_idx]\n",
    "e1, e2 = e[:, max_idx].copy(), e[:, min_idx].copy()\n",
    "ell_width = np.sqrt(lmbda1)*np.sqrt((1/n1) + (1/n2))*np.sqrt(const*f_value)\n",
    "ell_height = np.sqrt(lmbda2)*np.sqrt((1/n1) + (1/n2))*np.sqrt(const*f_value)\n",
    "ell_angle = np.degrees(np.arctan2(e1[1], e1[0]))"
   ]
  },
  {
   "cell_type": "code",
   "execution_count": 11,
   "metadata": {},
   "outputs": [
    {
     "data": {
      "text/latex": [
       "$\\displaystyle \\sqrt{\\lambda_{1}}\\sqrt{\\left(\\frac{1}{n_{1}} + \\frac{1}{n_{2}}\\right) c^{2}} =\\sqrt{71323.4}\\sqrt{ \\left( \\frac{1}{45} + \\frac{1}{55} \\right) 6.24 } =134.1$"
      ],
      "text/plain": [
       "<IPython.core.display.Math object>"
      ]
     },
     "metadata": {},
     "output_type": "display_data"
    },
    {
     "data": {
      "text/latex": [
       "$\\displaystyle \\sqrt{\\lambda_{2}}\\sqrt{\\left(\\frac{1}{n_{1}} + \\frac{1}{n_{2}}\\right) c^{2}} =\\sqrt{3301.6}\\sqrt{ \\left( \\frac{1}{45} + \\frac{1}{55} \\right) 6.24 } =28.9$"
      ],
      "text/plain": [
       "<IPython.core.display.Math object>"
      ]
     },
     "metadata": {},
     "output_type": "display_data"
    }
   ],
   "source": [
    "display(Math(r'\\sqrt{\\lambda_{1}}'\n",
    "             r'\\sqrt{\\left(\\frac{1}{n_{1}} + \\frac{1}{n_{2}}\\right) c^{2}} ='\n",
    "             fr'\\sqrt{{{lmbda1:.1f}}}'\n",
    "             fr'\\sqrt{{ \\left( \\frac{{1}}{{{n1}}} + \\frac{{1}}{{{n2}}} \\right) {c2:.2f} }} ='\n",
    "             f'{np.sqrt(lmbda1)*np.sqrt(((1/n1) + (1/n2))*c2):.1f}'\n",
    "             ))\n",
    "\n",
    "display(Math(r'\\sqrt{\\lambda_{2}}'\n",
    "             r'\\sqrt{\\left(\\frac{1}{n_{1}} + \\frac{1}{n_{2}}\\right) c^{2}} ='\n",
    "             fr'\\sqrt{{{lmbda2:.1f}}}'\n",
    "             fr'\\sqrt{{ \\left( \\frac{{1}}{{{n1}}} + \\frac{{1}}{{{n2}}} \\right) {c2:.2f} }} ='\n",
    "             f'{np.sqrt(lmbda2)*np.sqrt(((1/n1) + (1/n2))*c2):.1f}'\n",
    "             ))"
   ]
  },
  {
   "cell_type": "code",
   "execution_count": 12,
   "metadata": {},
   "outputs": [
    {
     "data": {
      "image/png": "[encoded data removed]",
      "text/plain": [
       "<Figure size 640x480 with 1 Axes>"
      ]
     },
     "metadata": {},
     "output_type": "display_data"
    }
   ],
   "source": [
    "plt.figure()\n",
    "ax = plt.gca()\n",
    "xbard = xbar1 - xbar2\n",
    "ellipse = Ellipse(xy=xbard,\n",
    "                width=2*ell_width,\n",
    "                height=2*ell_height,\n",
    "                angle=ell_angle,\n",
    "                fill=False)\n",
    "ax.add_patch(ellipse)\n",
    "for i in [-1, 1]:\n",
    "    plt.quiver(xbard[0],\n",
    "            xbard[1],\n",
    "            e1[0] * ell_width * i,\n",
    "            e1[1] * ell_width * i,\n",
    "            angles='xy',\n",
    "            scale_units='xy',\n",
    "            scale=1\n",
    "            )\n",
    "    plt.quiver(xbard[0],\n",
    "            xbard[1],\n",
    "            e2[0]* ell_height * i,\n",
    "            e2[1]* ell_height * i,\n",
    "            angles='xy',\n",
    "            scale_units='xy',\n",
    "            scale=1)\n",
    "ax.set_aspect('equal')\n",
    "\n",
    "# Set the spines to cross at (0, 0).\n",
    "ax.spines['left'].set_position('zero')\n",
    "ax.spines['bottom'].set_position('zero')\n",
    "\n",
    "# Hide the top and right spines.\n",
    "ax.spines['top'].set_color('none')\n",
    "ax.spines['right'].set_color('none')\n",
    "\n",
    "# Add arrows at the ends of the axes.\n",
    "ax.plot(1, 0, \">k\", transform=ax.get_yaxis_transform(), clip_on=False)\n",
    "ax.plot(0, 1, \"^k\", transform=ax.get_xaxis_transform(), clip_on=False)\n",
    "plt.scatter(xbard[0], xbard[1], color='black')\n",
    "\n",
    "# Add labels for the axes.\n",
    "ax.text(300, 0, r'$\\mu_{11} - \\mu_{21}$', fontsize=12, ha='right')\n",
    "ax.text(0, 360, r'$\\mu_{12} - \\mu_{22}$', fontsize=12, va='bottom')\n",
    "\n",
    "plt.xlim(0,200)\n",
    "plt.ylim(0, 350)\n",
    "plt.show()"
   ]
  }
 ],
 "metadata": {
  "kernelspec": {
   "display_name": "Python 3",
   "language": "python",
   "name": "python3"
  },
  "language_info": {
   "codemirror_mode": {
    "name": "ipython",
    "version": 3
   },
   "file_extension": ".py",
   "mimetype": "text/x-python",
   "name": "python",
   "nbconvert_exporter": "python",
   "pygments_lexer": "ipython3",
   "version": "3.12.5"
  }
 },
 "nbformat": 4,
 "nbformat_minor": 2
}
