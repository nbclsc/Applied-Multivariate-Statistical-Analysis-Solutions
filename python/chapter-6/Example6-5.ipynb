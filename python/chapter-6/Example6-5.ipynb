{
 "cells": [
  {
   "cell_type": "markdown",
   "metadata": {},
   "source": [
    "# Example 6.5"
   ]
  },
  {
   "cell_type": "code",
   "execution_count": 1,
   "metadata": {},
   "outputs": [],
   "source": [
    "import numpy as np\n",
    "import pandas as pd\n",
    "import numpy.linalg as la\n",
    "from collections import namedtuple\n",
    "from IPython.display import Math, display\n",
    "from scipy import stats"
   ]
  },
  {
   "cell_type": "markdown",
   "metadata": {},
   "source": [
    "Samples of sizes $n_{1} = 45$ and $n_{2} = 55$ were taken of Wisconsin\n",
    "homeowners with and without air conditioning, respectively. (Data courtesy of Statistical\n",
    "Laboratory, University of Wisconsin.) Two measurements of electrical usage\n",
    "(in kilowatt hours) were considered. The first is a measure of total on-peak consumption\n",
    "($X_{1}$) during July, and the second is a measure of total off-peak consumption\n",
    "( $X_{2}$) during July."
   ]
  },
  {
   "cell_type": "code",
   "execution_count": 2,
   "metadata": {},
   "outputs": [],
   "source": [
    "n1 = 45\n",
    "n2 = 55"
   ]
  },
  {
   "cell_type": "code",
   "execution_count": 3,
   "metadata": {},
   "outputs": [],
   "source": [
    "xbar1 = np.array([[204.4], [556.6]])\n",
    "xbar2 = np.array([[130.0], [355.0]])\n",
    "p = xbar1.shape[0]\n",
    "alpha = 0.05"
   ]
  },
  {
   "cell_type": "code",
   "execution_count": 4,
   "metadata": {},
   "outputs": [],
   "source": [
    "S1 = np.array([[13825.3, 23823.4], [23823.4, 73107.4]])\n",
    "S2 = np.array([[ 8632.0, 19616.7], [19616.7, 55964.5]])"
   ]
  },
  {
   "cell_type": "markdown",
   "metadata": {},
   "source": [
    "$$\n",
    "\\frac{1}{n_{1}} \\textbf{S}_{1}\n",
    "+\n",
    "\\frac{1}{n_{2}} \\textbf{S}_{2}\n",
    "$$"
   ]
  },
  {
   "cell_type": "code",
   "execution_count": 5,
   "metadata": {},
   "outputs": [
    {
     "data": {
      "text/plain": [
       "array([[ 464.17434343,  886.07616162],\n",
       "       [ 886.07616162, 2642.14525253]])"
      ]
     },
     "execution_count": 5,
     "metadata": {},
     "output_type": "execute_result"
    }
   ],
   "source": [
    "(1/n1)*S1 + (1/n2)*S2"
   ]
  },
  {
   "cell_type": "code",
   "execution_count": 6,
   "metadata": {},
   "outputs": [],
   "source": [
    "a1 = np.array([1,0])\n",
    "a2 = np.array([0,1])"
   ]
  },
  {
   "cell_type": "code",
   "execution_count": 7,
   "metadata": {},
   "outputs": [],
   "source": [
    "xbard = xbar1 - xbar2"
   ]
  },
  {
   "cell_type": "markdown",
   "metadata": {},
   "source": [
    "From Result 6.4 on page 292,\n",
    "$$\n",
    "\\textbf{a}^{\\prime} (\\bar{\\textbf{x}}_{1} - \\bar{\\textbf{x}}_{2})\n",
    "\\pm\n",
    "\\sqrt{\n",
    "    \\chi_{p}^{2}(\\alpha)\n",
    "}\n",
    "\\sqrt{\n",
    "    \\textbf{a}^{\\prime}\n",
    "    \\left(\n",
    "        \\frac{1}{n_{1}}\n",
    "        \\textbf{S}_{1}\n",
    "        +\n",
    "        \\frac{1}{n_{2}}\n",
    "        \\textbf{S}_{2}\n",
    "    \\right)\n",
    "    \\textbf{a}\n",
    "}\n",
    "$$"
   ]
  },
  {
   "cell_type": "code",
   "execution_count": 8,
   "metadata": {},
   "outputs": [],
   "source": [
    "chi2_value = stats.chi2.ppf(1-alpha, df=p)"
   ]
  },
  {
   "cell_type": "code",
   "execution_count": 9,
   "metadata": {},
   "outputs": [
    {
     "data": {
      "text/plain": [
       "array([ 21.66401492, 127.13598508])"
      ]
     },
     "execution_count": 9,
     "metadata": {},
     "output_type": "execute_result"
    }
   ],
   "source": [
    "ci1 = (a1.T @ xbard) + np.array([-1, 1]) * np.sqrt(chi2_value) * np.sqrt(a1.T @ ((1/n1)*S1 + (1/n2)*S2) @ a1 )\n",
    "ci1"
   ]
  },
  {
   "cell_type": "code",
   "execution_count": 10,
   "metadata": {},
   "outputs": [
    {
     "data": {
      "text/plain": [
       "array([ 75.78140198, 327.41859802])"
      ]
     },
     "execution_count": 10,
     "metadata": {},
     "output_type": "execute_result"
    }
   ],
   "source": [
    "ci2 = (a2.T @ xbard) + np.array([-1, 1]) * np.sqrt(chi2_value) * np.sqrt(a2.T @ ((1/n1)*S1 + (1/n2)*S2) @ a2 )\n",
    "ci2"
   ]
  },
  {
   "cell_type": "code",
   "execution_count": 11,
   "metadata": {},
   "outputs": [],
   "source": [
    "# Something to store information about the CI variables.\n",
    "LabelCI = namedtuple('LabelCI', ['Text', 'Math'])\n",
    "ci95_labels = [LabelCI(Text='on-peak', Math=r'\\mu_{11} - \\mu_{21}'),\n",
    "               LabelCI(Text='off-peak', Math=r'\\mu_{12} - \\mu_{22}')]"
   ]
  },
  {
   "cell_type": "code",
   "execution_count": 12,
   "metadata": {},
   "outputs": [
    {
     "data": {
      "text/latex": [
       "$\\displaystyle \\mu_{11} - \\mu_{21}:74.4\\pm \\sqrt{5.99} \\sqrt{ 464.17 }\\hspace{0.4cm}\\text{or}\\hspace{0.4cm}(21.7, 127.1)$"
      ],
      "text/plain": [
       "<IPython.core.display.Math object>"
      ]
     },
     "metadata": {},
     "output_type": "display_data"
    },
    {
     "data": {
      "text/latex": [
       "$\\displaystyle \\mu_{12} - \\mu_{22}:201.6\\pm \\sqrt{5.99} \\sqrt{ 2642.15 }\\hspace{0.4cm}\\text{or}\\hspace{0.4cm}(75.8, 327.4)$"
      ],
      "text/plain": [
       "<IPython.core.display.Math object>"
      ]
     },
     "metadata": {},
     "output_type": "display_data"
    }
   ],
   "source": [
    "# Display the results like on page 293.\n",
    "display(Math(f'{ci95_labels[0].Math}:'\n",
    "                fr'{xbard[0,0]:.1f}'\n",
    "                fr'\\pm \\sqrt{{{chi2_value:.2f}}} '\n",
    "                fr'\\sqrt{{ {a1 @ ((1/n1)*S1 + (1/n2)*S2) @ a1:.2f} }}'\n",
    "                r'\\hspace{0.4cm}\\text{or}\\hspace{0.4cm}'\n",
    "                fr'({ci1[0]:.1f}, {ci1[1]:.1f})'))\n",
    "\n",
    "display(Math(f'{ci95_labels[1].Math}:'\n",
    "                fr'{xbard[1,0]:.1f}'\n",
    "                fr'\\pm \\sqrt{{{chi2_value:.2f}}} '\n",
    "                fr'\\sqrt{{ {a2 @ ((1/n1)*S1 + (1/n2)*S2) @ a2:.2f} }}'\n",
    "                r'\\hspace{0.4cm}\\text{or}\\hspace{0.4cm}'\n",
    "                fr'({ci2[0]:.1f}, {ci2[1]:.1f})'))"
   ]
  },
  {
   "cell_type": "markdown",
   "metadata": {},
   "source": [
    "Computing the $T^{2}$ statistic for testing $H_{0}: \\bm{\\mu}_{1} - \\bm{\\mu}_{2} = \\textbf{0}$,\n",
    "$$\n",
    "T^{2}\n",
    "=\n",
    "{\\left[ \\bar{\\textbf{x}}_{1} - \\bar{\\textbf{x}}_{2} \\right]}^{\\prime}\n",
    "{\\left[\n",
    "    \\frac{1}{n_{1}} \\textbf{S}_{1}\n",
    "    +\n",
    "    \\frac{1}{n_{2}} \\textbf{S}_{2}\n",
    "\\right]}^{-1}\n",
    "\\left[ \\bar{\\textbf{x}}_{1} - \\bar{\\textbf{x}}_{2} \\right]\n",
    "$$"
   ]
  },
  {
   "cell_type": "code",
   "execution_count": 13,
   "metadata": {},
   "outputs": [
    {
     "data": {
      "text/plain": [
       "15.658529097464307"
      ]
     },
     "execution_count": 13,
     "metadata": {},
     "output_type": "execute_result"
    }
   ],
   "source": [
    "T2 = (xbard.T @ la.inv((1/n1)*S1 + (1/n2)*S2) @ xbard).item()\n",
    "T2"
   ]
  },
  {
   "cell_type": "code",
   "execution_count": 14,
   "metadata": {},
   "outputs": [
    {
     "data": {
      "text/latex": [
       "$\\displaystyle \\text{We have that } T^{2} = 15.66 > \\chi_{p}^{2}(\\alpha) = 5.99 \\text{, so we would reject the null hypothesis that } \\bm{\\mu}_{1} - \\bm{\\mu}_{2} = \\textbf{0}$"
      ],
      "text/plain": [
       "<IPython.core.display.Math object>"
      ]
     },
     "metadata": {},
     "output_type": "display_data"
    }
   ],
   "source": [
    "if T2 > chi2_value:\n",
    "    display(Math(fr'\\text{{We have that }} T^{{2}} = {T2:.2f} > \\chi_{{p}}^{{2}}(\\alpha) = '\n",
    "                 fr'{chi2_value:.2f} \\text{{, so we would reject the null hypothesis that }} '\n",
    "                 r'\\bm{\\mu}_{1} - \\bm{\\mu}_{2} = \\textbf{0}'))\n",
    "else:\n",
    "    display(Math(fr'\\text{{We have that }} T^{{2}} = {T2:.2f} \\leq \\chi_{{p}}^{{2}}(\\alpha) = '\n",
    "                 fr'{chi2_value:.2f} \\text{{, so we would fail to reject the null hypothesis that }} '\n",
    "                 r'\\bm{\\mu}_{1} - \\bm{\\mu}_{2} = \\textbf{0}'))"
   ]
  },
  {
   "cell_type": "code",
   "execution_count": 15,
   "metadata": {},
   "outputs": [
    {
     "data": {
      "text/plain": [
       "array([[0.04066  ],\n",
       "       [0.0626658]])"
      ]
     },
     "execution_count": 15,
     "metadata": {},
     "output_type": "execute_result"
    }
   ],
   "source": [
    "crit_lc = la.inv((1/n1)*S1 + (1/n2)*S2) @ xbard\n",
    "crit_lc"
   ]
  },
  {
   "cell_type": "code",
   "execution_count": 16,
   "metadata": {},
   "outputs": [
    {
     "data": {
      "text/plain": [
       "'The most critical linear combination leading to the rejection of H0 has coefficient vector'"
      ]
     },
     "metadata": {},
     "output_type": "display_data"
    },
    {
     "data": {
      "text/latex": [
       "$\\displaystyle \\hat{\\textbf{a}} \\propto \\left( \\frac{1}{n_{1}} \\textbf{S}_{1} + \\frac{1}{n_{2}} \\textbf{S}_{2} \\right)(\\bar{\\textbf{x}}_{1} - \\bar{\\textbf{x}}_{2}) = (10^{-4})\\begin{bmatrix}59.874 & -20.079 \\\\ -20.079 & 10.519 \\end{bmatrix}\\begin{bmatrix}74.4 \\\\ 201.6 \\end{bmatrix} = \\begin{bmatrix}0.041 \\\\ 0.063 \\end{bmatrix}$"
      ],
      "text/plain": [
       "<IPython.core.display.Math object>"
      ]
     },
     "metadata": {},
     "output_type": "display_data"
    }
   ],
   "source": [
    "covx1mx2inv = np.round(la.inv((1/n1)*S1 + (1/n2)*S2)*10000,3)\n",
    "display('The most critical linear combination leading to the rejection of H0 has coefficient vector')\n",
    "display(Math(r'\\hat{\\textbf{a}} \\propto '\n",
    "             r'\\left( \\frac{1}{n_{1}} \\textbf{S}_{1} + \\frac{1}{n_{2}} \\textbf{S}_{2} \\right)'\n",
    "             r'(\\bar{\\textbf{x}}_{1} - \\bar{\\textbf{x}}_{2}) = (10^{-4})'\n",
    "             fr'\\begin{{bmatrix}}{covx1mx2inv[0,0]} & {covx1mx2inv[0,1]} \\\\ {covx1mx2inv[1,0]} & {covx1mx2inv[1,1]} \\end{{bmatrix}}'\n",
    "             fr'\\begin{{bmatrix}}{xbard[0,0]:.1f} \\\\ {xbard[1,0]:.1f} \\end{{bmatrix}} = '\n",
    "             fr'\\begin{{bmatrix}}{crit_lc[0,0]:.3f} \\\\ {crit_lc[1,0]:.3f} \\end{{bmatrix}}'\n",
    "             ))"
   ]
  }
 ],
 "metadata": {
  "kernelspec": {
   "display_name": "Python 3",
   "language": "python",
   "name": "python3"
  },
  "language_info": {
   "codemirror_mode": {
    "name": "ipython",
    "version": 3
   },
   "file_extension": ".py",
   "mimetype": "text/x-python",
   "name": "python",
   "nbconvert_exporter": "python",
   "pygments_lexer": "ipython3",
   "version": "3.12.5"
  }
 },
 "nbformat": 4,
 "nbformat_minor": 2
}
