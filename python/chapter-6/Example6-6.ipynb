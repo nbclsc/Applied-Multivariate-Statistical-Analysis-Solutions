{
 "cells": [
  {
   "cell_type": "markdown",
   "metadata": {},
   "source": [
    "# Example 6.6 (The approximate $T^{2}$ distribution when $ \\Sigma_{1} \\ne \\Sigma_{2}$)"
   ]
  },
  {
   "cell_type": "code",
   "execution_count": 1,
   "metadata": {},
   "outputs": [],
   "source": [
    "import numpy as np\n",
    "import numpy.linalg as la\n",
    "from collections import namedtuple\n",
    "from IPython.display import Math, display\n",
    "from scipy import stats"
   ]
  },
  {
   "cell_type": "markdown",
   "metadata": {},
   "source": [
    "Samples of sizes $n_{1} = 45$ and $n_{2} = 55$ were taken of Wisconsin\n",
    "homeowners with and without air conditioning, respectively. (Data courtesy of Statistical\n",
    "Laboratory, University of Wisconsin.) Two measurements of electrical usage\n",
    "(in kilowatt hours) were considered. The first is a measure of total on-peak consumption\n",
    "($X_{1}$) during July, and the second is a measure of total off-peak consumption\n",
    "( $X_{2}$) during July."
   ]
  },
  {
   "cell_type": "code",
   "execution_count": 2,
   "metadata": {},
   "outputs": [],
   "source": [
    "n1 = 45\n",
    "n2 = 55"
   ]
  },
  {
   "cell_type": "code",
   "execution_count": 3,
   "metadata": {},
   "outputs": [],
   "source": [
    "xbar1 = np.array([[204.4], [556.6]])\n",
    "xbar2 = np.array([[130.0], [355.0]])\n",
    "p = xbar1.shape[0]"
   ]
  },
  {
   "cell_type": "code",
   "execution_count": 4,
   "metadata": {},
   "outputs": [],
   "source": [
    "S1 = np.array([[13825.3, 23823.4], [23823.4, 73107.4]])\n",
    "S2 = np.array([[ 8632.0, 19616.7], [19616.7, 55964.5]])"
   ]
  },
  {
   "cell_type": "markdown",
   "metadata": {},
   "source": [
    "$$\n",
    "\\frac{1}{n_{1}} \\textbf{S}_{1}\n",
    "$$"
   ]
  },
  {
   "cell_type": "code",
   "execution_count": 5,
   "metadata": {},
   "outputs": [
    {
     "data": {
      "text/plain": [
       "array([[ 307.22888889,  529.40888889],\n",
       "       [ 529.40888889, 1624.60888889]])"
      ]
     },
     "execution_count": 5,
     "metadata": {},
     "output_type": "execute_result"
    }
   ],
   "source": [
    "(1/n1)*S1"
   ]
  },
  {
   "cell_type": "markdown",
   "metadata": {},
   "source": [
    "$$\n",
    "\\frac{1}{n_{2}} \\textbf{S}_{2}\n",
    "$$"
   ]
  },
  {
   "cell_type": "code",
   "execution_count": 6,
   "metadata": {},
   "outputs": [
    {
     "data": {
      "text/plain": [
       "array([[ 156.94545455,  356.66727273],\n",
       "       [ 356.66727273, 1017.53636364]])"
      ]
     },
     "execution_count": 6,
     "metadata": {},
     "output_type": "execute_result"
    }
   ],
   "source": [
    "(1/n2)*S2"
   ]
  },
  {
   "cell_type": "markdown",
   "metadata": {},
   "source": [
    "$$\n",
    "{\\left[\n",
    "    \\frac{1}{n_{1}} \\textbf{S}_{1}\n",
    "    +\n",
    "    \\frac{1}{n_{2}} \\textbf{S}_{2}\n",
    "\\right]}^{-1}\n",
    "$$"
   ]
  },
  {
   "cell_type": "code",
   "execution_count": 7,
   "metadata": {},
   "outputs": [
    {
     "data": {
      "text/plain": [
       "array([[ 0.00598739, -0.00200795],\n",
       "       [-0.00200795,  0.00105187]])"
      ]
     },
     "execution_count": 7,
     "metadata": {},
     "output_type": "execute_result"
    }
   ],
   "source": [
    "la.inv((1/n1)*S1 + (1/n2)*S2)"
   ]
  },
  {
   "cell_type": "markdown",
   "metadata": {},
   "source": [
    "$$\n",
    "\\frac{1}{n_{1}} \\textbf{S}_{1}\n",
    "{\\left[\n",
    "    \\frac{1}{n_{1}} \\textbf{S}_{1}\n",
    "    +\n",
    "    \\frac{1}{n_{2}} \\textbf{S}_{2}\n",
    "\\right]}^{-1}\n",
    "$$"
   ]
  },
  {
   "cell_type": "code",
   "execution_count": 8,
   "metadata": {},
   "outputs": [
    {
     "data": {
      "text/plain": [
       "array([[ 0.77647483, -0.06002961],\n",
       "       [-0.09234853,  0.64585273]])"
      ]
     },
     "execution_count": 8,
     "metadata": {},
     "output_type": "execute_result"
    }
   ],
   "source": [
    "(1/n1)*S1 @ la.inv((1/n1)*S1 + (1/n2)*S2)"
   ]
  },
  {
   "cell_type": "markdown",
   "metadata": {},
   "source": [
    "$$\n",
    "{\\left(\n",
    "    \\frac{1}{n_{1}} \\textbf{S}_{1}\n",
    "    {\\left[\n",
    "        \\frac{1}{n_{1}} \\textbf{S}_{1}\n",
    "        +\n",
    "        \\frac{1}{n_{2}} \\textbf{S}_{2}\n",
    "    \\right]}^{-1}\n",
    "\\right)}^{2}\n",
    "$$"
   ]
  },
  {
   "cell_type": "code",
   "execution_count": 9,
   "metadata": {},
   "outputs": [
    {
     "data": {
      "text/plain": [
       "array([[ 0.60845681, -0.08538177],\n",
       "       [-0.13134985,  0.42266939]])"
      ]
     },
     "execution_count": 9,
     "metadata": {},
     "output_type": "execute_result"
    }
   ],
   "source": [
    "la.matrix_power((1/n1)*S1 @ la.inv((1/n1)*S1 + (1/n2)*S2), 2)"
   ]
  },
  {
   "cell_type": "markdown",
   "metadata": {},
   "source": [
    "$$\n",
    "\\frac{1}{n_{2}} \\textbf{S}_{2}\n",
    "{\\left[\n",
    "    \\frac{1}{n_{1}} \\textbf{S}_{1}\n",
    "    +\n",
    "    \\frac{1}{n_{2}} \\textbf{S}_{2}\n",
    "\\right]}^{-1}\n",
    "$$"
   ]
  },
  {
   "cell_type": "code",
   "execution_count": 10,
   "metadata": {},
   "outputs": [
    {
     "data": {
      "text/plain": [
       "array([[0.22352517, 0.06002961],\n",
       "       [0.09234853, 0.35414727]])"
      ]
     },
     "execution_count": 10,
     "metadata": {},
     "output_type": "execute_result"
    }
   ],
   "source": [
    "(1/n2)*S2 @ la.inv((1/n1)*S1 + (1/n2)*S2)"
   ]
  },
  {
   "cell_type": "markdown",
   "metadata": {},
   "source": [
    "$$\n",
    "{\\left(\n",
    "    \\frac{1}{n_{2}} \\textbf{S}_{2}\n",
    "    {\\left[\n",
    "        \\frac{1}{n_{1}} \\textbf{S}_{1}\n",
    "        +\n",
    "        \\frac{1}{n_{2}} \\textbf{S}_{2}\n",
    "    \\right]}^{-1}\n",
    "\\right)}^{2}\n",
    "$$"
   ]
  },
  {
   "cell_type": "code",
   "execution_count": 11,
   "metadata": {},
   "outputs": [
    {
     "data": {
      "text/plain": [
       "array([[0.05550715, 0.03467745],\n",
       "       [0.0533472 , 0.13096394]])"
      ]
     },
     "execution_count": 11,
     "metadata": {},
     "output_type": "execute_result"
    }
   ],
   "source": [
    "la.matrix_power((1/n2)*S2 @ la.inv((1/n1)*S1 + (1/n2)*S2), 2)"
   ]
  },
  {
   "cell_type": "markdown",
   "metadata": {},
   "source": [
    "$$\n",
    "\\frac{1}{n_{1}}\n",
    "\\left\\{\n",
    "    \\text{tr}\n",
    "    \\left[\n",
    "        {\\left(\n",
    "            \\frac{1}{n_{1}} \\textbf{S}_{1}\n",
    "            {\\left(\n",
    "                \\frac{1}{n_{1}} \\textbf{S}_{1}\n",
    "                +\n",
    "                \\frac{1}{n_{2}} \\textbf{S}_{2}\n",
    "            \\right)}^{-1}\n",
    "        \\right)}^{2}\n",
    "    \\right]\n",
    "    +\n",
    "    {\\left(\n",
    "        \\text{tr}\n",
    "        \\left[\n",
    "            \\frac{1}{n_{1}} \\textbf{S}_{1}\n",
    "                {\\left(\n",
    "                    \\frac{1}{n_{1}} \\textbf{S}_{1}\n",
    "                    +\n",
    "                    \\frac{1}{n_{2}} \\textbf{S}_{2}\n",
    "                \\right)}^{-1}\n",
    "        \\right]\n",
    "    \\right)}^{2}\n",
    "\\right\\}\n",
    "$$"
   ]
  },
  {
   "cell_type": "code",
   "execution_count": 12,
   "metadata": {},
   "outputs": [
    {
     "data": {
      "text/plain": [
       "0.06786981982503869"
      ]
     },
     "execution_count": 12,
     "metadata": {},
     "output_type": "execute_result"
    }
   ],
   "source": [
    "a = (1/n1)*(np.trace(la.matrix_power((1/n1)*S1 @ la.inv((1/n1)*S1 + (1/n2)*S2), 2)) +\\\n",
    "        np.trace((1/n1)*S1 @ la.inv((1/n1)*S1 + (1/n2)*S2))**2)\n",
    "a"
   ]
  },
  {
   "cell_type": "markdown",
   "metadata": {},
   "source": [
    "$$\n",
    "\\frac{1}{n_{2}}\n",
    "\\left\\{\n",
    "    \\text{tr}\n",
    "    \\left[\n",
    "        {\\left(\n",
    "            \\frac{1}{n_{2}} \\textbf{S}_{2}\n",
    "            {\\left(\n",
    "                \\frac{1}{n_{1}} \\textbf{S}_{1}\n",
    "                +\n",
    "                \\frac{1}{n_{2}} \\textbf{S}_{2}\n",
    "            \\right)}^{-1}\n",
    "        \\right)}^{2}\n",
    "    \\right]\n",
    "    +\n",
    "    {\\left(\n",
    "        \\text{tr}\n",
    "        \\left[\n",
    "            \\frac{1}{n_{2}} \\textbf{S}_{2}\n",
    "                {\\left(\n",
    "                    \\frac{1}{n_{1}} \\textbf{S}_{1}\n",
    "                    +\n",
    "                    \\frac{1}{n_{2}} \\textbf{S}_{2}\n",
    "                \\right)}^{-1}\n",
    "        \\right]\n",
    "    \\right)}^{2}\n",
    "\\right\\}\n",
    "$$"
   ]
  },
  {
   "cell_type": "code",
   "execution_count": 13,
   "metadata": {},
   "outputs": [
    {
     "data": {
      "text/plain": [
       "0.009457755109839695"
      ]
     },
     "execution_count": 13,
     "metadata": {},
     "output_type": "execute_result"
    }
   ],
   "source": [
    "b = (1/n2)*(np.trace(la.matrix_power((1/n2)*S2 @ la.inv((1/n1)*S1 + (1/n2)*S2), 2)) +\\\n",
    "        np.trace((1/n2)*S2 @ la.inv((1/n1)*S1 + (1/n2)*S2))**2)\n",
    "b"
   ]
  },
  {
   "cell_type": "markdown",
   "metadata": {},
   "source": [
    "$$\n",
    "\\nu\n",
    "=\n",
    "\\frac{p + p^{2}}\n",
    "{\n",
    "    \\frac{1}{n_{1}}\n",
    "    \\left\\{\n",
    "        \\text{tr}\n",
    "        \\left[\n",
    "            {\\left(\n",
    "                \\frac{1}{n_{1}} \\textbf{S}_{1}\n",
    "                {\\left(\n",
    "                    \\frac{1}{n_{1}} \\textbf{S}_{1}\n",
    "                    +\n",
    "                    \\frac{1}{n_{2}} \\textbf{S}_{2}\n",
    "                \\right)}^{-1}\n",
    "            \\right)}^{2}\n",
    "        \\right]\n",
    "        +\n",
    "        {\\left(\n",
    "            \\text{tr}\n",
    "            \\left[\n",
    "                \\frac{1}{n_{1}} \\textbf{S}_{1}\n",
    "                    {\\left(\n",
    "                        \\frac{1}{n_{1}} \\textbf{S}_{1}\n",
    "                        +\n",
    "                        \\frac{1}{n_{2}} \\textbf{S}_{2}\n",
    "                    \\right)}^{-1}\n",
    "            \\right]\n",
    "        \\right)}^{2}\n",
    "    \\right\\}\n",
    "    +\n",
    "    \\frac{1}{n_{2}}\n",
    "    \\left\\{\n",
    "        \\text{tr}\n",
    "        \\left[\n",
    "            {\\left(\n",
    "                \\frac{1}{n_{2}} \\textbf{S}_{2}\n",
    "                {\\left(\n",
    "                    \\frac{1}{n_{1}} \\textbf{S}_{1}\n",
    "                    +\n",
    "                    \\frac{1}{n_{2}} \\textbf{S}_{2}\n",
    "                \\right)}^{-1}\n",
    "            \\right)}^{2}\n",
    "        \\right]\n",
    "        +\n",
    "        {\\left(\n",
    "            \\text{tr}\n",
    "            \\left[\n",
    "                \\frac{1}{n_{2}} \\textbf{S}_{2}\n",
    "                    {\\left(\n",
    "                        \\frac{1}{n_{1}} \\textbf{S}_{1}\n",
    "                        +\n",
    "                        \\frac{1}{n_{2}} \\textbf{S}_{2}\n",
    "                    \\right)}^{-1}\n",
    "            \\right]\n",
    "        \\right)}^{2}\n",
    "    \\right\\}\n",
    "}\n",
    "$$"
   ]
  },
  {
   "cell_type": "code",
   "execution_count": 14,
   "metadata": {},
   "outputs": [
    {
     "data": {
      "text/plain": [
       "77.5919845547066"
      ]
     },
     "execution_count": 14,
     "metadata": {},
     "output_type": "execute_result"
    }
   ],
   "source": [
    "nu = (p + p**2)/(a+b)\n",
    "nu"
   ]
  },
  {
   "cell_type": "markdown",
   "metadata": {},
   "source": [
    "$$\n",
    "\\frac{\\nu p}{\\nu - (p - 1)}\n",
    "F_{p, \\nu - (p - 1)}(\\alpha)\n",
    "$$"
   ]
  },
  {
   "cell_type": "code",
   "execution_count": 15,
   "metadata": {},
   "outputs": [
    {
     "data": {
      "text/plain": [
       "6.313406609436447"
      ]
     },
     "execution_count": 15,
     "metadata": {},
     "output_type": "execute_result"
    }
   ],
   "source": [
    "alpha = 0.05\n",
    "f_crit = nu*p/ (nu - (p - 1))*stats.f.ppf(1 - alpha, dfn=p, dfd=nu - (p - 1))\n",
    "f_crit"
   ]
  },
  {
   "cell_type": "markdown",
   "metadata": {},
   "source": [
    "$$\n",
    "T^{2}\n",
    "=\n",
    "{\\left[ \\bar{\\textbf{x}}_{1} - \\bar{\\textbf{x}}_{2} \\right]}^{\\prime}\n",
    "{\\left[\n",
    "    \\frac{1}{n_{1}} \\textbf{S}_{1}\n",
    "    +\n",
    "    \\frac{1}{n_{2}} \\textbf{S}_{2}\n",
    "\\right]}^{-1}\n",
    "\\left[ \\bar{\\textbf{x}}_{1} - \\bar{\\textbf{x}}_{2} \\right]\n",
    "$$"
   ]
  },
  {
   "cell_type": "code",
   "execution_count": 16,
   "metadata": {},
   "outputs": [
    {
     "data": {
      "text/plain": [
       "15.658529097464307"
      ]
     },
     "execution_count": 16,
     "metadata": {},
     "output_type": "execute_result"
    }
   ],
   "source": [
    "# Computing T^{2} from Exanple 6.5.\n",
    "T2 = ((xbar1 - xbar2).T @ la.inv((1/n1)*S1 + (1/n2)*S2) @ (xbar1 - xbar2)).item()\n",
    "T2"
   ]
  },
  {
   "cell_type": "code",
   "execution_count": 23,
   "metadata": {},
   "outputs": [
    {
     "data": {
      "text/latex": [
       "$\\displaystyle \\text{We have that } T^{2} = 15.659 > \\frac{\\nu p}{\\nu - (p - 1)}F_{p, \\nu - (p - 1)}(\\alpha) = 6.313 \\text{, so we would reject the null hypothesis that } \\bm{\\mu}_{1} - \\bm{\\mu}_{2} = \\textbf{0}$"
      ],
      "text/plain": [
       "<IPython.core.display.Math object>"
      ]
     },
     "metadata": {},
     "output_type": "display_data"
    }
   ],
   "source": [
    "if T2 > f_crit:\n",
    "    display(Math(fr'\\text{{We have that }} T^{{2}} = {T2:.3f} > \\frac{{\\nu p}}{{\\nu - (p - 1)}}F_{{p, \\nu - (p - 1)}}(\\alpha) = '\n",
    "                 fr'{f_crit:.3f} \\text{{, so we would reject the null hypothesis that }} '\n",
    "                 r'\\bm{\\mu}_{1} - \\bm{\\mu}_{2} = \\textbf{0}'))\n",
    "else:\n",
    "    display(Math(fr'\\text{{We have that }} T^{{2}} = {T2:.3f} \\leq \\frac{{\\nu p}}{{\\nu - (p - 1)}}F_{{p, \\nu - (p - 1)}}(\\alpha) = '\n",
    "                 fr'{f_crit:.3f} \\text{{, so we would fail to reject the null hypothesis that }} '\n",
    "                 r'\\bm{\\mu}_{1} - \\bm{\\mu}_{2} = \\textbf{0}'))"
   ]
  }
 ],
 "metadata": {
  "kernelspec": {
   "display_name": "Python 3",
   "language": "python",
   "name": "python3"
  },
  "language_info": {
   "codemirror_mode": {
    "name": "ipython",
    "version": 3
   },
   "file_extension": ".py",
   "mimetype": "text/x-python",
   "name": "python",
   "nbconvert_exporter": "python",
   "pygments_lexer": "ipython3",
   "version": "3.12.5"
  }
 },
 "nbformat": 4,
 "nbformat_minor": 2
}
