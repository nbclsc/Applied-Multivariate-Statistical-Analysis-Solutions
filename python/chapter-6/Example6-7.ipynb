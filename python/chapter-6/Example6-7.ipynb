{
 "cells": [
  {
   "cell_type": "markdown",
   "metadata": {},
   "source": [
    "# Example 6.7 (The sum of squares decomposition for univariate ANOVA)"
   ]
  },
  {
   "cell_type": "code",
   "execution_count": 1,
   "metadata": {},
   "outputs": [],
   "source": [
    "import numpy as np\n",
    "from IPython.display import display, Math"
   ]
  },
  {
   "cell_type": "markdown",
   "metadata": {},
   "source": [
    "- Population 1: 9, 6, 9\n",
    "- Population 2: 0, 2\n",
    "- Population 3: 3, 1, 2"
   ]
  },
  {
   "cell_type": "code",
   "execution_count": 2,
   "metadata": {},
   "outputs": [],
   "source": [
    "p1 = np.array([9, 6, 9])\n",
    "p2 = np.array([0, 2])\n",
    "p3 = np.array([3, 1, 2])"
   ]
  },
  {
   "cell_type": "code",
   "execution_count": 3,
   "metadata": {},
   "outputs": [
    {
     "data": {
      "text/latex": [
       "$\\displaystyle \\bar{x}_{3} = 2$"
      ],
      "text/plain": [
       "<IPython.core.display.Math object>"
      ]
     },
     "metadata": {},
     "output_type": "display_data"
    }
   ],
   "source": [
    "xbar3 = np.mean(p3, axis=0)\n",
    "display(Math(fr'\\bar{{x}}_{{3}} = {xbar3:.0f}'))"
   ]
  },
  {
   "cell_type": "code",
   "execution_count": 4,
   "metadata": {},
   "outputs": [
    {
     "data": {
      "text/latex": [
       "$\\displaystyle \\bar{x} = 4$"
      ],
      "text/plain": [
       "<IPython.core.display.Math object>"
      ]
     },
     "metadata": {},
     "output_type": "display_data"
    }
   ],
   "source": [
    "xbar = np.mean(np.hstack([p1,p2,p3]), axis=0)\n",
    "display(Math(fr'\\bar{{x}} = {xbar:.0f}'))"
   ]
  },
  {
   "cell_type": "code",
   "execution_count": 5,
   "metadata": {},
   "outputs": [
    {
     "data": {
      "text/latex": [
       "$\\displaystyle x_{31} = \\bar{x} + (\\bar{x}_{3} - \\bar{x}) + (x_{31} - \\bar{x}_{3}) =4 + (2 - 4) + (3 - 2) =4 + (-2) + 1 =3$"
      ],
      "text/plain": [
       "<IPython.core.display.Math object>"
      ]
     },
     "metadata": {},
     "output_type": "display_data"
    }
   ],
   "source": [
    "display(Math(fr'x_{{31}} = \\bar{{x}} + (\\bar{{x}}_{{3}} - \\bar{{x}}) + (x_{{31}} - \\bar{{x}}_{{3}}) ='\n",
    "             f'{xbar:.0f} + ({xbar3:.0f} - {xbar:.0f}) + ({p3[0]} - {xbar3:.0f}) ='\n",
    "             f'{xbar:.0f} + ({xbar3-xbar:.0f}) + {p3[0]-xbar3:.0f} ='\n",
    "             f'{xbar + (xbar3 - xbar) + (p3[0] - xbar3):.0f}'\n",
    "             ))"
   ]
  },
  {
   "cell_type": "code",
   "execution_count": 6,
   "metadata": {},
   "outputs": [
    {
     "data": {
      "text/plain": [
       "array([[ 9.,  6.,  9.],\n",
       "       [ 0.,  2., nan],\n",
       "       [ 3.,  1.,  2.]])"
      ]
     },
     "execution_count": 6,
     "metadata": {},
     "output_type": "execute_result"
    }
   ],
   "source": [
    "x = np.vstack((p1, np.pad(p2.astype(float), (0, 1), 'constant', constant_values=np.nan), p3))\n",
    "x"
   ]
  },
  {
   "cell_type": "code",
   "execution_count": 7,
   "metadata": {},
   "outputs": [
    {
     "data": {
      "text/latex": [
       "$\\displaystyle \\bar{x}_{\\ell} = \\begin{bmatrix} 8 \\\\ 1 \\\\ 2 \\end{bmatrix}$"
      ],
      "text/plain": [
       "<IPython.core.display.Math object>"
      ]
     },
     "metadata": {},
     "output_type": "display_data"
    }
   ],
   "source": [
    "xbarl = np.nanmean(x, axis=1)[:,np.newaxis]\n",
    "display(Math(fr'\\bar{{x}}_{{\\ell}} = \\begin{{bmatrix}} {xbarl[0,0]:.0f} \\\\ {xbarl[1,0]:.0f} \\\\ {xbarl[2,0]:.0f} \\end{{bmatrix}}'))"
   ]
  },
  {
   "cell_type": "code",
   "execution_count": 8,
   "metadata": {},
   "outputs": [],
   "source": [
    "mean_matrix = np.ones((3,3))*xbar\n",
    "treatment_effect = (xbarl - xbar)\n",
    "residual = (x- xbarl)"
   ]
  },
  {
   "cell_type": "code",
   "execution_count": 9,
   "metadata": {},
   "outputs": [
    {
     "data": {
      "text/plain": [
       "array([[ 9.,  6.,  9.],\n",
       "       [ 0.,  2., nan],\n",
       "       [ 3.,  1.,  2.]])"
      ]
     },
     "execution_count": 9,
     "metadata": {},
     "output_type": "execute_result"
    }
   ],
   "source": [
    "mean_matrix + treatment_effect + residual"
   ]
  },
  {
   "cell_type": "code",
   "execution_count": 10,
   "metadata": {},
   "outputs": [
    {
     "data": {
      "text/plain": [
       "True"
      ]
     },
     "execution_count": 10,
     "metadata": {},
     "output_type": "execute_result"
    }
   ],
   "source": [
    "np.all(np.equal(x, mean_matrix + treatment_effect + residual, where=~np.isnan(x)))"
   ]
  }
 ],
 "metadata": {
  "kernelspec": {
   "display_name": "Python 3",
   "language": "python",
   "name": "python3"
  },
  "language_info": {
   "codemirror_mode": {
    "name": "ipython",
    "version": 3
   },
   "file_extension": ".py",
   "mimetype": "text/x-python",
   "name": "python",
   "nbconvert_exporter": "python",
   "pygments_lexer": "ipython3",
   "version": "3.12.5"
  }
 },
 "nbformat": 4,
 "nbformat_minor": 2
}
