{
 "cells": [
  {
   "cell_type": "markdown",
   "metadata": {},
   "source": [
    "# Example 6.8 (A univariate ANOVA table and F-test for treatment effects)"
   ]
  },
  {
   "cell_type": "code",
   "execution_count": 1,
   "metadata": {},
   "outputs": [],
   "source": [
    "import numpy as np\n",
    "import pandas as pd\n",
    "from IPython.display import display, Math\n",
    "from scipy import stats"
   ]
  },
  {
   "cell_type": "code",
   "execution_count": 2,
   "metadata": {},
   "outputs": [],
   "source": [
    "p1 = np.array([9, 6, 9])\n",
    "p2 = np.array([0, 2])\n",
    "p3 = np.array([3, 1, 2])"
   ]
  },
  {
   "cell_type": "code",
   "execution_count": 3,
   "metadata": {},
   "outputs": [
    {
     "data": {
      "text/plain": [
       "array([[ 9.,  6.,  9.],\n",
       "       [ 0.,  2., nan],\n",
       "       [ 3.,  1.,  2.]])"
      ]
     },
     "execution_count": 3,
     "metadata": {},
     "output_type": "execute_result"
    }
   ],
   "source": [
    "x = np.vstack((p1, np.pad(p2.astype(float), (0, 1), 'constant', constant_values=np.nan), p3))\n",
    "x"
   ]
  },
  {
   "cell_type": "code",
   "execution_count": 4,
   "metadata": {},
   "outputs": [],
   "source": [
    "g = x.shape[0]\n",
    "n1, n2, n3 = p1.size, p2.size, p3.size\n",
    "n = n1 + n2 + n3"
   ]
  },
  {
   "cell_type": "code",
   "execution_count": 5,
   "metadata": {},
   "outputs": [
    {
     "data": {
      "text/latex": [
       "$\\displaystyle \\bar{x} = 4$"
      ],
      "text/plain": [
       "<IPython.core.display.Math object>"
      ]
     },
     "metadata": {},
     "output_type": "display_data"
    }
   ],
   "source": [
    "xbar = np.mean(np.hstack([p1,p2,p3]), axis=0)\n",
    "display(Math(fr'\\bar{{x}} = {xbar:.0f}'))"
   ]
  },
  {
   "cell_type": "code",
   "execution_count": 6,
   "metadata": {},
   "outputs": [
    {
     "data": {
      "text/latex": [
       "$\\displaystyle \\bar{x}_{\\ell} = \\begin{bmatrix} 8 \\\\ 1 \\\\ 2 \\end{bmatrix}$"
      ],
      "text/plain": [
       "<IPython.core.display.Math object>"
      ]
     },
     "metadata": {},
     "output_type": "display_data"
    }
   ],
   "source": [
    "xbarl = np.nanmean(x, axis=1)[:,np.newaxis]\n",
    "display(Math(fr'\\bar{{x}}_{{\\ell}} = \\begin{{bmatrix}} {xbarl[0,0]:.0f} \\\\ {xbarl[1,0]:.0f} \\\\ {xbarl[2,0]:.0f} \\end{{bmatrix}}'))"
   ]
  },
  {
   "cell_type": "code",
   "execution_count": 7,
   "metadata": {},
   "outputs": [
    {
     "data": {
      "text/plain": [
       "216.0"
      ]
     },
     "execution_count": 7,
     "metadata": {},
     "output_type": "execute_result"
    }
   ],
   "source": [
    "SS_obs = (x[~np.isnan(x)]**2).sum()\n",
    "SS_obs"
   ]
  },
  {
   "cell_type": "code",
   "execution_count": 8,
   "metadata": {},
   "outputs": [],
   "source": [
    "mean_matrix = np.ones((3,3))*xbar\n",
    "SS_mean = (mean_matrix[~np.isnan(x)]**2).sum()"
   ]
  },
  {
   "cell_type": "code",
   "execution_count": 9,
   "metadata": {},
   "outputs": [],
   "source": [
    "SS_tr = (((xbarl - xbar) * np.ones((3,3)))[~np.isnan(x)]**2).sum()"
   ]
  },
  {
   "cell_type": "code",
   "execution_count": 10,
   "metadata": {},
   "outputs": [],
   "source": [
    "SS_res = ((x - xbarl)[~np.isnan(x)]**2).sum()"
   ]
  },
  {
   "cell_type": "code",
   "execution_count": 11,
   "metadata": {},
   "outputs": [],
   "source": [
    "SS_cor = ((x- mean_matrix)[~np.isnan(x)]**2).sum()"
   ]
  },
  {
   "cell_type": "code",
   "execution_count": 12,
   "metadata": {},
   "outputs": [],
   "source": [
    "df = pd.DataFrame({'Source of variation': [r'\\text{Treatments}',\n",
    "                                      r'\\text{Residual}',\n",
    "                                      r'\\text{Total (corrected)}'],\n",
    "              'Sum of squares': [f'SS_{{tr}} = {SS_tr}',\n",
    "                                 f'SS_{{res}} = {SS_res}',\n",
    "                                 f'SS_{{cor}} = {SS_cor}'],\n",
    "              'Degrees of freedom': [f'g - 1 = {g} - 1 = {g - 1}',\n",
    "                                     fr'\\sum_{{\\ell = 1}}^{{g}} n_{{\\ell}} - g = ({n1} + {n2} + {n3}) - {g} = {n - g}',\n",
    "                                     fr'\\sum_{{\\ell = 1}}^{{g}} n_{{\\ell}} - 1 = ({n1} + {n2} + {n3}) - 1 = {n - 1}']})"
   ]
  },
  {
   "cell_type": "code",
   "execution_count": 13,
   "metadata": {},
   "outputs": [],
   "source": [
    "def create_latex_table(df: pd.DataFrame) -> str:\n",
    "    output_str = r'\\begin{array}{lll} '\n",
    "    output_str += ' & '.join([fr'\\text{{{c}}}' for c in df]) + r' \\\\'\n",
    "    output_str += r'\\hline \\\\'\n",
    "\n",
    "    for _, row in df.iterrows():\n",
    "        output_str += row.iloc[0] + '&' + row.iloc[1] + '&' + row.iloc[2] + r' \\\\'\n",
    "        if row.iloc[0] == r'\\text{Residual}':\n",
    "            output_str += r'\\hline \\\\'\n",
    "        else:\n",
    "            output_str += r'\\\\'\n",
    "    output_str += r'\\end{array}'\n",
    "    return output_str"
   ]
  },
  {
   "cell_type": "code",
   "execution_count": 14,
   "metadata": {},
   "outputs": [
    {
     "data": {
      "text/latex": [
       "$\\displaystyle \\begin{array}{lll} \\text{Source of variation} & \\text{Sum of squares} & \\text{Degrees of freedom} \\\\\\hline \\\\\\text{Treatments}&SS_{tr} = 78.0&g - 1 = 3 - 1 = 2 \\\\\\\\\\text{Residual}&SS_{res} = 10.0&\\sum_{\\ell = 1}^{g} n_{\\ell} - g = (3 + 2 + 3) - 3 = 5 \\\\\\hline \\\\\\text{Total (corrected)}&SS_{cor} = 88.0&\\sum_{\\ell = 1}^{g} n_{\\ell} - 1 = (3 + 2 + 3) - 1 = 7 \\\\\\\\\\end{array}$"
      ],
      "text/plain": [
       "<IPython.core.display.Math object>"
      ]
     },
     "metadata": {},
     "output_type": "display_data"
    }
   ],
   "source": [
    "display(Math(create_latex_table(df)))"
   ]
  },
  {
   "cell_type": "markdown",
   "metadata": {},
   "source": [
    "$$\n",
    "H_{0}: \\tau_{1} = \\tau_{2} = \\tau_{3} = 0 \\hspace{0.4cm} \\text{(no treatment effect)}\n",
    "$$"
   ]
  },
  {
   "cell_type": "code",
   "execution_count": 15,
   "metadata": {},
   "outputs": [
    {
     "data": {
      "text/latex": [
       "$\\displaystyle F = \\frac{\\text{SS}_{\\text{tr}} / (g - 1)}{\\text{SS}_{\\text{res}} / (\\sum n_{\\ell} - g)} =\\frac{78 / 2 }{10 / 5 } =19.5$"
      ],
      "text/plain": [
       "<IPython.core.display.Math object>"
      ]
     },
     "metadata": {},
     "output_type": "display_data"
    }
   ],
   "source": [
    "F = (SS_tr/(g-1))/(SS_res/(n-g))\n",
    "display(Math(r'F = \\frac{\\text{SS}_{\\text{tr}} / (g - 1)}{\\text{SS}_{\\text{res}} / (\\sum n_{\\ell} - g)} ='\n",
    "             fr'\\frac{{{SS_tr:.0f} / {g - 1} }}{{{SS_res:.0f} / {n- g} }} ='\n",
    "             f'{F}'))"
   ]
  },
  {
   "cell_type": "code",
   "execution_count": 16,
   "metadata": {},
   "outputs": [
    {
     "data": {
      "text/latex": [
       "$\\displaystyle F_{g - 1, n - g}(\\alpha) = F_{2, 5}(0.01) = 13.27$"
      ],
      "text/plain": [
       "<IPython.core.display.Math object>"
      ]
     },
     "metadata": {},
     "output_type": "display_data"
    }
   ],
   "source": [
    "alpha = 0.01\n",
    "f_crit = stats.f.ppf(1-alpha, dfn=g-1, dfd=n-g)\n",
    "display(Math(fr'F_{{g - 1, n - g}}(\\alpha) = F_{{{g - 1}, {n - g}}}({alpha}) = {f_crit:.2f}'))"
   ]
  },
  {
   "cell_type": "code",
   "execution_count": 17,
   "metadata": {},
   "outputs": [
    {
     "data": {
      "text/latex": [
       "$\\displaystyle \\text{We have that } F = 19.5 > F_{g - 1, n - g}(\\alpha) = 13.27 \\text{, so we would reject the null hypothesis that } \\tau_{1} = \\tau_{2} = \\tau_{3} = 0$"
      ],
      "text/plain": [
       "<IPython.core.display.Math object>"
      ]
     },
     "metadata": {},
     "output_type": "display_data"
    }
   ],
   "source": [
    "if F > f_crit:\n",
    "    display(Math(fr'\\text{{We have that }} F = {F:.1f} > F_{{g - 1, n - g}}(\\alpha) = '\n",
    "                 fr'{f_crit:.2f} \\text{{, so we would reject the null hypothesis that }} '\n",
    "                 r'\\tau_{1} = \\tau_{2} = \\tau_{3} = 0'))\n",
    "else:\n",
    "    display(Math(fr'\\text{{We have that }} F = {F:.1f} \\leq F_{{g - 1, n - g}}(\\alpha) = '\n",
    "                 fr'{f_crit:.2f} \\text{{, so we would fail to reject the null hypothesis that }} '\n",
    "                 r'\\tau_{1} = \\tau_{2} = \\tau_{3} = 0'))"
   ]
  },
  {
   "cell_type": "markdown",
   "metadata": {},
   "source": [
    "<table>\n",
    "    <row>\n",
    "    </row>\n",
    "</table>"
   ]
  }
 ],
 "metadata": {
  "kernelspec": {
   "display_name": "Python 3",
   "language": "python",
   "name": "python3"
  },
  "language_info": {
   "codemirror_mode": {
    "name": "ipython",
    "version": 3
   },
   "file_extension": ".py",
   "mimetype": "text/x-python",
   "name": "python",
   "nbconvert_exporter": "python",
   "pygments_lexer": "ipython3",
   "version": "3.12.5"
  }
 },
 "nbformat": 4,
 "nbformat_minor": 2
}
