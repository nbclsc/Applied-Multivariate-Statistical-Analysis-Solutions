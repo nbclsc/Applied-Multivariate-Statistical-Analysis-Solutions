{
 "cells": [
  {
   "cell_type": "markdown",
   "metadata": {},
   "source": [
    "# Example 6.9"
   ]
  },
  {
   "cell_type": "code",
   "execution_count": 1,
   "metadata": {},
   "outputs": [],
   "source": [
    "import pathlib\n",
    "import numpy as np\n",
    "import numpy.linalg as la\n",
    "import pandas as pd\n",
    "from IPython.display import display, Math\n",
    "from scipy import stats\n",
    "import chapter_6_utils"
   ]
  },
  {
   "cell_type": "code",
   "execution_count": 2,
   "metadata": {},
   "outputs": [],
   "source": [
    "def load_data():\n",
    "    f = pathlib.Path(r'..\\..\\Data\\Example6.9.xlsx')\n",
    "    df = pd.read_excel(f)\n",
    "    return df"
   ]
  },
  {
   "cell_type": "code",
   "execution_count": 3,
   "metadata": {},
   "outputs": [],
   "source": [
    "df = load_data()"
   ]
  },
  {
   "cell_type": "code",
   "execution_count": 4,
   "metadata": {},
   "outputs": [],
   "source": [
    "n = df.shape[0]\n",
    "p = 2\n",
    "g = df.Group.nunique()"
   ]
  },
  {
   "cell_type": "code",
   "execution_count": 5,
   "metadata": {},
   "outputs": [],
   "source": [
    "x1_breakdown = chapter_6_utils.manova_obs_breakdown(df, trt_col='Group', var_col='x1')\n",
    "x2_breakdown = chapter_6_utils.manova_obs_breakdown(df, trt_col='Group', var_col='x2')"
   ]
  },
  {
   "cell_type": "code",
   "execution_count": 6,
   "metadata": {},
   "outputs": [
    {
     "data": {
      "text/latex": [
       "$\\displaystyle \\text{Variable: x1}$"
      ],
      "text/plain": [
       "<IPython.core.display.Math object>"
      ]
     },
     "metadata": {},
     "output_type": "display_data"
    },
    {
     "data": {
      "text/latex": [
       "$\\displaystyle \\left[\\begin{array}{ rrr }\\phantom{-} 9 & \\phantom{-} 6 & \\phantom{-} 9 \\\\ \\phantom{-} 0 & \\phantom{-} 2 &  \\\\ \\phantom{-} 3 & \\phantom{-} 1 & \\phantom{-} 2 \\\\ \\end{array}\\right] = \\left[\\begin{array}{ rrr }\\phantom{-} 4 & \\phantom{-} 4 & \\phantom{-} 4 \\\\ \\phantom{-} 4 & \\phantom{-} 4 &  \\\\ \\phantom{-} 4 & \\phantom{-} 4 & \\phantom{-} 4 \\\\ \\end{array}\\right] + \\left[\\begin{array}{ rrr }\\phantom{-} 4 & \\phantom{-} 4 & \\phantom{-} 4 \\\\ -3 & -3 &  \\\\ -2 & -2 & -2 \\\\ \\end{array}\\right] + \\left[\\begin{array}{ rrr }\\phantom{-} 1 & -2 & \\phantom{-} 1 \\\\ -1 & \\phantom{-} 1 &  \\\\ \\phantom{-} 1 & -1 & \\phantom{-} 0 \\\\ \\end{array}\\right]$"
      ],
      "text/plain": [
       "<IPython.core.display.Math object>"
      ]
     },
     "metadata": {},
     "output_type": "display_data"
    },
    {
     "data": {
      "text/latex": [
       "$\\displaystyle \\hspace{ 0.0cm }\\text{(observation)}\\hspace{ 0.9cm }\\text{(mean)}\\hspace{ 1.0cm }\\text{(treatment effect)}\\hspace{ 1.1cm }\\text{(residual)}$"
      ],
      "text/plain": [
       "<IPython.core.display.Math object>"
      ]
     },
     "metadata": {},
     "output_type": "display_data"
    },
    {
     "data": {
      "text/latex": [
       "$\\displaystyle \\text{and}$"
      ],
      "text/plain": [
       "<IPython.core.display.Math object>"
      ]
     },
     "metadata": {},
     "output_type": "display_data"
    },
    {
     "data": {
      "text/latex": [
       "$\\displaystyle \\text{SS}_{\\text{obs}} = \\text{SS}_{\\text{mean}} + \\text{SS}_{\\text{tr}} + \\text{SS}_{\\text{res}}$"
      ],
      "text/plain": [
       "<IPython.core.display.Math object>"
      ]
     },
     "metadata": {},
     "output_type": "display_data"
    },
    {
     "data": {
      "text/latex": [
       "$\\displaystyle 216 = 128 + 78 + 10$"
      ],
      "text/plain": [
       "<IPython.core.display.Math object>"
      ]
     },
     "metadata": {},
     "output_type": "display_data"
    },
    {
     "data": {
      "text/latex": [
       "$\\displaystyle \\text{Total SS (corrected)} = \\text{SS}_{\\text{obs}} - \\text{SS}_{\\text{mean}} = 216 - 128 = 88$"
      ],
      "text/plain": [
       "<IPython.core.display.Math object>"
      ]
     },
     "metadata": {},
     "output_type": "display_data"
    }
   ],
   "source": [
    "some_spacing = ['0.0cm','0.9cm','1.0cm','1.1cm']\n",
    "chapter_6_utils.display_manova_obs_breakdown(x1_breakdown, spacing=some_spacing)\n",
    "\n",
    "display(Math(r'\\text{and}'))\n",
    "display(Math(r'\\text{SS}_{\\text{obs}} = \\text{SS}_{\\text{mean}} + \\text{SS}_{\\text{tr}} + \\text{SS}_{\\text{res}}'))\n",
    "display(Math(fr'{np.nansum(x1_breakdown.Obs**2):.0f} = {np.nansum(x1_breakdown.Mean**2):.0f} + {np.nansum(x1_breakdown.TreatmentEffect**2):.0f} + {np.nansum(x1_breakdown.Residual**2):.0f}'))\n",
    "display(Math(fr'\\text{{Total SS (corrected)}} = \\text{{SS}}_{{\\text{{obs}}}} - \\text{{SS}}_{{\\text{{mean}}}} = '\n",
    "                f'{np.nansum(x1_breakdown.Obs**2):.0f} - {np.nansum(x1_breakdown.Mean**2):.0f} = '\n",
    "                f'{np.nansum(x1_breakdown.Obs**2) - np.nansum(x1_breakdown.Mean**2):.0f}'))"
   ]
  },
  {
   "cell_type": "code",
   "execution_count": 7,
   "metadata": {},
   "outputs": [
    {
     "data": {
      "text/latex": [
       "$\\displaystyle \\text{Variable: x2}$"
      ],
      "text/plain": [
       "<IPython.core.display.Math object>"
      ]
     },
     "metadata": {},
     "output_type": "display_data"
    },
    {
     "data": {
      "text/latex": [
       "$\\displaystyle \\left[\\begin{array}{ rrr }\\phantom{-} 3 & \\phantom{-} 2 & \\phantom{-} 7 \\\\ \\phantom{-} 4 & \\phantom{-} 0 &  \\\\ \\phantom{-} 8 & \\phantom{-} 9 & \\phantom{-} 7 \\\\ \\end{array}\\right] = \\left[\\begin{array}{ rrr }\\phantom{-} 5 & \\phantom{-} 5 & \\phantom{-} 5 \\\\ \\phantom{-} 5 & \\phantom{-} 5 &  \\\\ \\phantom{-} 5 & \\phantom{-} 5 & \\phantom{-} 5 \\\\ \\end{array}\\right] + \\left[\\begin{array}{ rrr }-1 & -1 & -1 \\\\ -3 & -3 &  \\\\ \\phantom{-} 3 & \\phantom{-} 3 & \\phantom{-} 3 \\\\ \\end{array}\\right] + \\left[\\begin{array}{ rrr }-1 & -2 & \\phantom{-} 3 \\\\ \\phantom{-} 2 & -2 &  \\\\ \\phantom{-} 0 & \\phantom{-} 1 & -1 \\\\ \\end{array}\\right]$"
      ],
      "text/plain": [
       "<IPython.core.display.Math object>"
      ]
     },
     "metadata": {},
     "output_type": "display_data"
    },
    {
     "data": {
      "text/latex": [
       "$\\displaystyle \\hspace{ 0.0cm }\\text{(observation)}\\hspace{ 0.9cm }\\text{(mean)}\\hspace{ 1.0cm }\\text{(treatment effect)}\\hspace{ 1.1cm }\\text{(residual)}$"
      ],
      "text/plain": [
       "<IPython.core.display.Math object>"
      ]
     },
     "metadata": {},
     "output_type": "display_data"
    },
    {
     "data": {
      "text/latex": [
       "$\\displaystyle \\text{and}$"
      ],
      "text/plain": [
       "<IPython.core.display.Math object>"
      ]
     },
     "metadata": {},
     "output_type": "display_data"
    },
    {
     "data": {
      "text/latex": [
       "$\\displaystyle \\text{SS}_{\\text{obs}} = \\text{SS}_{\\text{mean}} + \\text{SS}_{\\text{tr}} + \\text{SS}_{\\text{res}}$"
      ],
      "text/plain": [
       "<IPython.core.display.Math object>"
      ]
     },
     "metadata": {},
     "output_type": "display_data"
    },
    {
     "data": {
      "text/latex": [
       "$\\displaystyle 272 = 200 + 48 + 24$"
      ],
      "text/plain": [
       "<IPython.core.display.Math object>"
      ]
     },
     "metadata": {},
     "output_type": "display_data"
    },
    {
     "data": {
      "text/latex": [
       "$\\displaystyle \\text{Total SS (corrected)} = \\text{SS}_{\\text{obs}} - \\text{SS}_{\\text{mean}} = 272 - 200 = 72$"
      ],
      "text/plain": [
       "<IPython.core.display.Math object>"
      ]
     },
     "metadata": {},
     "output_type": "display_data"
    }
   ],
   "source": [
    "some_spacing = ['0.0cm','0.9cm','1.0cm','1.1cm']\n",
    "chapter_6_utils.display_manova_obs_breakdown(x2_breakdown, spacing=some_spacing)\n",
    "\n",
    "display(Math(r'\\text{and}'))\n",
    "display(Math(r'\\text{SS}_{\\text{obs}} = \\text{SS}_{\\text{mean}} + \\text{SS}_{\\text{tr}} + \\text{SS}_{\\text{res}}'))\n",
    "display(Math(fr'{np.nansum(x2_breakdown.Obs**2):.0f} = {np.nansum(x2_breakdown.Mean**2):.0f} + {np.nansum(x2_breakdown.TreatmentEffect**2):.0f} + {np.nansum(x2_breakdown.Residual**2):.0f}'))\n",
    "display(Math(fr'\\text{{Total SS (corrected)}} = \\text{{SS}}_{{\\text{{obs}}}} - \\text{{SS}}_{{\\text{{mean}}}} = '\n",
    "             f'{np.nansum(x2_breakdown.Obs**2):.0f} - {np.nansum(x2_breakdown.Mean**2):.0f} = '\n",
    "             f'{np.nansum(x2_breakdown.Obs**2) - np.nansum(x2_breakdown.Mean**2):.0f}'))\n"
   ]
  },
  {
   "cell_type": "code",
   "execution_count": 8,
   "metadata": {},
   "outputs": [],
   "source": [
    "# Treatment effect SS.\n",
    "B = chapter_6_utils.compute_manova_ss_matrices(x1_breakdown.TreatmentEffect, x2_breakdown.TreatmentEffect)"
   ]
  },
  {
   "cell_type": "code",
   "execution_count": 9,
   "metadata": {},
   "outputs": [],
   "source": [
    "# Residual SS.\n",
    "W = chapter_6_utils.compute_manova_ss_matrices(x1_breakdown.Residual, x2_breakdown.Residual)"
   ]
  },
  {
   "cell_type": "code",
   "execution_count": 10,
   "metadata": {},
   "outputs": [],
   "source": [
    "# Total SS (corrected).\n",
    "T = chapter_6_utils.compute_manova_ss_matrices(x1_breakdown.Obs, x2_breakdown.Obs) -\\\n",
    "    chapter_6_utils.compute_manova_ss_matrices(x1_breakdown.Mean, x2_breakdown.Mean)"
   ]
  },
  {
   "cell_type": "code",
   "execution_count": 11,
   "metadata": {},
   "outputs": [
    {
     "data": {
      "text/latex": [
       "$\\displaystyle \\begin{array}{lll}\\text{Source} & \\text{Matrix of sum of squares} &  \\\\\\text{of variation} & \\text{and cross products} & \\text{Degrees of freedom} \\\\\\hline \\\\\\text{Treatment} & \\left[\\begin{array}{ rr }\\phantom{-} 78 & -12 \\\\ -12 & \\phantom{-} 48 \\\\ \\end{array}\\right] & 3 - 1 = 2 \\\\ \\\\\\text{Residual} & \\left[\\begin{array}{ rr }\\phantom{-} 10 & \\phantom{-} 1 \\\\ \\phantom{-} 1 & \\phantom{-} 24 \\\\ \\end{array}\\right] &3 + 3 + 2 - 3 = 5 \\\\ \\\\\\hline \\\\\\text{Total (corrected)} & \\left[\\begin{array}{ rr }\\phantom{-} 88 & -11 \\\\ -11 & \\phantom{-} 72 \\\\ \\end{array}\\right] & 7\\end{array}$"
      ],
      "text/plain": [
       "<IPython.core.display.Math object>"
      ]
     },
     "metadata": {},
     "output_type": "display_data"
    }
   ],
   "source": [
    "chapter_6_utils.diplay_manova_table(B, W, T, df.Group.value_counts().tolist(), g)"
   ]
  },
  {
   "cell_type": "code",
   "execution_count": 12,
   "metadata": {},
   "outputs": [
    {
     "data": {
      "text/plain": [
       "True"
      ]
     },
     "execution_count": 12,
     "metadata": {},
     "output_type": "execute_result"
    }
   ],
   "source": [
    "np.all(np.equal(T, B + W))"
   ]
  },
  {
   "cell_type": "code",
   "execution_count": 13,
   "metadata": {},
   "outputs": [
    {
     "data": {
      "text/latex": [
       "$\\displaystyle \\left[\\begin{array}{ rr }\\phantom{-} 88 & -11 \\\\ -11 & \\phantom{-} 72 \\\\ \\end{array}\\right]=\\left[\\begin{array}{ rr }\\phantom{-} 78 & -12 \\\\ -12 & \\phantom{-} 48 \\\\ \\end{array}\\right]+\\left[\\begin{array}{ rr }\\phantom{-} 10 & \\phantom{-} 1 \\\\ \\phantom{-} 1 & \\phantom{-} 24 \\\\ \\end{array}\\right]$"
      ],
      "text/plain": [
       "<IPython.core.display.Math object>"
      ]
     },
     "metadata": {},
     "output_type": "display_data"
    }
   ],
   "source": [
    "display(Math(f'{chapter_6_utils.create_array_text(T)}'\n",
    "             '='\n",
    "             f'{chapter_6_utils.create_array_text(B)}'\n",
    "             '+'\n",
    "             f'{chapter_6_utils.create_array_text(W)}'\n",
    "             ))"
   ]
  },
  {
   "cell_type": "code",
   "execution_count": 14,
   "metadata": {},
   "outputs": [],
   "source": [
    "lmbda_star = la.det(W)/la.det(B + W)"
   ]
  },
  {
   "cell_type": "code",
   "execution_count": 15,
   "metadata": {},
   "outputs": [
    {
     "data": {
      "text/latex": [
       "$\\displaystyle \\Lambda^{\\star}=\\frac{\\left|\\textbf{W}\\right|}{\\left|\\textbf{B} + \\textbf{W}\\right|}=\\frac{10(24) - (1)^{2} }{88(72) - (-11)^{2} }=\\frac{239}{6215}=0.0385$"
      ],
      "text/plain": [
       "<IPython.core.display.Math object>"
      ]
     },
     "metadata": {},
     "output_type": "display_data"
    }
   ],
   "source": [
    "display(Math(r'\\Lambda^{\\star}'\n",
    "             '='\n",
    "             r'\\frac{\\left|\\textbf{W}\\right|}{\\left|\\textbf{B} + \\textbf{W}\\right|}'\n",
    "             '='\n",
    "             fr'\\frac{{{W[0,0]:.0f}({W[1,1]:.0f}) - ({W[0,1]:.0f})^{{2}} }}{{{T[0,0]:.0f}({T[1,1]:.0f}) - ({T[0,1]:.0f})^{{2}} }}'\n",
    "             '='\n",
    "             fr'\\frac{{{la.det(W):.0f}}}{{{la.det(B + W):.0f}}}'\n",
    "             '='\n",
    "             f'{lmbda_star:.4f}'\n",
    "             ))"
   ]
  },
  {
   "cell_type": "code",
   "execution_count": 16,
   "metadata": {},
   "outputs": [
    {
     "data": {
      "text/latex": [
       "$\\displaystyle \\text{Since} \\hspace{0.2cm} p = 2\\hspace{0.2cm} \\text{and} \\hspace{0.2cm} g = 3 \\hspace{0.2cm} \\text{using Table 6.3},\\left( \\frac{ \\sum n_{\\ell} - g - 1 }{ g - 1 } \\right)\\left( \\frac{ 1 - \\sqrt{\\Lambda^{\\star}} }{ \\sqrt{\\Lambda^{\\star}} } \\right)\\sim F_{2(g-1), 2(\\sum n_{\\ell} - g - 1)}(\\alpha)$"
      ],
      "text/plain": [
       "<IPython.core.display.Math object>"
      ]
     },
     "metadata": {},
     "output_type": "display_data"
    }
   ],
   "source": [
    "display(Math(fr'\\text{{Since}} \\hspace{{0.2cm}} p = {p}'\n",
    "             fr'\\hspace{{0.2cm}} \\text{{and}} \\hspace{{0.2cm}} '\n",
    "             fr'g = {g} \\hspace{{0.2cm}} \\text{{using Table 6.3}},'\n",
    "             r'\\left( \\frac{ \\sum n_{\\ell} - g - 1 }{ g - 1 } \\right)'\n",
    "             r'\\left( \\frac{ 1 - \\sqrt{\\Lambda^{\\star}} }{ \\sqrt{\\Lambda^{\\star}} } \\right)'\n",
    "             r'\\sim F_{2(g-1), 2(\\sum n_{\\ell} - g - 1)}(\\alpha)'\n",
    "             ))\n",
    "# "
   ]
  },
  {
   "cell_type": "code",
   "execution_count": 17,
   "metadata": {},
   "outputs": [],
   "source": [
    "test_stat = ((n - g - 1)/(g-1)) * (1 - np.sqrt(lmbda_star))/np.sqrt(lmbda_star)\n",
    "alpha = 0.01\n",
    "f_crit = stats.f.ppf(1-alpha, dfn=2*(g-1), dfd=2*(n-g-1))"
   ]
  },
  {
   "cell_type": "code",
   "execution_count": 18,
   "metadata": {},
   "outputs": [
    {
     "data": {
      "text/latex": [
       "$\\displaystyle F^{\\star} = \\left( \\frac{ \\sum n_{\\ell} - g - 1 }{ g - 1 } \\right)\\left( \\frac{ 1 - \\sqrt{\\Lambda^{\\star}} }{ \\sqrt{\\Lambda^{\\star}} } \\right)=\\left( \\frac{ 8 - 3 - 1 }{ 3 - 1 } \\right)\\left( \\frac{ 1 - \\sqrt{ 0.0385 } }{ \\sqrt{ 0.0385 } } \\right)=8.1989$"
      ],
      "text/plain": [
       "<IPython.core.display.Math object>"
      ]
     },
     "metadata": {},
     "output_type": "display_data"
    }
   ],
   "source": [
    "display(Math(r'F^{\\star} = \\left( \\frac{ \\sum n_{\\ell} - g - 1 }{ g - 1 } \\right)'\n",
    "             r'\\left( \\frac{ 1 - \\sqrt{\\Lambda^{\\star}} }{ \\sqrt{\\Lambda^{\\star}} } \\right)'\n",
    "             '='\n",
    "             fr'\\left( \\frac{{ {n} - {g} - 1 }}{{ {g} - 1 }} \\right)'\n",
    "             fr'\\left( \\frac{{ 1 - \\sqrt{{ {lmbda_star:.4f} }} }}{{ \\sqrt{{ {lmbda_star:.4f} }} }} \\right)'\n",
    "             '='\n",
    "             f'{test_stat:.4f}'\n",
    "             ))"
   ]
  },
  {
   "cell_type": "code",
   "execution_count": 19,
   "metadata": {},
   "outputs": [
    {
     "data": {
      "text/latex": [
       "$\\displaystyle F_{\\text{crit}} = F_{2(g-1), 2(\\sum n_{\\ell} - g - 1)}=F_{2(3-1), 2(8 - 3 - 1)} \\left( 0.01 \\right)=F_{4, 8 } \\left( 0.01 \\right)=7.006$"
      ],
      "text/plain": [
       "<IPython.core.display.Math object>"
      ]
     },
     "metadata": {},
     "output_type": "display_data"
    }
   ],
   "source": [
    "display(Math(fr'F_{{\\text{{crit}}}} = F_{{2(g-1), 2(\\sum n_{{\\ell}} - g - 1)}}'\n",
    "             '='\n",
    "             fr'F_{{2({g}-1), 2({n} - {g} - 1)}} \\left( {alpha} \\right)'\n",
    "             '='\n",
    "             fr'F_{{{2*(g-1)}, {2*(n-g-1)} }} \\left( {alpha} \\right)'\n",
    "             '='\n",
    "             f'{f_crit:.3f}'\n",
    "             ))"
   ]
  },
  {
   "cell_type": "code",
   "execution_count": 20,
   "metadata": {},
   "outputs": [
    {
     "data": {
      "text/latex": [
       "$\\displaystyle \\text{We have that } F^{\\star} = 8.199 > F_{\\text{crit}} = F_{4, 8 } \\left( 0.01 \\right) = 7.006 \\text{, so we would reject the null hypothesis that } \\bm{\\tau}_{1} = \\bm{\\tau}_{3} = \\bm{\\tau}_{3} = \\textbf{0}$"
      ],
      "text/plain": [
       "<IPython.core.display.Math object>"
      ]
     },
     "metadata": {},
     "output_type": "display_data"
    }
   ],
   "source": [
    "if test_stat > f_crit:\n",
    "    display(Math(fr'\\text{{We have that }} F^{{\\star}} = {test_stat:.3f} > F_{{\\text{{crit}}}} = F_{{{2*(g-1)}, {2*(n-g-1)} }} \\left( {alpha} \\right) = '\n",
    "                 fr'{f_crit:.3f} \\text{{, so we would reject the null hypothesis that }} '\n",
    "                 r'\\bm{\\tau}_{1} = \\bm{\\tau}_{3} = \\bm{\\tau}_{3} = \\textbf{0}'))\n",
    "else:\n",
    "    display(Math(fr'\\text{{We have that }} F^{{\\star}} = {test_stat:.3f} \\leq F_{{\\text{{crit}}}} = F_{{{2*(g-1)}, {2*(n-g-1)} }} \\left( {alpha} \\right) = '\n",
    "                fr'{f_crit:.3f} \\text{{, so we would fail to reject the null hypothesis that }} '\n",
    "                r'\\bm{\\tau}_{1} = \\bm{\\tau}_{3} = \\bm{\\tau}_{3} = \\textbf{0}'))"
   ]
  }
 ],
 "metadata": {
  "kernelspec": {
   "display_name": "py312",
   "language": "python",
   "name": "py312"
  },
  "language_info": {
   "codemirror_mode": {
    "name": "ipython",
    "version": 3
   },
   "file_extension": ".py",
   "mimetype": "text/x-python",
   "name": "python",
   "nbconvert_exporter": "python",
   "pygments_lexer": "ipython3",
   "version": "3.12.5"
  }
 },
 "nbformat": 4,
 "nbformat_minor": 2
}
