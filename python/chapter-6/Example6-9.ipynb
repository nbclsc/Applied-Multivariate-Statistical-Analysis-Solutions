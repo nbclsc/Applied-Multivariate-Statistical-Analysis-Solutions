{
 "cells": [
  {
   "cell_type": "markdown",
   "metadata": {},
   "source": [
    "# Example 6.9"
   ]
  },
  {
   "cell_type": "code",
   "execution_count": 1,
   "metadata": {},
   "outputs": [],
   "source": [
    "import numpy as np\n",
    "import numpy.linalg as la\n",
    "from IPython.display import display, Math\n",
    "from scipy import stats"
   ]
  },
  {
   "cell_type": "code",
   "execution_count": 2,
   "metadata": {},
   "outputs": [],
   "source": [
    "p1 = np.array([9, 6, 9])\n",
    "p2 = np.array([0, 2])\n",
    "p3 = np.array([3, 1, 2])"
   ]
  },
  {
   "cell_type": "code",
   "execution_count": 3,
   "metadata": {},
   "outputs": [],
   "source": [
    "g1 = np.hstack([np.array([[9], [3]]),\n",
    "                np.array([[6], [2]]),\n",
    "                np.array([[9], [7]])])\n",
    "\n",
    "g2 = np.hstack([np.array([[0], [4]]),\n",
    "                np.array([[2], [0]])])\n",
    "\n",
    "g3 = np.hstack([np.array([[3], [8]]),\n",
    "                np.array([[1], [9]]),\n",
    "                np.array([[2], [7]])])\n",
    "n1, n2, n3 = g1.shape[1], g2.shape[1], g3.shape[1]\n",
    "n = n1 + n2 + n3"
   ]
  },
  {
   "cell_type": "code",
   "execution_count": 4,
   "metadata": {},
   "outputs": [
    {
     "data": {
      "text/plain": [
       "array([[[ 9.,  6.,  9.],\n",
       "        [ 3.,  2.,  7.]],\n",
       "\n",
       "       [[ 0.,  2., nan],\n",
       "        [ 4.,  0., nan]],\n",
       "\n",
       "       [[ 3.,  1.,  2.],\n",
       "        [ 8.,  9.,  7.]]])"
      ]
     },
     "execution_count": 4,
     "metadata": {},
     "output_type": "execute_result"
    }
   ],
   "source": [
    "# Rearrange the groups to 3D (i,j,k). The depth (i) is the group. The height (j) is the measurement. The width (k) is the observation.\n",
    "x = np.stack((g1, np.hstack((g2, np.array([[np.nan], [np.nan]]))), g3))\n",
    "x"
   ]
  },
  {
   "cell_type": "code",
   "execution_count": 5,
   "metadata": {},
   "outputs": [],
   "source": [
    "g, p, _ = x.shape"
   ]
  },
  {
   "cell_type": "code",
   "execution_count": 6,
   "metadata": {},
   "outputs": [],
   "source": [
    "# Mean for each group.\n",
    "xbarg = np.stack([np.nanmean(x[i,:,:], axis=1)[:, np.newaxis] for i in range(g)])\n",
    "# Global mean.\n",
    "xbar = np.vstack([np.nanmean(x[:,i,:].flatten()) for i in range(p)])"
   ]
  },
  {
   "cell_type": "code",
   "execution_count": 7,
   "metadata": {},
   "outputs": [
    {
     "data": {
      "text/plain": [
       "88.0"
      ]
     },
     "execution_count": 7,
     "metadata": {},
     "output_type": "execute_result"
    }
   ],
   "source": [
    "np.nansum((x[:,0,:] - xbar[0])**2)"
   ]
  },
  {
   "cell_type": "code",
   "execution_count": 8,
   "metadata": {},
   "outputs": [],
   "source": [
    "mean_matrix = np.stack([np.where(np.isnan(x[:,i,:]), np.nan, xbar[i] * np.ones((3,3))) for i in range(p)])\n",
    "tr_matrix = np.stack([np.where(np.isnan(x[:,i,:]), np.nan, (xbarg[:,i,:] - xbar[i]) * np.ones((3,3))) for i in range(p)])\n",
    "res_matrix = np.stack(np.stack([np.where(np.isnan(x[:,i,:]), np.nan, (x[:,i,:] - xbarg[:,i,:] * np.ones((3,3)))) for i in range(p)]))\n",
    "tot_matrix = np.stack([np.where(np.isnan(x[:,i,:]), np.nan, (x[:,i,:] - xbar[i])) for i in range(p)])"
   ]
  },
  {
   "cell_type": "code",
   "execution_count": 9,
   "metadata": {},
   "outputs": [
    {
     "data": {
      "text/latex": [
       "$\\displaystyle \\text{Observation }1:$"
      ],
      "text/plain": [
       "<IPython.core.display.Math object>"
      ]
     },
     "metadata": {},
     "output_type": "display_data"
    },
    {
     "data": {
      "text/latex": [
       "$\\displaystyle \\left[\n",
       "                      \\begin{array}{rrr}\n",
       "                            9 & 6 & 9 \\\\\n",
       "                            0 & 2 &            \\\\\n",
       "                            3 & 1 & 2\n",
       "                      \\end{array}\n",
       "                      \\right] = \\left[\n",
       "                      \\begin{array}{rrr}\n",
       "                            4 & 4 & 4 \\\\\n",
       "                            4 & 4 &                \\\\\n",
       "                            4 & 4 & 4\n",
       "                      \\end{array}\n",
       "                      \\right] + \\left[\n",
       "                      \\begin{array}{rrr}\n",
       "                            4 & 4 & 4 \\\\\n",
       "                            -3 & -3 &              \\\\\n",
       "                            -2 & -2 & -2\n",
       "                      \\end{array}\n",
       "                      \\right] + \\left[\n",
       "                      \\begin{array}{rrr}\n",
       "                            1 & -2 & 1 \\\\\n",
       "                            -1 & 1 &               \\\\\n",
       "                            1 & -1 & 0\n",
       "                      \\end{array}\n",
       "                      \\right]$"
      ],
      "text/plain": [
       "<IPython.core.display.Math object>"
      ]
     },
     "metadata": {},
     "output_type": "display_data"
    },
    {
     "data": {
      "text/latex": [
       "$\\displaystyle \\hspace{0.0cm}\\text{(observation)}\\hspace{0.9cm}\\text{(mean)}\\hspace{1.0cm}\\text{(treatment effect)}\\hspace{1.1cm}\\text{(residual)}$"
      ],
      "text/plain": [
       "<IPython.core.display.Math object>"
      ]
     },
     "metadata": {},
     "output_type": "display_data"
    },
    {
     "data": {
      "text/latex": [
       "$\\displaystyle \\text{and}$"
      ],
      "text/plain": [
       "<IPython.core.display.Math object>"
      ]
     },
     "metadata": {},
     "output_type": "display_data"
    },
    {
     "data": {
      "text/latex": [
       "$\\displaystyle \\text{SS}_{\\text{obs}} = \\text{SS}_{\\text{mean}} + \\text{SS}_{\\text{tr}} + \\text{SS}_{\\text{res}}$"
      ],
      "text/plain": [
       "<IPython.core.display.Math object>"
      ]
     },
     "metadata": {},
     "output_type": "display_data"
    },
    {
     "data": {
      "text/latex": [
       "$\\displaystyle 216 = 128 + 78 + 10$"
      ],
      "text/plain": [
       "<IPython.core.display.Math object>"
      ]
     },
     "metadata": {},
     "output_type": "display_data"
    },
    {
     "data": {
      "text/latex": [
       "$\\displaystyle \\text{Total SS (corrected)} = \\text{SS}_{\\text{obs}} - \\text{SS}_{\\text{mean}} = 216 - 128 = 88$"
      ],
      "text/plain": [
       "<IPython.core.display.Math object>"
      ]
     },
     "metadata": {},
     "output_type": "display_data"
    },
    {
     "name": "stdout",
     "output_type": "stream",
     "text": [
      "\n"
     ]
    },
    {
     "data": {
      "text/latex": [
       "$\\displaystyle \\text{Observation }2:$"
      ],
      "text/plain": [
       "<IPython.core.display.Math object>"
      ]
     },
     "metadata": {},
     "output_type": "display_data"
    },
    {
     "data": {
      "text/latex": [
       "$\\displaystyle \\left[\n",
       "                      \\begin{array}{rrr}\n",
       "                            3 & 2 & 7 \\\\\n",
       "                            4 & 0 &            \\\\\n",
       "                            8 & 9 & 7\n",
       "                      \\end{array}\n",
       "                      \\right] = \\left[\n",
       "                      \\begin{array}{rrr}\n",
       "                            5 & 5 & 5 \\\\\n",
       "                            5 & 5 &                \\\\\n",
       "                            5 & 5 & 5\n",
       "                      \\end{array}\n",
       "                      \\right] + \\left[\n",
       "                      \\begin{array}{rrr}\n",
       "                            -1 & -1 & -1 \\\\\n",
       "                            -3 & -3 &              \\\\\n",
       "                            3 & 3 & 3\n",
       "                      \\end{array}\n",
       "                      \\right] + \\left[\n",
       "                      \\begin{array}{rrr}\n",
       "                            -1 & -2 & 3 \\\\\n",
       "                            2 & -2 &               \\\\\n",
       "                            0 & 1 & -1\n",
       "                      \\end{array}\n",
       "                      \\right]$"
      ],
      "text/plain": [
       "<IPython.core.display.Math object>"
      ]
     },
     "metadata": {},
     "output_type": "display_data"
    },
    {
     "data": {
      "text/latex": [
       "$\\displaystyle \\hspace{0.0cm}\\text{(observation)}\\hspace{0.9cm}\\text{(mean)}\\hspace{1.0cm}\\text{(treatment effect)}\\hspace{1.1cm}\\text{(residual)}$"
      ],
      "text/plain": [
       "<IPython.core.display.Math object>"
      ]
     },
     "metadata": {},
     "output_type": "display_data"
    },
    {
     "data": {
      "text/latex": [
       "$\\displaystyle \\text{and}$"
      ],
      "text/plain": [
       "<IPython.core.display.Math object>"
      ]
     },
     "metadata": {},
     "output_type": "display_data"
    },
    {
     "data": {
      "text/latex": [
       "$\\displaystyle \\text{SS}_{\\text{obs}} = \\text{SS}_{\\text{mean}} + \\text{SS}_{\\text{tr}} + \\text{SS}_{\\text{res}}$"
      ],
      "text/plain": [
       "<IPython.core.display.Math object>"
      ]
     },
     "metadata": {},
     "output_type": "display_data"
    },
    {
     "data": {
      "text/latex": [
       "$\\displaystyle 272 = 200 + 48 + 24$"
      ],
      "text/plain": [
       "<IPython.core.display.Math object>"
      ]
     },
     "metadata": {},
     "output_type": "display_data"
    },
    {
     "data": {
      "text/latex": [
       "$\\displaystyle \\text{Total SS (corrected)} = \\text{SS}_{\\text{obs}} - \\text{SS}_{\\text{mean}} = 272 - 200 = 72$"
      ],
      "text/plain": [
       "<IPython.core.display.Math object>"
      ]
     },
     "metadata": {},
     "output_type": "display_data"
    },
    {
     "name": "stdout",
     "output_type": "stream",
     "text": [
      "\n"
     ]
    }
   ],
   "source": [
    "SS_obs = np.zeros((p, p))\n",
    "SS_mean = np.zeros((p, p))\n",
    "SS_tr = np.zeros((p, p))\n",
    "SS_res = np.zeros((p, p))\n",
    "SS_tot = np.zeros((p, p))\n",
    "for i in range(x.shape[1]):\n",
    "    display(Math(fr'\\text{{Observation }}{i+1}:'))\n",
    "    display(Math(fr'''\\left[\n",
    "                      \\begin{{array}}{{rrr}}\n",
    "                            {x[0,i,0]:.0f} & {x[0,i,1]:.0f} & {x[0,i,2]:.0f} \\\\\n",
    "                            {x[1,i,0]:.0f} & {x[1,i,1]:.0f} &            \\\\\n",
    "                            {x[2,i,0]:.0f} & {x[2,i,1]:.0f} & {x[2,i,2]:.0f}\n",
    "                      \\end{{array}}\n",
    "                      \\right] = '''\n",
    "                fr'''\\left[\n",
    "                      \\begin{{array}}{{rrr}}\n",
    "                            {mean_matrix[i,0,0]:.0f} & {mean_matrix[i,0,1]:.0f} & {mean_matrix[i,0,2]:.0f} \\\\\n",
    "                            {mean_matrix[i,1,0]:.0f} & {mean_matrix[i,1,1]:.0f} &                \\\\\n",
    "                            {mean_matrix[i,2,0]:.0f} & {mean_matrix[i,2,1]:.0f} & {mean_matrix[i,2,2]:.0f}\n",
    "                      \\end{{array}}\n",
    "                      \\right] + '''\n",
    "                fr'''\\left[\n",
    "                      \\begin{{array}}{{rrr}}\n",
    "                            {tr_matrix[i,0,0]:.0f} & {tr_matrix[i,0,1]:.0f} & {tr_matrix[i,0,2]:.0f} \\\\\n",
    "                            {tr_matrix[i,1,0]:.0f} & {tr_matrix[i,1,1]:.0f} &              \\\\\n",
    "                            {tr_matrix[i,2,0]:.0f} & {tr_matrix[i,2,1]:.0f} & {tr_matrix[i,2,2]:.0f}\n",
    "                      \\end{{array}}\n",
    "                      \\right] + '''\n",
    "                fr'''\\left[\n",
    "                      \\begin{{array}}{{rrr}}\n",
    "                            {res_matrix[i,0,0]:.0f} & {res_matrix[i,0,1]:.0f} & {res_matrix[i,0,2]:.0f} \\\\\n",
    "                            {res_matrix[i,1,0]:.0f} & {res_matrix[i,1,1]:.0f} &               \\\\\n",
    "                            {res_matrix[i,2,0]:.0f} & {res_matrix[i,2,1]:.0f} & {res_matrix[i,2,2]:.0f}\n",
    "                      \\end{{array}}\n",
    "                      \\right]'''\n",
    "\n",
    "                      ))\n",
    "    display(Math(r'\\hspace{0.0cm}\\text{(observation)}\\hspace{0.9cm}\\text{(mean)}\\hspace{1.0cm}\\text{(treatment effect)}\\hspace{1.1cm}\\text{(residual)}'))\n",
    "    SS_obs[i,i] = (x[:,i,:][~np.isnan(x[:,i,:])]**2).sum()\n",
    "    SS_mean[i,i] = np.nansum(mean_matrix[i,:,:]**2)\n",
    "    SS_tr[i,i] = np.nansum(tr_matrix[i,:,:]**2)\n",
    "    SS_res[i,i] = np.nansum(res_matrix[i,:,:]**2)\n",
    "    SS_tot[i,i] = np.nansum(tot_matrix[i,:,:]**2)\n",
    "    display(Math(r'\\text{and}'))\n",
    "    display(Math(r'\\text{SS}_{\\text{obs}} = \\text{SS}_{\\text{mean}} + \\text{SS}_{\\text{tr}} + \\text{SS}_{\\text{res}}'))\n",
    "    display(Math(fr'{SS_obs[i,i]:.0f} = {SS_mean[i,i]:.0f} + {SS_tr[i,i]:.0f} + {SS_res[i,i]:.0f}'))\n",
    "    display(Math(fr'\\text{{Total SS (corrected)}} = \\text{{SS}}_{{\\text{{obs}}}} - \\text{{SS}}_{{\\text{{mean}}}} = '\n",
    "                 f'{SS_obs[i,i]:.0f} - {SS_mean[i,i]:.0f} = {SS_tot[i,i]:.0f}'))\n",
    "    print()"
   ]
  },
  {
   "cell_type": "code",
   "execution_count": 10,
   "metadata": {},
   "outputs": [],
   "source": [
    "# Fill in the cross products.\n",
    "SS_mean[0,1] = SS_mean[1,0] = (np.nan_to_num(mean_matrix[0,:,:]) * np.nan_to_num(mean_matrix[1,:,:])).sum()\n",
    "SS_tr[0,1] = SS_tr[1,0] = (np.nan_to_num(tr_matrix[0,:,:]) * np.nan_to_num(tr_matrix[1,:,:])).sum()\n",
    "SS_res[0,1] = SS_res[1,0] = (np.nan_to_num(res_matrix[0,:,:]) * np.nan_to_num(res_matrix[1,:,:])).sum()\n",
    "SS_tot[0,1] = SS_tot[1,0] = (np.nan_to_num(tot_matrix[0,:,:]) * np.nan_to_num(tot_matrix[1,:,:])).sum()"
   ]
  },
  {
   "cell_type": "code",
   "execution_count": 11,
   "metadata": {},
   "outputs": [
    {
     "data": {
      "text/latex": [
       "$\\displaystyle \\begin{array}{lll}\\text{Source} & \\text{Matrix of sum of squares} &  \\\\\\text{of variation} & \\text{and cross products} & \\text{Degrees of freedom} \\\\\\hline \\\\\\text{Treatment} & \\left[ \\begin{array}{rr} 78 & -12 \\\\ -12 & 48 \\end{array} \\right] &3 - 1 = 2 \\\\ \\\\\\text{Residual} & \\left[ \\begin{array}{rr} \\phantom{-} 10 & \\phantom{-} 1 \\\\ \\phantom{-} 1 & \\phantom{-} 24 \\end{array} \\right] &3 + 2 + 3 - 3 = 5 \\\\ \\\\\\hline \\\\\\text{Total (corrected)} & \\left[ \\begin{array}{rr} 88 & -11 \\\\ -11 & 72 \\end{array} \\right] &7\\end{array}$"
      ],
      "text/plain": [
       "<IPython.core.display.Math object>"
      ]
     },
     "metadata": {},
     "output_type": "display_data"
    }
   ],
   "source": [
    "display(Math(r'\\begin{array}{lll}'\n",
    "             r'\\text{Source} & \\text{Matrix of sum of squares} &  \\\\'\n",
    "             r'\\text{of variation} & \\text{and cross products} & \\text{Degrees of freedom} \\\\'\n",
    "             r'\\hline \\\\'\n",
    "             r'\\text{Treatment} &'\n",
    "             r' \\left[ \\begin{array}{rr}'\n",
    "             fr' {SS_tr[0,0]:.0f} & {SS_tr[0,1]:.0f} \\\\'\n",
    "             fr' {SS_tr[1,0]:.0f} & {SS_tr[1,1]:.0f}'\n",
    "             r' \\end{array} \\right] &'\n",
    "             fr'{g} - 1 = {g - 1} \\\\ \\\\'\n",
    "             r'\\text{Residual} &'\n",
    "             r' \\left[ \\begin{array}{rr}'\n",
    "             fr' \\phantom{{-}} {SS_res[0,0]:.0f} & \\phantom{{-}} {SS_res[0,1]:.0f} \\\\'\n",
    "             fr' \\phantom{{-}} {SS_res[1,0]:.0f} & \\phantom{{-}} {SS_res[1,1]:.0f}'\n",
    "             r' \\end{array} \\right] &'\n",
    "             fr'{n1} + {n2} + {n3} - {g} = {n - g} \\\\ \\\\'\n",
    "             r'\\hline \\\\'\n",
    "             r'\\text{Total (corrected)} &'\n",
    "             r' \\left[ \\begin{array}{rr}'\n",
    "             fr' {SS_tot[0,0]:.0f} & {SS_tot[0,1]:.0f} \\\\'\n",
    "             fr' {SS_tot[1,0]:.0f} & {SS_tot[1,1]:.0f}'\n",
    "             r' \\end{array} \\right] &'\n",
    "             f'{(n - 1)}'\n",
    "             r'\\end{array}'\n",
    "             ))"
   ]
  },
  {
   "cell_type": "code",
   "execution_count": 12,
   "metadata": {},
   "outputs": [
    {
     "data": {
      "text/plain": [
       "True"
      ]
     },
     "execution_count": 12,
     "metadata": {},
     "output_type": "execute_result"
    }
   ],
   "source": [
    "np.all(np.equal(SS_tot, SS_tr + SS_res))"
   ]
  },
  {
   "cell_type": "code",
   "execution_count": 13,
   "metadata": {},
   "outputs": [
    {
     "data": {
      "text/latex": [
       "$\\displaystyle  \\begin{bmatrix} 78 & -12 \\\\ -12 & 48 \\end{bmatrix}= \\begin{bmatrix} 78 & -12 \\\\ -12 & 48 \\end{bmatrix}+ \\begin{bmatrix} 10 & 1 \\\\ 1 & 24 \\end{bmatrix}$"
      ],
      "text/plain": [
       "<IPython.core.display.Math object>"
      ]
     },
     "metadata": {},
     "output_type": "display_data"
    }
   ],
   "source": [
    "display(Math(r' \\begin{bmatrix}'\n",
    "             fr' {SS_tr[0,0]:.0f} & {SS_tr[0,1]:.0f} \\\\'\n",
    "             fr' {SS_tr[1,0]:.0f} & {SS_tr[1,1]:.0f}'\n",
    "             r' \\end{bmatrix}'\n",
    "             '='\n",
    "             r' \\begin{bmatrix}'\n",
    "             fr' {SS_tr[0,0]:.0f} & {SS_tr[0,1]:.0f} \\\\'\n",
    "             fr' {SS_tr[1,0]:.0f} & {SS_tr[1,1]:.0f}'\n",
    "             r' \\end{bmatrix}'\n",
    "             '+'\n",
    "             r' \\begin{bmatrix}'\n",
    "             fr' {SS_res[0,0]:.0f} & {SS_res[0,1]:.0f} \\\\'\n",
    "             fr' {SS_res[1,0]:.0f} & {SS_res[1,1]:.0f}'\n",
    "             r' \\end{bmatrix}'\n",
    "             ))"
   ]
  },
  {
   "cell_type": "code",
   "execution_count": 14,
   "metadata": {},
   "outputs": [],
   "source": [
    "lmbda_star = la.det(SS_res)/la.det(SS_tot)"
   ]
  },
  {
   "cell_type": "code",
   "execution_count": 15,
   "metadata": {},
   "outputs": [
    {
     "data": {
      "text/latex": [
       "$\\displaystyle \\Lambda^{\\star}=\\frac{\\left|\\textbf{W}\\right|}{\\left|\\textbf{B} + \\textbf{W}\\right|}=\\frac{10(24) - (1)^{2} }{88(72) - (-11)^{2} }=\\frac{239}{6215}=0.0385$"
      ],
      "text/plain": [
       "<IPython.core.display.Math object>"
      ]
     },
     "metadata": {},
     "output_type": "display_data"
    }
   ],
   "source": [
    "display(Math(r'\\Lambda^{\\star}'\n",
    "             '='\n",
    "             r'\\frac{\\left|\\textbf{W}\\right|}{\\left|\\textbf{B} + \\textbf{W}\\right|}'\n",
    "             '='\n",
    "             fr'\\frac{{{SS_res[0,0]:.0f}({SS_res[1,1]:.0f}) - ({SS_res[0,1]:.0f})^{{2}} }}{{{SS_tot[0,0]:.0f}({SS_tot[1,1]:.0f}) - ({SS_tot[0,1]:.0f})^{{2}} }}'\n",
    "             '='\n",
    "             fr'\\frac{{{la.det(SS_res):.0f}}}{{{la.det(SS_tr + SS_res):.0f}}}'\n",
    "             '='\n",
    "             f'{lmbda_star:.4f}'\n",
    "             ))"
   ]
  },
  {
   "cell_type": "code",
   "execution_count": 16,
   "metadata": {},
   "outputs": [
    {
     "data": {
      "text/latex": [
       "$\\displaystyle \\text{Since} \\hspace{0.2cm} p = 2\\hspace{0.2cm} \\text{and} \\hspace{0.2cm} g = 3 \\hspace{0.2cm} \\text{using Table 6.3},\\left( \\frac{ \\sum n_{\\ell} - g - 1 }{ g - 1 } \\right)\\left( \\frac{ 1 - \\sqrt{\\Lambda^{\\star}} }{ \\sqrt{\\Lambda^{\\star}} } \\right)\\sim F_{2(g-1), 2(\\sum n_{\\ell} - g - 1)}$"
      ],
      "text/plain": [
       "<IPython.core.display.Math object>"
      ]
     },
     "metadata": {},
     "output_type": "display_data"
    }
   ],
   "source": [
    "display(Math(fr'\\text{{Since}} \\hspace{{0.2cm}} p = {p}'\n",
    "             fr'\\hspace{{0.2cm}} \\text{{and}} \\hspace{{0.2cm}} '\n",
    "             fr'g = {g} \\hspace{{0.2cm}} \\text{{using Table 6.3}},'\n",
    "             r'\\left( \\frac{ \\sum n_{\\ell} - g - 1 }{ g - 1 } \\right)'\n",
    "             r'\\left( \\frac{ 1 - \\sqrt{\\Lambda^{\\star}} }{ \\sqrt{\\Lambda^{\\star}} } \\right)'\n",
    "             r'\\sim F_{2(g-1), 2(\\sum n_{\\ell} - g - 1)}'\n",
    "             ))\n",
    "# "
   ]
  },
  {
   "cell_type": "code",
   "execution_count": 17,
   "metadata": {},
   "outputs": [],
   "source": [
    "test_stat = ((n - g - 1)/(g-1)) * (1 - np.sqrt(lmbda_star))/np.sqrt(lmbda_star)\n",
    "alpha = 0.01\n",
    "f_crit = stats.f.ppf(1-alpha, dfn=2*(g-1), dfd=2*(n-g-1))"
   ]
  },
  {
   "cell_type": "code",
   "execution_count": 18,
   "metadata": {},
   "outputs": [
    {
     "data": {
      "text/latex": [
       "$\\displaystyle F^{\\star} = \\left( \\frac{ \\sum n_{\\ell} - g - 1 }{ g - 1 } \\right)\\left( \\frac{ 1 - \\sqrt{\\Lambda^{\\star}} }{ \\sqrt{\\Lambda^{\\star}} } \\right)=\\left( \\frac{ 8 - 3 - 1 }{ 3 - 1 } \\right)\\left( \\frac{ 1 - \\sqrt{ 0.0385 } }{ \\sqrt{ 0.0385 } } \\right)=8.1989$"
      ],
      "text/plain": [
       "<IPython.core.display.Math object>"
      ]
     },
     "metadata": {},
     "output_type": "display_data"
    }
   ],
   "source": [
    "display(Math(r'F^{\\star} = \\left( \\frac{ \\sum n_{\\ell} - g - 1 }{ g - 1 } \\right)'\n",
    "             r'\\left( \\frac{ 1 - \\sqrt{\\Lambda^{\\star}} }{ \\sqrt{\\Lambda^{\\star}} } \\right)'\n",
    "             '='\n",
    "             fr'\\left( \\frac{{ {n} - {g} - 1 }}{{ {g} - 1 }} \\right)'\n",
    "             fr'\\left( \\frac{{ 1 - \\sqrt{{ {lmbda_star:.4f} }} }}{{ \\sqrt{{ {lmbda_star:.4f} }} }} \\right)'\n",
    "             '='\n",
    "             f'{test_stat:.4f}'\n",
    "             ))"
   ]
  },
  {
   "cell_type": "code",
   "execution_count": 19,
   "metadata": {},
   "outputs": [
    {
     "data": {
      "text/latex": [
       "$\\displaystyle F_{\\text{crit}} = F_{2(g-1), 2(\\sum n_{\\ell} - g - 1)}=F_{2(3-1), 2(8 - 3 - 1)} \\left( 0.01 \\right)=F_{4, 8 } \\left( 0.01 \\right)=7.006$"
      ],
      "text/plain": [
       "<IPython.core.display.Math object>"
      ]
     },
     "metadata": {},
     "output_type": "display_data"
    }
   ],
   "source": [
    "display(Math(fr'F_{{\\text{{crit}}}} = F_{{2(g-1), 2(\\sum n_{{\\ell}} - g - 1)}}'\n",
    "             '='\n",
    "             fr'F_{{2({g}-1), 2({n} - {g} - 1)}} \\left( {alpha} \\right)'\n",
    "             '='\n",
    "             fr'F_{{{2*(g-1)}, {2*(n-g-1)} }} \\left( {alpha} \\right)'\n",
    "             '='\n",
    "             f'{f_crit:.3f}'\n",
    "             ))"
   ]
  },
  {
   "cell_type": "code",
   "execution_count": 20,
   "metadata": {},
   "outputs": [
    {
     "data": {
      "text/latex": [
       "$\\displaystyle \\text{We have that } F^{\\star} = 8.199 > F_{\\text{crit}} = F_{4, 8 } \\left( 0.01 \\right) = 7.006 \\text{, so we would reject the null hypothesis that } \\bm{\\tau}_{1} = \\bm{\\tau}_{3} = \\bm{\\tau}_{3} = \\textbf{0}$"
      ],
      "text/plain": [
       "<IPython.core.display.Math object>"
      ]
     },
     "metadata": {},
     "output_type": "display_data"
    }
   ],
   "source": [
    "if test_stat > f_crit:\n",
    "    display(Math(fr'\\text{{We have that }} F^{{\\star}} = {test_stat:.3f} > F_{{\\text{{crit}}}} = F_{{{2*(g-1)}, {2*(n-g-1)} }} \\left( {alpha} \\right) = '\n",
    "                 fr'{f_crit:.3f} \\text{{, so we would reject the null hypothesis that }} '\n",
    "                 r'\\bm{\\tau}_{1} = \\bm{\\tau}_{3} = \\bm{\\tau}_{3} = \\textbf{0}'))\n",
    "else:\n",
    "    display(Math(fr'\\text{{We have that }} F^{{\\star}} = {test_stat:.3f} \\leq F_{{\\text{{crit}}}} = F_{{{2*(g-1)}, {2*(n-g-1)} }} \\left( {alpha} \\right) = '\n",
    "                fr'{f_crit:.3f} \\text{{, so we would fail to reject the null hypothesis that }} '\n",
    "                r'\\bm{\\tau}_{1} = \\bm{\\tau}_{3} = \\bm{\\tau}_{3} = \\textbf{0}'))"
   ]
  }
 ],
 "metadata": {
  "kernelspec": {
   "display_name": "Python 3",
   "language": "python",
   "name": "python3"
  },
  "language_info": {
   "codemirror_mode": {
    "name": "ipython",
    "version": 3
   },
   "file_extension": ".py",
   "mimetype": "text/x-python",
   "name": "python",
   "nbconvert_exporter": "python",
   "pygments_lexer": "ipython3",
   "version": "3.12.5"
  }
 },
 "nbformat": 4,
 "nbformat_minor": 2
}
