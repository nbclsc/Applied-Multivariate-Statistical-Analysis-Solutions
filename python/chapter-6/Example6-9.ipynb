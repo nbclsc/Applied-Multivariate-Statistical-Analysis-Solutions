{
 "cells": [
  {
   "cell_type": "markdown",
   "metadata": {},
   "source": [
    "# Example 6.9"
   ]
  },
  {
   "cell_type": "code",
   "execution_count": 1,
   "metadata": {},
   "outputs": [],
   "source": [
    "import numpy as np\n",
    "from IPython.display import display, Math"
   ]
  },
  {
   "cell_type": "code",
   "execution_count": 2,
   "metadata": {},
   "outputs": [],
   "source": [
    "p1 = np.array([9, 6, 9])\n",
    "p2 = np.array([0, 2])\n",
    "p3 = np.array([3, 1, 2])"
   ]
  },
  {
   "cell_type": "code",
   "execution_count": 3,
   "metadata": {},
   "outputs": [],
   "source": [
    "g1 = np.hstack([np.array([[9], [3]]),\n",
    "                np.array([[6], [2]]),\n",
    "                np.array([[9], [7]])])\n",
    "\n",
    "g2 = np.hstack([np.array([[0], [4]]),\n",
    "                np.array([[2], [0]])])\n",
    "\n",
    "g3 = np.hstack([np.array([[3], [8]]),\n",
    "                np.array([[1], [9]]),\n",
    "                np.array([[2], [7]])])"
   ]
  },
  {
   "cell_type": "code",
   "execution_count": 4,
   "metadata": {},
   "outputs": [
    {
     "data": {
      "text/plain": [
       "array([[[ 9.,  6.,  9.],\n",
       "        [ 3.,  2.,  7.]],\n",
       "\n",
       "       [[ 0.,  2., nan],\n",
       "        [ 4.,  0., nan]],\n",
       "\n",
       "       [[ 3.,  1.,  2.],\n",
       "        [ 8.,  9.,  7.]]])"
      ]
     },
     "execution_count": 4,
     "metadata": {},
     "output_type": "execute_result"
    }
   ],
   "source": [
    "# Rearrange the groups to 3D (i,j,k). The depth (i) is the group. The height (j) is the measurement. The width (k) is the observation.\n",
    "x = np.stack((g1, np.hstack((g2, np.array([[np.nan], [np.nan]]))), g3))\n",
    "x"
   ]
  },
  {
   "cell_type": "code",
   "execution_count": 5,
   "metadata": {},
   "outputs": [],
   "source": [
    "# Mean for each group.\n",
    "xbarg = np.stack([np.nanmean(x[i,:,:], axis=1)[:, np.newaxis] for i in range(x.shape[0])])\n",
    "# Global mean.\n",
    "xbar = np.vstack([np.nanmean(x[:,i,:].flatten()) for i in range(x.shape[1])])"
   ]
  },
  {
   "cell_type": "code",
   "execution_count": 6,
   "metadata": {},
   "outputs": [
    {
     "data": {
      "text/latex": [
       "$\\displaystyle \\text{Observation }1:$"
      ],
      "text/plain": [
       "<IPython.core.display.Math object>"
      ]
     },
     "metadata": {},
     "output_type": "display_data"
    },
    {
     "data": {
      "text/latex": [
       "$\\displaystyle \\left[\n",
       "                      \\begin{array}{rrr}\n",
       "                            9 & 6 & 9 \\\\\n",
       "                            0 & 2 &            \\\\\n",
       "                            3 & 1 & 2\n",
       "                      \\end{array}\n",
       "                      \\right] = \\left[\n",
       "                      \\begin{array}{rrr}\n",
       "                            4 & 4 & 4 \\\\\n",
       "                            4 & 4 &                \\\\\n",
       "                            4 & 4 & 4\n",
       "                      \\end{array}\n",
       "                      \\right] + \\left[\n",
       "                      \\begin{array}{rrr}\n",
       "                            4 & 4 & 4 \\\\\n",
       "                            -3 & -3 &              \\\\\n",
       "                            -2 & -2 & -2\n",
       "                      \\end{array}\n",
       "                      \\right] + \\left[\n",
       "                      \\begin{array}{rrr}\n",
       "                            1 & -2 & 1 \\\\\n",
       "                            -1 & 1 &               \\\\\n",
       "                            1 & -1 & 0\n",
       "                      \\end{array}\n",
       "                      \\right]$"
      ],
      "text/plain": [
       "<IPython.core.display.Math object>"
      ]
     },
     "metadata": {},
     "output_type": "display_data"
    },
    {
     "data": {
      "text/latex": [
       "$\\displaystyle \\hspace{0.0cm}\\text{(observation)}\\hspace{0.9cm}\\text{(mean)}\\hspace{1.0cm}\\text{(treatment effect)}\\hspace{1.1cm}\\text{(residual)}$"
      ],
      "text/plain": [
       "<IPython.core.display.Math object>"
      ]
     },
     "metadata": {},
     "output_type": "display_data"
    },
    {
     "data": {
      "text/latex": [
       "$\\displaystyle \\text{and}$"
      ],
      "text/plain": [
       "<IPython.core.display.Math object>"
      ]
     },
     "metadata": {},
     "output_type": "display_data"
    },
    {
     "data": {
      "text/latex": [
       "$\\displaystyle \\text{SS}_{\\text{obs}} = \\text{SS}_{\\text{mean}} + \\text{SS}_{\\text{tr}} + \\text{SS}_{\\text{res}}$"
      ],
      "text/plain": [
       "<IPython.core.display.Math object>"
      ]
     },
     "metadata": {},
     "output_type": "display_data"
    },
    {
     "data": {
      "text/latex": [
       "$\\displaystyle 216 = 128 + 78 + 10$"
      ],
      "text/plain": [
       "<IPython.core.display.Math object>"
      ]
     },
     "metadata": {},
     "output_type": "display_data"
    },
    {
     "data": {
      "text/latex": [
       "$\\displaystyle \\text{Total SS (corrected)} = \\text{SS}_{\\text{obs}} - \\text{SS}_{\\text{mean}} = 216 - 128 = 88$"
      ],
      "text/plain": [
       "<IPython.core.display.Math object>"
      ]
     },
     "metadata": {},
     "output_type": "display_data"
    },
    {
     "name": "stdout",
     "output_type": "stream",
     "text": [
      "\n"
     ]
    },
    {
     "data": {
      "text/latex": [
       "$\\displaystyle \\text{Observation }2:$"
      ],
      "text/plain": [
       "<IPython.core.display.Math object>"
      ]
     },
     "metadata": {},
     "output_type": "display_data"
    },
    {
     "data": {
      "text/latex": [
       "$\\displaystyle \\left[\n",
       "                      \\begin{array}{rrr}\n",
       "                            3 & 2 & 7 \\\\\n",
       "                            4 & 0 &            \\\\\n",
       "                            8 & 9 & 7\n",
       "                      \\end{array}\n",
       "                      \\right] = \\left[\n",
       "                      \\begin{array}{rrr}\n",
       "                            5 & 5 & 5 \\\\\n",
       "                            5 & 5 &                \\\\\n",
       "                            5 & 5 & 5\n",
       "                      \\end{array}\n",
       "                      \\right] + \\left[\n",
       "                      \\begin{array}{rrr}\n",
       "                            -1 & -1 & -1 \\\\\n",
       "                            -3 & -3 &              \\\\\n",
       "                            3 & 3 & 3\n",
       "                      \\end{array}\n",
       "                      \\right] + \\left[\n",
       "                      \\begin{array}{rrr}\n",
       "                            -1 & -2 & 3 \\\\\n",
       "                            2 & -2 &               \\\\\n",
       "                            0 & 1 & -1\n",
       "                      \\end{array}\n",
       "                      \\right]$"
      ],
      "text/plain": [
       "<IPython.core.display.Math object>"
      ]
     },
     "metadata": {},
     "output_type": "display_data"
    },
    {
     "data": {
      "text/latex": [
       "$\\displaystyle \\hspace{0.0cm}\\text{(observation)}\\hspace{0.9cm}\\text{(mean)}\\hspace{1.0cm}\\text{(treatment effect)}\\hspace{1.1cm}\\text{(residual)}$"
      ],
      "text/plain": [
       "<IPython.core.display.Math object>"
      ]
     },
     "metadata": {},
     "output_type": "display_data"
    },
    {
     "data": {
      "text/latex": [
       "$\\displaystyle \\text{and}$"
      ],
      "text/plain": [
       "<IPython.core.display.Math object>"
      ]
     },
     "metadata": {},
     "output_type": "display_data"
    },
    {
     "data": {
      "text/latex": [
       "$\\displaystyle \\text{SS}_{\\text{obs}} = \\text{SS}_{\\text{mean}} + \\text{SS}_{\\text{tr}} + \\text{SS}_{\\text{res}}$"
      ],
      "text/plain": [
       "<IPython.core.display.Math object>"
      ]
     },
     "metadata": {},
     "output_type": "display_data"
    },
    {
     "data": {
      "text/latex": [
       "$\\displaystyle 272 = 200 + 48 + 24$"
      ],
      "text/plain": [
       "<IPython.core.display.Math object>"
      ]
     },
     "metadata": {},
     "output_type": "display_data"
    },
    {
     "data": {
      "text/latex": [
       "$\\displaystyle \\text{Total SS (corrected)} = \\text{SS}_{\\text{obs}} - \\text{SS}_{\\text{mean}} = 272 - 200 = 72$"
      ],
      "text/plain": [
       "<IPython.core.display.Math object>"
      ]
     },
     "metadata": {},
     "output_type": "display_data"
    },
    {
     "name": "stdout",
     "output_type": "stream",
     "text": [
      "\n"
     ]
    }
   ],
   "source": [
    "for i in range(2):\n",
    "    mean_matrix = xbar[i] * np.ones((3,3))\n",
    "    tr_matrix = (xbarg[:,i,:] - xbar[i]) * np.ones((3,3))\n",
    "    res_matrix = (x[:,i,:] - xbarg[:,i,:] * np.ones((3,3)))\n",
    "    display(Math(fr'\\text{{Observation }}{i+1}:'))\n",
    "    display(Math(fr'''\\left[\n",
    "                      \\begin{{array}}{{rrr}}\n",
    "                            {x[0,i,0]:.0f} & {x[0,i,1]:.0f} & {x[0,i,2]:.0f} \\\\\n",
    "                            {x[1,i,0]:.0f} & {x[1,i,1]:.0f} &            \\\\\n",
    "                            {x[2,i,0]:.0f} & {x[2,i,1]:.0f} & {x[2,i,2]:.0f}\n",
    "                      \\end{{array}}\n",
    "                      \\right] = '''\n",
    "                fr'''\\left[\n",
    "                      \\begin{{array}}{{rrr}}\n",
    "                            {mean_matrix[0,0]:.0f} & {mean_matrix[0,1]:.0f} & {mean_matrix[0,2]:.0f} \\\\\n",
    "                            {mean_matrix[1,0]:.0f} & {mean_matrix[1,1]:.0f} &                \\\\\n",
    "                            {mean_matrix[2,0]:.0f} & {mean_matrix[2,1]:.0f} & {mean_matrix[2,2]:.0f}\n",
    "                      \\end{{array}}\n",
    "                      \\right] + '''\n",
    "                fr'''\\left[\n",
    "                      \\begin{{array}}{{rrr}}\n",
    "                            {tr_matrix[0,0]:.0f} & {tr_matrix[0,1]:.0f} & {tr_matrix[0,2]:.0f} \\\\\n",
    "                            {tr_matrix[1,0]:.0f} & {tr_matrix[1,1]:.0f} &              \\\\\n",
    "                            {tr_matrix[2,0]:.0f} & {tr_matrix[2,1]:.0f} & {tr_matrix[2,2]:.0f}\n",
    "                      \\end{{array}}\n",
    "                      \\right] + '''\n",
    "                fr'''\\left[\n",
    "                      \\begin{{array}}{{rrr}}\n",
    "                            {res_matrix[0,0]:.0f} & {res_matrix[0,1]:.0f} & {res_matrix[0,2]:.0f} \\\\\n",
    "                            {res_matrix[1,0]:.0f} & {res_matrix[1,1]:.0f} &               \\\\\n",
    "                            {res_matrix[2,0]:.0f} & {res_matrix[2,1]:.0f} & {res_matrix[2,2]:.0f}\n",
    "                      \\end{{array}}\n",
    "                      \\right]'''\n",
    "\n",
    "                      ))\n",
    "    display(Math(r'\\hspace{0.0cm}\\text{(observation)}\\hspace{0.9cm}\\text{(mean)}\\hspace{1.0cm}\\text{(treatment effect)}\\hspace{1.1cm}\\text{(residual)}'))\n",
    "    SS_obs = (x[:,i,:][~np.isnan(x[:,i,:])]**2).sum()\n",
    "    SS_mean = (mean_matrix[~np.isnan(x[:,i,:])]**2).sum()\n",
    "    SS_tr = (tr_matrix[~np.isnan(x[:,i,:])]**2).sum()\n",
    "    SS_res = (res_matrix[~np.isnan(x[:,i,:])]**2).sum()\n",
    "    SS_tot = ((x[:,i,:] - xbar[i])[~np.isnan(x[:,i,:])]**2).sum()\n",
    "    display(Math(r'\\text{and}'))\n",
    "    display(Math(r'\\text{SS}_{\\text{obs}} = \\text{SS}_{\\text{mean}} + \\text{SS}_{\\text{tr}} + \\text{SS}_{\\text{res}}'))\n",
    "    display(Math(fr'{SS_obs:.0f} = {SS_mean:.0f} + {SS_tr:.0f} + {SS_res:.0f}'))\n",
    "    display(Math(fr'\\text{{Total SS (corrected)}} = \\text{{SS}}_{{\\text{{obs}}}} - \\text{{SS}}_{{\\text{{mean}}}} = {SS_obs:.0f} - {SS_mean:.0f} = {SS_tot:.0f}'))\n",
    "    print()"
   ]
  }
 ],
 "metadata": {
  "kernelspec": {
   "display_name": "Python 3",
   "language": "python",
   "name": "python3"
  },
  "language_info": {
   "codemirror_mode": {
    "name": "ipython",
    "version": 3
   },
   "file_extension": ".py",
   "mimetype": "text/x-python",
   "name": "python",
   "nbconvert_exporter": "python",
   "pygments_lexer": "ipython3",
   "version": "3.12.5"
  }
 },
 "nbformat": 4,
 "nbformat_minor": 2
}
