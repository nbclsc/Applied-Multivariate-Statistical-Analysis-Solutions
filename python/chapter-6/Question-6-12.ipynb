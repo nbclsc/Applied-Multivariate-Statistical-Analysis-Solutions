{
 "cells": [
  {
   "cell_type": "markdown",
   "metadata": {},
   "source": [
    "# Exercise 6.12"
   ]
  },
  {
   "cell_type": "code",
   "execution_count": 1,
   "metadata": {},
   "outputs": [],
   "source": [
    "import numpy as np\n",
    "from IPython.display import display, Math\n",
    "from scipy import linalg as la\n",
    "from scipy import stats"
   ]
  },
  {
   "cell_type": "markdown",
   "metadata": {},
   "source": [
    "## (b)"
   ]
  },
  {
   "cell_type": "code",
   "execution_count": 2,
   "metadata": {},
   "outputs": [],
   "source": [
    "xbar1 = np.array([[6.4],[6.8],[7.3],[7.0]])\n",
    "xbar2 = np.array([[4.3],[4.9],[5.3],[5.1]])\n",
    "S_pooled = np.array([[0.61,0.26,0.07,0.16],\n",
    "                     [0.26,0.64,0.17,0.14],\n",
    "                     [0.07,0.17,0.81,0.03],\n",
    "                     [0.16,0.14,0.03,0.31]])"
   ]
  },
  {
   "cell_type": "code",
   "execution_count": 3,
   "metadata": {},
   "outputs": [],
   "source": [
    "n1 = 30\n",
    "n2 = 30\n",
    "p = 4"
   ]
  },
  {
   "cell_type": "markdown",
   "metadata": {},
   "source": [
    "$$\n",
    "      T^{2}\n",
    "        =\n",
    "        {(\\bar{\\textbf{x}}_{1} + \\bar{\\textbf{x}}_{2})}^{\\prime}\n",
    "        \\textbf{C}^{\\prime}\n",
    "        {\\left[\n",
    "            \\left(\n",
    "                \\frac{1}{n_{1}}\n",
    "                +\n",
    "                \\frac{1}{n_{2}}\n",
    "            \\right)\n",
    "            \\textbf{C}\n",
    "            \\textbf{S}_{\\text{pooled}}\n",
    "            \\textbf{C}^{\\prime}\n",
    "        \\right]}^{-1}\n",
    "        \\textbf{C}\n",
    "        (\\bar{\\textbf{x}}_{1} + \\bar{\\textbf{x}}_{2})\n",
    "        >\n",
    "        c^{2}\n",
    "$$"
   ]
  },
  {
   "cell_type": "code",
   "execution_count": 4,
   "metadata": {},
   "outputs": [],
   "source": [
    "C = np.diag(np.ones(p), 0) + -1 * np.diag(np.ones(p-1), -1)"
   ]
  },
  {
   "cell_type": "code",
   "execution_count": 5,
   "metadata": {},
   "outputs": [],
   "source": [
    "T2 = (C @ (xbar1 + xbar2)).T @ \\\n",
    "    la.inv((1/n1 + 1/n2) * C @ S_pooled @ C.T) @ \\\n",
    "        (C @ (xbar1 + xbar2))\n",
    "T2 = T2.item()"
   ]
  },
  {
   "cell_type": "code",
   "execution_count": 6,
   "metadata": {},
   "outputs": [
    {
     "data": {
      "text/latex": [
       "$\\displaystyle T^{2}={(\\bar{\\textbf{x}}_{1} + \\bar{\\textbf{x}}_{2})}^{\\prime}\\textbf{C}^{\\prime}{\\left[\\left(\\frac{1}{n_{1}}+\\frac{1}{n_{2}}\\right)\\textbf{C}\\textbf{S}_{\\text{pooled}}\\textbf{C}^{\\prime}\\right]}^{-1}\\textbf{C}(\\bar{\\textbf{x}}_{1} + \\bar{\\textbf{x}}_{2})=10137.74$"
      ],
      "text/plain": [
       "<IPython.core.display.Math object>"
      ]
     },
     "metadata": {},
     "output_type": "display_data"
    }
   ],
   "source": [
    "display(Math(r'T^{2}'\n",
    "             '='\n",
    "             r'{(\\bar{\\textbf{x}}_{1} + \\bar{\\textbf{x}}_{2})}^{\\prime}'\n",
    "             r'\\textbf{C}^{\\prime}'\n",
    "             r'{\\left['\n",
    "                 r'\\left('\n",
    "                     r'\\frac{1}{n_{1}}'\n",
    "                     r'+'\n",
    "                     r'\\frac{1}{n_{2}}'\n",
    "                 r'\\right)'\n",
    "                 r'\\textbf{C}'\n",
    "                 r'\\textbf{S}_{\\text{pooled}}'\n",
    "                 r'\\textbf{C}^{\\prime}'\n",
    "             r'\\right]}^{-1}'\n",
    "             r'\\textbf{C}'\n",
    "             r'(\\bar{\\textbf{x}}_{1} + \\bar{\\textbf{x}}_{2})'\n",
    "             '='\n",
    "             f'{T2:.2f}'\n",
    "        ))"
   ]
  },
  {
   "cell_type": "code",
   "execution_count": 7,
   "metadata": {},
   "outputs": [],
   "source": [
    "alpha = 0.05\n",
    "const = ((n1 + n2 - 2)*(p-2))/(n1 + n2 - (p - 1))\n",
    "f_value = stats.f.ppf(1 - alpha, dfn=p-2, dfd=n1+n2-(p-1))\n",
    "c2 = const * f_value"
   ]
  },
  {
   "cell_type": "code",
   "execution_count": 8,
   "metadata": {},
   "outputs": [
    {
     "data": {
      "text/latex": [
       "$\\displaystyle c^{2}=\\frac{(n_{1}+n_{2}-2)(p-2)}{n_{1}+n_{2}-(p-1)}F_{p-2, n_{1}+n_{2}-(p-1)}(\\alpha)=\\frac{ (30+30-2)(4-2) }{ 30+30-(4-1) }F_{ 4-2, 30+30-(4-1) }(0.05)=\\frac{ (58)(2) }{ 57 }F_{ 2, 57 }(0.05)={ 2.04 } ({ 3.16 })=6.43$"
      ],
      "text/plain": [
       "<IPython.core.display.Math object>"
      ]
     },
     "metadata": {},
     "output_type": "display_data"
    }
   ],
   "source": [
    "display(Math(r'c^{2}'\n",
    "             '='\n",
    "             r'\\frac{(n_{1}+n_{2}-2)(p-2)}'\n",
    "             r'{n_{1}+n_{2}-(p-1)}'\n",
    "             r'F_{p-2, n_{1}+n_{2}-(p-1)}'\n",
    "             r'(\\alpha)'\n",
    "             '='\n",
    "             fr'\\frac{{ ({n1}+{n2}-{2})({p}-{2}) }}'\n",
    "             fr'{{ {n1}+{n2}-({p}-1) }}'\n",
    "             fr'F_{{ {p}-{2}, {n1}+{n2}-({p}-{1}) }}'\n",
    "             f'({alpha})'\n",
    "             '='\n",
    "             fr'\\frac{{ ({n1 + n2 - 2})({p-2}) }}'\n",
    "             fr'{{ {n1 + n2 - (p-1)} }}'\n",
    "             fr'F_{{ {p - 2}, {n1 + n2 - (p - 1)} }}'\n",
    "             f'({alpha})'\n",
    "             '='\n",
    "             fr'{{ {const:.2f} }} ({{ {f_value:.2f} }})'\n",
    "             '='\n",
    "             f'{c2:.2f}'\n",
    "             ))"
   ]
  },
  {
   "cell_type": "code",
   "execution_count": 9,
   "metadata": {},
   "outputs": [
    {
     "data": {
      "text/latex": [
       "$\\displaystyle \\text{We have that } T^{2} = 10137.74 > c^2 = F_{ 2, 57 }(0.05) = 6.43 \\text{, so we would reject the null hypothesis that } \\text{C} (\\bm{\\mu}_{1} + \\bm{\\mu}_{2}) = \\textbf{0} \\text{ (parallel linear profiles)}.$"
      ],
      "text/plain": [
       "<IPython.core.display.Math object>"
      ]
     },
     "metadata": {},
     "output_type": "display_data"
    }
   ],
   "source": [
    "if T2 > c2:\n",
    "    display(Math(fr'\\text{{We have that }} T^{{2}} = {T2:.2f} > c^{2} = F_{{ {p-2}, {n1+n2-(p-1)} }}({alpha}) = '\n",
    "                 fr'{c2:.2f} \\text{{, so we would reject the null hypothesis that }} '\n",
    "                 r'\\text{C} (\\bm{\\mu}_{1} + \\bm{\\mu}_{2}) = \\textbf{0} \\text{ (parallel linear profiles)}.'\n",
    "                 ))\n",
    "else:\n",
    "    display(Math(fr'\\text{{We have that }} T^{{2}} = {T2:.2f} < c^{2} = F_{{ {p-2}, {n1+n2-(p-1)} }}({alpha}) = '\n",
    "                 fr'{c2:.2f} \\text{{, so we would fail to reject the null hypothesis that }} '\n",
    "                 r'\\text{C} (\\bm{\\mu}_{1} + \\bm{\\mu}_{2}) = \\textbf{0} \\text{ (parallel linear profiles)}.'\n",
    "                ))"
   ]
  }
 ],
 "metadata": {
  "kernelspec": {
   "display_name": "py312",
   "language": "python",
   "name": "py312"
  },
  "language_info": {
   "codemirror_mode": {
    "name": "ipython",
    "version": 3
   },
   "file_extension": ".py",
   "mimetype": "text/x-python",
   "name": "python",
   "nbconvert_exporter": "python",
   "pygments_lexer": "ipython3",
   "version": "3.12.5"
  }
 },
 "nbformat": 4,
 "nbformat_minor": 2
}
