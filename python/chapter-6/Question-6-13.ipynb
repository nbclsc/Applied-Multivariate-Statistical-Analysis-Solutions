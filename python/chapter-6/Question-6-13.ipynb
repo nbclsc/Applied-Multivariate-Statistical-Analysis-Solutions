{
 "cells": [
  {
   "cell_type": "markdown",
   "metadata": {},
   "source": [
    "# Exercise 6.13"
   ]
  },
  {
   "cell_type": "code",
   "execution_count": 1,
   "metadata": {},
   "outputs": [],
   "source": [
    "import pathlib\n",
    "import subprocess\n",
    "import numpy as np\n",
    "import pandas as pd\n",
    "from IPython.display import display, Math\n",
    "from scipy import linalg as la\n",
    "from scipy import stats\n",
    "import chapter_6_utils"
   ]
  },
  {
   "cell_type": "code",
   "execution_count": 2,
   "metadata": {},
   "outputs": [],
   "source": [
    "def load_data():\n",
    "    f = pathlib.WindowsPath(r'..\\..\\Data\\Exercise6.13.xlsx')\n",
    "    return pd.read_excel(f)"
   ]
  },
  {
   "cell_type": "code",
   "execution_count": 3,
   "metadata": {},
   "outputs": [],
   "source": [
    "df = load_data()"
   ]
  },
  {
   "cell_type": "markdown",
   "metadata": {},
   "source": [
    "## (a)"
   ]
  },
  {
   "cell_type": "code",
   "execution_count": 4,
   "metadata": {},
   "outputs": [],
   "source": [
    "x1_breakdown = chapter_6_utils.TwoWayManova(df, 'Factor1', 'Factor2', 'x1')\n",
    "x2_breakdown = chapter_6_utils.TwoWayManova(df, 'Factor1', 'Factor2', 'x2')"
   ]
  },
  {
   "cell_type": "code",
   "execution_count": 4,
   "metadata": {},
   "outputs": [],
   "source": [
    "x1_breakdown = chapter_6_utils.two_way_manova_obs_breakdown(df, 'Factor1', 'Factor2', 'x1')\n",
    "x2_breakdown = chapter_6_utils.two_way_manova_obs_breakdown(df, 'Factor1', 'Factor2', 'x2')"
   ]
  },
  {
   "cell_type": "code",
   "execution_count": 5,
   "metadata": {},
   "outputs": [
    {
     "data": {
      "text/latex": [
       "$\\displaystyle \\text{Variable: x1}$"
      ],
      "text/plain": [
       "<IPython.core.display.Math object>"
      ]
     },
     "metadata": {},
     "output_type": "display_data"
    },
    {
     "data": {
      "text/latex": [
       "$\\displaystyle \\left[\\begin{array}{ rrrr }\\phantom{-} 6 & \\phantom{-} 4 & \\phantom{-} 8 & \\phantom{-} 2 \\\\ \\phantom{-} 3 & -3 & \\phantom{-} 4 & -4 \\\\ -3 & -4 & \\phantom{-} 3 & -4 \\\\ \\end{array}\\right] = \\left[\\begin{array}{ rrrr }\\phantom{-} 1 & \\phantom{-} 1 & \\phantom{-} 1 & \\phantom{-} 1 \\\\ \\phantom{-} 1 & \\phantom{-} 1 & \\phantom{-} 1 & \\phantom{-} 1 \\\\ \\phantom{-} 1 & \\phantom{-} 1 & \\phantom{-} 1 & \\phantom{-} 1 \\\\ \\end{array}\\right] + \\left[\\begin{array}{ rrrr }\\phantom{-} 4 & \\phantom{-} 4 & \\phantom{-} 4 & \\phantom{-} 4 \\\\ -1 & -1 & -1 & -1 \\\\ -3 & -3 & -3 & -3 \\\\ \\end{array}\\right] + \\left[\\begin{array}{ rrrr }\\phantom{-} 1 & -2 & \\phantom{-} 4 & -3 \\\\ \\phantom{-} 1 & -2 & \\phantom{-} 4 & -3 \\\\ \\phantom{-} 1 & -2 & \\phantom{-} 4 & -3 \\\\ \\end{array}\\right] + \\left[\\begin{array}{ rrrr }\\phantom{-} 0 & \\phantom{-} 1 & -1 & \\phantom{-} 0 \\\\ \\phantom{-} 2 & -1 & \\phantom{-} 0 & -1 \\\\ -2 & \\phantom{-} 0 & \\phantom{-} 1 & \\phantom{-} 1 \\\\ \\end{array}\\right]$"
      ],
      "text/plain": [
       "<IPython.core.display.Math object>"
      ]
     },
     "metadata": {},
     "output_type": "display_data"
    },
    {
     "data": {
      "text/latex": [
       "$\\displaystyle \\hspace{ 0.75cm }\\text{(observation)}\\hspace{ 2.5cm }\\text{(mean)}\\hspace{ 2.2cm }\\text{(treatment 1 effect)}\\hspace{ 1.1cm }\\text{(treatment 2 effect)}\\hspace{ 1.75cm }\\text{(residual)}$"
      ],
      "text/plain": [
       "<IPython.core.display.Math object>"
      ]
     },
     "metadata": {},
     "output_type": "display_data"
    }
   ],
   "source": [
    "# Display the breakdown for x1.\n",
    "some_spacing = ['0.75cm','2.5cm','2.2cm','1.1cm','1.75cm']\n",
    "x1_breakdown.display_2way_manova_obs_breakdown(spacing=some_spacing)\n"
   ]
  },
  {
   "cell_type": "code",
   "execution_count": 6,
   "metadata": {},
   "outputs": [
    {
     "data": {
      "text/latex": [
       "$\\displaystyle \\text{Variable: x1}$"
      ],
      "text/plain": [
       "<IPython.core.display.Math object>"
      ]
     },
     "metadata": {},
     "output_type": "display_data"
    },
    {
     "data": {
      "text/latex": [
       "$\\displaystyle \\left[\\begin{array}{ rrrr }\\phantom{-} 6 & \\phantom{-} 4 & \\phantom{-} 8 & \\phantom{-} 2 \\\\ \\phantom{-} 3 & -3 & \\phantom{-} 4 & -4 \\\\ -3 & -4 & \\phantom{-} 3 & -4 \\\\ \\end{array}\\right] = \\left[\\begin{array}{ rrrr }\\phantom{-} 1 & \\phantom{-} 1 & \\phantom{-} 1 & \\phantom{-} 1 \\\\ \\phantom{-} 1 & \\phantom{-} 1 & \\phantom{-} 1 & \\phantom{-} 1 \\\\ \\phantom{-} 1 & \\phantom{-} 1 & \\phantom{-} 1 & \\phantom{-} 1 \\\\ \\end{array}\\right] + \\left[\\begin{array}{ rrrr }\\phantom{-} 4 & \\phantom{-} 4 & \\phantom{-} 4 & \\phantom{-} 4 \\\\ -1 & -1 & -1 & -1 \\\\ -3 & -3 & -3 & -3 \\\\ \\end{array}\\right] + \\left[\\begin{array}{ rrrr }\\phantom{-} 1 & -2 & \\phantom{-} 4 & -3 \\\\ \\phantom{-} 1 & -2 & \\phantom{-} 4 & -3 \\\\ \\phantom{-} 1 & -2 & \\phantom{-} 4 & -3 \\\\ \\end{array}\\right] + \\left[\\begin{array}{ rrrr }\\phantom{-} 0 & \\phantom{-} 1 & -1 & \\phantom{-} 0 \\\\ \\phantom{-} 2 & -1 & \\phantom{-} 0 & -1 \\\\ -2 & \\phantom{-} 0 & \\phantom{-} 1 & \\phantom{-} 1 \\\\ \\end{array}\\right]$"
      ],
      "text/plain": [
       "<IPython.core.display.Math object>"
      ]
     },
     "metadata": {},
     "output_type": "display_data"
    },
    {
     "data": {
      "text/latex": [
       "$\\displaystyle \\hspace{ 0.75cm }\\text{(observation)}\\hspace{ 2.5cm }\\text{(mean)}\\hspace{ 2.2cm }\\text{(treatment 1 effect)}\\hspace{ 1.1cm }\\text{(treatment 2 effect)}\\hspace{ 1.75cm }\\text{(residual)}$"
      ],
      "text/plain": [
       "<IPython.core.display.Math object>"
      ]
     },
     "metadata": {},
     "output_type": "display_data"
    },
    {
     "data": {
      "text/latex": [
       "$\\displaystyle \\text{and}$"
      ],
      "text/plain": [
       "<IPython.core.display.Math object>"
      ]
     },
     "metadata": {},
     "output_type": "display_data"
    },
    {
     "data": {
      "text/latex": [
       "$\\displaystyle \\text{SS}_{\\text{obs}} = \\text{SS}_{\\text{mean}} + \\text{SS}_{\\text{tr1}} + \\text{SS}_{\\text{tr2}} + \\text{SS}_{\\text{res}}$"
      ],
      "text/plain": [
       "<IPython.core.display.Math object>"
      ]
     },
     "metadata": {},
     "output_type": "display_data"
    },
    {
     "data": {
      "text/latex": [
       "$\\displaystyle 220 = 12 + 104 + 90 + 14$"
      ],
      "text/plain": [
       "<IPython.core.display.Math object>"
      ]
     },
     "metadata": {},
     "output_type": "display_data"
    },
    {
     "data": {
      "text/latex": [
       "$\\displaystyle \\text{Total SS (corrected)} = \\text{SS}_{\\text{obs}} - \\text{SS}_{\\text{mean}} = 220 - 12 = 208$"
      ],
      "text/plain": [
       "<IPython.core.display.Math object>"
      ]
     },
     "metadata": {},
     "output_type": "display_data"
    }
   ],
   "source": [
    "# Display the breakdown for x1.\n",
    "some_spacing = ['0.75cm','2.5cm','2.2cm','1.1cm','1.75cm']\n",
    "x1_breakdown.display_2way_manova_obs_breakdown(spacing=some_spacing)\n",
    "\n",
    "display(Math(r'\\text{and}'))\n",
    "display(Math(r'\\text{SS}_{\\text{obs}} = \\text{SS}_{\\text{mean}} + \\text{SS}_{\\text{tr1}} + \\text{SS}_{\\text{tr2}} + \\text{SS}_{\\text{res}}'))\n",
    "display(Math(f'{np.nansum(x1_breakdown.obs_breakdown.Obs**2):.0f}'\n",
    "             ' = '\n",
    "             f'{np.nansum(x1_breakdown.obs_breakdown.Mean**2):.0f}'\n",
    "             ' + '\n",
    "             f'{np.nansum(x1_breakdown.obs_breakdown.TreatmentEffect1**2):.0f}'\n",
    "             ' + '\n",
    "             f'{np.nansum(x1_breakdown.obs_breakdown.TreatmentEffect2**2):.0f}'\n",
    "             ' + '\n",
    "             f'{np.nansum(x1_breakdown.obs_breakdown.Residual**2):.0f}'\n",
    "             ))\n",
    "display(Math(fr'\\text{{Total SS (corrected)}} = \\text{{SS}}_{{\\text{{obs}}}} - \\text{{SS}}_{{\\text{{mean}}}} = '\n",
    "             f'{np.nansum(x1_breakdown.obs_breakdown.Obs**2):.0f}'\n",
    "             ' - '\n",
    "             f'{np.nansum(x1_breakdown.obs_breakdown.Mean**2):.0f}'\n",
    "             ' = '\n",
    "             f'{np.nansum(x1_breakdown.obs_breakdown.Obs**2) - np.nansum(x1_breakdown.obs_breakdown.Mean**2):.0f}'\n",
    "             ))"
   ]
  },
  {
   "cell_type": "code",
   "execution_count": 7,
   "metadata": {},
   "outputs": [
    {
     "data": {
      "text/latex": [
       "$\\displaystyle \\text{Variable: x2}$"
      ],
      "text/plain": [
       "<IPython.core.display.Math object>"
      ]
     },
     "metadata": {},
     "output_type": "display_data"
    },
    {
     "data": {
      "text/latex": [
       "$\\displaystyle \\left[\\begin{array}{ rrrr }\\phantom{-} 8 & \\phantom{-} 6 & \\phantom{-} 12 & \\phantom{-} 6 \\\\ \\phantom{-} 8 & \\phantom{-} 2 & \\phantom{-} 3 & \\phantom{-} 3 \\\\ \\phantom{-} 2 & -5 & -3 & -6 \\\\ \\end{array}\\right] = \\left[\\begin{array}{ rrrr }\\phantom{-} 3 & \\phantom{-} 3 & \\phantom{-} 3 & \\phantom{-} 3 \\\\ \\phantom{-} 3 & \\phantom{-} 3 & \\phantom{-} 3 & \\phantom{-} 3 \\\\ \\phantom{-} 3 & \\phantom{-} 3 & \\phantom{-} 3 & \\phantom{-} 3 \\\\ \\end{array}\\right] + \\left[\\begin{array}{ rrrr }\\phantom{-} 5 & \\phantom{-} 5 & \\phantom{-} 5 & \\phantom{-} 5 \\\\ \\phantom{-} 1 & \\phantom{-} 1 & \\phantom{-} 1 & \\phantom{-} 1 \\\\ -6 & -6 & -6 & -6 \\\\ \\end{array}\\right] + \\left[\\begin{array}{ rrrr }\\phantom{-} 3 & -2 & \\phantom{-} 1 & -2 \\\\ \\phantom{-} 3 & -2 & \\phantom{-} 1 & -2 \\\\ \\phantom{-} 3 & -2 & \\phantom{-} 1 & -2 \\\\ \\end{array}\\right] + \\left[\\begin{array}{ rrrr }-3 & \\phantom{-} 0 & \\phantom{-} 3 & \\phantom{-} 0 \\\\ \\phantom{-} 1 & \\phantom{-} 0 & -2 & \\phantom{-} 1 \\\\ \\phantom{-} 2 & \\phantom{-} 0 & -1 & -1 \\\\ \\end{array}\\right]$"
      ],
      "text/plain": [
       "<IPython.core.display.Math object>"
      ]
     },
     "metadata": {},
     "output_type": "display_data"
    },
    {
     "data": {
      "text/latex": [
       "$\\displaystyle \\hspace{ 0.80cm }\\text{(observation)}\\hspace{ 2.75cm }\\text{(mean)}\\hspace{ 2.1cm }\\text{(treatment 1 effect)}\\hspace{ 1.1cm }\\text{(treatment 2 effect)}\\hspace{ 1.75cm }\\text{(residual)}$"
      ],
      "text/plain": [
       "<IPython.core.display.Math object>"
      ]
     },
     "metadata": {},
     "output_type": "display_data"
    },
    {
     "data": {
      "text/latex": [
       "$\\displaystyle \\text{and}$"
      ],
      "text/plain": [
       "<IPython.core.display.Math object>"
      ]
     },
     "metadata": {},
     "output_type": "display_data"
    },
    {
     "data": {
      "text/latex": [
       "$\\displaystyle \\text{SS}_{\\text{obs}} = \\text{SS}_{\\text{mean}} + \\text{SS}_{\\text{tr1}} + \\text{SS}_{\\text{tr2}} + \\text{SS}_{\\text{res}}$"
      ],
      "text/plain": [
       "<IPython.core.display.Math object>"
      ]
     },
     "metadata": {},
     "output_type": "display_data"
    },
    {
     "data": {
      "text/latex": [
       "$\\displaystyle 440 = 108 + 248 + 54 + 30$"
      ],
      "text/plain": [
       "<IPython.core.display.Math object>"
      ]
     },
     "metadata": {},
     "output_type": "display_data"
    },
    {
     "data": {
      "text/latex": [
       "$\\displaystyle \\text{Total SS (corrected)} = \\text{SS}_{\\text{obs}} - \\text{SS}_{\\text{mean}} = 440 - 108 = 332$"
      ],
      "text/plain": [
       "<IPython.core.display.Math object>"
      ]
     },
     "metadata": {},
     "output_type": "display_data"
    }
   ],
   "source": [
    "# Display the breakdown for x1.\n",
    "some_spacing = ['0.80cm','2.75cm','2.1cm','1.1cm','1.75cm']\n",
    "x2_breakdown.display_2way_manova_obs_breakdown(spacing=some_spacing)\n",
    "\n",
    "display(Math(r'\\text{and}'))\n",
    "display(Math(r'\\text{SS}_{\\text{obs}} = \\text{SS}_{\\text{mean}} + \\text{SS}_{\\text{tr1}} + \\text{SS}_{\\text{tr2}} + \\text{SS}_{\\text{res}}'))\n",
    "display(Math(f'{np.nansum(x2_breakdown.obs_breakdown.Obs**2):.0f}'\n",
    "             ' = '\n",
    "             f'{np.nansum(x2_breakdown.obs_breakdown.Mean**2):.0f}'\n",
    "             ' + '\n",
    "             f'{np.nansum(x2_breakdown.obs_breakdown.TreatmentEffect1**2):.0f}'\n",
    "             ' + '\n",
    "             f'{np.nansum(x2_breakdown.obs_breakdown.TreatmentEffect2**2):.0f}'\n",
    "             ' + '\n",
    "             f'{np.nansum(x2_breakdown.obs_breakdown.Residual**2):.0f}'\n",
    "             ))\n",
    "display(Math(fr'\\text{{Total SS (corrected)}} = \\text{{SS}}_{{\\text{{obs}}}} - \\text{{SS}}_{{\\text{{mean}}}} = '\n",
    "             f'{np.nansum(x2_breakdown.obs_breakdown.Obs**2):.0f}'\n",
    "             ' - '\n",
    "             f'{np.nansum(x2_breakdown.obs_breakdown.Mean**2):.0f}'\n",
    "             ' = '\n",
    "             f'{np.nansum(x2_breakdown.obs_breakdown.Obs**2) - np.nansum(x2_breakdown.obs_breakdown.Mean**2):.0f}'\n",
    "             ))"
   ]
  },
  {
   "cell_type": "markdown",
   "metadata": {},
   "source": [
    "## (b)"
   ]
  },
  {
   "cell_type": "code",
   "execution_count": 9,
   "metadata": {},
   "outputs": [],
   "source": [
    "B1 = chapter_6_utils.compute_manova_ss_matrices(x1_breakdown.obs_breakdown.TreatmentEffect1, x2_breakdown.obs_breakdown.TreatmentEffect1)\n",
    "\n",
    "B2 = chapter_6_utils.compute_manova_ss_matrices(x1_breakdown.obs_breakdown.TreatmentEffect2, x2_breakdown.obs_breakdown.TreatmentEffect2)\n",
    "\n",
    "W = chapter_6_utils.compute_manova_ss_matrices(x1_breakdown.obs_breakdown.Residual, x2_breakdown.obs_breakdown.Residual)\n",
    "\n",
    "T = chapter_6_utils.compute_manova_ss_matrices(x1_breakdown.obs_breakdown.Obs, x2_breakdown.obs_breakdown.Obs) - chapter_6_utils.compute_manova_ss_matrices(x1_breakdown.obs_breakdown.Mean, x2_breakdown.obs_breakdown.Mean)"
   ]
  },
  {
   "cell_type": "markdown",
   "metadata": {},
   "source": [
    "## (c)"
   ]
  },
  {
   "cell_type": "code",
   "execution_count": 10,
   "metadata": {},
   "outputs": [],
   "source": [
    "g = df.Factor1.nunique()\n",
    "b = df.Factor2.nunique()\n",
    "p = 2"
   ]
  },
  {
   "cell_type": "code",
   "execution_count": 11,
   "metadata": {},
   "outputs": [
    {
     "data": {
      "text/latex": [
       "$\\displaystyle \\begin{array}{lll}\\text{Source} & \\text{Matrix of sum of squares} &  \\\\\\text{of variation} & \\text{and cross products} & \\text{Degrees of freedom} \\\\\\hline \\\\\\text{Treatment 1} & \\left[\\begin{array}{ rr }\\phantom{-} 104 & \\phantom{-} 148 \\\\ \\phantom{-} 148 & \\phantom{-} 248 \\\\ \\end{array}\\right] & 3 - 1 = 2 \\\\ \\\\\\text{Treatment 2} & \\left[\\begin{array}{ rr }\\phantom{-} 90 & \\phantom{-} 51 \\\\ \\phantom{-} 51 & \\phantom{-} 54 \\\\ \\end{array}\\right] & 4 - 1 = 3 \\\\ \\\\\\text{Residual} & \\left[\\begin{array}{ rr }\\phantom{-} 14 & -8 \\\\ -8 & \\phantom{-} 30 \\\\ \\end{array}\\right] &(3 - 1)(4 - 1) = 6 \\\\ \\\\\\hline \\\\\\text{Total (corrected)} & \\left[\\begin{array}{ rr }\\phantom{-} 208 & \\phantom{-} 191 \\\\ \\phantom{-} 191 & \\phantom{-} 332 \\\\ \\end{array}\\right] & 3(4) - 1 = 11\\end{array}$"
      ],
      "text/plain": [
       "<IPython.core.display.Math object>"
      ]
     },
     "metadata": {},
     "output_type": "display_data"
    }
   ],
   "source": [
    "chapter_6_utils.diplay_2way_manova_table(B1, B2, W, T, df.value_counts(['Factor1', 'Factor2']).tolist(), g, b)"
   ]
  },
  {
   "cell_type": "markdown",
   "metadata": {},
   "source": [
    "## (d)"
   ]
  },
  {
   "cell_type": "code",
   "execution_count": 10,
   "metadata": {},
   "outputs": [],
   "source": [
    "alpha = 0.05"
   ]
  },
  {
   "cell_type": "code",
   "execution_count": 11,
   "metadata": {},
   "outputs": [
    {
     "data": {
      "text/latex": [
       "$\\displaystyle \\Lambda_{\\text{fac 1}}^{\\star}=\\frac{\\left| \\text{SSP}_{\\text{res}} \\right|}{\\left| \\text{SSP}_{\\text{fac 1}} + \\text{SSP}_{\\text{res}} \\right|}=\\frac{ 356 }{ 13204 }=0.0270$"
      ],
      "text/plain": [
       "<IPython.core.display.Math object>"
      ]
     },
     "metadata": {},
     "output_type": "display_data"
    }
   ],
   "source": [
    "Lmbda_star_fac1 = la.det(W) / la.det(B1 + W)\n",
    "display(Math(r'\\Lambda_{\\text{fac 1}}^{\\star}'\n",
    "             '='\n",
    "             r'\\frac{\\left| \\text{SSP}_{\\text{res}} \\right|}{\\left| \\text{SSP}_{\\text{fac 1}} + \\text{SSP}_{\\text{res}} \\right|}'\n",
    "             '='\n",
    "             fr'\\frac{{ {la.det(W):.0f} }}{{ {la.det(B1 + W):.0f} }}'\n",
    "             '='\n",
    "             f'{la.det(W) / la.det(B1 + W):.4f}'\n",
    "             ))"
   ]
  },
  {
   "cell_type": "code",
   "execution_count": 12,
   "metadata": {},
   "outputs": [
    {
     "data": {
      "text/latex": [
       "$\\displaystyle X_{\\text{test (fac 1)}}^{2}=-\\left[(g-1)(b-1) - \\frac{p+1-(g-1)}{2}\\right]\\ln \\Lambda_{\\text{fac 1}}^{\\star}=19.8734$"
      ],
      "text/plain": [
       "<IPython.core.display.Math object>"
      ]
     },
     "metadata": {},
     "output_type": "display_data"
    }
   ],
   "source": [
    "fac1_test = - ((g-1)*(b-1) - (p+1-(g-1))/2)*np.log(Lmbda_star_fac1)\n",
    "display(Math(r'X_{\\text{test (fac 1)}}^{2}'\n",
    "             '='\n",
    "             r'-\\left[(g-1)(b-1) - \\frac{p+1-(g-1)}{2}\\right]'\n",
    "             r'\\ln \\Lambda_{\\text{fac 1}}^{\\star}'\n",
    "             '='\n",
    "             f'{fac1_test:.4f}'\n",
    "             ))"
   ]
  },
  {
   "cell_type": "code",
   "execution_count": 13,
   "metadata": {},
   "outputs": [
    {
     "data": {
      "text/latex": [
       "$\\displaystyle X_{\\text{crit (fac 1)}}^{2}=\\chi_{(g-1)p}^{2}(\\alpha)=9.4877$"
      ],
      "text/plain": [
       "<IPython.core.display.Math object>"
      ]
     },
     "metadata": {},
     "output_type": "display_data"
    }
   ],
   "source": [
    "f_crit_fac1 = stats.chi2.ppf(q=1-alpha, df=(g-1)*p)\n",
    "display(Math(r'X_{\\text{crit (fac 1)}}^{2}'\n",
    "             '='\n",
    "             r'\\chi_{(g-1)p}^{2}(\\alpha)'\n",
    "             '='\n",
    "             f'{f_crit_fac1:.4f}'\n",
    "             ))"
   ]
  },
  {
   "cell_type": "code",
   "execution_count": 14,
   "metadata": {},
   "outputs": [
    {
     "data": {
      "text/latex": [
       "$\\displaystyle \\text{We have that } X_{\\text{test (fac 1)}}^{2}= 19.8734 > X_{\\text{crit (fac 1)}}^{2}=\\chi_{ (3-1)2 }^2(0.05) = 9.4877 \\text{, so we would reject the null hypothesis that } \\bm{\\tau}_{1} = \\bm{\\tau}_{2} = \\bm{\\tau}_{3} = \\textbf{0}$"
      ],
      "text/plain": [
       "<IPython.core.display.Math object>"
      ]
     },
     "metadata": {},
     "output_type": "display_data"
    }
   ],
   "source": [
    "if fac1_test > f_crit_fac1:\n",
    "    display(Math(r'\\text{We have that } '\n",
    "                 r'X_{\\text{test (fac 1)}}^{2}'\n",
    "                 f'= {fac1_test:.4f} '\n",
    "                 '>'\n",
    "                 r' X_{\\text{crit (fac 1)}}^{2}'\n",
    "                 '='\n",
    "                 fr'\\chi_{{ ({g}-1){p} }}^{2}({alpha}) = '\n",
    "                 fr'{f_crit_fac1:.4f} \\text{{, so we would reject the null hypothesis that }} '\n",
    "                 r'\\bm{\\tau}_{1} = \\bm{\\tau}_{2} = \\bm{\\tau}_{3} = \\textbf{0}'))\n",
    "else:\n",
    "    display(Math(r'\\text{We have that } '\n",
    "                 r'X_{\\text{test (fac 1)}}^{2}'\n",
    "                 f'= {fac1_test:.4f} '\n",
    "                 r'\\leq'\n",
    "                 r' X_{\\text{crit (fac 1)}}^{2}'\n",
    "                 '='\n",
    "                 fr'\\chi_{{ ({g}-1){p} }}^{2}({alpha}) = '\n",
    "                 fr'{f_crit_fac1:.4f} \\text{{, so we would fail reject the null hypothesis that }} '\n",
    "                 r'\\bm{\\tau}_{1} = \\bm{\\tau}_{2} = \\bm{\\tau}_{3} = \\textbf{0}'))"
   ]
  },
  {
   "cell_type": "code",
   "execution_count": 15,
   "metadata": {},
   "outputs": [
    {
     "data": {
      "text/latex": [
       "$\\displaystyle \\Lambda_{\\text{fac 2}}^{\\star}=\\frac{\\left| \\text{SSP}_{\\text{res}} \\right|}{\\left| \\text{SSP}_{\\text{fac 2}} + \\text{SSP}_{\\text{res}} \\right|}=\\frac{ 356 }{ 6887 }=0.0517$"
      ],
      "text/plain": [
       "<IPython.core.display.Math object>"
      ]
     },
     "metadata": {},
     "output_type": "display_data"
    }
   ],
   "source": [
    "Lmbda_star_fac2 = la.det(W) / la.det(B2 + W)\n",
    "display(Math(r'\\Lambda_{\\text{fac 2}}^{\\star}'\n",
    "             '='\n",
    "             r'\\frac{\\left| \\text{SSP}_{\\text{res}} \\right|}{\\left| \\text{SSP}_{\\text{fac 2}} + \\text{SSP}_{\\text{res}} \\right|}'\n",
    "             '='\n",
    "             fr'\\frac{{ {la.det(W):.0f} }}{{ {la.det(B2 + W):.0f} }}'\n",
    "             '='\n",
    "             f'{la.det(W) / la.det(B2 + W):.4f}'\n",
    "             ))"
   ]
  },
  {
   "cell_type": "code",
   "execution_count": 16,
   "metadata": {},
   "outputs": [
    {
     "data": {
      "text/latex": [
       "$\\displaystyle X_{\\text{test (fac 2)}}^{2}=-\\left[(g-1)(b-1) - \\frac{p+1-(b-1)}{2}\\right]\\ln \\Lambda_{\\text{fac 1}}^{\\star}=17.7748$"
      ],
      "text/plain": [
       "<IPython.core.display.Math object>"
      ]
     },
     "metadata": {},
     "output_type": "display_data"
    }
   ],
   "source": [
    "fac2_test = - ((g-1)*(b-1) - (p+1-(b-1))/2)*np.log(Lmbda_star_fac2)\n",
    "display(Math(r'X_{\\text{test (fac 2)}}^{2}'\n",
    "             '='\n",
    "             r'-\\left[(g-1)(b-1) - \\frac{p+1-(b-1)}{2}\\right]'\n",
    "             r'\\ln \\Lambda_{\\text{fac 1}}^{\\star}'\n",
    "             '='\n",
    "             f'{fac2_test:.4f}'\n",
    "             ))"
   ]
  },
  {
   "cell_type": "code",
   "execution_count": 17,
   "metadata": {},
   "outputs": [
    {
     "data": {
      "text/latex": [
       "$\\displaystyle X_{\\text{crit (fac 2)}}^{2}=\\chi_{(b-1)p}^{2}(\\alpha)=12.5916$"
      ],
      "text/plain": [
       "<IPython.core.display.Math object>"
      ]
     },
     "metadata": {},
     "output_type": "display_data"
    }
   ],
   "source": [
    "f_crit_fac2 = stats.chi2.ppf(q=1-alpha, df=(b-1)*p)\n",
    "display(Math(r'X_{\\text{crit (fac 2)}}^{2}'\n",
    "             '='\n",
    "             r'\\chi_{(b-1)p}^{2}(\\alpha)'\n",
    "             '='\n",
    "             f'{f_crit_fac2:.4f}'\n",
    "             ))"
   ]
  },
  {
   "cell_type": "code",
   "execution_count": 18,
   "metadata": {},
   "outputs": [
    {
     "data": {
      "text/latex": [
       "$\\displaystyle \\text{We have that } X_{\\text{test (fac 2)}}^{2}= 17.7748 > X_{\\text{crit (fac 2)}}^{2}=\\chi_{ (4-1)2 }^2(0.05) = 12.5916 \\text{, so we would reject the null hypothesis that } \\bm{\\beta}_{1} = \\bm{\\beta}_{2} = \\bm{\\beta}_{3} = \\bm{\\beta}_{4} = \\textbf{0}$"
      ],
      "text/plain": [
       "<IPython.core.display.Math object>"
      ]
     },
     "metadata": {},
     "output_type": "display_data"
    }
   ],
   "source": [
    "if fac2_test > f_crit_fac2:\n",
    "    display(Math(r'\\text{We have that } '\n",
    "                 r'X_{\\text{test (fac 2)}}^{2}'\n",
    "                 f'= {fac2_test:.4f} '\n",
    "                 '>'\n",
    "                 r' X_{\\text{crit (fac 2)}}^{2}'\n",
    "                 '='\n",
    "                 fr'\\chi_{{ ({b}-1){p} }}^{2}({alpha}) = '\n",
    "                 fr'{f_crit_fac2:.4f} \\text{{, so we would reject the null hypothesis that }} '\n",
    "                 r'\\bm{\\beta}_{1} = \\bm{\\beta}_{2} = \\bm{\\beta}_{3} = \\bm{\\beta}_{4} = \\textbf{0}'))\n",
    "else:\n",
    "    display(Math(r'\\text{We have that } '\n",
    "                 r'X_{\\text{test (fac 2)}}^{2}'\n",
    "                 f'= {fac2_test:.4f} '\n",
    "                 r'\\leq'\n",
    "                 r' X_{\\text{crit (fac 2)}}^{2}'\n",
    "                 '='\n",
    "                 fr'\\chi_{{ ({b}-1){p} }}^{2}({alpha}) = '\n",
    "                 fr'{f_crit_fac2:.4f} \\text{{, so we would fail reject the null hypothesis that }} '\n",
    "                 r'\\bm{\\beta}_{1} = \\bm{\\beta}_{2} = \\bm{\\beta}_{3} = \\bm{\\beta}_{4} = \\textbf{0}'))"
   ]
  },
  {
   "cell_type": "markdown",
   "metadata": {},
   "source": [
    "## MANOVA results from R"
   ]
  },
  {
   "cell_type": "markdown",
   "metadata": {},
   "source": [
    "Using R we can get the same output as SAS. MANOVA in Python unforunately doesn't match up with everyone else."
   ]
  },
  {
   "cell_type": "code",
   "execution_count": 19,
   "metadata": {},
   "outputs": [
    {
     "name": "stdout",
     "output_type": "stream",
     "text": [
      "\n",
      "Type II MANOVA Tests:\n",
      "\n",
      "Sum of squares and products for error:\n",
      "   x1 x2\n",
      "x1 14 -8\n",
      "x2 -8 30\n",
      "\n",
      "------------------------------------------\n",
      " \n",
      "Term: Factor1 \n",
      "\n",
      "Sum of squares and products for the hypothesis:\n",
      "    x1  x2\n",
      "x1 104 148\n",
      "x2 148 248\n",
      "\n",
      "Multivariate Tests: Factor1\n",
      "                 Df test stat approx F num Df den Df     Pr(>F)    \n",
      "Pillai            2  1.267495  5.19107      4     12 0.01159179 *  \n",
      "Wilks             2  0.026962 12.72537      4     10 0.00061817 ***\n",
      "Hotelling-Lawley  2 25.168539 25.16854      4      8 0.00013819 ***\n",
      "Roy               2 24.726860 74.18058      2      6 5.8727e-05 ***\n",
      "---\n",
      "Signif. codes:  0 '***' 0.001 '**' 0.01 '*' 0.05 '.' 0.1 ' ' 1\n",
      "\n",
      "------------------------------------------\n",
      " \n",
      "Term: Factor2 \n",
      "\n",
      "Sum of squares and products for the hypothesis:\n",
      "   x1 x2\n",
      "x1 90 51\n",
      "x2 51 54\n",
      "\n",
      "Multivariate Tests: Factor2\n",
      "                 Df test stat  approx F num Df den Df    Pr(>F)   \n",
      "Pillai            3  1.276318  3.527287      6     12 0.0300331 * \n",
      "Wilks             3  0.051692  5.663921      6     10 0.0083944 **\n",
      "Hotelling-Lawley  3 12.000000  8.000000      6      8 0.0049044 **\n",
      "Roy               3 11.445594 22.891188      3      6 0.0011000 **\n",
      "---\n",
      "Signif. codes:  0 '***' 0.001 '**' 0.01 '*' 0.05 '.' 0.1 ' ' 1\n",
      "\n"
     ]
    }
   ],
   "source": [
    "result = subprocess.run([r'C:\\Program Files\\R\\R-4.4.2\\bin\\Rscript', '--vanilla', r'..\\..\\r\\chapter-6\\Question-6-13.R'], capture_output=True, text=True)\n",
    "print(result.stdout)"
   ]
  }
 ],
 "metadata": {
  "kernelspec": {
   "display_name": "py312",
   "language": "python",
   "name": "py312"
  },
  "language_info": {
   "codemirror_mode": {
    "name": "ipython",
    "version": 3
   },
   "file_extension": ".py",
   "mimetype": "text/x-python",
   "name": "python",
   "nbconvert_exporter": "python",
   "pygments_lexer": "ipython3",
   "version": "3.12.5"
  }
 },
 "nbformat": 4,
 "nbformat_minor": 2
}
