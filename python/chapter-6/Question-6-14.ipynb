{
 "cells": [
  {
   "cell_type": "markdown",
   "metadata": {},
   "source": [
    "# Exercise 6.14"
   ]
  },
  {
   "cell_type": "code",
   "execution_count": 1,
   "metadata": {},
   "outputs": [],
   "source": [
    "import pathlib\n",
    "import subprocess\n",
    "import numpy as np\n",
    "import pandas as pd\n",
    "from IPython.display import display, Math\n",
    "from scipy import linalg as la\n",
    "from scipy import stats\n",
    "import TwoWayManova\n",
    "from BonferroniSimultaneousConfidenceIntervals import BonferroniSimultaneousConfidenceIntervals\n",
    "from TwoWayManovaEffectTests import TwoWayManovaEffectTests"
   ]
  },
  {
   "cell_type": "code",
   "execution_count": 2,
   "metadata": {},
   "outputs": [],
   "source": [
    "def load_data():\n",
    "    f = pathlib.WindowsPath(r'..\\..\\Data\\Exercise6.14.xlsx')\n",
    "    return pd.read_excel(f)"
   ]
  },
  {
   "cell_type": "code",
   "execution_count": 3,
   "metadata": {},
   "outputs": [],
   "source": [
    "df = load_data()"
   ]
  },
  {
   "cell_type": "markdown",
   "metadata": {},
   "source": [
    "## (a)"
   ]
  },
  {
   "cell_type": "code",
   "execution_count": 4,
   "metadata": {},
   "outputs": [],
   "source": [
    "fit = TwoWayManova.TwoWayManova(df, factor1_col='Factor1', factor2_col='Factor2', var_cols=['x1', 'x2'])"
   ]
  },
  {
   "cell_type": "code",
   "execution_count": 5,
   "metadata": {},
   "outputs": [
    {
     "data": {
      "text/latex": [
       "$\\displaystyle \\text{Variable: x1}$"
      ],
      "text/plain": [
       "<IPython.core.display.Math object>"
      ]
     },
     "metadata": {},
     "output_type": "display_data"
    },
    {
     "data": {
      "text/latex": [
       "$\\displaystyle \\left[\\begin{array}{ rrrr }\\phantom{-} 6 & \\phantom{-} 4 & \\phantom{-} 8 & \\phantom{-} 2 \\\\ \\phantom{-} 3 & -3 & \\phantom{-} 4 & -4 \\\\ -3 & -4 & \\phantom{-} 3 & -4 \\\\ \\end{array}\\right] = \\left[\\begin{array}{ rrrr }\\phantom{-} 2 & \\phantom{-} 2 & \\phantom{-} 2 & \\phantom{-} 2 \\\\ \\phantom{-} 2 & \\phantom{-} 2 & \\phantom{-} 2 & \\phantom{-} 2 \\\\ \\phantom{-} 2 & \\phantom{-} 2 & \\phantom{-} 2 & \\phantom{-} 2 \\\\ \\end{array}\\right] + \\left[\\begin{array}{ rrrr }\\phantom{-} 6 & \\phantom{-} 6 & \\phantom{-} 6 & \\phantom{-} 6 \\\\ -1 & -1 & -1 & -1 \\\\ -5 & -5 & -5 & -5 \\\\ \\end{array}\\right] + \\left[\\begin{array}{ rrrr }\\phantom{-} 2 & -1 & \\phantom{-} 0 & -1 \\\\ \\phantom{-} 2 & -1 & \\phantom{-} 0 & -1 \\\\ \\phantom{-} 2 & -1 & \\phantom{-} 0 & -1 \\\\ \\end{array}\\right] + \\left[\\begin{array}{ rrrr }\\phantom{-} 0 & -2 & \\phantom{-} 0 & \\phantom{-} 2 \\\\ -1 & \\phantom{-} 1 & \\phantom{-} 1 & -1 \\\\ \\phantom{-} 1 & \\phantom{-} 1 & -1 & -1 \\\\ \\end{array}\\right] + \\left[\\begin{array}{ rrrr }-4 & -1 & \\phantom{-} 0 & -7 \\\\ \\phantom{-} 1 & -4 & \\phantom{-} 2 & -3 \\\\ -3 & -1 & \\phantom{-} 7 & \\phantom{-} 1 \\\\ \\end{array}\\right]$"
      ],
      "text/plain": [
       "<IPython.core.display.Math object>"
      ]
     },
     "metadata": {},
     "output_type": "display_data"
    },
    {
     "data": {
      "text/latex": [
       "$\\displaystyle \\hspace{ 1.05cm }\\text{(observation)}\\hspace{ 2.5cm }\\text{(mean)}\\hspace{ 2.2cm }\\text{(factor 1 effect)}\\hspace{ 1.1cm }\\text{(factor 2 effect)}\\hspace{ 1.5cm }\\text{(interaction)}\\hspace{ 1.75cm }\\text{(residual)}$"
      ],
      "text/plain": [
       "<IPython.core.display.Math object>"
      ]
     },
     "metadata": {},
     "output_type": "display_data"
    },
    {
     "data": {
      "text/latex": [
       "$\\displaystyle \\text{Variable: x2}$"
      ],
      "text/plain": [
       "<IPython.core.display.Math object>"
      ]
     },
     "metadata": {},
     "output_type": "display_data"
    },
    {
     "data": {
      "text/latex": [
       "$\\displaystyle \\left[\\begin{array}{ rrrr }\\phantom{-} 8 & \\phantom{-} 6 & \\phantom{-} 12 & \\phantom{-} 6 \\\\ \\phantom{-} 8 & \\phantom{-} 2 & \\phantom{-} 3 & \\phantom{-} 3 \\\\ \\phantom{-} 2 & -5 & -3 & -6 \\\\ \\end{array}\\right] = \\left[\\begin{array}{ rrrr }\\phantom{-} 4 & \\phantom{-} 4 & \\phantom{-} 4 & \\phantom{-} 4 \\\\ \\phantom{-} 4 & \\phantom{-} 4 & \\phantom{-} 4 & \\phantom{-} 4 \\\\ \\phantom{-} 4 & \\phantom{-} 4 & \\phantom{-} 4 & \\phantom{-} 4 \\\\ \\end{array}\\right] + \\left[\\begin{array}{ rrrr }\\phantom{-} 1 & \\phantom{-} 1 & \\phantom{-} 1 & \\phantom{-} 1 \\\\ \\phantom{-} 3 & \\phantom{-} 3 & \\phantom{-} 3 & \\phantom{-} 3 \\\\ -4 & -4 & -4 & -4 \\\\ \\end{array}\\right] + \\left[\\begin{array}{ rrrr }\\phantom{-} 1 & \\phantom{-} 0 & \\phantom{-} 1 & -2 \\\\ \\phantom{-} 1 & \\phantom{-} 0 & \\phantom{-} 1 & -2 \\\\ \\phantom{-} 1 & \\phantom{-} 0 & \\phantom{-} 1 & -2 \\\\ \\end{array}\\right] + \\left[\\begin{array}{ rrrr }\\phantom{-} 2 & -1 & \\phantom{-} 1 & -2 \\\\ -1 & \\phantom{-} 0 & \\phantom{-} 1 & \\phantom{-} 0 \\\\ -1 & \\phantom{-} 1 & -2 & \\phantom{-} 2 \\\\ \\end{array}\\right] + \\left[\\begin{array}{ rrrr }\\phantom{-} 0 & \\phantom{-} 2 & \\phantom{-} 5 & \\phantom{-} 5 \\\\ \\phantom{-} 1 & -5 & -6 & -2 \\\\ \\phantom{-} 2 & -6 & -2 & -6 \\\\ \\end{array}\\right]$"
      ],
      "text/plain": [
       "<IPython.core.display.Math object>"
      ]
     },
     "metadata": {},
     "output_type": "display_data"
    },
    {
     "data": {
      "text/latex": [
       "$\\displaystyle \\hspace{ 1.05cm }\\text{(observation)}\\hspace{ 2.5cm }\\text{(mean)}\\hspace{ 2.2cm }\\text{(factor 1 effect)}\\hspace{ 1.1cm }\\text{(factor 2 effect)}\\hspace{ 1.5cm }\\text{(interaction)}\\hspace{ 1.75cm }\\text{(residual)}$"
      ],
      "text/plain": [
       "<IPython.core.display.Math object>"
      ]
     },
     "metadata": {},
     "output_type": "display_data"
    },
    {
     "data": {
      "text/latex": [
       "$\\displaystyle \\text{Variable: x1}$"
      ],
      "text/plain": [
       "<IPython.core.display.Math object>"
      ]
     },
     "metadata": {},
     "output_type": "display_data"
    },
    {
     "data": {
      "text/latex": [
       "$\\displaystyle \\left[\\begin{array}{ rrrr }\\phantom{-} 14 & \\phantom{-} 6 & \\phantom{-} 8 & \\phantom{-} 16 \\\\ \\phantom{-} 1 & \\phantom{-} 5 & \\phantom{-} 0 & \\phantom{-} 2 \\\\ \\phantom{-} 3 & -2 & -11 & -6 \\\\ \\end{array}\\right] = \\left[\\begin{array}{ rrrr }\\phantom{-} 2 & \\phantom{-} 2 & \\phantom{-} 2 & \\phantom{-} 2 \\\\ \\phantom{-} 2 & \\phantom{-} 2 & \\phantom{-} 2 & \\phantom{-} 2 \\\\ \\phantom{-} 2 & \\phantom{-} 2 & \\phantom{-} 2 & \\phantom{-} 2 \\\\ \\end{array}\\right] + \\left[\\begin{array}{ rrrr }\\phantom{-} 6 & \\phantom{-} 6 & \\phantom{-} 6 & \\phantom{-} 6 \\\\ -1 & -1 & -1 & -1 \\\\ -5 & -5 & -5 & -5 \\\\ \\end{array}\\right] + \\left[\\begin{array}{ rrrr }\\phantom{-} 2 & -1 & \\phantom{-} 0 & -1 \\\\ \\phantom{-} 2 & -1 & \\phantom{-} 0 & -1 \\\\ \\phantom{-} 2 & -1 & \\phantom{-} 0 & -1 \\\\ \\end{array}\\right] + \\left[\\begin{array}{ rrrr }\\phantom{-} 0 & -2 & \\phantom{-} 0 & \\phantom{-} 2 \\\\ -1 & \\phantom{-} 1 & \\phantom{-} 1 & -1 \\\\ \\phantom{-} 1 & \\phantom{-} 1 & -1 & -1 \\\\ \\end{array}\\right] + \\left[\\begin{array}{ rrrr }\\phantom{-} 4 & \\phantom{-} 1 & \\phantom{-} 0 & \\phantom{-} 7 \\\\ -1 & \\phantom{-} 4 & -2 & \\phantom{-} 3 \\\\ \\phantom{-} 3 & \\phantom{-} 1 & -7 & -1 \\\\ \\end{array}\\right]$"
      ],
      "text/plain": [
       "<IPython.core.display.Math object>"
      ]
     },
     "metadata": {},
     "output_type": "display_data"
    },
    {
     "data": {
      "text/latex": [
       "$\\displaystyle \\hspace{ 1.05cm }\\text{(observation)}\\hspace{ 2.5cm }\\text{(mean)}\\hspace{ 2.2cm }\\text{(factor 1 effect)}\\hspace{ 1.1cm }\\text{(factor 2 effect)}\\hspace{ 1.5cm }\\text{(interaction)}\\hspace{ 1.75cm }\\text{(residual)}$"
      ],
      "text/plain": [
       "<IPython.core.display.Math object>"
      ]
     },
     "metadata": {},
     "output_type": "display_data"
    },
    {
     "data": {
      "text/latex": [
       "$\\displaystyle \\text{Variable: x2}$"
      ],
      "text/plain": [
       "<IPython.core.display.Math object>"
      ]
     },
     "metadata": {},
     "output_type": "display_data"
    },
    {
     "data": {
      "text/latex": [
       "$\\displaystyle \\left[\\begin{array}{ rrrr }\\phantom{-} 8 & \\phantom{-} 2 & \\phantom{-} 2 & -4 \\\\ \\phantom{-} 6 & \\phantom{-} 12 & \\phantom{-} 15 & \\phantom{-} 7 \\\\ -2 & \\phantom{-} 7 & \\phantom{-} 1 & \\phantom{-} 6 \\\\ \\end{array}\\right] = \\left[\\begin{array}{ rrrr }\\phantom{-} 4 & \\phantom{-} 4 & \\phantom{-} 4 & \\phantom{-} 4 \\\\ \\phantom{-} 4 & \\phantom{-} 4 & \\phantom{-} 4 & \\phantom{-} 4 \\\\ \\phantom{-} 4 & \\phantom{-} 4 & \\phantom{-} 4 & \\phantom{-} 4 \\\\ \\end{array}\\right] + \\left[\\begin{array}{ rrrr }\\phantom{-} 1 & \\phantom{-} 1 & \\phantom{-} 1 & \\phantom{-} 1 \\\\ \\phantom{-} 3 & \\phantom{-} 3 & \\phantom{-} 3 & \\phantom{-} 3 \\\\ -4 & -4 & -4 & -4 \\\\ \\end{array}\\right] + \\left[\\begin{array}{ rrrr }\\phantom{-} 1 & \\phantom{-} 0 & \\phantom{-} 1 & -2 \\\\ \\phantom{-} 1 & \\phantom{-} 0 & \\phantom{-} 1 & -2 \\\\ \\phantom{-} 1 & \\phantom{-} 0 & \\phantom{-} 1 & -2 \\\\ \\end{array}\\right] + \\left[\\begin{array}{ rrrr }\\phantom{-} 2 & -1 & \\phantom{-} 1 & -2 \\\\ -1 & \\phantom{-} 0 & \\phantom{-} 1 & \\phantom{-} 0 \\\\ -1 & \\phantom{-} 1 & -2 & \\phantom{-} 2 \\\\ \\end{array}\\right] + \\left[\\begin{array}{ rrrr }\\phantom{-} 0 & -2 & -5 & -5 \\\\ -1 & \\phantom{-} 5 & \\phantom{-} 6 & \\phantom{-} 2 \\\\ -2 & \\phantom{-} 6 & \\phantom{-} 2 & \\phantom{-} 6 \\\\ \\end{array}\\right]$"
      ],
      "text/plain": [
       "<IPython.core.display.Math object>"
      ]
     },
     "metadata": {},
     "output_type": "display_data"
    },
    {
     "data": {
      "text/latex": [
       "$\\displaystyle \\hspace{ 1.05cm }\\text{(observation)}\\hspace{ 2.5cm }\\text{(mean)}\\hspace{ 2.2cm }\\text{(factor 1 effect)}\\hspace{ 1.1cm }\\text{(factor 2 effect)}\\hspace{ 1.5cm }\\text{(interaction)}\\hspace{ 1.75cm }\\text{(residual)}$"
      ],
      "text/plain": [
       "<IPython.core.display.Math object>"
      ]
     },
     "metadata": {},
     "output_type": "display_data"
    }
   ],
   "source": [
    "fit.x_breakdown.display_obs_breakdown(['1.05cm','2.5cm','2.2cm','1.1cm','1.5cm','1.75cm'])"
   ]
  },
  {
   "cell_type": "markdown",
   "metadata": {},
   "source": [
    "## (b)"
   ]
  },
  {
   "cell_type": "code",
   "execution_count": 6,
   "metadata": {},
   "outputs": [
    {
     "data": {
      "text/latex": [
       "$\\displaystyle \\begin{array}{lll}\\text{Source} & \\text{Matrix of sum of squares} &  \\\\\\text{of variation} & \\text{and cross products} & \\text{Degrees of freedom} \\\\\\hline \\\\\\text{Factor 1} & \\left[\\begin{array}{ rr }\\phantom{-} 496 & \\phantom{-} 184 \\\\ \\phantom{-} 184 & \\phantom{-} 208 \\\\ \\end{array}\\right] & 3 - 1 = 2 \\\\ \\\\\\text{Factor 2} & \\left[\\begin{array}{ rr }\\phantom{-} 36 & \\phantom{-} 24 \\\\ \\phantom{-} 24 & \\phantom{-} 36 \\\\ \\end{array}\\right] & 4 - 1 = 3 \\\\ \\\\\\text{Interaction} & \\left[\\begin{array}{ rr }\\phantom{-} 32 & \\phantom{-} 0 \\\\ \\phantom{-} 0 & \\phantom{-} 44 \\\\ \\end{array}\\right] & (3 - 1)(4 - 1) = 6 \\\\ \\\\\\text{Residual} & \\left[\\begin{array}{ rr }\\phantom{-} 312 & -84 \\\\ -84 & \\phantom{-} 400 \\\\ \\end{array}\\right] &(3)(4)(2 - 1) = 12 \\\\ \\\\\\hline \\\\\\text{Total (corrected)} & \\left[\\begin{array}{ rr }\\phantom{-} 876 & \\phantom{-} 124 \\\\ \\phantom{-} 124 & \\phantom{-} 688 \\\\ \\end{array}\\right] & 3(4)(2) - 1 = 23\\end{array}$"
      ],
      "text/plain": [
       "<IPython.core.display.Math object>"
      ]
     },
     "metadata": {},
     "output_type": "display_data"
    }
   ],
   "source": [
    "fit.display_manova_table()"
   ]
  },
  {
   "cell_type": "markdown",
   "metadata": {},
   "source": [
    "## (c)"
   ]
  },
  {
   "cell_type": "code",
   "execution_count": 7,
   "metadata": {},
   "outputs": [
    {
     "data": {
      "text/latex": [
       "$\\displaystyle \\textrm{Test for Interaction: }$"
      ],
      "text/plain": [
       "<IPython.core.display.Math object>"
      ]
     },
     "metadata": {},
     "output_type": "display_data"
    },
    {
     "data": {
      "text/latex": [
       "$\\displaystyle \\qquad\\qquad\\Lambda_{  }^{\\star}=\\frac{\\left| \\text{SSP}_{\\text{res}} \\right|}{\\left| \\text{SSP}_{\\text{ int }} + \\text{SSP}_{\\text{res}} \\right|}=\\frac{ 117744.0000 }{ 145680.0000 }=0.8082$"
      ],
      "text/plain": [
       "<IPython.core.display.Math object>"
      ]
     },
     "metadata": {},
     "output_type": "display_data"
    },
    {
     "data": {
      "text/latex": [
       "$\\displaystyle \\qquad\\qquad\\nu_{1} = \\left| (g-1)(b-1) - p \\right| + 1 = \\left| 2(3) - 2 \\right| + 1 = 5$"
      ],
      "text/plain": [
       "<IPython.core.display.Math object>"
      ]
     },
     "metadata": {},
     "output_type": "display_data"
    },
    {
     "data": {
      "text/latex": [
       "$\\displaystyle \\qquad\\qquad\\nu_2 = gb(n - 1) - p + 1 = 3(4)(1) - 2 + 1 = 11$"
      ],
      "text/plain": [
       "<IPython.core.display.Math object>"
      ]
     },
     "metadata": {},
     "output_type": "display_data"
    },
    {
     "data": {
      "text/latex": [
       "$\\displaystyle \\qquad\\qquad F_{  }=\\left( \\frac{1 - \\Lambda^{\\star}}{\\Lambda^{\\star}} \\right)\\frac{ v_{2} /2 }{ v_{1} /2 }=\\left( \\frac{ 1 - 0.8082 }{ 0.8082 } \\right)\\frac{ 5.5 }{ 2.5 }=0.52$"
      ],
      "text/plain": [
       "<IPython.core.display.Math object>"
      ]
     },
     "metadata": {},
     "output_type": "display_data"
    },
    {
     "data": {
      "text/latex": [
       "$\\displaystyle \\qquad\\qquad F_{\\nu_{1}, \\nu_{2}}(\\alpha) = F_{ 5, 11 }(0.05) = 3.20$"
      ],
      "text/plain": [
       "<IPython.core.display.Math object>"
      ]
     },
     "metadata": {},
     "output_type": "display_data"
    },
    {
     "data": {
      "text/latex": [
       "$\\displaystyle \\text{We have that } F_{  } = 0.52 < F_{ \\text{crit} } = F_{ 5, 11 } \\left( 0.05 \\right) = 3.20 \\text{, so we would fail to reject the null hypothesis that }  \\bm{ \\gamma }_{ 1,0 } = \\bm{ \\gamma }_{ 1,1 } = \\bm{ \\gamma }_{ 1,2 } = \\bm{ \\gamma }_{ 1,3 } = \\bm{ \\gamma }_{ 2,0 } = \\bm{ \\gamma }_{ 2,1 } = \\bm{ \\gamma }_{ 2,2 } = \\bm{ \\gamma }_{ 2,3 } = \\bm{ \\gamma }_{ 3,0 } = \\bm{ \\gamma }_{ 3,1 } = \\bm{ \\gamma }_{ 3,2 } = \\bm{ \\gamma }_{ 3,3 } =\\textbf{0}$"
      ],
      "text/plain": [
       "<IPython.core.display.Math object>"
      ]
     },
     "metadata": {},
     "output_type": "display_data"
    },
    {
     "data": {
      "text/latex": [
       "$\\displaystyle \\textrm{Test for Factor1: }$"
      ],
      "text/plain": [
       "<IPython.core.display.Math object>"
      ]
     },
     "metadata": {},
     "output_type": "display_data"
    },
    {
     "data": {
      "text/latex": [
       "$\\displaystyle \\qquad\\qquad\\Lambda_{ 1 }^{\\star}=\\frac{\\left| \\text{SSP}_{\\text{res}} \\right|}{\\left| \\text{SSP}_{\\text{ fac1 }} + \\text{SSP}_{\\text{res}} \\right|}=\\frac{ 117744.0000 }{ 481264.0000 }=0.2447$"
      ],
      "text/plain": [
       "<IPython.core.display.Math object>"
      ]
     },
     "metadata": {},
     "output_type": "display_data"
    },
    {
     "data": {
      "text/latex": [
       "$\\displaystyle \\qquad\\qquad\\nu_1 = |(g-1) - p| + 1 = |2 - 2| + 1 = 1$"
      ],
      "text/plain": [
       "<IPython.core.display.Math object>"
      ]
     },
     "metadata": {},
     "output_type": "display_data"
    },
    {
     "data": {
      "text/latex": [
       "$\\displaystyle \\qquad\\qquad\\nu_2 = gb(n - 1) - p + 1 = 3(4)(1) - 2 + 1 = 11$"
      ],
      "text/plain": [
       "<IPython.core.display.Math object>"
      ]
     },
     "metadata": {},
     "output_type": "display_data"
    },
    {
     "data": {
      "text/latex": [
       "$\\displaystyle \\qquad\\qquad F_{ 1 }=\\left( \\frac{1 - \\Lambda^{\\star}}{\\Lambda^{\\star}} \\right)\\frac{ v_{2} /2 }{ v_{1} /2 }=\\left( \\frac{ 1 - 0.2447 }{ 0.2447 } \\right)\\frac{ 5.5 }{ 0.5 }=33.96$"
      ],
      "text/plain": [
       "<IPython.core.display.Math object>"
      ]
     },
     "metadata": {},
     "output_type": "display_data"
    },
    {
     "data": {
      "text/latex": [
       "$\\displaystyle \\qquad\\qquad F_{\\nu_{1}, \\nu_{2}}(\\alpha) = F_{ 1, 11 }(0.05) = 4.84$"
      ],
      "text/plain": [
       "<IPython.core.display.Math object>"
      ]
     },
     "metadata": {},
     "output_type": "display_data"
    },
    {
     "data": {
      "text/latex": [
       "$\\displaystyle \\text{We have that } F_{ 1 } = 33.96 > F_{ \\text{crit} } = F_{ 1, 11 } \\left( 0.05 \\right) = 4.84 \\text{, so we would reject the null hypothesis that }  \\bm{ \\tau }_{ 1 } = \\bm{ \\tau }_{ 2 } = \\bm{ \\tau }_{ 3 } =\\textbf{0}$"
      ],
      "text/plain": [
       "<IPython.core.display.Math object>"
      ]
     },
     "metadata": {},
     "output_type": "display_data"
    },
    {
     "data": {
      "text/latex": [
       "$\\displaystyle \\textrm{Test for Factor2: }$"
      ],
      "text/plain": [
       "<IPython.core.display.Math object>"
      ]
     },
     "metadata": {},
     "output_type": "display_data"
    },
    {
     "data": {
      "text/latex": [
       "$\\displaystyle \\qquad\\qquad\\Lambda_{ 2 }^{\\star}=\\frac{\\left| \\text{SSP}_{\\text{res}} \\right|}{\\left| \\text{SSP}_{\\text{ fac2 }} + \\text{SSP}_{\\text{res}} \\right|}=\\frac{ 117744.0000 }{ 148128.0000 }=0.7949$"
      ],
      "text/plain": [
       "<IPython.core.display.Math object>"
      ]
     },
     "metadata": {},
     "output_type": "display_data"
    },
    {
     "data": {
      "text/latex": [
       "$\\displaystyle \\qquad\\qquad\\nu_1 = |(b-1) - p| + 1 = |3 - 2| + 1 = 2$"
      ],
      "text/plain": [
       "<IPython.core.display.Math object>"
      ]
     },
     "metadata": {},
     "output_type": "display_data"
    },
    {
     "data": {
      "text/latex": [
       "$\\displaystyle \\qquad\\qquad\\nu_2 = gb(n - 1) - p + 1 = 3(4)(1) - 2 + 1 = 11$"
      ],
      "text/plain": [
       "<IPython.core.display.Math object>"
      ]
     },
     "metadata": {},
     "output_type": "display_data"
    },
    {
     "data": {
      "text/latex": [
       "$\\displaystyle \\qquad\\qquad F_{ 2 }=\\left( \\frac{1 - \\Lambda^{\\star}}{\\Lambda^{\\star}} \\right)\\frac{ v_{2} /2 }{ v_{1} /2 }=\\left( \\frac{ 1 - 0.7949 }{ 0.7949 } \\right)\\frac{ 5.5 }{ 1.0 }=1.42$"
      ],
      "text/plain": [
       "<IPython.core.display.Math object>"
      ]
     },
     "metadata": {},
     "output_type": "display_data"
    },
    {
     "data": {
      "text/latex": [
       "$\\displaystyle \\qquad\\qquad F_{\\nu_{1}, \\nu_{2}}(\\alpha) = F_{ 2, 11 }(0.05) = 3.98$"
      ],
      "text/plain": [
       "<IPython.core.display.Math object>"
      ]
     },
     "metadata": {},
     "output_type": "display_data"
    },
    {
     "data": {
      "text/latex": [
       "$\\displaystyle \\text{We have that } F_{ 2 } = 1.42 < F_{ \\text{crit} } = F_{ 2, 11 } \\left( 0.05 \\right) = 3.98 \\text{, so we would fail to reject the null hypothesis that }  \\bm{ \\beta }_{ 1 } = \\bm{ \\beta }_{ 2 } = \\bm{ \\beta }_{ 3 } = \\bm{ \\beta }_{ 4 } =\\textbf{0}$"
      ],
      "text/plain": [
       "<IPython.core.display.Math object>"
      ]
     },
     "metadata": {},
     "output_type": "display_data"
    }
   ],
   "source": [
    "TwoWayManovaEffectTests(fit, alpha=0.05).display_test_results()"
   ]
  },
  {
   "cell_type": "markdown",
   "metadata": {},
   "source": [
    "## (d)"
   ]
  },
  {
   "cell_type": "code",
   "execution_count": 8,
   "metadata": {},
   "outputs": [
    {
     "name": "stdout",
     "output_type": "stream",
     "text": [
      "Factor1\n"
     ]
    },
    {
     "data": {
      "text/latex": [
       "$\\displaystyle x_1:$"
      ],
      "text/plain": [
       "<IPython.core.display.Math object>"
      ]
     },
     "metadata": {},
     "output_type": "display_data"
    },
    {
     "data": {
      "text/latex": [
       "$\\displaystyle \\qquad\\qquad\\ell = 1, m = 2, i = 1$"
      ],
      "text/plain": [
       "<IPython.core.display.Math object>"
      ]
     },
     "metadata": {},
     "output_type": "display_data"
    },
    {
     "data": {
      "text/latex": [
       "$\\displaystyle \\qquad\\qquad\\tau_{ 1, 1 } - \\tau_{ 2, 1 }\\pm t_{v}\\left( \\frac{ \\alpha }{ pg(g-1) } \\right)\\sqrt{ \\frac{ E_{ 1, 1 } }{ v } \\frac{ 2 }{ bn } }=[-1.0378, 15.0378]$"
      ],
      "text/plain": [
       "<IPython.core.display.Math object>"
      ]
     },
     "metadata": {},
     "output_type": "display_data"
    },
    {
     "data": {
      "text/latex": [
       "$\\displaystyle x_1:$"
      ],
      "text/plain": [
       "<IPython.core.display.Math object>"
      ]
     },
     "metadata": {},
     "output_type": "display_data"
    },
    {
     "data": {
      "text/latex": [
       "$\\displaystyle \\qquad\\qquad\\ell = 1, m = 3, i = 1$"
      ],
      "text/plain": [
       "<IPython.core.display.Math object>"
      ]
     },
     "metadata": {},
     "output_type": "display_data"
    },
    {
     "data": {
      "text/latex": [
       "$\\displaystyle \\qquad\\qquad\\tau_{ 1, 1 } - \\tau_{ 3, 1 }\\pm t_{v}\\left( \\frac{ \\alpha }{ pg(g-1) } \\right)\\sqrt{ \\frac{ E_{ 1, 1 } }{ v } \\frac{ 2 }{ bn } }=[2.9622, 19.0378]$"
      ],
      "text/plain": [
       "<IPython.core.display.Math object>"
      ]
     },
     "metadata": {},
     "output_type": "display_data"
    },
    {
     "data": {
      "text/latex": [
       "$\\displaystyle x_1:$"
      ],
      "text/plain": [
       "<IPython.core.display.Math object>"
      ]
     },
     "metadata": {},
     "output_type": "display_data"
    },
    {
     "data": {
      "text/latex": [
       "$\\displaystyle \\qquad\\qquad\\ell = 2, m = 3, i = 1$"
      ],
      "text/plain": [
       "<IPython.core.display.Math object>"
      ]
     },
     "metadata": {},
     "output_type": "display_data"
    },
    {
     "data": {
      "text/latex": [
       "$\\displaystyle \\qquad\\qquad\\tau_{ 2, 1 } - \\tau_{ 3, 1 }\\pm t_{v}\\left( \\frac{ \\alpha }{ pg(g-1) } \\right)\\sqrt{ \\frac{ E_{ 1, 1 } }{ v } \\frac{ 2 }{ bn } }=[-4.0378, 12.0378]$"
      ],
      "text/plain": [
       "<IPython.core.display.Math object>"
      ]
     },
     "metadata": {},
     "output_type": "display_data"
    },
    {
     "data": {
      "text/latex": [
       "$\\displaystyle x_2:$"
      ],
      "text/plain": [
       "<IPython.core.display.Math object>"
      ]
     },
     "metadata": {},
     "output_type": "display_data"
    },
    {
     "data": {
      "text/latex": [
       "$\\displaystyle \\qquad\\qquad\\ell = 1, m = 2, i = 2$"
      ],
      "text/plain": [
       "<IPython.core.display.Math object>"
      ]
     },
     "metadata": {},
     "output_type": "display_data"
    },
    {
     "data": {
      "text/latex": [
       "$\\displaystyle \\qquad\\qquad\\tau_{ 1, 2 } - \\tau_{ 2, 2 }\\pm t_{v}\\left( \\frac{ \\alpha }{ pb(b-1) } \\right)\\sqrt{ \\frac{ E_{ 2, 2 } }{ v } \\frac{ 2 }{ gn } }=[-11.1010, 7.1010]$"
      ],
      "text/plain": [
       "<IPython.core.display.Math object>"
      ]
     },
     "metadata": {},
     "output_type": "display_data"
    },
    {
     "data": {
      "text/latex": [
       "$\\displaystyle x_2:$"
      ],
      "text/plain": [
       "<IPython.core.display.Math object>"
      ]
     },
     "metadata": {},
     "output_type": "display_data"
    },
    {
     "data": {
      "text/latex": [
       "$\\displaystyle \\qquad\\qquad\\ell = 1, m = 3, i = 2$"
      ],
      "text/plain": [
       "<IPython.core.display.Math object>"
      ]
     },
     "metadata": {},
     "output_type": "display_data"
    },
    {
     "data": {
      "text/latex": [
       "$\\displaystyle \\qquad\\qquad\\tau_{ 1, 2 } - \\tau_{ 3, 2 }\\pm t_{v}\\left( \\frac{ \\alpha }{ pb(b-1) } \\right)\\sqrt{ \\frac{ E_{ 2, 2 } }{ v } \\frac{ 2 }{ gn } }=[-4.1010, 14.1010]$"
      ],
      "text/plain": [
       "<IPython.core.display.Math object>"
      ]
     },
     "metadata": {},
     "output_type": "display_data"
    },
    {
     "data": {
      "text/latex": [
       "$\\displaystyle x_2:$"
      ],
      "text/plain": [
       "<IPython.core.display.Math object>"
      ]
     },
     "metadata": {},
     "output_type": "display_data"
    },
    {
     "data": {
      "text/latex": [
       "$\\displaystyle \\qquad\\qquad\\ell = 2, m = 3, i = 2$"
      ],
      "text/plain": [
       "<IPython.core.display.Math object>"
      ]
     },
     "metadata": {},
     "output_type": "display_data"
    },
    {
     "data": {
      "text/latex": [
       "$\\displaystyle \\qquad\\qquad\\tau_{ 2, 2 } - \\tau_{ 3, 2 }\\pm t_{v}\\left( \\frac{ \\alpha }{ pb(b-1) } \\right)\\sqrt{ \\frac{ E_{ 2, 2 } }{ v } \\frac{ 2 }{ gn } }=[-2.1010, 16.1010]$"
      ],
      "text/plain": [
       "<IPython.core.display.Math object>"
      ]
     },
     "metadata": {},
     "output_type": "display_data"
    },
    {
     "name": "stdout",
     "output_type": "stream",
     "text": [
      "Factor2\n"
     ]
    },
    {
     "data": {
      "text/latex": [
       "$\\displaystyle x_1:$"
      ],
      "text/plain": [
       "<IPython.core.display.Math object>"
      ]
     },
     "metadata": {},
     "output_type": "display_data"
    },
    {
     "data": {
      "text/latex": [
       "$\\displaystyle \\qquad\\qquad\\ell = 1, m = 2, i = 1$"
      ],
      "text/plain": [
       "<IPython.core.display.Math object>"
      ]
     },
     "metadata": {},
     "output_type": "display_data"
    },
    {
     "data": {
      "text/latex": [
       "$\\displaystyle \\qquad\\qquad\\tau_{ 1, 1 } - \\tau_{ 2, 1 }\\pm t_{v}\\left( \\frac{ \\alpha }{ pg(g-1) } \\right)\\sqrt{ \\frac{ E_{ 1, 1 } }{ v } \\frac{ 2 }{ bn } }=[-7.3842, 13.3842]$"
      ],
      "text/plain": [
       "<IPython.core.display.Math object>"
      ]
     },
     "metadata": {},
     "output_type": "display_data"
    },
    {
     "data": {
      "text/latex": [
       "$\\displaystyle x_1:$"
      ],
      "text/plain": [
       "<IPython.core.display.Math object>"
      ]
     },
     "metadata": {},
     "output_type": "display_data"
    },
    {
     "data": {
      "text/latex": [
       "$\\displaystyle \\qquad\\qquad\\ell = 1, m = 3, i = 1$"
      ],
      "text/plain": [
       "<IPython.core.display.Math object>"
      ]
     },
     "metadata": {},
     "output_type": "display_data"
    },
    {
     "data": {
      "text/latex": [
       "$\\displaystyle \\qquad\\qquad\\tau_{ 1, 1 } - \\tau_{ 3, 1 }\\pm t_{v}\\left( \\frac{ \\alpha }{ pg(g-1) } \\right)\\sqrt{ \\frac{ E_{ 1, 1 } }{ v } \\frac{ 2 }{ bn } }=[-8.3842, 12.3842]$"
      ],
      "text/plain": [
       "<IPython.core.display.Math object>"
      ]
     },
     "metadata": {},
     "output_type": "display_data"
    },
    {
     "data": {
      "text/latex": [
       "$\\displaystyle x_1:$"
      ],
      "text/plain": [
       "<IPython.core.display.Math object>"
      ]
     },
     "metadata": {},
     "output_type": "display_data"
    },
    {
     "data": {
      "text/latex": [
       "$\\displaystyle \\qquad\\qquad\\ell = 1, m = 4, i = 1$"
      ],
      "text/plain": [
       "<IPython.core.display.Math object>"
      ]
     },
     "metadata": {},
     "output_type": "display_data"
    },
    {
     "data": {
      "text/latex": [
       "$\\displaystyle \\qquad\\qquad\\tau_{ 1, 1 } - \\tau_{ 4, 1 }\\pm t_{v}\\left( \\frac{ \\alpha }{ pg(g-1) } \\right)\\sqrt{ \\frac{ E_{ 1, 1 } }{ v } \\frac{ 2 }{ bn } }=[-7.3842, 13.3842]$"
      ],
      "text/plain": [
       "<IPython.core.display.Math object>"
      ]
     },
     "metadata": {},
     "output_type": "display_data"
    },
    {
     "data": {
      "text/latex": [
       "$\\displaystyle x_1:$"
      ],
      "text/plain": [
       "<IPython.core.display.Math object>"
      ]
     },
     "metadata": {},
     "output_type": "display_data"
    },
    {
     "data": {
      "text/latex": [
       "$\\displaystyle \\qquad\\qquad\\ell = 2, m = 3, i = 1$"
      ],
      "text/plain": [
       "<IPython.core.display.Math object>"
      ]
     },
     "metadata": {},
     "output_type": "display_data"
    },
    {
     "data": {
      "text/latex": [
       "$\\displaystyle \\qquad\\qquad\\tau_{ 2, 1 } - \\tau_{ 3, 1 }\\pm t_{v}\\left( \\frac{ \\alpha }{ pg(g-1) } \\right)\\sqrt{ \\frac{ E_{ 1, 1 } }{ v } \\frac{ 2 }{ bn } }=[-11.3842, 9.3842]$"
      ],
      "text/plain": [
       "<IPython.core.display.Math object>"
      ]
     },
     "metadata": {},
     "output_type": "display_data"
    },
    {
     "data": {
      "text/latex": [
       "$\\displaystyle x_1:$"
      ],
      "text/plain": [
       "<IPython.core.display.Math object>"
      ]
     },
     "metadata": {},
     "output_type": "display_data"
    },
    {
     "data": {
      "text/latex": [
       "$\\displaystyle \\qquad\\qquad\\ell = 2, m = 4, i = 1$"
      ],
      "text/plain": [
       "<IPython.core.display.Math object>"
      ]
     },
     "metadata": {},
     "output_type": "display_data"
    },
    {
     "data": {
      "text/latex": [
       "$\\displaystyle \\qquad\\qquad\\tau_{ 2, 1 } - \\tau_{ 4, 1 }\\pm t_{v}\\left( \\frac{ \\alpha }{ pg(g-1) } \\right)\\sqrt{ \\frac{ E_{ 1, 1 } }{ v } \\frac{ 2 }{ bn } }=[-10.3842, 10.3842]$"
      ],
      "text/plain": [
       "<IPython.core.display.Math object>"
      ]
     },
     "metadata": {},
     "output_type": "display_data"
    },
    {
     "data": {
      "text/latex": [
       "$\\displaystyle x_1:$"
      ],
      "text/plain": [
       "<IPython.core.display.Math object>"
      ]
     },
     "metadata": {},
     "output_type": "display_data"
    },
    {
     "data": {
      "text/latex": [
       "$\\displaystyle \\qquad\\qquad\\ell = 3, m = 4, i = 1$"
      ],
      "text/plain": [
       "<IPython.core.display.Math object>"
      ]
     },
     "metadata": {},
     "output_type": "display_data"
    },
    {
     "data": {
      "text/latex": [
       "$\\displaystyle \\qquad\\qquad\\tau_{ 3, 1 } - \\tau_{ 4, 1 }\\pm t_{v}\\left( \\frac{ \\alpha }{ pg(g-1) } \\right)\\sqrt{ \\frac{ E_{ 1, 1 } }{ v } \\frac{ 2 }{ bn } }=[-9.3842, 11.3842]$"
      ],
      "text/plain": [
       "<IPython.core.display.Math object>"
      ]
     },
     "metadata": {},
     "output_type": "display_data"
    },
    {
     "data": {
      "text/latex": [
       "$\\displaystyle x_2:$"
      ],
      "text/plain": [
       "<IPython.core.display.Math object>"
      ]
     },
     "metadata": {},
     "output_type": "display_data"
    },
    {
     "data": {
      "text/latex": [
       "$\\displaystyle \\qquad\\qquad\\ell = 1, m = 2, i = 2$"
      ],
      "text/plain": [
       "<IPython.core.display.Math object>"
      ]
     },
     "metadata": {},
     "output_type": "display_data"
    },
    {
     "data": {
      "text/latex": [
       "$\\displaystyle \\qquad\\qquad\\tau_{ 1, 2 } - \\tau_{ 2, 2 }\\pm t_{v}\\left( \\frac{ \\alpha }{ pb(b-1) } \\right)\\sqrt{ \\frac{ E_{ 2, 2 } }{ v } \\frac{ 2 }{ gn } }=[-10.7578, 12.7578]$"
      ],
      "text/plain": [
       "<IPython.core.display.Math object>"
      ]
     },
     "metadata": {},
     "output_type": "display_data"
    },
    {
     "data": {
      "text/latex": [
       "$\\displaystyle x_2:$"
      ],
      "text/plain": [
       "<IPython.core.display.Math object>"
      ]
     },
     "metadata": {},
     "output_type": "display_data"
    },
    {
     "data": {
      "text/latex": [
       "$\\displaystyle \\qquad\\qquad\\ell = 1, m = 3, i = 2$"
      ],
      "text/plain": [
       "<IPython.core.display.Math object>"
      ]
     },
     "metadata": {},
     "output_type": "display_data"
    },
    {
     "data": {
      "text/latex": [
       "$\\displaystyle \\qquad\\qquad\\tau_{ 1, 2 } - \\tau_{ 3, 2 }\\pm t_{v}\\left( \\frac{ \\alpha }{ pb(b-1) } \\right)\\sqrt{ \\frac{ E_{ 2, 2 } }{ v } \\frac{ 2 }{ gn } }=[-11.7578, 11.7578]$"
      ],
      "text/plain": [
       "<IPython.core.display.Math object>"
      ]
     },
     "metadata": {},
     "output_type": "display_data"
    },
    {
     "data": {
      "text/latex": [
       "$\\displaystyle x_2:$"
      ],
      "text/plain": [
       "<IPython.core.display.Math object>"
      ]
     },
     "metadata": {},
     "output_type": "display_data"
    },
    {
     "data": {
      "text/latex": [
       "$\\displaystyle \\qquad\\qquad\\ell = 1, m = 4, i = 2$"
      ],
      "text/plain": [
       "<IPython.core.display.Math object>"
      ]
     },
     "metadata": {},
     "output_type": "display_data"
    },
    {
     "data": {
      "text/latex": [
       "$\\displaystyle \\qquad\\qquad\\tau_{ 1, 2 } - \\tau_{ 4, 2 }\\pm t_{v}\\left( \\frac{ \\alpha }{ pb(b-1) } \\right)\\sqrt{ \\frac{ E_{ 2, 2 } }{ v } \\frac{ 2 }{ gn } }=[-8.7578, 14.7578]$"
      ],
      "text/plain": [
       "<IPython.core.display.Math object>"
      ]
     },
     "metadata": {},
     "output_type": "display_data"
    },
    {
     "data": {
      "text/latex": [
       "$\\displaystyle x_2:$"
      ],
      "text/plain": [
       "<IPython.core.display.Math object>"
      ]
     },
     "metadata": {},
     "output_type": "display_data"
    },
    {
     "data": {
      "text/latex": [
       "$\\displaystyle \\qquad\\qquad\\ell = 2, m = 3, i = 2$"
      ],
      "text/plain": [
       "<IPython.core.display.Math object>"
      ]
     },
     "metadata": {},
     "output_type": "display_data"
    },
    {
     "data": {
      "text/latex": [
       "$\\displaystyle \\qquad\\qquad\\tau_{ 2, 2 } - \\tau_{ 3, 2 }\\pm t_{v}\\left( \\frac{ \\alpha }{ pb(b-1) } \\right)\\sqrt{ \\frac{ E_{ 2, 2 } }{ v } \\frac{ 2 }{ gn } }=[-12.7578, 10.7578]$"
      ],
      "text/plain": [
       "<IPython.core.display.Math object>"
      ]
     },
     "metadata": {},
     "output_type": "display_data"
    },
    {
     "data": {
      "text/latex": [
       "$\\displaystyle x_2:$"
      ],
      "text/plain": [
       "<IPython.core.display.Math object>"
      ]
     },
     "metadata": {},
     "output_type": "display_data"
    },
    {
     "data": {
      "text/latex": [
       "$\\displaystyle \\qquad\\qquad\\ell = 2, m = 4, i = 2$"
      ],
      "text/plain": [
       "<IPython.core.display.Math object>"
      ]
     },
     "metadata": {},
     "output_type": "display_data"
    },
    {
     "data": {
      "text/latex": [
       "$\\displaystyle \\qquad\\qquad\\tau_{ 2, 2 } - \\tau_{ 4, 2 }\\pm t_{v}\\left( \\frac{ \\alpha }{ pb(b-1) } \\right)\\sqrt{ \\frac{ E_{ 2, 2 } }{ v } \\frac{ 2 }{ gn } }=[-9.7578, 13.7578]$"
      ],
      "text/plain": [
       "<IPython.core.display.Math object>"
      ]
     },
     "metadata": {},
     "output_type": "display_data"
    },
    {
     "data": {
      "text/latex": [
       "$\\displaystyle x_2:$"
      ],
      "text/plain": [
       "<IPython.core.display.Math object>"
      ]
     },
     "metadata": {},
     "output_type": "display_data"
    },
    {
     "data": {
      "text/latex": [
       "$\\displaystyle \\qquad\\qquad\\ell = 3, m = 4, i = 2$"
      ],
      "text/plain": [
       "<IPython.core.display.Math object>"
      ]
     },
     "metadata": {},
     "output_type": "display_data"
    },
    {
     "data": {
      "text/latex": [
       "$\\displaystyle \\qquad\\qquad\\tau_{ 3, 2 } - \\tau_{ 4, 2 }\\pm t_{v}\\left( \\frac{ \\alpha }{ pb(b-1) } \\right)\\sqrt{ \\frac{ E_{ 2, 2 } }{ v } \\frac{ 2 }{ gn } }=[-8.7578, 14.7578]$"
      ],
      "text/plain": [
       "<IPython.core.display.Math object>"
      ]
     },
     "metadata": {},
     "output_type": "display_data"
    }
   ],
   "source": [
    "alpha = 0.05\n",
    "BonferroniSimultaneousConfidenceIntervals(fit, alpha).display_two_way_manova_bonf()"
   ]
  },
  {
   "cell_type": "markdown",
   "metadata": {},
   "source": [
    "Notice how almost every confidence interval contains 0. The only exception is the pairwise comparison of $\\tau_{1,1} - \\tau_{3,1}$, so there is a difference in means between level 1 and level 3 for Factor 1 variable 1. This is what's causing Factor 1 main effect to be significant. All difference confidence intervals contain 0 for Factor 2, which is consistent with there being no significant effects for Factor 2."
   ]
  },
  {
   "cell_type": "markdown",
   "metadata": {},
   "source": [
    "## MANOVA results from R"
   ]
  },
  {
   "cell_type": "markdown",
   "metadata": {},
   "source": [
    "Using R we can get the same output as SAS. MANOVA in Python unforunately doesn't match up with everyone else."
   ]
  },
  {
   "cell_type": "code",
   "execution_count": 9,
   "metadata": {},
   "outputs": [
    {
     "name": "stdout",
     "output_type": "stream",
     "text": [
      "\n"
     ]
    }
   ],
   "source": [
    "result = subprocess.run([r'C:\\Program Files\\R\\R-4.4.2\\bin\\Rscript', '--vanilla', r'..\\..\\r\\chapter-6\\Question-6-14.R'], capture_output=True, text=True)\n",
    "print(result.stdout)"
   ]
  }
 ],
 "metadata": {
  "kernelspec": {
   "display_name": "py312",
   "language": "python",
   "name": "py312"
  },
  "language_info": {
   "codemirror_mode": {
    "name": "ipython",
    "version": 3
   },
   "file_extension": ".py",
   "mimetype": "text/x-python",
   "name": "python",
   "nbconvert_exporter": "python",
   "pygments_lexer": "ipython3",
   "version": "3.12.5"
  }
 },
 "nbformat": 4,
 "nbformat_minor": 2
}
