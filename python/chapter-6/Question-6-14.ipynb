{
 "cells": [
  {
   "cell_type": "markdown",
   "metadata": {},
   "source": [
    "# Exercise 6.14"
   ]
  },
  {
   "cell_type": "code",
   "execution_count": 2,
   "metadata": {},
   "outputs": [],
   "source": [
    "import pathlib\n",
    "import subprocess\n",
    "import numpy as np\n",
    "import pandas as pd\n",
    "from IPython.display import display, Math\n",
    "from scipy import linalg as la\n",
    "from scipy import stats\n",
    "import TwoWayAnova\n",
    "import chapter_6_utils"
   ]
  },
  {
   "cell_type": "code",
   "execution_count": 3,
   "metadata": {},
   "outputs": [],
   "source": [
    "def load_data():\n",
    "    f = pathlib.WindowsPath(r'..\\..\\Data\\Exercise6.14.xlsx')\n",
    "    return pd.read_excel(f)"
   ]
  },
  {
   "cell_type": "code",
   "execution_count": 4,
   "metadata": {},
   "outputs": [],
   "source": [
    "df = load_data()"
   ]
  },
  {
   "cell_type": "markdown",
   "metadata": {},
   "source": [
    "## (a)"
   ]
  },
  {
   "cell_type": "code",
   "execution_count": 5,
   "metadata": {},
   "outputs": [],
   "source": [
    "fit = TwoWayAnova.TwoWayManova(df, factor1_col='Factor1', factor2_col='Factor2', var_cols=['x1', 'x2'])"
   ]
  },
  {
   "cell_type": "code",
   "execution_count": 6,
   "metadata": {},
   "outputs": [
    {
     "data": {
      "text/latex": [
       "$\\displaystyle \\text{Variable: x1}$"
      ],
      "text/plain": [
       "<IPython.core.display.Math object>"
      ]
     },
     "metadata": {},
     "output_type": "display_data"
    },
    {
     "data": {
      "text/latex": [
       "$\\displaystyle \\left[\\begin{array}{ rrrr }\\phantom{-} 6 & \\phantom{-} 4 & \\phantom{-} 8 & \\phantom{-} 2 \\\\ \\phantom{-} 3 & -3 & \\phantom{-} 4 & -4 \\\\ -3 & -4 & \\phantom{-} 3 & -4 \\\\ \\end{array}\\right] = \\left[\\begin{array}{ rrrr }\\phantom{-} 2 & \\phantom{-} 2 & \\phantom{-} 2 & \\phantom{-} 2 \\\\ \\phantom{-} 2 & \\phantom{-} 2 & \\phantom{-} 2 & \\phantom{-} 2 \\\\ \\phantom{-} 2 & \\phantom{-} 2 & \\phantom{-} 2 & \\phantom{-} 2 \\\\ \\end{array}\\right] + \\left[\\begin{array}{ rrrr }\\phantom{-} 6 & \\phantom{-} 6 & \\phantom{-} 6 & \\phantom{-} 6 \\\\ -1 & -1 & -1 & -1 \\\\ -5 & -5 & -5 & -5 \\\\ \\end{array}\\right] + \\left[\\begin{array}{ rrrr }\\phantom{-} 2 & -1 & \\phantom{-} 0 & -1 \\\\ \\phantom{-} 2 & -1 & \\phantom{-} 0 & -1 \\\\ \\phantom{-} 2 & -1 & \\phantom{-} 0 & -1 \\\\ \\end{array}\\right] + \\left[\\begin{array}{ rrrr }\\phantom{-} 0 & -2 & \\phantom{-} 0 & \\phantom{-} 2 \\\\ -1 & \\phantom{-} 1 & \\phantom{-} 1 & -1 \\\\ \\phantom{-} 1 & \\phantom{-} 1 & -1 & -1 \\\\ \\end{array}\\right] + \\left[\\begin{array}{ rrrr }-4 & -1 & \\phantom{-} 0 & -7 \\\\ \\phantom{-} 1 & -4 & \\phantom{-} 2 & -3 \\\\ -3 & -1 & \\phantom{-} 7 & \\phantom{-} 1 \\\\ \\end{array}\\right]$"
      ],
      "text/plain": [
       "<IPython.core.display.Math object>"
      ]
     },
     "metadata": {},
     "output_type": "display_data"
    },
    {
     "data": {
      "text/latex": [
       "$\\displaystyle \\hspace{ 1.05cm }\\text{(observation)}\\hspace{ 2.5cm }\\text{(mean)}\\hspace{ 2.2cm }\\text{(treatment 1 effect)}\\hspace{ 1.1cm }\\text{(treatment 2 effect)}\\hspace{ 1.5cm }\\text{(interaction)}\\hspace{ 1.75cm }\\text{(residual)}$"
      ],
      "text/plain": [
       "<IPython.core.display.Math object>"
      ]
     },
     "metadata": {},
     "output_type": "display_data"
    },
    {
     "data": {
      "text/latex": [
       "$\\displaystyle \\text{Variable: x2}$"
      ],
      "text/plain": [
       "<IPython.core.display.Math object>"
      ]
     },
     "metadata": {},
     "output_type": "display_data"
    },
    {
     "data": {
      "text/latex": [
       "$\\displaystyle \\left[\\begin{array}{ rrrr }\\phantom{-} 8 & \\phantom{-} 6 & \\phantom{-} 12 & \\phantom{-} 6 \\\\ \\phantom{-} 8 & \\phantom{-} 2 & \\phantom{-} 3 & \\phantom{-} 3 \\\\ \\phantom{-} 2 & -5 & -3 & -6 \\\\ \\end{array}\\right] = \\left[\\begin{array}{ rrrr }\\phantom{-} 4 & \\phantom{-} 4 & \\phantom{-} 4 & \\phantom{-} 4 \\\\ \\phantom{-} 4 & \\phantom{-} 4 & \\phantom{-} 4 & \\phantom{-} 4 \\\\ \\phantom{-} 4 & \\phantom{-} 4 & \\phantom{-} 4 & \\phantom{-} 4 \\\\ \\end{array}\\right] + \\left[\\begin{array}{ rrrr }\\phantom{-} 1 & \\phantom{-} 1 & \\phantom{-} 1 & \\phantom{-} 1 \\\\ \\phantom{-} 3 & \\phantom{-} 3 & \\phantom{-} 3 & \\phantom{-} 3 \\\\ -4 & -4 & -4 & -4 \\\\ \\end{array}\\right] + \\left[\\begin{array}{ rrrr }\\phantom{-} 1 & \\phantom{-} 0 & \\phantom{-} 1 & -2 \\\\ \\phantom{-} 1 & \\phantom{-} 0 & \\phantom{-} 1 & -2 \\\\ \\phantom{-} 1 & \\phantom{-} 0 & \\phantom{-} 1 & -2 \\\\ \\end{array}\\right] + \\left[\\begin{array}{ rrrr }\\phantom{-} 2 & -1 & \\phantom{-} 1 & -2 \\\\ -1 & \\phantom{-} 0 & \\phantom{-} 1 & \\phantom{-} 0 \\\\ -1 & \\phantom{-} 1 & -2 & \\phantom{-} 2 \\\\ \\end{array}\\right] + \\left[\\begin{array}{ rrrr }\\phantom{-} 0 & \\phantom{-} 2 & \\phantom{-} 5 & \\phantom{-} 5 \\\\ \\phantom{-} 1 & -5 & -6 & -2 \\\\ \\phantom{-} 2 & -6 & -2 & -6 \\\\ \\end{array}\\right]$"
      ],
      "text/plain": [
       "<IPython.core.display.Math object>"
      ]
     },
     "metadata": {},
     "output_type": "display_data"
    },
    {
     "data": {
      "text/latex": [
       "$\\displaystyle \\hspace{ 1.05cm }\\text{(observation)}\\hspace{ 2.5cm }\\text{(mean)}\\hspace{ 2.2cm }\\text{(treatment 1 effect)}\\hspace{ 1.1cm }\\text{(treatment 2 effect)}\\hspace{ 1.5cm }\\text{(interaction)}\\hspace{ 1.75cm }\\text{(residual)}$"
      ],
      "text/plain": [
       "<IPython.core.display.Math object>"
      ]
     },
     "metadata": {},
     "output_type": "display_data"
    },
    {
     "data": {
      "text/latex": [
       "$\\displaystyle \\text{Variable: x1}$"
      ],
      "text/plain": [
       "<IPython.core.display.Math object>"
      ]
     },
     "metadata": {},
     "output_type": "display_data"
    },
    {
     "data": {
      "text/latex": [
       "$\\displaystyle \\left[\\begin{array}{ rrrr }\\phantom{-} 14 & \\phantom{-} 6 & \\phantom{-} 8 & \\phantom{-} 16 \\\\ \\phantom{-} 1 & \\phantom{-} 5 & \\phantom{-} 0 & \\phantom{-} 2 \\\\ \\phantom{-} 3 & -2 & -11 & -6 \\\\ \\end{array}\\right] = \\left[\\begin{array}{ rrrr }\\phantom{-} 2 & \\phantom{-} 2 & \\phantom{-} 2 & \\phantom{-} 2 \\\\ \\phantom{-} 2 & \\phantom{-} 2 & \\phantom{-} 2 & \\phantom{-} 2 \\\\ \\phantom{-} 2 & \\phantom{-} 2 & \\phantom{-} 2 & \\phantom{-} 2 \\\\ \\end{array}\\right] + \\left[\\begin{array}{ rrrr }\\phantom{-} 6 & \\phantom{-} 6 & \\phantom{-} 6 & \\phantom{-} 6 \\\\ -1 & -1 & -1 & -1 \\\\ -5 & -5 & -5 & -5 \\\\ \\end{array}\\right] + \\left[\\begin{array}{ rrrr }\\phantom{-} 2 & -1 & \\phantom{-} 0 & -1 \\\\ \\phantom{-} 2 & -1 & \\phantom{-} 0 & -1 \\\\ \\phantom{-} 2 & -1 & \\phantom{-} 0 & -1 \\\\ \\end{array}\\right] + \\left[\\begin{array}{ rrrr }\\phantom{-} 0 & -2 & \\phantom{-} 0 & \\phantom{-} 2 \\\\ -1 & \\phantom{-} 1 & \\phantom{-} 1 & -1 \\\\ \\phantom{-} 1 & \\phantom{-} 1 & -1 & -1 \\\\ \\end{array}\\right] + \\left[\\begin{array}{ rrrr }\\phantom{-} 4 & \\phantom{-} 1 & \\phantom{-} 0 & \\phantom{-} 7 \\\\ -1 & \\phantom{-} 4 & -2 & \\phantom{-} 3 \\\\ \\phantom{-} 3 & \\phantom{-} 1 & -7 & -1 \\\\ \\end{array}\\right]$"
      ],
      "text/plain": [
       "<IPython.core.display.Math object>"
      ]
     },
     "metadata": {},
     "output_type": "display_data"
    },
    {
     "data": {
      "text/latex": [
       "$\\displaystyle \\hspace{ 1.05cm }\\text{(observation)}\\hspace{ 2.5cm }\\text{(mean)}\\hspace{ 2.2cm }\\text{(treatment 1 effect)}\\hspace{ 1.1cm }\\text{(treatment 2 effect)}\\hspace{ 1.5cm }\\text{(interaction)}\\hspace{ 1.75cm }\\text{(residual)}$"
      ],
      "text/plain": [
       "<IPython.core.display.Math object>"
      ]
     },
     "metadata": {},
     "output_type": "display_data"
    },
    {
     "data": {
      "text/latex": [
       "$\\displaystyle \\text{Variable: x2}$"
      ],
      "text/plain": [
       "<IPython.core.display.Math object>"
      ]
     },
     "metadata": {},
     "output_type": "display_data"
    },
    {
     "data": {
      "text/latex": [
       "$\\displaystyle \\left[\\begin{array}{ rrrr }\\phantom{-} 8 & \\phantom{-} 2 & \\phantom{-} 2 & -4 \\\\ \\phantom{-} 6 & \\phantom{-} 12 & \\phantom{-} 15 & \\phantom{-} 7 \\\\ -2 & \\phantom{-} 7 & \\phantom{-} 1 & \\phantom{-} 6 \\\\ \\end{array}\\right] = \\left[\\begin{array}{ rrrr }\\phantom{-} 4 & \\phantom{-} 4 & \\phantom{-} 4 & \\phantom{-} 4 \\\\ \\phantom{-} 4 & \\phantom{-} 4 & \\phantom{-} 4 & \\phantom{-} 4 \\\\ \\phantom{-} 4 & \\phantom{-} 4 & \\phantom{-} 4 & \\phantom{-} 4 \\\\ \\end{array}\\right] + \\left[\\begin{array}{ rrrr }\\phantom{-} 1 & \\phantom{-} 1 & \\phantom{-} 1 & \\phantom{-} 1 \\\\ \\phantom{-} 3 & \\phantom{-} 3 & \\phantom{-} 3 & \\phantom{-} 3 \\\\ -4 & -4 & -4 & -4 \\\\ \\end{array}\\right] + \\left[\\begin{array}{ rrrr }\\phantom{-} 1 & \\phantom{-} 0 & \\phantom{-} 1 & -2 \\\\ \\phantom{-} 1 & \\phantom{-} 0 & \\phantom{-} 1 & -2 \\\\ \\phantom{-} 1 & \\phantom{-} 0 & \\phantom{-} 1 & -2 \\\\ \\end{array}\\right] + \\left[\\begin{array}{ rrrr }\\phantom{-} 2 & -1 & \\phantom{-} 1 & -2 \\\\ -1 & \\phantom{-} 0 & \\phantom{-} 1 & \\phantom{-} 0 \\\\ -1 & \\phantom{-} 1 & -2 & \\phantom{-} 2 \\\\ \\end{array}\\right] + \\left[\\begin{array}{ rrrr }\\phantom{-} 0 & -2 & -5 & -5 \\\\ -1 & \\phantom{-} 5 & \\phantom{-} 6 & \\phantom{-} 2 \\\\ -2 & \\phantom{-} 6 & \\phantom{-} 2 & \\phantom{-} 6 \\\\ \\end{array}\\right]$"
      ],
      "text/plain": [
       "<IPython.core.display.Math object>"
      ]
     },
     "metadata": {},
     "output_type": "display_data"
    },
    {
     "data": {
      "text/latex": [
       "$\\displaystyle \\hspace{ 1.05cm }\\text{(observation)}\\hspace{ 2.5cm }\\text{(mean)}\\hspace{ 2.2cm }\\text{(treatment 1 effect)}\\hspace{ 1.1cm }\\text{(treatment 2 effect)}\\hspace{ 1.5cm }\\text{(interaction)}\\hspace{ 1.75cm }\\text{(residual)}$"
      ],
      "text/plain": [
       "<IPython.core.display.Math object>"
      ]
     },
     "metadata": {},
     "output_type": "display_data"
    }
   ],
   "source": [
    "fit.x.display_obs_breakdown(['1.05cm','2.5cm','2.2cm','1.1cm','1.5cm','1.75cm'])"
   ]
  },
  {
   "cell_type": "markdown",
   "metadata": {},
   "source": [
    "## (b)"
   ]
  },
  {
   "cell_type": "code",
   "execution_count": 7,
   "metadata": {},
   "outputs": [
    {
     "data": {
      "text/latex": [
       "$\\displaystyle \\begin{array}{lll}\\text{Source} & \\text{Matrix of sum of squares} &  \\\\\\text{of variation} & \\text{and cross products} & \\text{Degrees of freedom} \\\\\\hline \\\\\\text{Treatment 1} & \\left[\\begin{array}{ rr }\\phantom{-} 496 & \\phantom{-} 184 \\\\ \\phantom{-} 184 & \\phantom{-} 208 \\\\ \\end{array}\\right] & 3 - 1 = 2 \\\\ \\\\\\text{Treatment 2} & \\left[\\begin{array}{ rr }\\phantom{-} 36 & \\phantom{-} 24 \\\\ \\phantom{-} 24 & \\phantom{-} 36 \\\\ \\end{array}\\right] & 4 - 1 = 3 \\\\ \\\\\\text{Interaction} & \\left[\\begin{array}{ rr }\\phantom{-} 32 & \\phantom{-} 0 \\\\ \\phantom{-} 0 & \\phantom{-} 44 \\\\ \\end{array}\\right] & (3 - 1)(4 - 1) = 6 \\\\ \\\\\\text{Residual} & \\left[\\begin{array}{ rr }\\phantom{-} 312 & -84 \\\\ -84 & \\phantom{-} 400 \\\\ \\end{array}\\right] &(3)(4)(2 - 1) = 12 \\\\ \\\\\\hline \\\\\\text{Total (corrected)} & \\left[\\begin{array}{ rr }\\phantom{-} 876 & \\phantom{-} 124 \\\\ \\phantom{-} 124 & \\phantom{-} 688 \\\\ \\end{array}\\right] & 3(4)(2) - 1 = 23\\end{array}$"
      ],
      "text/plain": [
       "<IPython.core.display.Math object>"
      ]
     },
     "metadata": {},
     "output_type": "display_data"
    }
   ],
   "source": [
    "fit.display_manova_table()"
   ]
  },
  {
   "cell_type": "markdown",
   "metadata": {},
   "source": [
    "## (c)"
   ]
  },
  {
   "cell_type": "code",
   "execution_count": 8,
   "metadata": {},
   "outputs": [],
   "source": [
    "import scipy.linalg as la\n",
    "from scipy import stats"
   ]
  },
  {
   "cell_type": "markdown",
   "metadata": {},
   "source": [
    "## Test for interaction"
   ]
  },
  {
   "cell_type": "code",
   "execution_count": 9,
   "metadata": {},
   "outputs": [
    {
     "data": {
      "text/latex": [
       "$\\displaystyle \\Lambda_{1}^{\\star}=\\frac{\\left| \\text{SSP}_{\\text{res}} \\right|}{\\left| \\text{SSP}_{\\text{int}} + \\text{SSP}_{\\text{res}} \\right|}=\\frac{ 117744.0000 }{ 145680.0000 }=0.8082$"
      ],
      "text/plain": [
       "<IPython.core.display.Math object>"
      ]
     },
     "metadata": {},
     "output_type": "display_data"
    }
   ],
   "source": [
    "alpha = 0.05\n",
    "Lmbda_star_int = la.det(fit.manova.W)/(la.det(fit.manova.I + fit.manova.W))\n",
    "display(Math(r'\\Lambda_{1}^{\\star}'\n",
    "             '='\n",
    "             r'\\frac{\\left| \\text{SSP}_{\\text{res}} \\right|}{\\left| \\text{SSP}_{\\text{int}} + \\text{SSP}_{\\text{res}} \\right|}'\n",
    "             '='\n",
    "             fr'\\frac{{ {la.det(fit.manova.W):.4f} }}{{ {la.det(fit.manova.I + fit.manova.W):.4f} }}'\n",
    "             '='\n",
    "             f'{Lmbda_star_int:.4f}'\n",
    "             ))"
   ]
  },
  {
   "cell_type": "code",
   "execution_count": 14,
   "metadata": {},
   "outputs": [
    {
     "data": {
      "text/latex": [
       "$\\displaystyle F=\\left( \\frac{1 - \\Lambda^{\\star}}{\\Lambda^{\\star}} \\right)\\frac{(gb(n-1) - p + 1)/2}{(|(g-1)(b-1) - p| + 1)/2}=\\left( \\frac{ 1 - 0.8082 }{ 0.8082 } \\right)\\frac{ (3(4)(1) - 2 + 1) /2 }{ (|2(3) - 2| + 1)/2 }=0.52$"
      ],
      "text/plain": [
       "<IPython.core.display.Math object>"
      ]
     },
     "metadata": {},
     "output_type": "display_data"
    }
   ],
   "source": [
    "g = fit._design.metadata.g\n",
    "b = fit._design.metadata.b\n",
    "p = fit._design.metadata.p\n",
    "n = fit._design.metadata.n\n",
    "F_int = ((1-Lmbda_star_int)/Lmbda_star_int)*((g*b*(n-1)-p+1)/2) / ((np.abs((g-1)*(b-1) - p) + 1)/2)\n",
    "display(Math('F'\n",
    "             '='\n",
    "             r'\\left( \\frac{1 - \\Lambda^{\\star}}{\\Lambda^{\\star}} \\right)'\n",
    "             r'\\frac{(gb(n-1) - p + 1)/2}{(|(g-1)(b-1) - p| + 1)/2}'\n",
    "             '='\n",
    "             fr'\\left( \\frac{{ 1 - {Lmbda_star_int:.4f} }}{{ {Lmbda_star_int:.4f} }} \\right)'\n",
    "             fr'\\frac{{ ({g}({b})({n-1}) - {p} + 1) /2 }}{{ (|{g-1}({b-1}) - {p}| + 1)/2 }}'\n",
    "             '='\n",
    "             f'{F_int:.2f}'\n",
    "             ))"
   ]
  },
  {
   "cell_type": "code",
   "execution_count": 12,
   "metadata": {},
   "outputs": [
    {
     "data": {
      "text/latex": [
       "$\\displaystyle \\nu_{1}=\\left| (g-1)(b-1) - p \\right| + 1=\\left| 2(3) - 2 \\right| + 1=5$"
      ],
      "text/plain": [
       "<IPython.core.display.Math object>"
      ]
     },
     "metadata": {},
     "output_type": "display_data"
    }
   ],
   "source": [
    "v1_int = np.abs((g-1)*(b-1) - p) + 1\n",
    "display(Math(r'\\nu_{1}'\n",
    "             '='\n",
    "             r'\\left| (g-1)(b-1) - p \\right| + 1'\n",
    "             '='\n",
    "             fr'\\left| {g-1}({b-1}) - {p} \\right| + 1'\n",
    "             '='\n",
    "             f'{v1_int}'\n",
    "             ))"
   ]
  },
  {
   "cell_type": "code",
   "execution_count": 13,
   "metadata": {},
   "outputs": [
    {
     "data": {
      "text/latex": [
       "$\\displaystyle \\nu_{2}=gb(n - 1) - p + 1=3(4)(1) - 2 + 1=11$"
      ],
      "text/plain": [
       "<IPython.core.display.Math object>"
      ]
     },
     "metadata": {},
     "output_type": "display_data"
    }
   ],
   "source": [
    "v2_int = g*b*(n-1) - p + 1\n",
    "display(Math(r'\\nu_{2}'\n",
    "             '='\n",
    "             'gb(n - 1) - p + 1'\n",
    "             '='\n",
    "             fr'{g}({b})({n-1}) - {p} + 1'\n",
    "             '='\n",
    "             f'{v2_int}'\n",
    "             ))"
   ]
  },
  {
   "cell_type": "code",
   "execution_count": 15,
   "metadata": {},
   "outputs": [
    {
     "data": {
      "text/latex": [
       "$\\displaystyle F_{\\nu_{1}, \\nu_{2}}(\\alpha)=F_{ 5, 11 }(0.05)=3.20$"
      ],
      "text/plain": [
       "<IPython.core.display.Math object>"
      ]
     },
     "metadata": {},
     "output_type": "display_data"
    }
   ],
   "source": [
    "alpha = 0.05\n",
    "f_crit_int = stats.f.ppf(1-alpha,v1_int,v2_int)\n",
    "display(Math(r'F_{\\nu_{1}, \\nu_{2}}(\\alpha)'\n",
    "             '='\n",
    "             fr'F_{{ {v1_int}, {v2_int} }}({alpha})'\n",
    "             '='\n",
    "             f'{f_crit_int:.2f}'\n",
    "             ))"
   ]
  },
  {
   "cell_type": "code",
   "execution_count": 21,
   "metadata": {},
   "outputs": [
    {
     "data": {
      "text/latex": [
       "$\\displaystyle \\text{We have that } F = 0.52 < F_{\\text{crit}} = F_{ 5, 11 } \\left( 0.05 \\right) = 3.20 \\text{, so we would fail to reject the null hypothesis that } \\bm{\\gamma}_{11} = \\bm{\\gamma}_{12} = \\bm{\\gamma}_{13} = \\bm{\\gamma}_{14} = \\bm{\\gamma}_{21} = \\bm{\\gamma}_{22} = \\bm{\\gamma}_{23} = \\bm{\\gamma}_{24} = \\bm{\\gamma}_{31} = \\bm{\\gamma}_{32} = \\bm{\\gamma}_{33} = \\bm{\\gamma}_{34} = \\textbf{0}$"
      ],
      "text/plain": [
       "<IPython.core.display.Math object>"
      ]
     },
     "metadata": {},
     "output_type": "display_data"
    }
   ],
   "source": [
    "if F_int > f_crit_int:\n",
    "    display(Math(fr'\\text{{We have that }} F = {F_int:.2f} > F_{{\\text{{crit}}}} = F_{{ {v1_int}, {v2_int} }} \\left( {alpha} \\right) = '\n",
    "                 fr'{f_crit_int:.2f} \\text{{, so we would reject the null hypothesis that }} '\n",
    "                 r'\\bm{\\gamma}_{11} = \\bm{\\gamma}_{12} = \\bm{\\gamma}_{13} = \\bm{\\gamma}_{14} = '\n",
    "                 r'\\bm{\\gamma}_{21} = \\bm{\\gamma}_{22} = \\bm{\\gamma}_{23} = \\bm{\\gamma}_{24} = '\n",
    "                 r'\\bm{\\gamma}_{31} = \\bm{\\gamma}_{32} = \\bm{\\gamma}_{33} = \\bm{\\gamma}_{34} = \\textbf{0}'\n",
    "                 ))\n",
    "else:\n",
    "    display(Math(fr'\\text{{We have that }} F = {F_int:.2f} < F_{{\\text{{crit}}}} = F_{{ {v1_int}, {v2_int} }} \\left( {alpha} \\right) = '\n",
    "                fr'{f_crit_int:.2f} \\text{{, so we would fail to reject the null hypothesis that }} '\n",
    "                r'\\bm{\\gamma}_{11} = \\bm{\\gamma}_{12} = \\bm{\\gamma}_{13} = \\bm{\\gamma}_{14} = '\n",
    "                r'\\bm{\\gamma}_{21} = \\bm{\\gamma}_{22} = \\bm{\\gamma}_{23} = \\bm{\\gamma}_{24} = '\n",
    "                r'\\bm{\\gamma}_{31} = \\bm{\\gamma}_{32} = \\bm{\\gamma}_{33} = \\bm{\\gamma}_{34} = \\textbf{0}'\n",
    "\n",
    "                ))"
   ]
  },
  {
   "cell_type": "markdown",
   "metadata": {},
   "source": [
    "No interaction term. We're left with the additive model."
   ]
  },
  {
   "cell_type": "markdown",
   "metadata": {},
   "source": [
    "## Test for factor 1 effects"
   ]
  },
  {
   "cell_type": "code",
   "execution_count": 24,
   "metadata": {},
   "outputs": [
    {
     "data": {
      "text/latex": [
       "$\\displaystyle \\Lambda_{1}^{\\star}=\\frac{\\left| \\text{SSP}_{\\text{res}} \\right|}{\\left| \\text{SSP}_{\\text{fac1}} + \\text{SSP}_{\\text{res}} \\right|}=\\frac{ 117744.0000 }{ 481264.0000 }=0.2447$"
      ],
      "text/plain": [
       "<IPython.core.display.Math object>"
      ]
     },
     "metadata": {},
     "output_type": "display_data"
    }
   ],
   "source": [
    "Lmbda_star_fac1 = la.det(fit.manova.W) / la.det(fit.manova.B1 + fit.manova.W)\n",
    "display(Math(r'\\Lambda_{1}^{\\star}'\n",
    "             '='\n",
    "             r'\\frac{\\left| \\text{SSP}_{\\text{res}} \\right|}{\\left| \\text{SSP}_{\\text{fac1}} + \\text{SSP}_{\\text{res}} \\right|}'\n",
    "             '='\n",
    "             fr'\\frac{{ {la.det(fit.manova.W):.4f} }}{{ {la.det(fit.manova.B1 + fit.manova.W):.4f} }}'\n",
    "             '='\n",
    "             f'{Lmbda_star_fac1:.4f}'\n",
    "             ))"
   ]
  },
  {
   "cell_type": "code",
   "execution_count": 25,
   "metadata": {},
   "outputs": [
    {
     "data": {
      "text/latex": [
       "$\\displaystyle F_{1}=\\left( \\frac{1 - \\Lambda_{1}^{\\star}}{\\Lambda_{1}^{\\star}} \\right)\\frac{(gb(n-1) - p + 1)/2}{(|(g-1) - p| + 1)/2}=\\left( \\frac{ 1 - 0.2447 }{ 0.2447 } \\right)\\frac{ (3(4)(1) - 2 + 1) /2 }{ (|2 - 2| + 1)/2 }=33.96$"
      ],
      "text/plain": [
       "<IPython.core.display.Math object>"
      ]
     },
     "metadata": {},
     "output_type": "display_data"
    }
   ],
   "source": [
    "F_fac1 = ((1-Lmbda_star_fac1)/Lmbda_star_fac1)*((g*b*(n-1)-p+1)/2) / ((np.abs((g-1) - p) + 1)/2)\n",
    "display(Math('F_{1}'\n",
    "             '='\n",
    "             r'\\left( \\frac{1 - \\Lambda_{1}^{\\star}}{\\Lambda_{1}^{\\star}} \\right)'\n",
    "             r'\\frac{(gb(n-1) - p + 1)/2}{(|(g-1) - p| + 1)/2}'\n",
    "             '='\n",
    "             fr'\\left( \\frac{{ 1 - {Lmbda_star_fac1:.4f} }}{{ {Lmbda_star_fac1:.4f} }} \\right)'\n",
    "             fr'\\frac{{ ({g}({b})({n-1}) - {p} + 1) /2 }}{{ (|{g-1} - {p}| + 1)/2 }}'\n",
    "             '='\n",
    "             f'{F_fac1:.2f}'\n",
    "             ))"
   ]
  },
  {
   "cell_type": "code",
   "execution_count": 26,
   "metadata": {},
   "outputs": [
    {
     "data": {
      "text/latex": [
       "$\\displaystyle \\nu_{1}=|(g-1) - p| + 1=|2 - 2| + 1=1$"
      ],
      "text/plain": [
       "<IPython.core.display.Math object>"
      ]
     },
     "metadata": {},
     "output_type": "display_data"
    }
   ],
   "source": [
    "v1_fac1 = np.abs((g-1) - p) + 1\n",
    "display(Math(r'\\nu_{1}'\n",
    "             '='\n",
    "             '|(g-1) - p| + 1'\n",
    "             '='\n",
    "             f'|{g-1} - {p}| + 1'\n",
    "             '='\n",
    "             f'{v1_fac1}'\n",
    "             ))"
   ]
  },
  {
   "cell_type": "code",
   "execution_count": 27,
   "metadata": {},
   "outputs": [
    {
     "data": {
      "text/latex": [
       "$\\displaystyle \\nu_{2}=gb(n-1) - p + 1=12 - 2 + 1=11$"
      ],
      "text/plain": [
       "<IPython.core.display.Math object>"
      ]
     },
     "metadata": {},
     "output_type": "display_data"
    }
   ],
   "source": [
    "v2_fac1 = g*b*(n-1)-p+1\n",
    "display(Math(r'\\nu_{2}'\n",
    "             '='\n",
    "             'gb(n-1) - p + 1'\n",
    "             '='\n",
    "             f'{g*b*(n-1)} - {p} + 1'\n",
    "             '='\n",
    "             f'{v2_fac1}'\n",
    "             ))"
   ]
  },
  {
   "cell_type": "code",
   "execution_count": 28,
   "metadata": {},
   "outputs": [
    {
     "data": {
      "text/latex": [
       "$\\displaystyle F_{\\nu_{1}, \\nu_{2}}(\\alpha)=F_{ 1, 11 }(0.05)=4.84$"
      ],
      "text/plain": [
       "<IPython.core.display.Math object>"
      ]
     },
     "metadata": {},
     "output_type": "display_data"
    }
   ],
   "source": [
    "f_crit_fac1 = stats.f.ppf(1-alpha,v1_fac1,v2_fac1)\n",
    "display(Math(r'F_{\\nu_{1}, \\nu_{2}}(\\alpha)'\n",
    "             '='\n",
    "             fr'F_{{ {v1_fac1}, {v2_fac1} }}({alpha})'\n",
    "             '='\n",
    "             f'{f_crit_fac1:.2f}'\n",
    "             ))"
   ]
  },
  {
   "cell_type": "code",
   "execution_count": 29,
   "metadata": {},
   "outputs": [
    {
     "data": {
      "text/latex": [
       "$\\displaystyle \\text{We have that } F_{1} = 33.96 > F_{\\text{crit}} = F_{ 1, 11 } \\left( 0.05 \\right) = 4.84 \\text{, so we would reject the null hypothesis that } \\bm{\\tau}_{1} =\\bm{\\tau}_{2} = \\bm{\\tau}_{3} = \\textbf{0}$"
      ],
      "text/plain": [
       "<IPython.core.display.Math object>"
      ]
     },
     "metadata": {},
     "output_type": "display_data"
    }
   ],
   "source": [
    "if F_fac1 > f_crit_fac1:\n",
    "    display(Math(fr'\\text{{We have that }} F_{{1}} = {F_fac1:.2f} > F_{{\\text{{crit}}}} = F_{{ {v1_fac1}, {v2_fac1} }} \\left( {alpha} \\right) = '\n",
    "                 fr'{f_crit_fac1:.2f} \\text{{, so we would reject the null hypothesis that }} '\n",
    "                 r'\\bm{\\tau}_{1} =\\bm{\\tau}_{2} = \\bm{\\tau}_{3} = \\textbf{0}'))\n",
    "else:\n",
    "    display(Math(fr'\\text{{We have that }} F_{{1}} = {F_fac1:.2f} < F_{{\\text{{crit}}}} = F_{{ {v1_fac1}, {v2_fac1} }} \\left( {alpha} \\right) = '\n",
    "                fr'{f_crit_fac1:.2f} \\text{{, so we would fail to reject the null hypothesis that }} '\n",
    "                r'\\bm{\\tau}_{1} =\\bm{\\tau}_{2} = \\bm{\\tau}_{3} = \\textbf{0}'))"
   ]
  },
  {
   "cell_type": "markdown",
   "metadata": {},
   "source": [
    "## Test for factor 2 effects"
   ]
  },
  {
   "cell_type": "code",
   "execution_count": 32,
   "metadata": {},
   "outputs": [
    {
     "data": {
      "text/latex": [
       "$\\displaystyle \\Lambda_{2}^{\\star}=\\frac{\\left| \\text{SSP}_{\\text{res}} \\right|}{\\left| \\text{SSP}_{\\text{fac2}} + \\text{SSP}_{\\text{res}} \\right|}=\\frac{ 117744.0000 }{ 148128.0000 }=0.7949$"
      ],
      "text/plain": [
       "<IPython.core.display.Math object>"
      ]
     },
     "metadata": {},
     "output_type": "display_data"
    }
   ],
   "source": [
    "Lmbda_star_fac2 = la.det(fit.manova.W) / la.det(fit.manova.B2 + fit.manova.W)\n",
    "display(Math(r'\\Lambda_{2}^{\\star}'\n",
    "             '='\n",
    "             r'\\frac{\\left| \\text{SSP}_{\\text{res}} \\right|}{\\left| \\text{SSP}_{\\text{fac2}} + \\text{SSP}_{\\text{res}} \\right|}'\n",
    "             '='\n",
    "             fr'\\frac{{ {la.det(fit.manova.W):.4f} }}{{ {la.det(fit.manova.B2 + fit.manova.W):.4f} }}'\n",
    "             '='\n",
    "             f'{Lmbda_star_fac2:.4f}'\n",
    "             ))"
   ]
  },
  {
   "cell_type": "code",
   "execution_count": 33,
   "metadata": {},
   "outputs": [
    {
     "data": {
      "text/latex": [
       "$\\displaystyle F_{2}=\\left( \\frac{1 - \\Lambda_{2}^{\\star}}{\\Lambda_{2}^{\\star}} \\right)\\frac{(gb(n-1) - p + 1)/2}{(|(b-1) - p| + 1)/2}=\\left( \\frac{ 1 - 0.7949 }{ 0.7949 } \\right)\\frac{ (3(4)(1) - 2 + 1) /2 }{ (|3 - 2| + 1)/2 }=1.42$"
      ],
      "text/plain": [
       "<IPython.core.display.Math object>"
      ]
     },
     "metadata": {},
     "output_type": "display_data"
    }
   ],
   "source": [
    "F_fac2 = ((1-Lmbda_star_fac2)/Lmbda_star_fac2)*((g*b*(n-1)-p+1)/2) / ((np.abs((b-1) - p) + 1)/2)\n",
    "display(Math('F_{2}'\n",
    "             '='\n",
    "             r'\\left( \\frac{1 - \\Lambda_{2}^{\\star}}{\\Lambda_{2}^{\\star}} \\right)'\n",
    "             r'\\frac{(gb(n-1) - p + 1)/2}{(|(b-1) - p| + 1)/2}'\n",
    "             '='\n",
    "             fr'\\left( \\frac{{ 1 - {Lmbda_star_fac2:.4f} }}{{ {Lmbda_star_fac2:.4f} }} \\right)'\n",
    "             fr'\\frac{{ ({g}({b})({n-1}) - {p} + 1) /2 }}{{ (|{b-1} - {p}| + 1)/2 }}'\n",
    "             '='\n",
    "             f'{F_fac2:.2f}'\n",
    "             ))"
   ]
  },
  {
   "cell_type": "code",
   "execution_count": 34,
   "metadata": {},
   "outputs": [
    {
     "data": {
      "text/latex": [
       "$\\displaystyle \\nu_{1}=|(b-1) - p| + 1=|3 - 2| + 1=2$"
      ],
      "text/plain": [
       "<IPython.core.display.Math object>"
      ]
     },
     "metadata": {},
     "output_type": "display_data"
    }
   ],
   "source": [
    "v1_fac2 = np.abs((b-1) - p) + 1\n",
    "display(Math(r'\\nu_{1}'\n",
    "             '='\n",
    "             '|(b-1) - p| + 1'\n",
    "             '='\n",
    "             f'|{b-1} - {p}| + 1'\n",
    "             '='\n",
    "             f'{v1_fac2}'\n",
    "             ))"
   ]
  },
  {
   "cell_type": "code",
   "execution_count": 35,
   "metadata": {},
   "outputs": [
    {
     "data": {
      "text/latex": [
       "$\\displaystyle \\nu_{2}=gb(n-1) - p + 1=12 - 2 + 1=11$"
      ],
      "text/plain": [
       "<IPython.core.display.Math object>"
      ]
     },
     "metadata": {},
     "output_type": "display_data"
    }
   ],
   "source": [
    "v2_fac2 = g*b*(n-1)-p+1\n",
    "display(Math(r'\\nu_{2}'\n",
    "             '='\n",
    "             'gb(n-1) - p + 1'\n",
    "             '='\n",
    "             f'{g*b*(n-1)} - {p} + 1'\n",
    "             '='\n",
    "             f'{v2_fac2}'\n",
    "             ))"
   ]
  },
  {
   "cell_type": "code",
   "execution_count": 36,
   "metadata": {},
   "outputs": [
    {
     "data": {
      "text/latex": [
       "$\\displaystyle F_{\\nu_{1}, \\nu_{2}}(\\alpha)=F_{ 2, 11 }(0.05)=3.98$"
      ],
      "text/plain": [
       "<IPython.core.display.Math object>"
      ]
     },
     "metadata": {},
     "output_type": "display_data"
    }
   ],
   "source": [
    "f_crit_fac2 = stats.f.ppf(1-alpha,v1_fac2,v2_fac2)\n",
    "display(Math(r'F_{\\nu_{1}, \\nu_{2}}(\\alpha)'\n",
    "             '='\n",
    "             fr'F_{{ {v1_fac2}, {v2_fac2} }}({alpha})'\n",
    "             '='\n",
    "             f'{f_crit_fac2:.2f}'\n",
    "             ))"
   ]
  },
  {
   "cell_type": "code",
   "execution_count": 347,
   "metadata": {},
   "outputs": [
    {
     "data": {
      "text/latex": [
       "$\\displaystyle \\text{We have that } F_{2} = 1.42 < F_{\\text{crit}} = F_{ 2, 11 } \\left( 0.05 \\right) = 3.98 \\text{, so we would fail to reject the null hypothesis that } \\bm{\\beta}_{1} = \\bm{\\beta}_{2} = \\bm{\\beta}_{3} = \\bm{\\beta}_{4} = \\textbf{0}$"
      ],
      "text/plain": [
       "<IPython.core.display.Math object>"
      ]
     },
     "metadata": {},
     "output_type": "display_data"
    }
   ],
   "source": [
    "if F_fac2 > f_crit_fac2:\n",
    "    display(Math(fr'\\text{{We have that }} F_{{2}} = {F_fac2:.2f} > F_{{\\text{{crit}}}} = F_{{ {v1_fac2}, {v2_fac2} }} \\left( {alpha} \\right) = '\n",
    "                 fr'{f_crit_fac2:.2f} \\text{{, so we would reject the null hypothesis that }} '\n",
    "                 r'\\bm{\\beta}_{1} = \\bm{\\beta}_{2} = \\bm{\\beta}_{3} = \\bm{\\beta}_{4} = \\textbf{0}'))\n",
    "else:\n",
    "    display(Math(fr'\\text{{We have that }} F_{{2}} = {F_fac2:.2f} < F_{{\\text{{crit}}}} = F_{{ {v1_fac2}, {v2_fac2} }} \\left( {alpha} \\right) = '\n",
    "                fr'{f_crit_fac2:.2f} \\text{{, so we would fail to reject the null hypothesis that }} '\n",
    "                r'\\bm{\\beta}_{1} = \\bm{\\beta}_{2} = \\bm{\\beta}_{3} = \\bm{\\beta}_{4} = \\textbf{0}'))"
   ]
  },
  {
   "cell_type": "markdown",
   "metadata": {},
   "source": [
    "## (d)"
   ]
  },
  {
   "cell_type": "code",
   "execution_count": 215,
   "metadata": {},
   "outputs": [],
   "source": [
    "from collections import namedtuple"
   ]
  },
  {
   "cell_type": "code",
   "execution_count": 412,
   "metadata": {},
   "outputs": [],
   "source": [
    "def bonferroni_two_way(a_fit: TwoWayAnova, a_factor: str, alpha: float) -> dict[str, list[np.ndarray]]:\n",
    "    # The formulas used here is from (6-70) on pages 317 and 318.\n",
    "    # Slice a row out of the tau tensor. Make sure they're columns. There's a column for every variable. The variable is the first arg in shape.\n",
    "    g = a_fit._design.metadata.g\n",
    "    b = a_fit._design.metadata.b\n",
    "    p = a_fit._design.metadata.p\n",
    "    n = a_fit._design.metadata.n\n",
    "\n",
    "    def compute_bonf_ci(trt_levels1: int, trt_levels2: int, factor: np.ndarray) -> list[np.ndarray]:\n",
    "        ci_dict = {}\n",
    "        v = trt_levels1 * trt_levels2 * (n - 1)\n",
    "        t_val = stats.t.ppf(1-(alpha/(2*p*trt_levels1*(trt_levels1-1))), df=v)\n",
    "        pairs, C = create_contrast_matrix(trt_levels1)\n",
    "        ci_dict.update({'pairs': pairs})\n",
    "        # C = (np.diag(np.ones((1,trt_levels1))[0], 0) + np.diag(-np.ones((1,trt_levels1-1))[0], 1))[:-1,:]\n",
    "        tau_diff_matrix = C @ factor.T\n",
    "        E = np.diag(a_fit.manova.W)*np.ones((trt_levels1-1,p))\n",
    "        \n",
    "        # Loop through each of the p variables and compute the CI.\n",
    "        for i in range(tau_diff_matrix.shape[1]):\n",
    "            # tau_diff = tau_diff_matrix[:, i].reshape(trt_levels1-1,1)\n",
    "            height = tau_diff_matrix[:, i].shape[0]\n",
    "            tau_diff = tau_diff_matrix[:, i].reshape(height,1)\n",
    "            # E_ii = E[:, i].reshape(trt_levels1-1,1)\n",
    "            E_ii = E[0,i] * np.ones((height,1))\n",
    "            ci = tau_diff + np.array([-1, 1]) * t_val * np.sqrt(E_ii * 1/v * 2/(trt_levels2*n))\n",
    "            ci_dict.update({f'x{i+1}': ci})\n",
    "        return ci_dict\n",
    "    \n",
    "    BonferroniCI = namedtuple('BonferroniCI', ['Factor1', 'Factor2'])\n",
    "    return BonferroniCI(\n",
    "        # All columns are the same for factor1, so pick first column.\n",
    "        Factor1=compute_bonf_ci(g, b, a_fit.x.anova_values.Trt1Effect[:,:,0]),\n",
    "        # All rows are the same for factor2, so pick first row.\n",
    "        Factor2=compute_bonf_ci(b, g, a_fit.x.anova_values.Trt2Effect[:,0,:])\n",
    "        )"
   ]
  },
  {
   "cell_type": "code",
   "execution_count": 443,
   "metadata": {},
   "outputs": [],
   "source": [
    "all_bonf_pairwise = bonferroni_two_way(fit, True, 0.05)"
   ]
  },
  {
   "cell_type": "code",
   "execution_count": 445,
   "metadata": {},
   "outputs": [],
   "source": [
    "# all_bonf_pairwise "
   ]
  },
  {
   "cell_type": "code",
   "execution_count": 348,
   "metadata": {},
   "outputs": [],
   "source": [
    "import itertools"
   ]
  },
  {
   "cell_type": "code",
   "execution_count": 393,
   "metadata": {},
   "outputs": [],
   "source": [
    "def create_contrast_matrix(n):\n",
    "    pair_indices = list(itertools.combinations(range(n), 2))\n",
    "\n",
    "    # Build the contrast matrix:\n",
    "    # For each pair (i, j), create a contrast vector with 1 at i, -1 at j, and 0 elsewhere.\n",
    "    contrast_list = []\n",
    "    for i, j in pair_indices:\n",
    "        contrast = np.zeros(n)\n",
    "        contrast[i] = 1\n",
    "        contrast[j] = -1\n",
    "        contrast_list.append(contrast)\n",
    "    return pair_indices, np.vstack(contrast_list)"
   ]
  },
  {
   "cell_type": "code",
   "execution_count": 446,
   "metadata": {},
   "outputs": [],
   "source": [
    "def display_two_way_manova_bonf(bonf_output: namedtuple) -> None:\n",
    "    for factor_name, variables in bonf_output._asdict().items():\n",
    "        variables = variables.copy()\n",
    "        print(factor_name)\n",
    "        pairs = variables.pop('pairs')\n",
    "        # print(pairs)\n",
    "        for i, (variable, cis) in enumerate(variables.items()):\n",
    "            # print(variable)\n",
    "            for j in range(cis.shape[0]):\n",
    "                ci = cis[j,:]\n",
    "                ell = pairs[j][0]+1\n",
    "                m = pairs[j][1]+1\n",
    "                display(Math(fr'x_{i+1}:'))\n",
    "                display(Math(fr'\\qquad\\qquad\\ell = {ell}, m = {m}, i = {i+1}'))\n",
    "                display(Math(fr'\\qquad\\qquad\\tau_{{ {ell}, {i+1} }} - \\tau_{{ {m}, {i+1} }}'\n",
    "                             r'\\pm '\n",
    "                             r't_{v}'\n",
    "                             r'\\left( \\frac{\\alpha}{pg(g-1)} \\right)'\n",
    "                             fr'\\sqrt{{ \\frac{{ E_{{ {i+1}, {i+1} }} }}{{ v }} \\frac{{ 2 }}{{ bn }} }}'\n",
    "                            '='\n",
    "                            f'[{ci[0]:.4f}, {ci[1]:.4f}]'\n",
    "                            ))"
   ]
  },
  {
   "cell_type": "code",
   "execution_count": 447,
   "metadata": {},
   "outputs": [
    {
     "name": "stdout",
     "output_type": "stream",
     "text": [
      "Factor1\n"
     ]
    },
    {
     "data": {
      "text/latex": [
       "$\\displaystyle x_1:$"
      ],
      "text/plain": [
       "<IPython.core.display.Math object>"
      ]
     },
     "metadata": {},
     "output_type": "display_data"
    },
    {
     "data": {
      "text/latex": [
       "$\\displaystyle \\qquad\\qquad\\ell = 1, m = 2, i = 1$"
      ],
      "text/plain": [
       "<IPython.core.display.Math object>"
      ]
     },
     "metadata": {},
     "output_type": "display_data"
    },
    {
     "data": {
      "text/latex": [
       "$\\displaystyle \\qquad\\qquad\\tau_{ 1, 1 } - \\tau_{ 2, 1 }\\pm t_{v}\\left( \\frac{\\alpha}{pg(g-1)} \\right)\\sqrt{ \\frac{ E_{ 1, 1 } }{ v } \\frac{ 2 }{ bn } }=[-1.9930, 15.9930]$"
      ],
      "text/plain": [
       "<IPython.core.display.Math object>"
      ]
     },
     "metadata": {},
     "output_type": "display_data"
    },
    {
     "data": {
      "text/latex": [
       "$\\displaystyle x_1:$"
      ],
      "text/plain": [
       "<IPython.core.display.Math object>"
      ]
     },
     "metadata": {},
     "output_type": "display_data"
    },
    {
     "data": {
      "text/latex": [
       "$\\displaystyle \\qquad\\qquad\\ell = 1, m = 3, i = 1$"
      ],
      "text/plain": [
       "<IPython.core.display.Math object>"
      ]
     },
     "metadata": {},
     "output_type": "display_data"
    },
    {
     "data": {
      "text/latex": [
       "$\\displaystyle \\qquad\\qquad\\tau_{ 1, 1 } - \\tau_{ 3, 1 }\\pm t_{v}\\left( \\frac{\\alpha}{pg(g-1)} \\right)\\sqrt{ \\frac{ E_{ 1, 1 } }{ v } \\frac{ 2 }{ bn } }=[2.0070, 19.9930]$"
      ],
      "text/plain": [
       "<IPython.core.display.Math object>"
      ]
     },
     "metadata": {},
     "output_type": "display_data"
    },
    {
     "data": {
      "text/latex": [
       "$\\displaystyle x_1:$"
      ],
      "text/plain": [
       "<IPython.core.display.Math object>"
      ]
     },
     "metadata": {},
     "output_type": "display_data"
    },
    {
     "data": {
      "text/latex": [
       "$\\displaystyle \\qquad\\qquad\\ell = 2, m = 3, i = 1$"
      ],
      "text/plain": [
       "<IPython.core.display.Math object>"
      ]
     },
     "metadata": {},
     "output_type": "display_data"
    },
    {
     "data": {
      "text/latex": [
       "$\\displaystyle \\qquad\\qquad\\tau_{ 2, 1 } - \\tau_{ 3, 1 }\\pm t_{v}\\left( \\frac{\\alpha}{pg(g-1)} \\right)\\sqrt{ \\frac{ E_{ 1, 1 } }{ v } \\frac{ 2 }{ bn } }=[-4.9930, 12.9930]$"
      ],
      "text/plain": [
       "<IPython.core.display.Math object>"
      ]
     },
     "metadata": {},
     "output_type": "display_data"
    },
    {
     "data": {
      "text/latex": [
       "$\\displaystyle x_2:$"
      ],
      "text/plain": [
       "<IPython.core.display.Math object>"
      ]
     },
     "metadata": {},
     "output_type": "display_data"
    },
    {
     "data": {
      "text/latex": [
       "$\\displaystyle \\qquad\\qquad\\ell = 1, m = 2, i = 2$"
      ],
      "text/plain": [
       "<IPython.core.display.Math object>"
      ]
     },
     "metadata": {},
     "output_type": "display_data"
    },
    {
     "data": {
      "text/latex": [
       "$\\displaystyle \\qquad\\qquad\\tau_{ 1, 2 } - \\tau_{ 2, 2 }\\pm t_{v}\\left( \\frac{\\alpha}{pg(g-1)} \\right)\\sqrt{ \\frac{ E_{ 2, 2 } }{ v } \\frac{ 2 }{ bn } }=[-12.1826, 8.1826]$"
      ],
      "text/plain": [
       "<IPython.core.display.Math object>"
      ]
     },
     "metadata": {},
     "output_type": "display_data"
    },
    {
     "data": {
      "text/latex": [
       "$\\displaystyle x_2:$"
      ],
      "text/plain": [
       "<IPython.core.display.Math object>"
      ]
     },
     "metadata": {},
     "output_type": "display_data"
    },
    {
     "data": {
      "text/latex": [
       "$\\displaystyle \\qquad\\qquad\\ell = 1, m = 3, i = 2$"
      ],
      "text/plain": [
       "<IPython.core.display.Math object>"
      ]
     },
     "metadata": {},
     "output_type": "display_data"
    },
    {
     "data": {
      "text/latex": [
       "$\\displaystyle \\qquad\\qquad\\tau_{ 1, 2 } - \\tau_{ 3, 2 }\\pm t_{v}\\left( \\frac{\\alpha}{pg(g-1)} \\right)\\sqrt{ \\frac{ E_{ 2, 2 } }{ v } \\frac{ 2 }{ bn } }=[-5.1826, 15.1826]$"
      ],
      "text/plain": [
       "<IPython.core.display.Math object>"
      ]
     },
     "metadata": {},
     "output_type": "display_data"
    },
    {
     "data": {
      "text/latex": [
       "$\\displaystyle x_2:$"
      ],
      "text/plain": [
       "<IPython.core.display.Math object>"
      ]
     },
     "metadata": {},
     "output_type": "display_data"
    },
    {
     "data": {
      "text/latex": [
       "$\\displaystyle \\qquad\\qquad\\ell = 2, m = 3, i = 2$"
      ],
      "text/plain": [
       "<IPython.core.display.Math object>"
      ]
     },
     "metadata": {},
     "output_type": "display_data"
    },
    {
     "data": {
      "text/latex": [
       "$\\displaystyle \\qquad\\qquad\\tau_{ 2, 2 } - \\tau_{ 3, 2 }\\pm t_{v}\\left( \\frac{\\alpha}{pg(g-1)} \\right)\\sqrt{ \\frac{ E_{ 2, 2 } }{ v } \\frac{ 2 }{ bn } }=[-3.1826, 17.1826]$"
      ],
      "text/plain": [
       "<IPython.core.display.Math object>"
      ]
     },
     "metadata": {},
     "output_type": "display_data"
    },
    {
     "name": "stdout",
     "output_type": "stream",
     "text": [
      "Factor2\n"
     ]
    },
    {
     "data": {
      "text/latex": [
       "$\\displaystyle x_1:$"
      ],
      "text/plain": [
       "<IPython.core.display.Math object>"
      ]
     },
     "metadata": {},
     "output_type": "display_data"
    },
    {
     "data": {
      "text/latex": [
       "$\\displaystyle \\qquad\\qquad\\ell = 1, m = 2, i = 1$"
      ],
      "text/plain": [
       "<IPython.core.display.Math object>"
      ]
     },
     "metadata": {},
     "output_type": "display_data"
    },
    {
     "data": {
      "text/latex": [
       "$\\displaystyle \\qquad\\qquad\\tau_{ 1, 1 } - \\tau_{ 2, 1 }\\pm t_{v}\\left( \\frac{\\alpha}{pg(g-1)} \\right)\\sqrt{ \\frac{ E_{ 1, 1 } }{ v } \\frac{ 2 }{ bn } }=[-8.5020, 14.5020]$"
      ],
      "text/plain": [
       "<IPython.core.display.Math object>"
      ]
     },
     "metadata": {},
     "output_type": "display_data"
    },
    {
     "data": {
      "text/latex": [
       "$\\displaystyle x_1:$"
      ],
      "text/plain": [
       "<IPython.core.display.Math object>"
      ]
     },
     "metadata": {},
     "output_type": "display_data"
    },
    {
     "data": {
      "text/latex": [
       "$\\displaystyle \\qquad\\qquad\\ell = 1, m = 3, i = 1$"
      ],
      "text/plain": [
       "<IPython.core.display.Math object>"
      ]
     },
     "metadata": {},
     "output_type": "display_data"
    },
    {
     "data": {
      "text/latex": [
       "$\\displaystyle \\qquad\\qquad\\tau_{ 1, 1 } - \\tau_{ 3, 1 }\\pm t_{v}\\left( \\frac{\\alpha}{pg(g-1)} \\right)\\sqrt{ \\frac{ E_{ 1, 1 } }{ v } \\frac{ 2 }{ bn } }=[-9.5020, 13.5020]$"
      ],
      "text/plain": [
       "<IPython.core.display.Math object>"
      ]
     },
     "metadata": {},
     "output_type": "display_data"
    },
    {
     "data": {
      "text/latex": [
       "$\\displaystyle x_1:$"
      ],
      "text/plain": [
       "<IPython.core.display.Math object>"
      ]
     },
     "metadata": {},
     "output_type": "display_data"
    },
    {
     "data": {
      "text/latex": [
       "$\\displaystyle \\qquad\\qquad\\ell = 1, m = 4, i = 1$"
      ],
      "text/plain": [
       "<IPython.core.display.Math object>"
      ]
     },
     "metadata": {},
     "output_type": "display_data"
    },
    {
     "data": {
      "text/latex": [
       "$\\displaystyle \\qquad\\qquad\\tau_{ 1, 1 } - \\tau_{ 4, 1 }\\pm t_{v}\\left( \\frac{\\alpha}{pg(g-1)} \\right)\\sqrt{ \\frac{ E_{ 1, 1 } }{ v } \\frac{ 2 }{ bn } }=[-8.5020, 14.5020]$"
      ],
      "text/plain": [
       "<IPython.core.display.Math object>"
      ]
     },
     "metadata": {},
     "output_type": "display_data"
    },
    {
     "data": {
      "text/latex": [
       "$\\displaystyle x_1:$"
      ],
      "text/plain": [
       "<IPython.core.display.Math object>"
      ]
     },
     "metadata": {},
     "output_type": "display_data"
    },
    {
     "data": {
      "text/latex": [
       "$\\displaystyle \\qquad\\qquad\\ell = 2, m = 3, i = 1$"
      ],
      "text/plain": [
       "<IPython.core.display.Math object>"
      ]
     },
     "metadata": {},
     "output_type": "display_data"
    },
    {
     "data": {
      "text/latex": [
       "$\\displaystyle \\qquad\\qquad\\tau_{ 2, 1 } - \\tau_{ 3, 1 }\\pm t_{v}\\left( \\frac{\\alpha}{pg(g-1)} \\right)\\sqrt{ \\frac{ E_{ 1, 1 } }{ v } \\frac{ 2 }{ bn } }=[-12.5020, 10.5020]$"
      ],
      "text/plain": [
       "<IPython.core.display.Math object>"
      ]
     },
     "metadata": {},
     "output_type": "display_data"
    },
    {
     "data": {
      "text/latex": [
       "$\\displaystyle x_1:$"
      ],
      "text/plain": [
       "<IPython.core.display.Math object>"
      ]
     },
     "metadata": {},
     "output_type": "display_data"
    },
    {
     "data": {
      "text/latex": [
       "$\\displaystyle \\qquad\\qquad\\ell = 2, m = 4, i = 1$"
      ],
      "text/plain": [
       "<IPython.core.display.Math object>"
      ]
     },
     "metadata": {},
     "output_type": "display_data"
    },
    {
     "data": {
      "text/latex": [
       "$\\displaystyle \\qquad\\qquad\\tau_{ 2, 1 } - \\tau_{ 4, 1 }\\pm t_{v}\\left( \\frac{\\alpha}{pg(g-1)} \\right)\\sqrt{ \\frac{ E_{ 1, 1 } }{ v } \\frac{ 2 }{ bn } }=[-11.5020, 11.5020]$"
      ],
      "text/plain": [
       "<IPython.core.display.Math object>"
      ]
     },
     "metadata": {},
     "output_type": "display_data"
    },
    {
     "data": {
      "text/latex": [
       "$\\displaystyle x_1:$"
      ],
      "text/plain": [
       "<IPython.core.display.Math object>"
      ]
     },
     "metadata": {},
     "output_type": "display_data"
    },
    {
     "data": {
      "text/latex": [
       "$\\displaystyle \\qquad\\qquad\\ell = 3, m = 4, i = 1$"
      ],
      "text/plain": [
       "<IPython.core.display.Math object>"
      ]
     },
     "metadata": {},
     "output_type": "display_data"
    },
    {
     "data": {
      "text/latex": [
       "$\\displaystyle \\qquad\\qquad\\tau_{ 3, 1 } - \\tau_{ 4, 1 }\\pm t_{v}\\left( \\frac{\\alpha}{pg(g-1)} \\right)\\sqrt{ \\frac{ E_{ 1, 1 } }{ v } \\frac{ 2 }{ bn } }=[-10.5020, 12.5020]$"
      ],
      "text/plain": [
       "<IPython.core.display.Math object>"
      ]
     },
     "metadata": {},
     "output_type": "display_data"
    },
    {
     "data": {
      "text/latex": [
       "$\\displaystyle x_2:$"
      ],
      "text/plain": [
       "<IPython.core.display.Math object>"
      ]
     },
     "metadata": {},
     "output_type": "display_data"
    },
    {
     "data": {
      "text/latex": [
       "$\\displaystyle \\qquad\\qquad\\ell = 1, m = 2, i = 2$"
      ],
      "text/plain": [
       "<IPython.core.display.Math object>"
      ]
     },
     "metadata": {},
     "output_type": "display_data"
    },
    {
     "data": {
      "text/latex": [
       "$\\displaystyle \\qquad\\qquad\\tau_{ 1, 2 } - \\tau_{ 2, 2 }\\pm t_{v}\\left( \\frac{\\alpha}{pg(g-1)} \\right)\\sqrt{ \\frac{ E_{ 2, 2 } }{ v } \\frac{ 2 }{ bn } }=[-12.0235, 14.0235]$"
      ],
      "text/plain": [
       "<IPython.core.display.Math object>"
      ]
     },
     "metadata": {},
     "output_type": "display_data"
    },
    {
     "data": {
      "text/latex": [
       "$\\displaystyle x_2:$"
      ],
      "text/plain": [
       "<IPython.core.display.Math object>"
      ]
     },
     "metadata": {},
     "output_type": "display_data"
    },
    {
     "data": {
      "text/latex": [
       "$\\displaystyle \\qquad\\qquad\\ell = 1, m = 3, i = 2$"
      ],
      "text/plain": [
       "<IPython.core.display.Math object>"
      ]
     },
     "metadata": {},
     "output_type": "display_data"
    },
    {
     "data": {
      "text/latex": [
       "$\\displaystyle \\qquad\\qquad\\tau_{ 1, 2 } - \\tau_{ 3, 2 }\\pm t_{v}\\left( \\frac{\\alpha}{pg(g-1)} \\right)\\sqrt{ \\frac{ E_{ 2, 2 } }{ v } \\frac{ 2 }{ bn } }=[-13.0235, 13.0235]$"
      ],
      "text/plain": [
       "<IPython.core.display.Math object>"
      ]
     },
     "metadata": {},
     "output_type": "display_data"
    },
    {
     "data": {
      "text/latex": [
       "$\\displaystyle x_2:$"
      ],
      "text/plain": [
       "<IPython.core.display.Math object>"
      ]
     },
     "metadata": {},
     "output_type": "display_data"
    },
    {
     "data": {
      "text/latex": [
       "$\\displaystyle \\qquad\\qquad\\ell = 1, m = 4, i = 2$"
      ],
      "text/plain": [
       "<IPython.core.display.Math object>"
      ]
     },
     "metadata": {},
     "output_type": "display_data"
    },
    {
     "data": {
      "text/latex": [
       "$\\displaystyle \\qquad\\qquad\\tau_{ 1, 2 } - \\tau_{ 4, 2 }\\pm t_{v}\\left( \\frac{\\alpha}{pg(g-1)} \\right)\\sqrt{ \\frac{ E_{ 2, 2 } }{ v } \\frac{ 2 }{ bn } }=[-10.0235, 16.0235]$"
      ],
      "text/plain": [
       "<IPython.core.display.Math object>"
      ]
     },
     "metadata": {},
     "output_type": "display_data"
    },
    {
     "data": {
      "text/latex": [
       "$\\displaystyle x_2:$"
      ],
      "text/plain": [
       "<IPython.core.display.Math object>"
      ]
     },
     "metadata": {},
     "output_type": "display_data"
    },
    {
     "data": {
      "text/latex": [
       "$\\displaystyle \\qquad\\qquad\\ell = 2, m = 3, i = 2$"
      ],
      "text/plain": [
       "<IPython.core.display.Math object>"
      ]
     },
     "metadata": {},
     "output_type": "display_data"
    },
    {
     "data": {
      "text/latex": [
       "$\\displaystyle \\qquad\\qquad\\tau_{ 2, 2 } - \\tau_{ 3, 2 }\\pm t_{v}\\left( \\frac{\\alpha}{pg(g-1)} \\right)\\sqrt{ \\frac{ E_{ 2, 2 } }{ v } \\frac{ 2 }{ bn } }=[-14.0235, 12.0235]$"
      ],
      "text/plain": [
       "<IPython.core.display.Math object>"
      ]
     },
     "metadata": {},
     "output_type": "display_data"
    },
    {
     "data": {
      "text/latex": [
       "$\\displaystyle x_2:$"
      ],
      "text/plain": [
       "<IPython.core.display.Math object>"
      ]
     },
     "metadata": {},
     "output_type": "display_data"
    },
    {
     "data": {
      "text/latex": [
       "$\\displaystyle \\qquad\\qquad\\ell = 2, m = 4, i = 2$"
      ],
      "text/plain": [
       "<IPython.core.display.Math object>"
      ]
     },
     "metadata": {},
     "output_type": "display_data"
    },
    {
     "data": {
      "text/latex": [
       "$\\displaystyle \\qquad\\qquad\\tau_{ 2, 2 } - \\tau_{ 4, 2 }\\pm t_{v}\\left( \\frac{\\alpha}{pg(g-1)} \\right)\\sqrt{ \\frac{ E_{ 2, 2 } }{ v } \\frac{ 2 }{ bn } }=[-11.0235, 15.0235]$"
      ],
      "text/plain": [
       "<IPython.core.display.Math object>"
      ]
     },
     "metadata": {},
     "output_type": "display_data"
    },
    {
     "data": {
      "text/latex": [
       "$\\displaystyle x_2:$"
      ],
      "text/plain": [
       "<IPython.core.display.Math object>"
      ]
     },
     "metadata": {},
     "output_type": "display_data"
    },
    {
     "data": {
      "text/latex": [
       "$\\displaystyle \\qquad\\qquad\\ell = 3, m = 4, i = 2$"
      ],
      "text/plain": [
       "<IPython.core.display.Math object>"
      ]
     },
     "metadata": {},
     "output_type": "display_data"
    },
    {
     "data": {
      "text/latex": [
       "$\\displaystyle \\qquad\\qquad\\tau_{ 3, 2 } - \\tau_{ 4, 2 }\\pm t_{v}\\left( \\frac{\\alpha}{pg(g-1)} \\right)\\sqrt{ \\frac{ E_{ 2, 2 } }{ v } \\frac{ 2 }{ bn } }=[-10.0235, 16.0235]$"
      ],
      "text/plain": [
       "<IPython.core.display.Math object>"
      ]
     },
     "metadata": {},
     "output_type": "display_data"
    }
   ],
   "source": [
    "display_two_way_manova_bonf(all_bonf_pairwise)"
   ]
  },
  {
   "cell_type": "markdown",
   "metadata": {},
   "source": [
    "Notice how almost every confidence interval contains 0. The only exception is the pairwise comparison of $\\tau_{1,1} - \\tau_{3,1}$, so there is a difference in means between level 1 and level 3 for Factor 1 variable 1. This is what's causing Factor 1 main effect to be significant. All difference confidence intervals contain 0 for Factor 2, which is consistent with there being no significant effects for Factor 2."
   ]
  },
  {
   "cell_type": "markdown",
   "metadata": {},
   "source": [
    "## MANOVA results from R"
   ]
  },
  {
   "cell_type": "markdown",
   "metadata": {},
   "source": [
    "Using R we can get the same output as SAS. MANOVA in Python unforunately doesn't match up with everyone else."
   ]
  },
  {
   "cell_type": "code",
   "execution_count": 345,
   "metadata": {},
   "outputs": [
    {
     "name": "stdout",
     "output_type": "stream",
     "text": [
      "\n",
      "Type II MANOVA Tests:\n",
      "\n",
      "Sum of squares and products for error:\n",
      "    x1  x2\n",
      "x1 312 -84\n",
      "x2 -84 400\n",
      "\n",
      "------------------------------------------\n",
      " \n",
      "Term: Factor1 \n",
      "\n",
      "Sum of squares and products for the hypothesis:\n",
      "    x1  x2\n",
      "x1 496 184\n",
      "x2 184 208\n",
      "\n",
      "Multivariate Tests: Factor1\n",
      "                 Df test stat  approx F num Df den Df     Pr(>F)    \n",
      "Pillai            2 0.8993650  4.902797      4     24 0.00493493 ** \n",
      "Wilks             2 0.2446557  5.619493      4     22 0.00284380 ** \n",
      "Hotelling-Lawley  2 2.4987091  6.246773      4     20 0.00197672 ** \n",
      "Roy               2 2.2353666 13.412200      2     12 0.00087188 ***\n",
      "---\n",
      "Signif. codes:  0 '***' 0.001 '**' 0.01 '*' 0.05 '.' 0.1 ' ' 1\n",
      "\n",
      "------------------------------------------\n",
      " \n",
      "Term: Factor2 \n",
      "\n",
      "Sum of squares and products for the hypothesis:\n",
      "   x1 x2\n",
      "x1 36 24\n",
      "x2 24 36\n",
      "\n",
      "Multivariate Tests: Factor2\n",
      "                 Df test stat  approx F num Df den Df  Pr(>F)\n",
      "Pillai            3 0.2099806 0.4692252      6     24 0.82422\n",
      "Wilks             3 0.7948801 0.4459726      6     22 0.83996\n",
      "Hotelling-Lawley  3 0.2519364 0.4198940      6     20 0.85704\n",
      "Roy               3 0.2247256 0.8989025      3     12 0.47009\n",
      "\n",
      "------------------------------------------\n",
      " \n",
      "Term: Factor1:Factor2 \n",
      "\n",
      "Sum of squares and products for the hypothesis:\n",
      "             x1           x2\n",
      "x1 3.200000e+01 7.460699e-14\n",
      "x2 6.927792e-14 4.400000e+01\n",
      "\n",
      "Multivariate Tests: Factor1:Factor2\n",
      "                 Df test stat  approx F num Df den Df  Pr(>F)\n",
      "Pillai            6 0.2014278 0.2239863     12     24 0.99516\n",
      "Wilks             6 0.8082372 0.2059239     12     22 0.99654\n",
      "Hotelling-Lawley  6 0.2253024 0.1877520     12     20 0.99760\n",
      "Roy               6 0.1397093 0.2794185      6     12 0.93587\n",
      "\n"
     ]
    }
   ],
   "source": [
    "result = subprocess.run([r'C:\\Program Files\\R\\R-4.4.2\\bin\\Rscript', '--vanilla', r'..\\..\\r\\chapter-6\\Question-6-14.R'], capture_output=True, text=True)\n",
    "print(result.stdout)"
   ]
  }
 ],
 "metadata": {
  "kernelspec": {
   "display_name": "py312",
   "language": "python",
   "name": "py312"
  },
  "language_info": {
   "codemirror_mode": {
    "name": "ipython",
    "version": 3
   },
   "file_extension": ".py",
   "mimetype": "text/x-python",
   "name": "python",
   "nbconvert_exporter": "python",
   "pygments_lexer": "ipython3",
   "version": "3.12.5"
  }
 },
 "nbformat": 4,
 "nbformat_minor": 2
}
