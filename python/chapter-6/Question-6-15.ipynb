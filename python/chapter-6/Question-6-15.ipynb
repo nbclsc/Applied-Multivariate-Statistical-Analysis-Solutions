{
 "cells": [
  {
   "cell_type": "markdown",
   "metadata": {},
   "source": [
    "# Exercise 6.15"
   ]
  },
  {
   "cell_type": "code",
   "execution_count": 1,
   "metadata": {},
   "outputs": [],
   "source": [
    "import pathlib\n",
    "import subprocess\n",
    "import numpy as np\n",
    "import pandas as pd\n",
    "from IPython.display import display, Math\n",
    "from scipy import linalg as la\n",
    "from scipy import stats\n",
    "import TwoWayManova\n",
    "from TwoWayManovaEffectTests import TwoWayManovaEffectTests"
   ]
  },
  {
   "cell_type": "code",
   "execution_count": 2,
   "metadata": {},
   "outputs": [],
   "source": [
    "def load_data() -> pd.DataFrame:\n",
    "    fpth = pathlib.Path(r'..\\..\\data\\Table6.4.xlsx')\n",
    "    df = pd.read_excel(fpth)\n",
    "    df.rename(columns={'rate of extrusion': 'factor1',\n",
    "                       'amount of additive': 'factor2',\n",
    "                       'tear resistance': 'x1',\n",
    "                       'gloss': 'x2',\n",
    "                       'opacity': 'x3'}, inplace=True)\n",
    "    \n",
    "    df['factor1'] = df['factor1'].astype('category')\n",
    "    df['factor2'] = df['factor2'].astype('category')\n",
    "\n",
    "    return df"
   ]
  },
  {
   "cell_type": "code",
   "execution_count": 3,
   "metadata": {},
   "outputs": [],
   "source": [
    "film_df = load_data()"
   ]
  },
  {
   "cell_type": "markdown",
   "metadata": {},
   "source": [
    "- $X_{1} = $ tear resistance\n",
    "- $X_{2} = $ gloss\n",
    "- $X_{3} = $ opacity"
   ]
  },
  {
   "cell_type": "markdown",
   "metadata": {},
   "source": [
    "## (a)"
   ]
  },
  {
   "cell_type": "code",
   "execution_count": 4,
   "metadata": {},
   "outputs": [],
   "source": [
    "fit = TwoWayManova.TwoWayManova(film_df, factor1_col='factor1', factor2_col='factor2', var_cols=['x1','x2','x3'])"
   ]
  },
  {
   "cell_type": "code",
   "execution_count": 5,
   "metadata": {},
   "outputs": [
    {
     "data": {
      "text/latex": [
       "$\\displaystyle \\begin{array}{lll}\\text{Source} & \\text{Matrix of sum of squares} &  \\\\\\text{of variation} & \\text{and cross products} & \\text{Degrees of freedom} \\\\\\hline \\\\\\text{Factor 1} & \\left[\\begin{array}{ rrr }\\phantom{-} 1.7405 & -1.5045 & \\phantom{-} 0.8555 \\\\ -1.5045 & \\phantom{-} 1.3005 & -0.7395 \\\\ \\phantom{-} 0.8555 & -0.7395 & \\phantom{-} 0.4205 \\\\ \\end{array}\\right] & 2 - 1 = 1 \\\\ \\\\\\text{Factor 2} & \\left[\\begin{array}{ rrr }\\phantom{-} 0.7605 & \\phantom{-} 0.6825 & \\phantom{-} 1.9305 \\\\ \\phantom{-} 0.6825 & \\phantom{-} 0.6125 & \\phantom{-} 1.7325 \\\\ \\phantom{-} 1.9305 & \\phantom{-} 1.7325 & \\phantom{-} 4.9005 \\\\ \\end{array}\\right] & 2 - 1 = 1 \\\\ \\\\\\text{Interaction} & \\left[\\begin{array}{ rrr }\\phantom{-} 0.0005 & \\phantom{-} 0.0165 & \\phantom{-} 0.0445 \\\\ \\phantom{-} 0.0165 & \\phantom{-} 0.5445 & \\phantom{-} 1.4685 \\\\ \\phantom{-} 0.0445 & \\phantom{-} 1.4685 & \\phantom{-} 3.9605 \\\\ \\end{array}\\right] & (2 - 1)(2 - 1) = 1 \\\\ \\\\\\text{Residual} & \\left[\\begin{array}{ rrr }\\phantom{-} 1.764 & \\phantom{-} 0.02 & -3.07 \\\\ \\phantom{-} 0.02 & \\phantom{-} 2.628 & -0.552 \\\\ -3.07 & -0.552 & \\phantom{-} 64.924 \\\\ \\end{array}\\right] &(2)(2)(5 - 1) = 16 \\\\ \\\\\\hline \\\\\\text{Total (corrected)} & \\left[\\begin{array}{ rrr }\\phantom{-} 4.2655 & -0.7855 & -0.2395 \\\\ -0.7855 & \\phantom{-} 5.0855 & \\phantom{-} 1.9095 \\\\ -0.2395 & \\phantom{-} 1.9095 & \\phantom{-} 74.2055 \\\\ \\end{array}\\right] & 2(2)(5) - 1 = 19\\end{array}$"
      ],
      "text/plain": [
       "<IPython.core.display.Math object>"
      ]
     },
     "metadata": {},
     "output_type": "display_data"
    }
   ],
   "source": [
    "fit.display_manova_table()"
   ]
  },
  {
   "cell_type": "code",
   "execution_count": 6,
   "metadata": {},
   "outputs": [],
   "source": [
    "B1 = fit.manova.B1\n",
    "B2 = fit.manova.B2\n",
    "W = fit.manova.W\n",
    "\n",
    "g = fit._design.metadata.g\n",
    "b = fit._design.metadata.b\n",
    "n = fit._design.metadata.n\n",
    "p = fit._design.metadata.p\n",
    "\n",
    "alpha = 0.05"
   ]
  },
  {
   "cell_type": "code",
   "execution_count": 7,
   "metadata": {},
   "outputs": [],
   "source": [
    "lambda_star_1 = la.det(W)/la.det(B1 + W)\n",
    "const_1 = -(g*b*(n-1) - (p + 1 - (g - 1))/2)\n",
    "test_stat_1 = const_1 * np.log(lambda_star_1)"
   ]
  },
  {
   "cell_type": "code",
   "execution_count": 8,
   "metadata": {},
   "outputs": [
    {
     "data": {
      "text/latex": [
       "$\\displaystyle X_{1}^{2\\star}=- \\left[ gb(n-1) - \\frac{p + 1 - (g-1)}{2} \\right]\\ln \\Lambda_{1}^{\\star}=13.96$"
      ],
      "text/plain": [
       "<IPython.core.display.Math object>"
      ]
     },
     "metadata": {},
     "output_type": "display_data"
    }
   ],
   "source": [
    "display(Math(r'X_{1}^{2\\star}'\n",
    "             '='\n",
    "             r'- \\left[ gb(n-1) - \\frac{p + 1 - (g-1)}{2} \\right]'\n",
    "             r'\\ln \\Lambda_{1}^{\\star}'\n",
    "             '='\n",
    "             f'{test_stat_1:.2f}'\n",
    "             ))"
   ]
  },
  {
   "cell_type": "code",
   "execution_count": 9,
   "metadata": {},
   "outputs": [
    {
     "data": {
      "text/latex": [
       "$\\displaystyle \\chi_{(g-1)p}^{2}(\\alpha)=\\chi_{ (1)3 }(0.05)=7.81$"
      ],
      "text/plain": [
       "<IPython.core.display.Math object>"
      ]
     },
     "metadata": {},
     "output_type": "display_data"
    }
   ],
   "source": [
    "chi2_crit_1 = stats.chi2.ppf(1-alpha, (g-1)*p)\n",
    "display(Math(r'\\chi_{(g-1)p}^{2}(\\alpha)'\n",
    "             '='\n",
    "             fr'\\chi_{{ ({g - 1}){p} }}({alpha})'\n",
    "             '='\n",
    "             f'{chi2_crit_1:.2f}'\n",
    "             ))"
   ]
  },
  {
   "cell_type": "code",
   "execution_count": 10,
   "metadata": {},
   "outputs": [
    {
     "data": {
      "text/latex": [
       "$\\displaystyle \\text{We have that } X_{1}^{2\\star} = 13.959 > X_{\\text{crit}}^{2}=\\chi^{2}_{3} \\left( 0.05 \\right) = 7.815\\text{{, so we would reject the null hypothesis that }} \\bm{\\tau}_{1} = \\bm{\\tau}_{2} = \\textbf{0}$"
      ],
      "text/plain": [
       "<IPython.core.display.Math object>"
      ]
     },
     "metadata": {},
     "output_type": "display_data"
    }
   ],
   "source": [
    "if test_stat_1 > chi2_crit_1:\n",
    "    display(Math(fr'\\text{{We have that }} X_{{1}}^{{2\\star}} = {test_stat_1:.3f} > '\n",
    "                 r'X_{\\text{crit}}^{2}'\n",
    "                 '='\n",
    "                 fr'\\chi^{{2}}_{{{p*(g-1)}}} \\left( {alpha} \\right) = {chi2_crit_1:.3f}'\n",
    "                 r'\\text{{, so we would reject the null hypothesis that }} '\n",
    "                 r'\\bm{\\tau}_{1} = \\bm{\\tau}_{2} = \\textbf{0}'\n",
    "                 ))\n",
    "else:\n",
    "    display(Math(fr'\\text{{We have that }} X_{{1}}^{{2\\star}} = {test_stat_1:.3f} \\leq '\n",
    "                 r'X_{\\text{crit}}^{2}'\n",
    "                 '='\n",
    "                 fr'\\chi^{{2}}_{{{p*(g-1)}}} \\left( {alpha} \\right) = {chi2_crit_1:.3f}'\n",
    "                 r'\\text{{, so we would fail to reject the null hypothesis that }} '\n",
    "                 r'\\bm{\\tau}_{1} = \\bm{\\tau}_{2} = \\textbf{0}'\n",
    "                 ))"
   ]
  },
  {
   "cell_type": "code",
   "execution_count": 11,
   "metadata": {},
   "outputs": [],
   "source": [
    "lambda_star_2 = la.det(W)/la.det(B2 + W)\n",
    "const_2 = -(g*b*(n-1) - (p + 1 - (b - 1))/2)\n",
    "test_stat_2 = const_2 * np.log(lambda_star_2)"
   ]
  },
  {
   "cell_type": "code",
   "execution_count": 12,
   "metadata": {},
   "outputs": [
    {
     "data": {
      "text/latex": [
       "$\\displaystyle X_{2}^{2\\star}=- \\left[ gb(n-1) - \\frac{p + 1 - (b-1)}{2} \\right]\\ln \\Lambda_{2}^{\\star}=9.40$"
      ],
      "text/plain": [
       "<IPython.core.display.Math object>"
      ]
     },
     "metadata": {},
     "output_type": "display_data"
    }
   ],
   "source": [
    "display(Math(r'X_{2}^{2\\star}'\n",
    "             '='\n",
    "             r'- \\left[ gb(n-1) - \\frac{p + 1 - (b-1)}{2} \\right]'\n",
    "             r'\\ln \\Lambda_{2}^{\\star}'\n",
    "             '='\n",
    "             f'{test_stat_2:.2f}'\n",
    "             ))"
   ]
  },
  {
   "cell_type": "code",
   "execution_count": 13,
   "metadata": {},
   "outputs": [
    {
     "data": {
      "text/latex": [
       "$\\displaystyle \\chi_{(b-1)p}^{2}(\\alpha)=\\chi_{ 13 }(0.05)=7.81$"
      ],
      "text/plain": [
       "<IPython.core.display.Math object>"
      ]
     },
     "metadata": {},
     "output_type": "display_data"
    }
   ],
   "source": [
    "chi2_crit_2 = stats.chi2.ppf(1-alpha, (b-1)*p)\n",
    "display(Math(r'\\chi_{(b-1)p}^{2}(\\alpha)'\n",
    "             '='\n",
    "             fr'\\chi_{{ {b - 1}{p} }}({alpha})'\n",
    "             '='\n",
    "             f'{chi2_crit_2:.2f}'\n",
    "             ))"
   ]
  },
  {
   "cell_type": "code",
   "execution_count": 14,
   "metadata": {},
   "outputs": [
    {
     "data": {
      "text/latex": [
       "$\\displaystyle \\text{We have that } X_{2}^{2\\star} = 9.398 > X_{\\text{crit}}^{2}=\\chi^{2}_{3} \\left( 0.05 \\right) = 7.815\\text{{, so we would reject the null hypothesis that }} \\bm{\\beta}_{1} = \\bm{\\beta}_{2} = \\textbf{0}$"
      ],
      "text/plain": [
       "<IPython.core.display.Math object>"
      ]
     },
     "metadata": {},
     "output_type": "display_data"
    }
   ],
   "source": [
    "if test_stat_2 > chi2_crit_2:\n",
    "    display(Math(fr'\\text{{We have that }} X_{{2}}^{{2\\star}} = {test_stat_2:.3f} > '\n",
    "                 r'X_{\\text{crit}}^{2}'\n",
    "                 '='\n",
    "                 fr'\\chi^{{2}}_{{{p*(b-1)}}} \\left( {alpha} \\right) = {chi2_crit_2:.3f}'\n",
    "                 r'\\text{{, so we would reject the null hypothesis that }} '\n",
    "                 r'\\bm{\\beta}_{1} = \\bm{\\beta}_{2} = \\textbf{0}'\n",
    "                 ))\n",
    "else:\n",
    "    display(Math(fr'\\text{{We have that }} X_{{2}}^{{2\\star}} = {test_stat_2:.3f} \\leq '\n",
    "                 r'X_{\\text{crit}}^{2}'\n",
    "                 '='\n",
    "                 fr'\\chi^{{2}}_{{{p*(b-1)}}} \\left( {alpha} \\right) = {chi2_crit_2:.3f}'\n",
    "                 r'\\text{{, so we would fail to reject the null hypothesis that }} '\n",
    "                 r'\\bm{\\beta}_{1} = \\bm{\\beta}_{2} = \\textbf{0}'\n",
    "                 ))"
   ]
  },
  {
   "cell_type": "markdown",
   "metadata": {},
   "source": [
    "The $\\chi^{2}$ approximation test for both factors effects (from page 317) are significant at the 0.05-level. This is the same conclusion as the $F$-tests from Example 6.13."
   ]
  },
  {
   "cell_type": "markdown",
   "metadata": {},
   "source": [
    "## (b)"
   ]
  },
  {
   "cell_type": "code",
   "execution_count": 15,
   "metadata": {},
   "outputs": [],
   "source": [
    "# Five observations for three measurements (response) for each of the two Factor 1 levels.\n",
    "xbar_1 = fit.x_breakdown.means.Factor1Mean[:,:,0]"
   ]
  },
  {
   "cell_type": "code",
   "execution_count": 16,
   "metadata": {},
   "outputs": [],
   "source": [
    "nu = g*b*(n-1)\n",
    "diff_1 = (xbar_1[:,0] - xbar_1[:,1])[:,np.newaxis]\n",
    "t_crit_1 = stats.t.ppf(1-(alpha/(p*g*(g-1))), df=nu)\n",
    "std_err_1 = np.sqrt(np.diag(W)[:,np.newaxis]/nu)\n",
    "scalar_1 = np.sqrt(2/(b*n))\n",
    "\n",
    "ci_1 = diff_1 + np.array([-1, 1])*t_crit_1*std_err_1*scalar_1"
   ]
  },
  {
   "cell_type": "code",
   "execution_count": 17,
   "metadata": {},
   "outputs": [
    {
     "data": {
      "text/latex": [
       "$\\displaystyle \\begin{array}{rl}\\tau_{ 1 1} - \\tau_{ 2 1} \\text{ belongs to } & \\\\& \\hat{\\tau}_{ 1 1} - \\hat{\\tau}_{ 2 1} \\pm t_{ 16 } ( 0.00833 )\\sqrt{ \\frac{ E_{ 1, 1 } }{ \\nu } \\frac{ 2 }{ bn } } \\\\ &  = -0.590 \\pm 2.67 ( 0.14849 ) \\\\ & = -0.590 \\pm 0.397 \\text{, or } (-0.987, -0.193)\\end{array}$"
      ],
      "text/plain": [
       "<IPython.core.display.Math object>"
      ]
     },
     "metadata": {},
     "output_type": "display_data"
    },
    {
     "data": {
      "text/latex": [
       "$\\displaystyle \\begin{array}{rl}\\tau_{ 1 2} - \\tau_{ 2 2} \\text{ belongs to } & \\\\& \\hat{\\tau}_{ 1 2} - \\hat{\\tau}_{ 2 2} \\pm t_{ 16 } ( 0.00833 )\\sqrt{ \\frac{ E_{ 2, 2 } }{ \\nu } \\frac{ 2 }{ bn } } \\\\ &  = 0.510 \\pm 2.67 ( 0.18125 ) \\\\ & = 0.510 \\pm 0.484 \\text{, or } (0.026, 0.994)\\end{array}$"
      ],
      "text/plain": [
       "<IPython.core.display.Math object>"
      ]
     },
     "metadata": {},
     "output_type": "display_data"
    },
    {
     "data": {
      "text/latex": [
       "$\\displaystyle \\begin{array}{rl}\\tau_{ 1 3} - \\tau_{ 2 3} \\text{ belongs to } & \\\\& \\hat{\\tau}_{ 1 3} - \\hat{\\tau}_{ 2 3} \\pm t_{ 16 } ( 0.00833 )\\sqrt{ \\frac{ E_{ 3, 3 } }{ \\nu } \\frac{ 2 }{ bn } } \\\\ &  = -0.290 \\pm 2.67 ( 0.90086 ) \\\\ & = -0.290 \\pm 2.408 \\text{, or } (-2.698, 2.118)\\end{array}$"
      ],
      "text/plain": [
       "<IPython.core.display.Math object>"
      ]
     },
     "metadata": {},
     "output_type": "display_data"
    }
   ],
   "source": [
    "for i in range(ci_1.shape[0]):\n",
    "    display(Math(r'\\begin{array}{rl}'\n",
    "             fr'\\tau_{{ {1} {i+1}}} - \\tau_{{ {2} {i+1}}} '\n",
    "             fr'\\text{{ belongs to }} & \\\\'\n",
    "             fr'& \\hat{{\\tau}}_{{ {1} {i+1}}} - \\hat{{\\tau}}_{{ {2} {i+1}}} \\pm '\n",
    "             f't_{{ {nu} }} ( {alpha/(p*g*(g-1)):.5f} )'\n",
    "             fr'\\sqrt{{ \\frac{{ E_{{ {i+1}, {i+1} }} }}{{ \\nu }} \\frac{{ 2 }}{{ bn }} }} \\\\'\n",
    "             fr' &  = {diff_1[i,0]:.3f} \\pm {t_crit_1:.2f} ( {std_err_1[i,0]*scalar_1:.5f} ) \\\\'\n",
    "             fr' & = {diff_1[i,0]:.3f} \\pm {t_crit_1*std_err_1[i,0]*scalar_1:.3f} \\text{{, or }} ({ci_1[i,0]:.3f}, {ci_1[i,1]:.3f})'\n",
    "             r'\\end{array}'\n",
    "             ))"
   ]
  },
  {
   "cell_type": "markdown",
   "metadata": {},
   "source": [
    "We are 95% confident that the mean difference between low (-10%) and high (10%) change in rate of extrusion for tear resistance is between -0.987 and -0.193, so high extrusion has a larger mean than low extrusion.\n",
    "\n",
    "There is an effect for change in rate of extrusion for test resistence. The high extrusion has a higher mean tear resistance than low extrusion mean resistence."
   ]
  },
  {
   "cell_type": "code",
   "execution_count": 18,
   "metadata": {},
   "outputs": [],
   "source": [
    "# Five observations for three measurements (response) for each of the two Factor 2 levels.\n",
    "xbar_2 = fit.x_breakdown.means.Factor2Mean[:,0,:]"
   ]
  },
  {
   "cell_type": "code",
   "execution_count": 19,
   "metadata": {},
   "outputs": [],
   "source": [
    "diff_2 = (xbar_2[:,0] - xbar_2[:,1])[:,np.newaxis]\n",
    "t_crit_2 = stats.t.ppf(1-(alpha/(p*b*(b-1))), df=nu)\n",
    "std_err_2 = np.sqrt(np.diag(W)[:,np.newaxis]/nu)\n",
    "scalar_2 = np.sqrt(2/(g*n))\n",
    "\n",
    "ci_2 = diff_2 + np.array([-1, 1])*t_crit_2*std_err_2*scalar_2"
   ]
  },
  {
   "cell_type": "code",
   "execution_count": 20,
   "metadata": {},
   "outputs": [
    {
     "data": {
      "text/latex": [
       "$\\displaystyle \\begin{array}{rl}\\beta_{ 1 1} - \\beta_{ 2 1} \\text{ belongs to } & \\\\& \\hat{\\beta}_{ 1 1} - \\hat{\\beta}_{ 2 1} \\pm t_{ 16 } ( 0.00833 ) \\sqrt{ \\frac{ E_{ 1, 1 } }{ \\nu } \\frac{ 2 }{ gn } } \\\\ & = -0.390 \\pm 2.67 ( 0.14849 ) \\\\ & = -0.390 \\pm 0.397 \\text{, or } (-0.787, 0.007)\\end{array}$"
      ],
      "text/plain": [
       "<IPython.core.display.Math object>"
      ]
     },
     "metadata": {},
     "output_type": "display_data"
    },
    {
     "data": {
      "text/latex": [
       "$\\displaystyle \\begin{array}{rl}\\beta_{ 1 2} - \\beta_{ 2 2} \\text{ belongs to } & \\\\& \\hat{\\beta}_{ 1 2} - \\hat{\\beta}_{ 2 2} \\pm t_{ 16 } ( 0.00833 ) \\sqrt{ \\frac{ E_{ 2, 2 } }{ \\nu } \\frac{ 2 }{ gn } } \\\\ & = -0.350 \\pm 2.67 ( 0.18125 ) \\\\ & = -0.350 \\pm 0.484 \\text{, or } (-0.834, 0.134)\\end{array}$"
      ],
      "text/plain": [
       "<IPython.core.display.Math object>"
      ]
     },
     "metadata": {},
     "output_type": "display_data"
    },
    {
     "data": {
      "text/latex": [
       "$\\displaystyle \\begin{array}{rl}\\beta_{ 1 3} - \\beta_{ 2 3} \\text{ belongs to } & \\\\& \\hat{\\beta}_{ 1 3} - \\hat{\\beta}_{ 2 3} \\pm t_{ 16 } ( 0.00833 ) \\sqrt{ \\frac{ E_{ 3, 3 } }{ \\nu } \\frac{ 2 }{ gn } } \\\\ & = -0.990 \\pm 2.67 ( 0.90086 ) \\\\ & = -0.990 \\pm 2.408 \\text{, or } (-3.398, 1.418)\\end{array}$"
      ],
      "text/plain": [
       "<IPython.core.display.Math object>"
      ]
     },
     "metadata": {},
     "output_type": "display_data"
    }
   ],
   "source": [
    "for i in range(ci_2.shape[0]):\n",
    "    display(Math(r'\\begin{array}{rl}'\n",
    "             fr'\\beta_{{ {1} {i+1}}} - \\beta_{{ {2} {i+1}}} '\n",
    "             fr'\\text{{ belongs to }} & \\\\'\n",
    "             fr'& \\hat{{\\beta}}_{{ {1} {i+1}}} - \\hat{{\\beta}}_{{ {2} {i+1}}} \\pm '\n",
    "             f't_{{ {nu} }} ( {alpha/(p*g*(g-1)):.5f} ) '\n",
    "             fr'\\sqrt{{ \\frac{{ E_{{ {i+1}, {i+1} }} }}{{ \\nu }} \\frac{{ 2 }}{{ gn }} }} \\\\'\n",
    "             fr' & = {diff_2[i,0]:.3f} \\pm {t_crit_2:.2f} ( {std_err_2[i,0]*scalar_2:.5f} ) \\\\'\n",
    "             fr' & = {diff_2[i,0]:.3f} \\pm {t_crit_2*std_err_2[i,0]*scalar_2:.3f} \\text{{, or }} ({ci_2[i,0]:.3f}, {ci_2[i,1]:.3f})'\n",
    "             r'\\end{array}'\n",
    "             ))"
   ]
  },
  {
   "cell_type": "markdown",
   "metadata": {},
   "source": [
    "Looks like all these intervals contain 0. This may be due to the Bonferroni adjustment we're doing here for the pairwise comparisons that make the intervals a bit wider."
   ]
  }
 ],
 "metadata": {
  "kernelspec": {
   "display_name": "py312",
   "language": "python",
   "name": "py312"
  },
  "language_info": {
   "codemirror_mode": {
    "name": "ipython",
    "version": 3
   },
   "file_extension": ".py",
   "mimetype": "text/x-python",
   "name": "python",
   "nbconvert_exporter": "python",
   "pygments_lexer": "ipython3",
   "version": "3.12.5"
  }
 },
 "nbformat": 4,
 "nbformat_minor": 2
}
