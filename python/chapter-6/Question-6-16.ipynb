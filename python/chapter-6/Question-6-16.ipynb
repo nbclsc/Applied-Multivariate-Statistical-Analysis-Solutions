{
 "cells": [
  {
   "cell_type": "markdown",
   "metadata": {},
   "source": [
    "# Exercise 6.16"
   ]
  },
  {
   "cell_type": "code",
   "execution_count": 1,
   "metadata": {},
   "outputs": [],
   "source": [
    "import pathlib\n",
    "from IPython.display import display, Math\n",
    "import numpy as np\n",
    "import pandas as pd\n",
    "from scipy import stats\n",
    "from scipy import linalg as la\n",
    "from chapter_6_utils import create_array_text"
   ]
  },
  {
   "cell_type": "code",
   "execution_count": 2,
   "metadata": {},
   "outputs": [],
   "source": [
    "def load_data() -> pd.DataFrame:\n",
    "    df = pd.read_excel(r'..\\..\\data\\Table4.3.xlsx')\n",
    "\n",
    "    return df "
   ]
  },
  {
   "cell_type": "code",
   "execution_count": 3,
   "metadata": {},
   "outputs": [
    {
     "data": {
      "text/html": [
       "<div>\n",
       "<style scoped>\n",
       "    .dataframe tbody tr th:only-of-type {\n",
       "        vertical-align: middle;\n",
       "    }\n",
       "\n",
       "    .dataframe tbody tr th {\n",
       "        vertical-align: top;\n",
       "    }\n",
       "\n",
       "    .dataframe thead th {\n",
       "        text-align: right;\n",
       "    }\n",
       "</style>\n",
       "<table border=\"1\" class=\"dataframe\">\n",
       "  <thead>\n",
       "    <tr style=\"text-align: right;\">\n",
       "      <th></th>\n",
       "      <th>Obs</th>\n",
       "      <th>x1</th>\n",
       "      <th>x2</th>\n",
       "      <th>x3</th>\n",
       "      <th>x4</th>\n",
       "      <th>d2</th>\n",
       "    </tr>\n",
       "  </thead>\n",
       "  <tbody>\n",
       "    <tr>\n",
       "      <th>0</th>\n",
       "      <td>1</td>\n",
       "      <td>1889</td>\n",
       "      <td>1651</td>\n",
       "      <td>1561</td>\n",
       "      <td>1778</td>\n",
       "      <td>0.60</td>\n",
       "    </tr>\n",
       "    <tr>\n",
       "      <th>1</th>\n",
       "      <td>2</td>\n",
       "      <td>2403</td>\n",
       "      <td>2048</td>\n",
       "      <td>2087</td>\n",
       "      <td>2197</td>\n",
       "      <td>5.48</td>\n",
       "    </tr>\n",
       "    <tr>\n",
       "      <th>2</th>\n",
       "      <td>3</td>\n",
       "      <td>2119</td>\n",
       "      <td>1700</td>\n",
       "      <td>1815</td>\n",
       "      <td>2222</td>\n",
       "      <td>7.62</td>\n",
       "    </tr>\n",
       "  </tbody>\n",
       "</table>\n",
       "</div>"
      ],
      "text/plain": [
       "   Obs    x1    x2    x3    x4    d2\n",
       "0    1  1889  1651  1561  1778  0.60\n",
       "1    2  2403  2048  2087  2197  5.48\n",
       "2    3  2119  1700  1815  2222  7.62"
      ]
     },
     "execution_count": 3,
     "metadata": {},
     "output_type": "execute_result"
    }
   ],
   "source": [
    "df = load_data()\n",
    "df.head(3)"
   ]
  },
  {
   "cell_type": "code",
   "execution_count": 4,
   "metadata": {},
   "outputs": [],
   "source": [
    "n = df.shape[0]\n",
    "p = 4\n",
    "C = (-1 * np.diag(np.ones(p-1), 1) + np.diag(np.ones(p)))[:-1,:]"
   ]
  },
  {
   "cell_type": "code",
   "execution_count": 5,
   "metadata": {},
   "outputs": [],
   "source": [
    "X = df[[\"x\" + str(i) for i in range(1,5)]].to_numpy()"
   ]
  },
  {
   "cell_type": "code",
   "execution_count": 6,
   "metadata": {},
   "outputs": [],
   "source": [
    "xbar = np.mean(X, axis=0)[:, np.newaxis]\n",
    "S = np.cov(X, rowvar=False)"
   ]
  },
  {
   "cell_type": "code",
   "execution_count": 7,
   "metadata": {},
   "outputs": [
    {
     "data": {
      "text/latex": [
       "$\\displaystyle \\bar{\\textbf{x}}=\\left[\\begin{array}{ r }\\phantom{-} 1906.1 \\\\ \\phantom{-} 1749.5333 \\\\ \\phantom{-} 1509.1333 \\\\ \\phantom{-} 1724.9667 \\\\ \\end{array}\\right],\\textbf{S}=\\left[\\begin{array}{ rrrr }\\phantom{-} 105616.3 & \\phantom{-} 94613.531 & \\phantom{-} 87289.7103 & \\phantom{-} 94230.7276 \\\\ \\phantom{-} 94613.531 & \\phantom{-} 101510.1195 & \\phantom{-} 76137.0989 & \\phantom{-} 81064.3632 \\\\ \\phantom{-} 87289.7103 & \\phantom{-} 76137.0989 & \\phantom{-} 91917.0851 & \\phantom{-} 90352.3839 \\\\ \\phantom{-} 94230.7276 & \\phantom{-} 81064.3632 & \\phantom{-} 90352.3839 & \\phantom{-} 104227.9644 \\\\ \\end{array}\\right]$"
      ],
      "text/plain": [
       "<IPython.core.display.Math object>"
      ]
     },
     "metadata": {},
     "output_type": "display_data"
    }
   ],
   "source": [
    "display(Math(r'\\bar{\\textbf{x}}'\n",
    "             '='\n",
    "             f'{create_array_text(xbar)},'\n",
    "             r'\\textbf{S}'\n",
    "             '='\n",
    "             f'{create_array_text(S)}'\n",
    "             ))"
   ]
  },
  {
   "cell_type": "code",
   "execution_count": 8,
   "metadata": {},
   "outputs": [
    {
     "data": {
      "text/latex": [
       "$\\displaystyle T^2 = 254.7212$"
      ],
      "text/plain": [
       "<IPython.core.display.Math object>"
      ]
     },
     "metadata": {},
     "output_type": "display_data"
    }
   ],
   "source": [
    "T2 = n * ((C @ xbar).T @ la.inv(C @ S @ C.T) @ (C @ xbar)).item()\n",
    "display(Math(f'T^{2} = {T2:.4f}'))"
   ]
  },
  {
   "cell_type": "code",
   "execution_count": 9,
   "metadata": {},
   "outputs": [
    {
     "data": {
      "text/latex": [
       "$\\displaystyle \\frac{(n-1)(p-1)}{n-p+1} F_{p-1,n-p+1}(\\alpha)=\\frac{ (30 - 1)(4 - 1) }{ 30 - 4 + 1 } F_{  } (0.05)=9.5389$"
      ],
      "text/plain": [
       "<IPython.core.display.Math object>"
      ]
     },
     "metadata": {},
     "output_type": "display_data"
    }
   ],
   "source": [
    "alpha = 0.05\n",
    "f_crit = (((n-1)*(p-1))/(n-p+1)) * stats.f.ppf(1-alpha, dfn=p-1, dfd=n-p+1)\n",
    "display(Math(r'\\frac{(n-1)(p-1)}{n-p+1} F_{p-1,n-p+1}(\\alpha)'\n",
    "             '='\n",
    "             fr'\\frac{{ ({n} - 1)({p} - 1) }}{{ {n} - {p} + 1 }} F_{{  }} ({alpha})'\n",
    "             '='\n",
    "             f'{f_crit:.4f}'\n",
    "             ))"
   ]
  },
  {
   "cell_type": "code",
   "execution_count": 10,
   "metadata": {},
   "outputs": [],
   "source": [
    "c = np.array([[1,1,-1,-1]]).T\n",
    "\n",
    "ci = c.T @ xbar + np.array([-1,1]) * np.sqrt(f_crit) * np.sqrt((c.T @ S @ c)/n)"
   ]
  },
  {
   "cell_type": "code",
   "execution_count": 11,
   "metadata": {},
   "outputs": [
    {
     "data": {
      "text/latex": [
       "$\\displaystyle \\textbf{c} = \\left[\\begin{array}{ r }\\phantom{-} 1 \\\\ \\phantom{-} 1 \\\\ -1 \\\\ -1 \\\\ \\end{array}\\right]$"
      ],
      "text/plain": [
       "<IPython.core.display.Math object>"
      ]
     },
     "metadata": {},
     "output_type": "display_data"
    }
   ],
   "source": [
    "\n",
    "display(Math(fr'\\textbf{{c}} = {create_array_text(c)}'))"
   ]
  },
  {
   "cell_type": "code",
   "execution_count": 12,
   "metadata": {},
   "outputs": [
    {
     "data": {
      "text/latex": [
       "$\\displaystyle \\textbf{c}^{\\prime}\\bar{\\textbf{x}}\\pm\\sqrt{ \\frac{(n-1)(p-1)}{n-p+1} F_{p-1,n-p+1}(\\alpha) }\\sqrt{ \\frac{\\textbf{c}^{\\prime} \\textbf{S} \\textbf{c}}{n} }$"
      ],
      "text/plain": [
       "<IPython.core.display.Math object>"
      ]
     },
     "metadata": {},
     "output_type": "display_data"
    },
    {
     "data": {
      "text/latex": [
       "$\\displaystyle =421.5333\\pm\\sqrt{ 3.2222 \\times 2.9604 }\\sqrt{ 3191.9833 }$"
      ],
      "text/plain": [
       "<IPython.core.display.Math object>"
      ]
     },
     "metadata": {},
     "output_type": "display_data"
    },
    {
     "data": {
      "text/latex": [
       "$\\displaystyle =421.5333\\pm\\sqrt{ 9.5389 }\\sqrt{ 3191.9833 }$"
      ],
      "text/plain": [
       "<IPython.core.display.Math object>"
      ]
     },
     "metadata": {},
     "output_type": "display_data"
    },
    {
     "data": {
      "text/latex": [
       "$\\displaystyle =421.5333\\pm174.4937$"
      ],
      "text/plain": [
       "<IPython.core.display.Math object>"
      ]
     },
     "metadata": {},
     "output_type": "display_data"
    },
    {
     "data": {
      "text/latex": [
       "$\\displaystyle = (247.0397, 596.0270)$"
      ],
      "text/plain": [
       "<IPython.core.display.Math object>"
      ]
     },
     "metadata": {},
     "output_type": "display_data"
    }
   ],
   "source": [
    "display(Math(r'\\textbf{c}^{\\prime}\\bar{\\textbf{x}}'\n",
    "             r'\\pm'\n",
    "             r'\\sqrt{ \\frac{(n-1)(p-1)}{n-p+1} F_{p-1,n-p+1}(\\alpha) }'\n",
    "             r'\\sqrt{ \\frac{\\textbf{c}^{\\prime} \\textbf{S} \\textbf{c}}{n} }'\n",
    "             r''\n",
    "             ))\n",
    "display(Math('='\n",
    "             f'{(c.T @ xbar).item():.4f}'\n",
    "             r'\\pm'\n",
    "             fr'\\sqrt{{ {(((n-1)*(p-1))/(n-p+1)):.4f} \\times {stats.f.ppf(1-alpha,p-1,n-p+1):.4f} }}'\n",
    "             fr'\\sqrt{{ {(c.T @ S @ c).item()/n:.4f} }}'\n",
    "             ))\n",
    "display(Math('='\n",
    "             f'{(c.T @ xbar).item():.4f}'\n",
    "             r'\\pm'\n",
    "             fr'\\sqrt{{ {f_crit:.4f} }}'\n",
    "             fr'\\sqrt{{ {(c.T @ S @ c).item()/n:.4f} }}'\n",
    "             ))\n",
    "display(Math('='\n",
    "             f'{(c.T @ xbar).item():.4f}'\n",
    "             r'\\pm'\n",
    "             fr'{np.sqrt(f_crit)*np.sqrt((c.T @ S @ c).item()/n):.4f}'\n",
    "             ))\n",
    "display(Math(f'= ({ci[0,0]:.4f}, {ci[0,1]:.4f})'))"
   ]
  }
 ],
 "metadata": {
  "kernelspec": {
   "display_name": "py312",
   "language": "python",
   "name": "py312"
  },
  "language_info": {
   "codemirror_mode": {
    "name": "ipython",
    "version": 3
   },
   "file_extension": ".py",
   "mimetype": "text/x-python",
   "name": "python",
   "nbconvert_exporter": "python",
   "pygments_lexer": "ipython3",
   "version": "3.12.5"
  }
 },
 "nbformat": 4,
 "nbformat_minor": 2
}
