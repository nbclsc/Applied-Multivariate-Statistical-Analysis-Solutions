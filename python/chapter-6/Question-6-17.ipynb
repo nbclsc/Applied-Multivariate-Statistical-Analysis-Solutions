{
 "cells": [
  {
   "cell_type": "code",
   "execution_count": 1,
   "metadata": {},
   "outputs": [],
   "source": [
    "from IPython.display import display, Math\n",
    "import pathlib\n",
    "import matplotlib.pyplot as plt\n",
    "import numpy as np\n",
    "import pandas as pd\n",
    "from scipy import stats\n",
    "import scipy.linalg as la\n",
    "import chapter_6_utils"
   ]
  },
  {
   "cell_type": "code",
   "execution_count": 2,
   "metadata": {},
   "outputs": [],
   "source": [
    "def load_data() -> pd.DataFrame:\n",
    "    fpth = pathlib.Path(r'..\\..\\data\\Table6.8.xlsx')\n",
    "    df = pd.read_excel(fpth)\n",
    "    return df"
   ]
  },
  {
   "cell_type": "code",
   "execution_count": 3,
   "metadata": {},
   "outputs": [],
   "source": [
    "df = load_data()"
   ]
  },
  {
   "cell_type": "markdown",
   "metadata": {},
   "source": [
    "- $X_{1} = \\text{median reaction time for word format-different parity combination}$\n",
    "- $X_{2} = \\text{median reaction time for word format-same parity combination}$\n",
    "- $X_{3} = \\text{median reaction time for Arabic format-different parity combination}$\n",
    "- $X_{4} = \\text{median reaction time for Arabic format-same parity combination}$"
   ]
  },
  {
   "cell_type": "markdown",
   "metadata": {},
   "source": [
    "## (a)"
   ]
  },
  {
   "cell_type": "markdown",
   "metadata": {},
   "source": [
    "Test for treatment effects using a *repeated measures design*. Set $\\alpha = .05$."
   ]
  },
  {
   "cell_type": "markdown",
   "metadata": {},
   "source": [
    "Use the formula from page 280,\n",
    "$$\n",
    "H_{0}: \\textbf{C} \\bm{\\mu} = \\textbf{0}\n",
    "\\hspace{0.20cm}\\text{versus}\\hspace{0.20cm}\n",
    "H_{0}: \\textbf{C} \\bm{\\mu} \\ne \\textbf{0}\n",
    "$$"
   ]
  },
  {
   "cell_type": "code",
   "execution_count": 4,
   "metadata": {},
   "outputs": [],
   "source": [
    "alpha = 0.05\n",
    "n, q = df.shape"
   ]
  },
  {
   "cell_type": "code",
   "execution_count": 5,
   "metadata": {},
   "outputs": [],
   "source": [
    "C = ((-1)*np.diag([1]*(q-1), k=-1) + np.diag([1]*q))[1:,:]"
   ]
  },
  {
   "cell_type": "code",
   "execution_count": 6,
   "metadata": {},
   "outputs": [
    {
     "data": {
      "text/latex": [
       "$\\displaystyle \\textbf{C} = \\left[\\begin{array}{ rrrr }-1 & \\phantom{-} 1 & \\phantom{-} 0 & \\phantom{-} 0 \\\\ \\phantom{-} 0 & -1 & \\phantom{-} 1 & \\phantom{-} 0 \\\\ \\phantom{-} 0 & \\phantom{-} 0 & -1 & \\phantom{-} 1 \\\\ \\end{array}\\right]$"
      ],
      "text/plain": [
       "<IPython.core.display.Math object>"
      ]
     },
     "metadata": {},
     "output_type": "display_data"
    }
   ],
   "source": [
    "display(Math(fr\"\\textbf{{C}} = {chapter_6_utils.create_array_text(C)}\"))"
   ]
  },
  {
   "cell_type": "code",
   "execution_count": 7,
   "metadata": {},
   "outputs": [],
   "source": [
    "xbar = np.mean(df, axis=0).to_numpy()[:, np.newaxis]\n",
    "S = np.cov(df, rowvar=False)"
   ]
  },
  {
   "cell_type": "code",
   "execution_count": 9,
   "metadata": {},
   "outputs": [],
   "source": [
    "T2 = (n * (C @ xbar).T @ la.inv(C @ S @ C.T) @ (C @ xbar)).item()"
   ]
  },
  {
   "cell_type": "code",
   "execution_count": 10,
   "metadata": {},
   "outputs": [
    {
     "data": {
      "text/latex": [
       "$\\displaystyle T^{2}=n{(\\textbf{C}\\bar{\\textbf{x}})}^{\\prime}{\\left(\\textbf{C}\\textbf{S}{\\textbf{C}}^{\\prime}\\right)}^{-1}\\textbf{C}\\bar{\\textbf{x}}=153.7275$"
      ],
      "text/plain": [
       "<IPython.core.display.Math object>"
      ]
     },
     "metadata": {},
     "output_type": "display_data"
    }
   ],
   "source": [
    "display(Math('T^{2}'\n",
    "             '='\n",
    "             r'n{(\\textbf{C}\\bar{\\textbf{x}})}^{\\prime}'\n",
    "             r'{\\left(\\textbf{C}\\textbf{S}{\\textbf{C}}^{\\prime}\\right)}^{-1}'\n",
    "             r'\\textbf{C}\\bar{\\textbf{x}}'\n",
    "             '='\n",
    "             f'{T2:.4f}'\n",
    "             ))"
   ]
  },
  {
   "cell_type": "code",
   "execution_count": 11,
   "metadata": {},
   "outputs": [],
   "source": [
    "F_crit = stats.f.ppf(1-alpha/2, dfn=q-1, dfd=n-q+1)\n",
    "const = ((n-1)*(q-1))/(n-q+1)"
   ]
  },
  {
   "cell_type": "code",
   "execution_count": 12,
   "metadata": {},
   "outputs": [
    {
     "data": {
      "text/latex": [
       "$\\displaystyle \\text{We have that } T^{2} = 153.728 > F_{\\text{crit}}=\\frac{(n-1)(q-1)}{(n-q+1)}F_{ q-1, n-q+1 } \\left( \\alpha \\right)=\\frac{ 93 }{ 29 }F_{ 3, 29 } \\left( 0.05 \\right) = 11.568\\text{{, so we would reject the null hypothesis that }} \\textbf{C}\\bm{\\mu} = \\textbf{0}$"
      ],
      "text/plain": [
       "<IPython.core.display.Math object>"
      ]
     },
     "metadata": {},
     "output_type": "display_data"
    }
   ],
   "source": [
    "if T2 > const*F_crit:\n",
    "    display(Math(fr'\\text{{We have that }} T^{{2}} = {T2:.3f} > '\n",
    "                 r'F_{\\text{crit}}'\n",
    "                 '='\n",
    "                 r'\\frac{(n-1)(q-1)}{(n-q+1)}'\n",
    "                 fr'F_{{ q-1, n-q+1 }} \\left( \\alpha \\right)'\n",
    "                 '='\n",
    "                 fr'\\frac{{ {(n-1)*(q-1)} }}{{ {n-q+1} }}'\n",
    "                 fr'F_{{ {q-1}, {n-q+1} }} \\left( {alpha} \\right) = {const*F_crit:.3f}'\n",
    "                 r'\\text{{, so we would reject the null hypothesis that }} '\n",
    "                 r'\\textbf{C}\\bm{\\mu} = \\textbf{0}'\n",
    "                 ))\n",
    "else:\n",
    "    display(Math(fr'\\text{{We have that }} T^{{2\\star}} = {T2:.3f} \\leq '\n",
    "                 r'F_{\\text{crit}}'\n",
    "                 '='\n",
    "                 r'\\frac{(n-1)(q-1)}{(n-q+1)}'\n",
    "                 fr'F_{{ q-1, n-q+1 }} \\left( \\alpha \\right)'\n",
    "                 '='\n",
    "                 fr'\\frac{{ {(n-1)*(q-1)} }}{{ {n-q+1} }}'\n",
    "                 fr'F_{{ {q-1}, {n-q+1} }} \\left( {alpha} \\right) = {const*F_crit:.3f}'\n",
    "                 r'\\text{{, so we would fail to reject the null hypothesis that }} '\n",
    "                 r'\\textbf{C}\\bm{\\mu} = \\textbf{0}'\n",
    "                 ))"
   ]
  },
  {
   "cell_type": "markdown",
   "metadata": {},
   "source": [
    "## (b)"
   ]
  },
  {
   "cell_type": "markdown",
   "metadata": {},
   "source": [
    "Construct 95% (simultaneous) confidence intervals for the contrasts representing\n",
    "the number format effect, the parity type effect and the interaction effect. Interpret\n",
    "the resulting intervals."
   ]
  },
  {
   "cell_type": "markdown",
   "metadata": {},
   "source": [
    "Using the formula on page 281,\n",
    "$$\n",
    "    {\\textbf{c}}^{\\prime} \\bm{\\mu}\n",
    "    \\text{:}\\hspace{0.20cm}\n",
    "    {\\textbf{c}}^{\\prime} \\bar{\\textbf{x}}\n",
    "    \\pm\n",
    "    \\sqrt{\n",
    "        \\frac{(n-1)(q-1)}{(n-q+1)}\n",
    "        F_{q-1, n-q+1}\\left( \\alpha \\right)\n",
    "        }\n",
    "    \\sqrt{\\frac{{\\textbf{c}}^{\\prime} \\textbf{S} \\textbf{c}}{n}}\n",
    "$$"
   ]
  },
  {
   "cell_type": "code",
   "execution_count": 13,
   "metadata": {},
   "outputs": [],
   "source": [
    "c1 = np.array([-1, -1, 1, 1])[:, np.newaxis]  # Number format effect contrast.\n",
    "c2 = np.array([1, -1, 1, -1])[:, np.newaxis]  # Parity type effect constast.\n",
    "c3 = np.array([1, -1, -1, 1])[:, np.newaxis]  # Interaction effect contrast."
   ]
  },
  {
   "cell_type": "code",
   "execution_count": 14,
   "metadata": {},
   "outputs": [],
   "source": [
    "def repeated_measure_ci(X: pd.DataFrame, c: np.ndarray, alpha: float) -> np.ndarray:\n",
    "    \"\"\"\n",
    "    Construct simultaneous confidence intervals for contrasts from a repeated measure design. \n",
    "    Args:\n",
    "        X (pd.DataFrame): The data of interest in the form of rows of observations and columns of variables.\n",
    "        c (np.ndarray): A contrast related to the input dataframe.\n",
    "        alpha: The alpha-level to use when constructing the CI.\n",
    "    Returns:\n",
    "        np.ndarray: The lower/upper simultaneous confidence interval values for the repeated measure data.\n",
    "    \"\"\"\n",
    "    if isinstance(X, pd.DataFrame):\n",
    "        X = X.to_numpy()\n",
    "    n, q = X.shape\n",
    "    xbar = X.mean(axis=0)[:, np.newaxis]\n",
    "    S = np.cov(X, rowvar=False)\n",
    "\n",
    "    const = ((n-1)*(q-1))/(n-q+1)\n",
    "    F_crit = stats.f.ppf(1-alpha/2, dfn=q-1, dfd=n-q+1)\n",
    "\n",
    "    ci = c.T @ xbar + np.array([-1, 1]) * np.sqrt(const * F_crit) * np.sqrt((c.T @ S @ c) / n)\n",
    "\n",
    "    neg = np.where(c < 0)[0]+1\n",
    "    pos = np.where(c > 0)[0]+1\n",
    "    display(Math(r'\\begin{array}{ll}'\n",
    "                 fr'(\\bar{{ x_{pos[0]} }} + \\bar{{ x_{pos[1]} }}) - (\\bar{{ x_{neg[0]} }} + \\bar{{ x_{neg[1]} }})'\n",
    "                 r'\\pm'\n",
    "                 fr'\\sqrt{{ \\frac{{ {n-1}({q-1}) }}{{ {n-q+1} }} F_{{ {q-1}, {n-q+1} }} ({alpha}) }}'\n",
    "                 fr'\\sqrt{{ \\frac{{ {{\\textbf{{c}} }}^{{\\prime}} \\textbf{{S}} \\textbf{{c}} }}{{ {n} }} }}'\n",
    "                 '& ='\n",
    "                 f'{(c.T @ xbar).item():.2f}'\n",
    "                 r'\\pm'\n",
    "                 fr'\\sqrt{{ {const * F_crit:.2f} }}'\n",
    "                 fr'\\sqrt{{ \\frac{{ {(c.T @ S @ c).item():.2f} }}{{ {n} }} }}'\n",
    "                 r'\\\\'\n",
    "                 '& ='\n",
    "                 f'{(c.T @ xbar).item():.2f}'\n",
    "                 r'\\pm'\n",
    "                 f'{np.sqrt(const * F_crit) * np.sqrt((c.T @ S @ c).item()/n):.2f}'\n",
    "                 r'\\\\'\n",
    "                 '& ='\n",
    "                 f'[{ci[0,0]:.2f}, {ci[0,1]:.2f}]'\n",
    "                 r'\\end{array}'\n",
    "                 ))\n",
    "    return ci\n"
   ]
  },
  {
   "cell_type": "code",
   "execution_count": 15,
   "metadata": {},
   "outputs": [
    {
     "data": {
      "text/latex": [
       "$\\displaystyle \\text{ The 95\\% confidence interval for the number format effect contrast is: }$"
      ],
      "text/plain": [
       "<IPython.core.display.Math object>"
      ]
     },
     "metadata": {},
     "output_type": "display_data"
    },
    {
     "data": {
      "text/latex": [
       "$\\displaystyle \\begin{array}{ll}(\\bar{ x_3 } + \\bar{ x_4 }) - (\\bar{ x_1 } + \\bar{ x_2 })\\pm\\sqrt{ \\frac{ 31(3) }{ 29 } F_{ 3, 29 } (0.05) }\\sqrt{ \\frac{ {\\textbf{c} }^{\\prime} \\textbf{S} \\textbf{c} }{ 32 } }& =-306.92\\pm\\sqrt{ 11.57 }\\sqrt{ \\frac{ 40269.29 }{ 32 } }\\\\& =-306.92\\pm120.65\\\\& =[-427.58, -186.27]\\end{array}$"
      ],
      "text/plain": [
       "<IPython.core.display.Math object>"
      ]
     },
     "metadata": {},
     "output_type": "display_data"
    }
   ],
   "source": [
    "display(Math(r\"\\text{ The 95\\% confidence interval for the number format effect contrast is: }\"))\n",
    "ci1 = repeated_measure_ci(df, c1, alpha)"
   ]
  },
  {
   "cell_type": "markdown",
   "metadata": {},
   "source": [
    "With 95% confidence, the mean arabic digits score is between 186 and 428 points lower than that of word scores."
   ]
  },
  {
   "cell_type": "code",
   "execution_count": 16,
   "metadata": {},
   "outputs": [
    {
     "data": {
      "text/latex": [
       "$\\displaystyle \\text{ The 95\\% confidence interval for the type effect contrast is: }$"
      ],
      "text/plain": [
       "<IPython.core.display.Math object>"
      ]
     },
     "metadata": {},
     "output_type": "display_data"
    },
    {
     "data": {
      "text/latex": [
       "$\\displaystyle \\begin{array}{ll}(\\bar{ x_1 } + \\bar{ x_3 }) - (\\bar{ x_2 } + \\bar{ x_4 })\\pm\\sqrt{ \\frac{ 31(3) }{ 29 } F_{ 3, 29 } (0.05) }\\sqrt{ \\frac{ {\\textbf{c} }^{\\prime} \\textbf{S} \\textbf{c} }{ 32 } }& =206.33\\pm\\sqrt{ 11.57 }\\sqrt{ \\frac{ 19577.48 }{ 32 } }\\\\& =206.33\\pm84.13\\\\& =[122.20, 290.45]\\end{array}$"
      ],
      "text/plain": [
       "<IPython.core.display.Math object>"
      ]
     },
     "metadata": {},
     "output_type": "display_data"
    }
   ],
   "source": [
    "display(Math(r\"\\text{ The 95\\% confidence interval for the type effect contrast is: }\"))\n",
    "ci2 = repeated_measure_ci(df, c2, alpha)"
   ]
  },
  {
   "cell_type": "markdown",
   "metadata": {},
   "source": [
    "With 95% confidence, the mean \"different\" numeric parity score is between 122 and 290 points higher than that of \"same\" numerical parity scores."
   ]
  },
  {
   "cell_type": "code",
   "execution_count": 17,
   "metadata": {},
   "outputs": [
    {
     "data": {
      "text/latex": [
       "$\\displaystyle \\text{ The 95\\% confidence interval for the interaction effect contrast is: }$"
      ],
      "text/plain": [
       "<IPython.core.display.Math object>"
      ]
     },
     "metadata": {},
     "output_type": "display_data"
    },
    {
     "data": {
      "text/latex": [
       "$\\displaystyle \\begin{array}{ll}(\\bar{ x_1 } + \\bar{ x_4 }) - (\\bar{ x_2 } + \\bar{ x_3 })\\pm\\sqrt{ \\frac{ 31(3) }{ 29 } F_{ 3, 29 } (0.05) }\\sqrt{ \\frac{ {\\textbf{c} }^{\\prime} \\textbf{S} \\textbf{c} }{ 32 } }& =-22.42\\pm\\sqrt{ 11.57 }\\sqrt{ \\frac{ 10007.34 }{ 32 } }\\\\& =-22.42\\pm60.15\\\\& =[-82.57, 37.72]\\end{array}$"
      ],
      "text/plain": [
       "<IPython.core.display.Math object>"
      ]
     },
     "metadata": {},
     "output_type": "display_data"
    }
   ],
   "source": [
    "display(Math(r\"\\text{ The 95\\% confidence interval for the interaction effect contrast is: }\"))\n",
    "ci3 = repeated_measure_ci(df, c3, alpha)"
   ]
  },
  {
   "cell_type": "markdown",
   "metadata": {},
   "source": [
    "With 95% confidence, the mean score for interaction between number format effect and type effect is between -82 and 37.\n",
    "We have zero in the interval, so we could conclude that there is no interaction effect."
   ]
  },
  {
   "cell_type": "markdown",
   "metadata": {},
   "source": [
    "## (c.)"
   ]
  },
  {
   "cell_type": "markdown",
   "metadata": {},
   "source": [
    " The absence of interaction supports the $M$ model of numerical cognition, while the\n",
    "presence of interaction supports the $C$ and $C$ model of numerical cognition. Which\n",
    "model is supported in this experiment?"
   ]
  },
  {
   "cell_type": "markdown",
   "metadata": {},
   "source": [
    "In part (b), we found that the 95% simultaneous confidence interval for interaction contained zero, so we'd conclude that there is no interaction effect.\n",
    "The absence of interaction supports the $M$ model of numerical cognition."
   ]
  },
  {
   "cell_type": "markdown",
   "metadata": {},
   "source": [
    "## (d.)"
   ]
  },
  {
   "cell_type": "markdown",
   "metadata": {},
   "source": [
    "For each subject, construct three difference scores corresponding to the number format\n",
    "contrast, the parity type contrast, and the interaction contrast. Is a multivariate\n",
    "normal distribution a reasonable population model for these data? Explain."
   ]
  },
  {
   "cell_type": "markdown",
   "metadata": {},
   "source": [
    "Use the contrasts $\\textbf{c}_{1}$, $\\textbf{c}_{2}$, and $\\textbf{c}_{3}$, costructed in part (b) for this."
   ]
  },
  {
   "cell_type": "code",
   "execution_count": 18,
   "metadata": {},
   "outputs": [],
   "source": [
    "df[\"NumberFormatContrast\"], df[\"ParityTypeContrast\"], df[\"InteractionContrast\"] = df @ c1, df @ c2, df @ c3"
   ]
  },
  {
   "cell_type": "code",
   "execution_count": 19,
   "metadata": {},
   "outputs": [],
   "source": [
    "contrast_df = df[[\"NumberFormatContrast\", \"ParityTypeContrast\", \"InteractionContrast\"]].copy()"
   ]
  },
  {
   "cell_type": "code",
   "execution_count": 20,
   "metadata": {},
   "outputs": [],
   "source": [
    "def chi2_plot(df: pd.DataFrame) -> None:\n",
    "    \"\"\"\n",
    "    Create a Chi-squared plot to check for multivariate normality.\n",
    "    Args:\n",
    "        df (pd.DataFrame): Dataframe with variables to use for the plot in the format $n \\times p$.\n",
    "    Returns:\n",
    "        None\n",
    "    \"\"\"\n",
    "    X = df.copy().to_numpy()\n",
    "    n, p = X.shape\n",
    "    xbar = X.mean(axis=0)[:, np.newaxis]\n",
    "    S = np.cov(X, rowvar=False)\n",
    "\n",
    "    d2 = np.diag((X.T - xbar).T @ la.inv(S) @ (X.T - xbar))[:, np.newaxis]\n",
    "    d2_sorted = np.sort(d2, axis=0)\n",
    "    q = stats.chi2.ppf((np.arange(1, n+1) - 0.5) / n, df=p)\n",
    "\n",
    "    plt.scatter(q, d2_sorted, facecolors='none', edgecolors='royalblue')\n",
    "    plt.plot([q.min(), q.max()], [q.min(), q.max()], color='black', lw=0.5)\n",
    "    plt.xlabel(r\"$\\chi_{p}^{2}$ theoretical values\")\n",
    "    plt.ylabel(\"Ordered $d^{2}$\")\n",
    "    plt.title(fr\"$\\chi_{{p}}^{{2}}$ plot (p = {p})\")\n",
    "    plt.savefig(r\"Exercise-6-17-d-chi2.png\")\n",
    "    plt.show()\n",
    "\n",
    "    # return d2_sorted\n",
    "    "
   ]
  },
  {
   "cell_type": "code",
   "execution_count": 21,
   "metadata": {},
   "outputs": [
    {
     "data": {
      "image/png": "[encoded data removed]",
      "text/plain": [
       "<Figure size 640x480 with 1 Axes>"
      ]
     },
     "metadata": {},
     "output_type": "display_data"
    }
   ],
   "source": [
    "chi2_plot(contrast_df)"
   ]
  },
  {
   "cell_type": "code",
   "execution_count": 22,
   "metadata": {},
   "outputs": [],
   "source": [
    "def mardia_test(df: pd.DataFrame) -> dict[str, float]:\n",
    "    \"\"\"\n",
    "    Use the Mardia test for multivariate normality.\n",
    "    Basically used what's here: https://real-statistics.com/multivariate-statistics/multivariate-normal-distribution/multivariate-normality-testing/\n",
    "    Args:\n",
    "        df (pd.DataFrame): Dataframe in the format of $n \\times p$ to test multivariate normality.\n",
    "    Returns:\n",
    "        dict[str, float]: The keys are the labels for the p-values (skewness and kurtosis). The values are the p-values.\n",
    "    \"\"\"\n",
    "    X = df.to_numpy()\n",
    "    n, p  = X.shape\n",
    "    xbar  = X.mean(axis=0)\n",
    "    S     = np.cov(X, rowvar=False)\n",
    "    d2    = ((X - xbar) @ la.inv(S) * (X - xbar)).sum(axis=1)[:, np.newaxis]\n",
    "\n",
    "    # Mardia skewness (b1,p) and kurtosis (b2,p)\n",
    "    b1p = np.sum((d2.T @ d2)**3) / n**2\n",
    "    b2p = np.mean(d2**2)\n",
    "\n",
    "    # Large-sample reference distributions.\n",
    "    z_skew = n*b1p/6\n",
    "    kappa  = (b2p - p*(p+2)) / np.sqrt(8*p*(p + 2)/n)\n",
    "    \n",
    "    p_skew = 1 - stats.chi2.cdf(z_skew, df=p*(p + 1)*(p + 2)/6)\n",
    "    p_kurt = 2*(1 - stats.norm.cdf(abs(kappa)))\n",
    "\n",
    "    return {\"skew p-value\": p_skew, \"kurtosis p-value\": p_kurt}"
   ]
  },
  {
   "cell_type": "code",
   "execution_count": 23,
   "metadata": {},
   "outputs": [
    {
     "data": {
      "text/plain": [
       "{'skew p-value': 0.0, 'kurtosis p-value': 0.36038012638900585}"
      ]
     },
     "execution_count": 23,
     "metadata": {},
     "output_type": "execute_result"
    }
   ],
   "source": [
    "mardia_test(contrast_df)"
   ]
  },
  {
   "cell_type": "markdown",
   "metadata": {},
   "source": [
    "The $\\chi^{2}$-plot shows some deviation from the line, which isn't promising.\n",
    "I also created code for the Mardia Multivariate normal test.\n",
    "The Mardia test is very significant for skewness and not significant for kurtosis.\n",
    "Since both tests are not significant, so we'd conclude that the data for the contrasts is not multivariate normal."
   ]
  }
 ],
 "metadata": {
  "kernelspec": {
   "display_name": "py312",
   "language": "python",
   "name": "py312"
  },
  "language_info": {
   "codemirror_mode": {
    "name": "ipython",
    "version": 3
   },
   "file_extension": ".py",
   "mimetype": "text/x-python",
   "name": "python",
   "nbconvert_exporter": "python",
   "pygments_lexer": "ipython3",
   "version": "3.12.5"
  }
 },
 "nbformat": 4,
 "nbformat_minor": 2
}
