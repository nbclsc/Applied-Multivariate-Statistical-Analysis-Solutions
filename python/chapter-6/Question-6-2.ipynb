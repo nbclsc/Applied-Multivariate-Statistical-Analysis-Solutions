{
 "cells": [
  {
   "cell_type": "markdown",
   "metadata": {},
   "source": [
    "# Exercise 6.2"
   ]
  },
  {
   "cell_type": "code",
   "execution_count": 1,
   "metadata": {},
   "outputs": [],
   "source": [
    "import pathlib\n",
    "import numpy as np\n",
    "import pandas as pd\n",
    "import numpy.linalg as la\n",
    "from IPython.display import display, Math\n",
    "from scipy import stats"
   ]
  },
  {
   "cell_type": "markdown",
   "metadata": {},
   "source": [
    "Municipal\n",
    "wastewater treatment plants are required by law to monitor their discharges into\n",
    "rivers and streams on a regular basis. Concern about the reliability of data from one\n",
    "of these self-monitoring programs led to a study in which samples of effluent were\n",
    "divided and sent to two laboratories for testing. One-half of each sample was sent to\n",
    "the Wisconsin State Laboratory of Hygiene, and one-half was sent to a private commercial\n",
    "laboratory routinely used in the monitoring program.\n",
    "\n",
    "- `BOD`: biochemical oxygen demand\n",
    "- `SS`: suspended solids"
   ]
  },
  {
   "cell_type": "code",
   "execution_count": 2,
   "metadata": {},
   "outputs": [],
   "source": [
    "def load_data() -> pd.DataFrame:\n",
    "    fpth = pathlib.WindowsPath(r'..\\..\\data\\Table6.1.xlsx')\n",
    "    return pd.read_excel(fpth)"
   ]
  },
  {
   "cell_type": "code",
   "execution_count": 3,
   "metadata": {},
   "outputs": [
    {
     "data": {
      "text/html": [
       "<div>\n",
       "<style scoped>\n",
       "    .dataframe tbody tr th:only-of-type {\n",
       "        vertical-align: middle;\n",
       "    }\n",
       "\n",
       "    .dataframe tbody tr th {\n",
       "        vertical-align: top;\n",
       "    }\n",
       "\n",
       "    .dataframe thead th {\n",
       "        text-align: right;\n",
       "    }\n",
       "</style>\n",
       "<table border=\"1\" class=\"dataframe\">\n",
       "  <thead>\n",
       "    <tr style=\"text-align: right;\">\n",
       "      <th></th>\n",
       "      <th>Sample j</th>\n",
       "      <th>Commercial lab BOD</th>\n",
       "      <th>Commercial lab SS</th>\n",
       "      <th>State lab of hygiene BOD</th>\n",
       "      <th>State lab of hygiene SS</th>\n",
       "    </tr>\n",
       "  </thead>\n",
       "  <tbody>\n",
       "    <tr>\n",
       "      <th>0</th>\n",
       "      <td>1</td>\n",
       "      <td>6</td>\n",
       "      <td>27</td>\n",
       "      <td>25</td>\n",
       "      <td>15</td>\n",
       "    </tr>\n",
       "    <tr>\n",
       "      <th>1</th>\n",
       "      <td>2</td>\n",
       "      <td>6</td>\n",
       "      <td>23</td>\n",
       "      <td>28</td>\n",
       "      <td>13</td>\n",
       "    </tr>\n",
       "    <tr>\n",
       "      <th>2</th>\n",
       "      <td>3</td>\n",
       "      <td>18</td>\n",
       "      <td>64</td>\n",
       "      <td>36</td>\n",
       "      <td>22</td>\n",
       "    </tr>\n",
       "  </tbody>\n",
       "</table>\n",
       "</div>"
      ],
      "text/plain": [
       "   Sample j  Commercial lab BOD  Commercial lab SS  State lab of hygiene BOD  \\\n",
       "0         1                   6                 27                        25   \n",
       "1         2                   6                 23                        28   \n",
       "2         3                  18                 64                        36   \n",
       "\n",
       "   State lab of hygiene SS  \n",
       "0                       15  \n",
       "1                       13  \n",
       "2                       22  "
      ]
     },
     "execution_count": 3,
     "metadata": {},
     "output_type": "execute_result"
    }
   ],
   "source": [
    "effluent_df = load_data()\n",
    "effluent_df.head(3)"
   ]
  },
  {
   "cell_type": "code",
   "execution_count": 4,
   "metadata": {},
   "outputs": [
    {
     "data": {
      "text/html": [
       "<div>\n",
       "<style scoped>\n",
       "    .dataframe tbody tr th:only-of-type {\n",
       "        vertical-align: middle;\n",
       "    }\n",
       "\n",
       "    .dataframe tbody tr th {\n",
       "        vertical-align: top;\n",
       "    }\n",
       "\n",
       "    .dataframe thead th {\n",
       "        text-align: right;\n",
       "    }\n",
       "</style>\n",
       "<table border=\"1\" class=\"dataframe\">\n",
       "  <thead>\n",
       "    <tr style=\"text-align: right;\">\n",
       "      <th></th>\n",
       "      <th>Sample j</th>\n",
       "      <th>Commercial lab BOD</th>\n",
       "      <th>Commercial lab SS</th>\n",
       "      <th>State lab of hygiene BOD</th>\n",
       "      <th>State lab of hygiene SS</th>\n",
       "      <th>d1</th>\n",
       "      <th>d2</th>\n",
       "    </tr>\n",
       "  </thead>\n",
       "  <tbody>\n",
       "    <tr>\n",
       "      <th>0</th>\n",
       "      <td>1</td>\n",
       "      <td>6</td>\n",
       "      <td>27</td>\n",
       "      <td>25</td>\n",
       "      <td>15</td>\n",
       "      <td>-19</td>\n",
       "      <td>12</td>\n",
       "    </tr>\n",
       "    <tr>\n",
       "      <th>1</th>\n",
       "      <td>2</td>\n",
       "      <td>6</td>\n",
       "      <td>23</td>\n",
       "      <td>28</td>\n",
       "      <td>13</td>\n",
       "      <td>-22</td>\n",
       "      <td>10</td>\n",
       "    </tr>\n",
       "    <tr>\n",
       "      <th>2</th>\n",
       "      <td>3</td>\n",
       "      <td>18</td>\n",
       "      <td>64</td>\n",
       "      <td>36</td>\n",
       "      <td>22</td>\n",
       "      <td>-18</td>\n",
       "      <td>42</td>\n",
       "    </tr>\n",
       "  </tbody>\n",
       "</table>\n",
       "</div>"
      ],
      "text/plain": [
       "   Sample j  Commercial lab BOD  Commercial lab SS  State lab of hygiene BOD  \\\n",
       "0         1                   6                 27                        25   \n",
       "1         2                   6                 23                        28   \n",
       "2         3                  18                 64                        36   \n",
       "\n",
       "   State lab of hygiene SS  d1  d2  \n",
       "0                       15 -19  12  \n",
       "1                       13 -22  10  \n",
       "2                       22 -18  42  "
      ]
     },
     "execution_count": 4,
     "metadata": {},
     "output_type": "execute_result"
    }
   ],
   "source": [
    "effluent_df['d1'] = effluent_df['Commercial lab BOD'] - effluent_df['State lab of hygiene BOD']\n",
    "effluent_df['d2'] = effluent_df['Commercial lab SS'] - effluent_df['State lab of hygiene SS']\n",
    "effluent_df.head(3)"
   ]
  },
  {
   "cell_type": "code",
   "execution_count": 5,
   "metadata": {},
   "outputs": [],
   "source": [
    "n = effluent_df.shape[0]\n",
    "p = 2\n",
    "alpha = 0.05"
   ]
  },
  {
   "cell_type": "markdown",
   "metadata": {},
   "source": [
    "From (6-10a) on page 276, the Bonferroni $100(1-\\alpha)$% simultaneous confidence intervals are\n",
    "$$\n",
    "    \\delta_{i}:\n",
    "    \\hspace{0.4cm}\n",
    "    \\bar{d}_{i} \\pm t_{n-1} \\left(\\frac{\\alpha}{2p} \\right)\n",
    "    \\sqrt{\\frac{s_{d_{i}}^{2}}{n}}\n",
    "$$"
   ]
  },
  {
   "cell_type": "markdown",
   "metadata": {},
   "source": [
    "For $\\delta_{1} = \\text{Commercial lab BOD} - \\text{State lab of hygiene BOD}$"
   ]
  },
  {
   "cell_type": "code",
   "execution_count": 6,
   "metadata": {},
   "outputs": [
    {
     "data": {
      "text/plain": [
       "2.633766915401032"
      ]
     },
     "execution_count": 6,
     "metadata": {},
     "output_type": "execute_result"
    }
   ],
   "source": [
    "stats.t.ppf(1-alpha/(2*p),df=n-1)"
   ]
  },
  {
   "cell_type": "code",
   "execution_count": 7,
   "metadata": {},
   "outputs": [],
   "source": [
    "d1_bon_95ci = effluent_df.d1.mean()  + np.array([-1,1]) * stats.t.ppf(1-alpha/(2*p),df=n-1) * np.sqrt(effluent_df.d1.var() / effluent_df.d1.size)"
   ]
  },
  {
   "cell_type": "code",
   "execution_count": 8,
   "metadata": {},
   "outputs": [
    {
     "data": {
      "text/latex": [
       "$\\displaystyle \\delta_{1}:\\bar{d}_{1}\\pm t_{n - 1}(\\alpha)\\sqrt{ \\frac{ s_{d_{1}}^{2} }{n} }=-9.36\\pm2.63\\sqrt{\\frac{ 199.25 }{ 11 }}\\hspace{0.4cm}\\text{or}\\hspace{0.4cm}(-20.57, 1.85)$"
      ],
      "text/plain": [
       "<IPython.core.display.Math object>"
      ]
     },
     "metadata": {},
     "output_type": "display_data"
    }
   ],
   "source": [
    "display(Math(r'\\delta_{1}:'\n",
    "             r'\\bar{d}_{1}'\n",
    "             r'\\pm '\n",
    "             r't_{n - 1}(\\alpha)'\n",
    "             r'\\sqrt{ \\frac{ s_{d_{1}}^{2} }{n} }'\n",
    "             '='\n",
    "             fr'{effluent_df.d1.mean():.2f}'\n",
    "             r'\\pm'\n",
    "             fr'{stats.t.ppf(1-alpha/(2*p),df=n-1):.2f}'\n",
    "             fr'\\sqrt{{\\frac{{ {effluent_df.d1.var():.2f} }}{{ {effluent_df.d1.size} }}}}'\n",
    "             r'\\hspace{0.4cm}\\text{or}\\hspace{0.4cm}'\n",
    "             f'({d1_bon_95ci[0]:.2f}, {d1_bon_95ci[1]:.2f})'\n",
    "             ))"
   ]
  },
  {
   "cell_type": "markdown",
   "metadata": {},
   "source": [
    "For $\\delta_{2} = \\text{Commercial lab SS} - \\text{State lab of hygiene SS}$"
   ]
  },
  {
   "cell_type": "code",
   "execution_count": 9,
   "metadata": {},
   "outputs": [],
   "source": [
    "d2_bon_95ci = effluent_df.d2.mean()  + np.array([-1,1]) * stats.t.ppf(1-alpha/(2*p),df=n-1) * np.sqrt(effluent_df.d2.var() / effluent_df.d2.size)"
   ]
  },
  {
   "cell_type": "code",
   "execution_count": 10,
   "metadata": {},
   "outputs": [
    {
     "data": {
      "text/latex": [
       "$\\displaystyle \\delta_{2}:\\bar{d}_{2}\\pm\\sqrt{ t_{n - 1}(\\alpha) }\\sqrt{ \\frac{ s_{d_{2}}^{2} }{n} }=13.27\\pm2.63\\sqrt{\\frac{ 418.62 }{ 11 }}\\hspace{0.4cm}\\text{or}\\hspace{0.4cm}(-2.97, 29.52)$"
      ],
      "text/plain": [
       "<IPython.core.display.Math object>"
      ]
     },
     "metadata": {},
     "output_type": "display_data"
    }
   ],
   "source": [
    "display(Math(r'\\delta_{2}:'\n",
    "             r'\\bar{d}_{2}'\n",
    "             r'\\pm'\n",
    "             r'\\sqrt{ t_{n - 1}(\\alpha) }'\n",
    "             r'\\sqrt{ \\frac{ s_{d_{2}}^{2} }{n} }'\n",
    "             '='\n",
    "             f'{effluent_df.d2.mean():.2f}'\n",
    "             r'\\pm'\n",
    "             f'{stats.t.ppf(1-alpha/(2*p),df=n-1):.2f}'\n",
    "             fr'\\sqrt{{\\frac{{ {effluent_df.d2.var():.2f} }}{{ {effluent_df.d2.size} }}}}'\n",
    "             r'\\hspace{0.4cm}\\text{or}\\hspace{0.4cm}'\n",
    "             f'({d2_bon_95ci[0]:.2f}, {d2_bon_95ci[1]:.2f})'\n",
    "             ))"
   ]
  }
 ],
 "metadata": {
  "kernelspec": {
   "display_name": "Python 3",
   "language": "python",
   "name": "python3"
  },
  "language_info": {
   "codemirror_mode": {
    "name": "ipython",
    "version": 3
   },
   "file_extension": ".py",
   "mimetype": "text/x-python",
   "name": "python",
   "nbconvert_exporter": "python",
   "pygments_lexer": "ipython3",
   "version": "3.12.5"
  }
 },
 "nbformat": 4,
 "nbformat_minor": 2
}
