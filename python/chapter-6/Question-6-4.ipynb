{
 "cells": [
  {
   "cell_type": "markdown",
   "metadata": {},
   "source": [
    "# Exercise 6.4"
   ]
  },
  {
   "cell_type": "code",
   "execution_count": 1,
   "metadata": {},
   "outputs": [],
   "source": [
    "import importlib.util\n",
    "import pathlib\n",
    "import numpy as np\n",
    "import pandas as pd\n",
    "import matplotlib.pyplot as plt\n",
    "import numpy.linalg as la\n",
    "from IPython.display import display, Math\n",
    "from scipy import stats"
   ]
  },
  {
   "cell_type": "code",
   "execution_count": 2,
   "metadata": {},
   "outputs": [],
   "source": [
    "# Need to create a chi-squared plot in part (c).\n",
    "fp4 = pathlib.WindowsPath(r'..\\chapter-4\\chapter_4_utils.py')\n",
    "spec4 = importlib.util.spec_from_file_location('data_for_chi2_plot',fp4)\n",
    "chapter4_module = importlib.util.module_from_spec(spec4)\n",
    "spec4.loader.exec_module(chapter4_module)"
   ]
  },
  {
   "cell_type": "code",
   "execution_count": 3,
   "metadata": {},
   "outputs": [],
   "source": [
    "# From what's on page 275 and 276, we can see that the f-value for the difference vector is the same as that\n",
    "# for the confidence ellipse from 5.4 on pages 220 and 221.\n",
    "# Loading the utility file from chapter 5:\n",
    "fp5 = pathlib.WindowsPath(r'..\\chapter-5\\chapter_5_utils.py')\n",
    "spec5 = importlib.util.spec_from_file_location('plot_confidence_ellipse',fp5)\n",
    "chapter5_module = importlib.util.module_from_spec(spec5)\n",
    "spec5.loader.exec_module(chapter5_module)"
   ]
  },
  {
   "cell_type": "markdown",
   "metadata": {},
   "source": [
    "Municipal\n",
    "wastewater treatment plants are required by law to monitor their discharges into\n",
    "rivers and streams on a regular basis. Concern about the reliability of data from one\n",
    "of these self-monitoring programs led to a study in which samples of effluent were\n",
    "divided and sent to two laboratories for testing. One-half of each sample was sent to\n",
    "the Wisconsin State Laboratory of Hygiene, and one-half was sent to a private commercial\n",
    "laboratory routinely used in the monitoring program.\n",
    "\n",
    "- `BOD`: biochemical oxygen demand\n",
    "- `SS`: suspended solids"
   ]
  },
  {
   "cell_type": "code",
   "execution_count": 4,
   "metadata": {},
   "outputs": [],
   "source": [
    "def load_data() -> pd.DataFrame:\n",
    "    fpth = pathlib.WindowsPath(r'..\\..\\data\\Table6.1.xlsx')\n",
    "    df = pd.read_excel(fpth)\n",
    "    # Take the log of the columns.\n",
    "    # I'm keeping their column names the same as the untransformed data.\n",
    "    df['Commercial lab BOD'] = np.log(df['Commercial lab BOD'])\n",
    "    df['State lab of hygiene BOD'] = np.log(df['State lab of hygiene BOD'])\n",
    "    df['Commercial lab SS'] = np.log(df['Commercial lab SS'])\n",
    "    df['State lab of hygiene SS'] = np.log(df['State lab of hygiene SS'])\n",
    "    return df\n",
    "    "
   ]
  },
  {
   "cell_type": "code",
   "execution_count": 5,
   "metadata": {},
   "outputs": [
    {
     "data": {
      "text/html": [
       "<div>\n",
       "<style scoped>\n",
       "    .dataframe tbody tr th:only-of-type {\n",
       "        vertical-align: middle;\n",
       "    }\n",
       "\n",
       "    .dataframe tbody tr th {\n",
       "        vertical-align: top;\n",
       "    }\n",
       "\n",
       "    .dataframe thead th {\n",
       "        text-align: right;\n",
       "    }\n",
       "</style>\n",
       "<table border=\"1\" class=\"dataframe\">\n",
       "  <thead>\n",
       "    <tr style=\"text-align: right;\">\n",
       "      <th></th>\n",
       "      <th>Sample j</th>\n",
       "      <th>Commercial lab BOD</th>\n",
       "      <th>Commercial lab SS</th>\n",
       "      <th>State lab of hygiene BOD</th>\n",
       "      <th>State lab of hygiene SS</th>\n",
       "    </tr>\n",
       "  </thead>\n",
       "  <tbody>\n",
       "    <tr>\n",
       "      <th>0</th>\n",
       "      <td>1</td>\n",
       "      <td>1.791759</td>\n",
       "      <td>3.295837</td>\n",
       "      <td>3.218876</td>\n",
       "      <td>2.708050</td>\n",
       "    </tr>\n",
       "    <tr>\n",
       "      <th>1</th>\n",
       "      <td>2</td>\n",
       "      <td>1.791759</td>\n",
       "      <td>3.135494</td>\n",
       "      <td>3.332205</td>\n",
       "      <td>2.564949</td>\n",
       "    </tr>\n",
       "    <tr>\n",
       "      <th>2</th>\n",
       "      <td>3</td>\n",
       "      <td>2.890372</td>\n",
       "      <td>4.158883</td>\n",
       "      <td>3.583519</td>\n",
       "      <td>3.091042</td>\n",
       "    </tr>\n",
       "  </tbody>\n",
       "</table>\n",
       "</div>"
      ],
      "text/plain": [
       "   Sample j  Commercial lab BOD  Commercial lab SS  State lab of hygiene BOD  \\\n",
       "0         1            1.791759           3.295837                  3.218876   \n",
       "1         2            1.791759           3.135494                  3.332205   \n",
       "2         3            2.890372           4.158883                  3.583519   \n",
       "\n",
       "   State lab of hygiene SS  \n",
       "0                 2.708050  \n",
       "1                 2.564949  \n",
       "2                 3.091042  "
      ]
     },
     "execution_count": 5,
     "metadata": {},
     "output_type": "execute_result"
    }
   ],
   "source": [
    "effluent_df = load_data()\n",
    "effluent_df.head(3)"
   ]
  },
  {
   "cell_type": "code",
   "execution_count": 6,
   "metadata": {},
   "outputs": [
    {
     "data": {
      "text/html": [
       "<div>\n",
       "<style scoped>\n",
       "    .dataframe tbody tr th:only-of-type {\n",
       "        vertical-align: middle;\n",
       "    }\n",
       "\n",
       "    .dataframe tbody tr th {\n",
       "        vertical-align: top;\n",
       "    }\n",
       "\n",
       "    .dataframe thead th {\n",
       "        text-align: right;\n",
       "    }\n",
       "</style>\n",
       "<table border=\"1\" class=\"dataframe\">\n",
       "  <thead>\n",
       "    <tr style=\"text-align: right;\">\n",
       "      <th></th>\n",
       "      <th>Sample j</th>\n",
       "      <th>Commercial lab BOD</th>\n",
       "      <th>Commercial lab SS</th>\n",
       "      <th>State lab of hygiene BOD</th>\n",
       "      <th>State lab of hygiene SS</th>\n",
       "      <th>d1</th>\n",
       "      <th>d2</th>\n",
       "    </tr>\n",
       "  </thead>\n",
       "  <tbody>\n",
       "    <tr>\n",
       "      <th>0</th>\n",
       "      <td>1</td>\n",
       "      <td>1.791759</td>\n",
       "      <td>3.295837</td>\n",
       "      <td>3.218876</td>\n",
       "      <td>2.708050</td>\n",
       "      <td>-1.427116</td>\n",
       "      <td>0.587787</td>\n",
       "    </tr>\n",
       "    <tr>\n",
       "      <th>1</th>\n",
       "      <td>2</td>\n",
       "      <td>1.791759</td>\n",
       "      <td>3.135494</td>\n",
       "      <td>3.332205</td>\n",
       "      <td>2.564949</td>\n",
       "      <td>-1.540445</td>\n",
       "      <td>0.570545</td>\n",
       "    </tr>\n",
       "    <tr>\n",
       "      <th>2</th>\n",
       "      <td>3</td>\n",
       "      <td>2.890372</td>\n",
       "      <td>4.158883</td>\n",
       "      <td>3.583519</td>\n",
       "      <td>3.091042</td>\n",
       "      <td>-0.693147</td>\n",
       "      <td>1.067841</td>\n",
       "    </tr>\n",
       "  </tbody>\n",
       "</table>\n",
       "</div>"
      ],
      "text/plain": [
       "   Sample j  Commercial lab BOD  Commercial lab SS  State lab of hygiene BOD  \\\n",
       "0         1            1.791759           3.295837                  3.218876   \n",
       "1         2            1.791759           3.135494                  3.332205   \n",
       "2         3            2.890372           4.158883                  3.583519   \n",
       "\n",
       "   State lab of hygiene SS        d1        d2  \n",
       "0                 2.708050 -1.427116  0.587787  \n",
       "1                 2.564949 -1.540445  0.570545  \n",
       "2                 3.091042 -0.693147  1.067841  "
      ]
     },
     "execution_count": 6,
     "metadata": {},
     "output_type": "execute_result"
    }
   ],
   "source": [
    "effluent_df['d1'] = effluent_df['Commercial lab BOD'] - effluent_df['State lab of hygiene BOD']\n",
    "effluent_df['d2'] = effluent_df['Commercial lab SS'] - effluent_df['State lab of hygiene SS']\n",
    "effluent_df.head(3)"
   ]
  },
  {
   "cell_type": "markdown",
   "metadata": {},
   "source": [
    "## (a)"
   ]
  },
  {
   "cell_type": "code",
   "execution_count": 7,
   "metadata": {},
   "outputs": [],
   "source": [
    "n = effluent_df.shape[0]\n",
    "p = 2\n",
    "alpha = 0.05\n",
    "xbard = effluent_df[['d1','d2']].mean().to_numpy()[:,np.newaxis]\n",
    "Sd = effluent_df[['d1','d2']].cov().to_numpy()"
   ]
  },
  {
   "cell_type": "markdown",
   "metadata": {},
   "source": [
    "$$\n",
    "    \\begin{align}\n",
    "        H_{0}: & \\underset{p \\times 1}{\\bm{\\delta}} = \\underset{p \\times 1}{\\textbf{0}} \\\\\n",
    "        H_{a}: & \\underset{p \\times 1}{\\bm{\\delta}} \\ne \\underset{p \\times 1}{\\textbf{0}}\n",
    "    \\end{align}\n",
    "$$\n",
    "\n",
    "$$\n",
    "    \\underset{2 \\times 1}{\\bm{\\delta}}\n",
    "    =\n",
    "    \\left[\n",
    "        \\begin{array}{c}\n",
    "            \\delta_{1} \\\\\n",
    "            \\delta_{2}\n",
    "        \\end{array}\n",
    "    \\right]\n",
    "    =\n",
    "    \\left[\n",
    "        \\begin{array}{c}\n",
    "            \\ln \\left( \\text{Commercial lab BOD} - \\ln \\text{State lab of hygiene BOD} \\right) \\\\\n",
    "            \\ln \\left( \\text{Commercial lab SS} - \\ln \\text{State lab of hygiene SS} \\right)\n",
    "        \\end{array}\n",
    "    \\right]\n",
    "$$"
   ]
  },
  {
   "cell_type": "markdown",
   "metadata": {},
   "source": [
    "$$\n",
    "T^{2}\n",
    "=\n",
    "n\n",
    "{(\\bar{\\textbf{d}} - \\bm{\\delta})}^{\\prime}\n",
    "\\textbf{S}_{d}^{-1}\n",
    "(\\bar{\\textbf{d}} - \\bm{\\delta})\n",
    "=\n",
    "n\n",
    "{(\\bar{\\textbf{d}} - \\textbf{0})}^{\\prime}\n",
    "\\textbf{S}_{d}^{-1}\n",
    "(\\bar{\\textbf{d}} - \\textbf{0})\n",
    "=\n",
    "n\n",
    "{\\bar{\\textbf{d}}}^{\\prime}\n",
    "\\textbf{S}_{d}^{-1}\n",
    "\\bar{\\textbf{d}}\n",
    "$$"
   ]
  },
  {
   "cell_type": "code",
   "execution_count": 8,
   "metadata": {},
   "outputs": [
    {
     "data": {
      "text/plain": [
       "10.215414942189035"
      ]
     },
     "execution_count": 8,
     "metadata": {},
     "output_type": "execute_result"
    }
   ],
   "source": [
    "T2 = n*(xbard.T @ la.inv(Sd) @ xbard).item()\n",
    "T2"
   ]
  },
  {
   "cell_type": "code",
   "execution_count": 9,
   "metadata": {},
   "outputs": [],
   "source": [
    "f_crit = (((n-1)*p)/(n-p))*stats.f.ppf(1-alpha, dfn=p, dfd=n-p)"
   ]
  },
  {
   "cell_type": "code",
   "execution_count": 10,
   "metadata": {},
   "outputs": [
    {
     "data": {
      "text/latex": [
       "$\\displaystyle \\text{We have that }T^{2}=10.215 > F_{ \\text{ crit } }=\\frac{ 10(2) }{ 9 } F_{ 2, 9 } \\left( 0.05 \\right)=9.459\\text{, so we would reject the null hypothesis that } \\bm{\\delta}= \\textbf{0}$"
      ],
      "text/plain": [
       "<IPython.core.display.Math object>"
      ]
     },
     "metadata": {},
     "output_type": "display_data"
    }
   ],
   "source": [
    "if T2 > f_crit:\n",
    "    display(Math(r'\\text{We have that }'\n",
    "                 'T^{2}'\n",
    "                 '='\n",
    "                 fr'{T2:.3f} > F_{{ \\text{{ crit }} }}'\n",
    "                 '='\n",
    "                 fr'\\frac{{ {n-1}({p}) }}{{ {n-p} }} F_{{ {p}, {n-p} }} \\left( {alpha} \\right)'\n",
    "                 '='\n",
    "                 f'{f_crit:.3f}'\n",
    "                 r'\\text{, so we would reject the null hypothesis that } '\n",
    "                 r'\\bm{\\delta}= \\textbf{0}'))\n",
    "else:\n",
    "    display(Math(r'\\text{We have that }'\n",
    "                 'T^{2}'\n",
    "                 '='\n",
    "                 fr'{T2:.3f} \\leq F_{{ \\text{{ crit }} }} '\n",
    "                 '='\n",
    "                 fr'F_{{ {p}, {n-p} }} \\left( {alpha} \\right)'\n",
    "                 '='\n",
    "                f'{f_crit:.3f}'\n",
    "                r'\\text{, so we would fail to reject the null hypothesis that } '\n",
    "                r'\\bm{\\delta} =\\textbf{0}'))"
   ]
  },
  {
   "cell_type": "code",
   "execution_count": 11,
   "metadata": {},
   "outputs": [],
   "source": [
    "simult_95ci = chapter5_module.simult_conf_int(effluent_df[['d1','d2']].to_numpy(), alpha=0.05)"
   ]
  },
  {
   "cell_type": "code",
   "execution_count": 12,
   "metadata": {},
   "outputs": [
    {
     "data": {
      "text/latex": [
       "$\\displaystyle \\delta_{1}: \\bar{d}_{1}\\pm\\sqrt{ \\frac{ (n-1)p }{ n-p } F_{ p, n-p }(\\alpha) }\\sqrt{ \\frac{ S_{ d_1 } }{ n } } =-0.56\\pm\\sqrt{ 9.46 }\\sqrt{ \\frac{ 0.46 }{ 11 } }\\hspace{0.4cm}\\text{or}\\hspace{0.4cm}(-1.18, 0.07)$"
      ],
      "text/plain": [
       "<IPython.core.display.Math object>"
      ]
     },
     "metadata": {},
     "output_type": "display_data"
    },
    {
     "data": {
      "text/latex": [
       "$\\displaystyle \\delta_{2}: \\bar{d}_{2}\\pm\\sqrt{ \\frac{ (n-1)p }{ n-p } F_{ p, n-p }(\\alpha) }\\sqrt{ \\frac{ S_{ d_2 } }{ n } } =0.30\\pm\\sqrt{ 9.46 }\\sqrt{ \\frac{ 0.18 }{ 11 } }\\hspace{0.4cm}\\text{or}\\hspace{0.4cm}(-0.10, 0.69)$"
      ],
      "text/plain": [
       "<IPython.core.display.Math object>"
      ]
     },
     "metadata": {},
     "output_type": "display_data"
    }
   ],
   "source": [
    "for i in range(p):\n",
    "    display(Math(fr'\\delta_{{{i+1}}}: \\bar{{d}}_{{{i+1}}}'\n",
    "                  + r'\\pm'\n",
    "                  + fr'\\sqrt{{ \\frac{{ (n-1)p }}{{ n-p }} F_{{ p, n-p }}(\\alpha) }}'\n",
    "                  + fr'\\sqrt{{ \\frac{{ S_{{ d_{i+1} }} }}{{ n }} }} ='\n",
    "                  + fr'{xbard[i].item():.2f}'\n",
    "                  + r'\\pm'\n",
    "                  + fr'\\sqrt{{ {f_crit:.2f} }}'\n",
    "                  + fr'\\sqrt{{ \\frac{{ {round(Sd[i,i],2):.2f} }}{{ {n} }} }}'\n",
    "                  + r'\\hspace{0.4cm}\\text{or}\\hspace{0.4cm}'\n",
    "                  +fr'({simult_95ci[i,0]:.2f}, {simult_95ci[i,1]:.2f})'\n",
    "                  ))"
   ]
  },
  {
   "cell_type": "markdown",
   "metadata": {},
   "source": [
    "## (b)"
   ]
  },
  {
   "cell_type": "code",
   "execution_count": 13,
   "metadata": {},
   "outputs": [],
   "source": [
    "n = effluent_df.shape[0]\n",
    "p = 2\n",
    "alpha = 0.05"
   ]
  },
  {
   "cell_type": "markdown",
   "metadata": {},
   "source": [
    "From (6-10a) on page 276, the Bonferroni $100(1-\\alpha)$% simultaneous confidence intervals are\n",
    "$$\n",
    "    \\delta_{i}:\n",
    "    \\hspace{0.4cm}\n",
    "    \\bar{d}_{i} \\pm t_{n-1} \\left(\\frac{\\alpha}{2p} \\right)\n",
    "    \\sqrt{\\frac{s_{d_{i}}^{2}}{n}}\n",
    "$$"
   ]
  },
  {
   "cell_type": "code",
   "execution_count": 14,
   "metadata": {},
   "outputs": [],
   "source": [
    "bonfer_95ci = chapter5_module.bonferroni_conf_int(effluent_df[['d1','d2']].to_numpy(), m=p, alpha=0.05)"
   ]
  },
  {
   "cell_type": "code",
   "execution_count": 15,
   "metadata": {},
   "outputs": [],
   "source": [
    "t_crit = stats.t.ppf(1-alpha/(2*p),df=n-1)"
   ]
  },
  {
   "cell_type": "code",
   "execution_count": 16,
   "metadata": {},
   "outputs": [
    {
     "data": {
      "text/latex": [
       "$\\displaystyle \\delta_{ 1 }: \\bar{ d }_{ 1 }\\pm t(\\alpha/(2(2)))\\sqrt{ \\frac{ S_{ d_1 } }{ n } } =-0.56\\pm 2.63\\sqrt{ \\frac{ 0.46 }{ 11 } }\\hspace{0.4cm}\\text{or}\\hspace{0.4cm}(-1.09, -0.02)$"
      ],
      "text/plain": [
       "<IPython.core.display.Math object>"
      ]
     },
     "metadata": {},
     "output_type": "display_data"
    },
    {
     "data": {
      "text/latex": [
       "$\\displaystyle \\delta_{ 2 }: \\bar{ d }_{ 2 }\\pm t(\\alpha/(2(2)))\\sqrt{ \\frac{ S_{ d_2 } }{ n } } =0.30\\pm 2.63\\sqrt{ \\frac{ 0.18 }{ 11 } }\\hspace{0.4cm}\\text{or}\\hspace{0.4cm}(-0.04, 0.64)$"
      ],
      "text/plain": [
       "<IPython.core.display.Math object>"
      ]
     },
     "metadata": {},
     "output_type": "display_data"
    }
   ],
   "source": [
    "for i in range(p):\n",
    "    display(Math(fr'\\delta_{{ {i+1} }}: \\bar{{ d }}_{{ {i+1} }}'\n",
    "                  + r'\\pm '\n",
    "                  + fr't(\\alpha/({2}({p})))'\n",
    "                  + fr'\\sqrt{{ \\frac{{ S_{{ d_{i+1} }} }}{{ n }} }} ='\n",
    "                  + fr'{xbard[i].item():.2f}'\n",
    "                  + r'\\pm '\n",
    "                  + f'{t_crit:.2f}'\n",
    "                  + fr'\\sqrt{{ \\frac{{ {round(Sd[i,i],2):.2f} }}{{ {n} }} }}'\n",
    "                  + r'\\hspace{0.4cm}\\text{or}\\hspace{0.4cm}'\n",
    "                  +fr'({bonfer_95ci[i,0]:.2f}, {bonfer_95ci[i,1]:.2f})'\n",
    "                  ))"
   ]
  },
  {
   "cell_type": "markdown",
   "metadata": {},
   "source": [
    "## (c)"
   ]
  },
  {
   "cell_type": "markdown",
   "metadata": {},
   "source": [
    "From Section 4.6 on page 182, if our data is bivariate normal, we'd expect roughly 50% of our data to be within the ellipse\n",
    "$$\n",
    "    \\left\\{\n",
    "        \\text{all }\\textbf{x}\\text{ such that }\n",
    "        {(\\textbf{x} - \\bar{\\textbf{x}})}^{\\prime}\n",
    "        \\textbf{S}_{-1}\n",
    "        (\\textbf{x} - \\bar{\\textbf{x}})\n",
    "        \\leq\n",
    "        \\chi_{2}^{2}(0.50)\n",
    "    \\right\\}\n",
    "$$"
   ]
  },
  {
   "cell_type": "code",
   "execution_count": 17,
   "metadata": {},
   "outputs": [
    {
     "data": {
      "text/plain": [
       "1.386294361119891"
      ]
     },
     "execution_count": 17,
     "metadata": {},
     "output_type": "execute_result"
    }
   ],
   "source": [
    "chi2_crit = stats.chi2.ppf(1-0.50, p)\n",
    "chi2_crit"
   ]
  },
  {
   "cell_type": "code",
   "execution_count": 18,
   "metadata": {},
   "outputs": [],
   "source": [
    "# Compute the squared generalized distances.\n",
    "sq_gen_dist = [((x[:,np.newaxis] - xbard).T @ la.inv(Sd) @ (x[:,np.newaxis] - xbard)).item() for x in effluent_df[['d1','d2']].to_numpy()]"
   ]
  },
  {
   "cell_type": "code",
   "execution_count": 20,
   "metadata": {},
   "outputs": [
    {
     "data": {
      "text/plain": [
       "36.36363636363637"
      ]
     },
     "execution_count": 20,
     "metadata": {},
     "output_type": "execute_result"
    }
   ],
   "source": [
    "# What percentage of the data are within the $\\chi_{2}^{2}(0.50)$? Should be around 50%\n",
    "sum([d<= chi2_crit for d in sq_gen_dist])/len(sq_gen_dist) * 100"
   ]
  },
  {
   "cell_type": "code",
   "execution_count": 21,
   "metadata": {},
   "outputs": [],
   "source": [
    "chi2_data = chapter4_module.data_for_chi2_plot(effluent_df[['d1','d2']].to_numpy())"
   ]
  },
  {
   "cell_type": "code",
   "execution_count": 22,
   "metadata": {},
   "outputs": [
    {
     "data": {
      "image/png": "[encoded data removed]",
      "text/plain": [
       "<Figure size 640x480 with 1 Axes>"
      ]
     },
     "metadata": {},
     "output_type": "display_data"
    }
   ],
   "source": [
    "plt.scatter(chi2_data[:,1].flatten(), chi2_data[:,0].flatten())\n",
    "plt.xlabel(fr'$q_{{c, {p} }}((j - \\frac{{ 1 }}{{ 2 }})/{n})$')\n",
    "plt.ylabel('$d_{(j)}^{2}$')\n",
    "plt.title(fr'$\\chi^{2} plot$')\n",
    "plt.savefig(r'.\\Question-6-4.png')\n",
    "plt.show()"
   ]
  }
 ],
 "metadata": {
  "kernelspec": {
   "display_name": "py312",
   "language": "python",
   "name": "py312"
  },
  "language_info": {
   "codemirror_mode": {
    "name": "ipython",
    "version": 3
   },
   "file_extension": ".py",
   "mimetype": "text/x-python",
   "name": "python",
   "nbconvert_exporter": "python",
   "pygments_lexer": "ipython3",
   "version": "3.12.5"
  }
 },
 "nbformat": 4,
 "nbformat_minor": 2
}
