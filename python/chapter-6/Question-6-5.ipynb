{
 "cells": [
  {
   "cell_type": "markdown",
   "metadata": {},
   "source": [
    "# Exercise 6.5"
   ]
  },
  {
   "cell_type": "code",
   "execution_count": 1,
   "metadata": {},
   "outputs": [],
   "source": [
    "import numpy as np\n",
    "import scipy.linalg as la\n",
    "from IPython.display import display, Math\n",
    "from scipy import stats"
   ]
  },
  {
   "cell_type": "code",
   "execution_count": 2,
   "metadata": {},
   "outputs": [],
   "source": [
    "n = 40\n",
    "q = 3\n",
    "xbar = np.array([[46.1], [57.3], [50.4]])\n",
    "S = np.array([[101.3, 63.0, 71.0], [63.0, 80.2, 55.6], [71.0, 55.6, 97.4]])"
   ]
  },
  {
   "cell_type": "markdown",
   "metadata": {},
   "source": [
    "## (a)"
   ]
  },
  {
   "cell_type": "markdown",
   "metadata": {},
   "source": [
    "$$\n",
    "    \\begin{align*}\n",
    "        H_{0}: \\textbf{C} \\bm{\\mu} &= \\textbf{0} \\\\\n",
    "        H_{1}: \\textbf{C} \\bm{\\mu} &\\ne \\textbf{0}\n",
    "    \\end{align*}\n",
    "$$"
   ]
  },
  {
   "cell_type": "code",
   "execution_count": 3,
   "metadata": {},
   "outputs": [],
   "source": [
    "C = np.array([[-1, 1, 0], [0, -1, 1]])"
   ]
  },
  {
   "cell_type": "code",
   "execution_count": 4,
   "metadata": {},
   "outputs": [
    {
     "data": {
      "text/latex": [
       "$\\displaystyle T^{2}=n{(\\textbf{C}\\bar{\\textbf{x}})}^{\\prime}{(\\textbf{C}\\textbf{S}\\textbf{C}^{\\prime})}^{-1}\\textbf{C}\\bar{\\textbf{x}}=90.4946$"
      ],
      "text/plain": [
       "<IPython.core.display.Math object>"
      ]
     },
     "metadata": {},
     "output_type": "display_data"
    }
   ],
   "source": [
    "T2 = (n * (C @ xbar).T @ la.inv(C @ S @ C.T) @ (C @ xbar)).item()\n",
    "display(Math(r'T^{2}'\n",
    "             '='\n",
    "             r'n{(\\textbf{C}\\bar{\\textbf{x}})}^{\\prime}'\n",
    "             r'{(\\textbf{C}\\textbf{S}\\textbf{C}^{\\prime})}^{-1}'\n",
    "             r'\\textbf{C}\\bar{\\textbf{x}}'\n",
    "             '='\n",
    "             f'{T2:.4f}'\n",
    "             ))"
   ]
  },
  {
   "cell_type": "code",
   "execution_count": 5,
   "metadata": {},
   "outputs": [],
   "source": [
    "alpha = 0.05\n",
    "const = ((n-1)*(q-1))/(n-(q-1))\n",
    "f_value = stats.f.ppf(1-alpha, dfn=q-1, dfd=n-(q-1))\n",
    "f_crit = const * f_value"
   ]
  },
  {
   "cell_type": "code",
   "execution_count": 6,
   "metadata": {},
   "outputs": [
    {
     "data": {
      "text/latex": [
       "$\\displaystyle F_{\\text{crit}}=\\frac{ (n-1)(q-1)}{n-(q-1) } F_{ q-1, n-(q-1) }(\\alpha)=\\frac{ (40-1)(3-1) }{ 40-(3-1) } F_{ 3-1, 40-(3-1) }(0.05)=2.05 (3.24)=6.6604$"
      ],
      "text/plain": [
       "<IPython.core.display.Math object>"
      ]
     },
     "metadata": {},
     "output_type": "display_data"
    }
   ],
   "source": [
    "display(Math(r'F_{\\text{crit}}'\n",
    "             '='\n",
    "             r'\\frac{ (n-1)(q-1)}{n-(q-1) } F_{ q-1, n-(q-1) }(\\alpha)'\n",
    "             '='\n",
    "             fr'\\frac{{ ({n}-1)({q}-1) }}{{ {n}-({q}-1) }} F_{{ {q}-1, {n}-({q}-1) }}({alpha})'\n",
    "             '='\n",
    "             f'{const:.2f} ({f_value:.2f})'\n",
    "             '='\n",
    "             f'{f_crit:.4f}'\n",
    "             ))\n"
   ]
  },
  {
   "cell_type": "code",
   "execution_count": 7,
   "metadata": {},
   "outputs": [
    {
     "data": {
      "text/latex": [
       "$\\displaystyle \\text{We have that } T^{ 2 } = 90.49 > F_{ \\text{crit} } = F_{ 2, 38 }(0.05) = 6.66 \\text{, so we would reject the null hypothesis that } \\textbf{C} \\bm{\\mu} = \\textbf{0} \\text{ (equality of mean indices)}.$"
      ],
      "text/plain": [
       "<IPython.core.display.Math object>"
      ]
     },
     "metadata": {},
     "output_type": "display_data"
    }
   ],
   "source": [
    "if T2 > f_crit:\n",
    "    display(Math(fr'\\text{{We have that }} T^{{ 2 }} = {T2:.2f} > F_{{ \\text{{crit}} }} = F_{{ {q-1}, {n-(q-1)} }}({alpha}) = '\n",
    "                 fr'{f_crit:.2f} \\text{{, so we would reject the null hypothesis that }} '\n",
    "                 r'\\textbf{C} \\bm{\\mu} = \\textbf{0} \\text{ (equality of mean indices)}.'\n",
    "                 ))\n",
    "else:\n",
    "    display(Math(fr'\\text{{We have that }} T^{{ 2 }} = {T2:.2f} < F_{{ \\text{{crit}} }} = F_{{ {q-1}, {n-(q-1)} }}({alpha}) = '\n",
    "                 fr'{f_crit:.2f} \\text{{, so we would fail to reject the null hypothesis that }} '\n",
    "                 r'\\textbf{C} \\bm{\\mu} = \\textbf{0} \\text{ (equality of mean indices)}.'\n",
    "                ))"
   ]
  },
  {
   "cell_type": "markdown",
   "metadata": {},
   "source": [
    "## (b)"
   ]
  },
  {
   "cell_type": "code",
   "execution_count": 8,
   "metadata": {},
   "outputs": [],
   "source": [
    "c1 = np.array([-1,1,0])[:,np.newaxis]  # Same as row 1 in C above.\n",
    "c1_95ci = (c1.T @ xbar).item() + np.array([-1, 1]) * np.sqrt(f_crit) * np.sqrt((c1.T @ S @ c1).item() / n)"
   ]
  },
  {
   "cell_type": "code",
   "execution_count": 9,
   "metadata": {},
   "outputs": [
    {
     "data": {
      "text/latex": [
       "$\\displaystyle \\textbf{c}_{1}^{\\prime}\\bm{\\mu}:\\hspace{0.4cm}\\textbf{c}_{1}^{\\prime}\\bar{\\textbf{x}}\\pm \\sqrt{ \\frac{ (n-1)(q-1)}{n-(q-1) } F_{ q-1, n-(q-1) }(\\alpha) }\\sqrt{ \\frac{\\textbf{c}_{1}^{\\prime}\\textbf{S}\\textbf{c}_{1}}{n} }=11.20\\pm \\sqrt{ 6.66 }\\sqrt{ \\frac{ 55.5 }{ 40 } }=11.20\\pm3.04\\hspace{0.2cm}\\text{or}\\hspace{0.2cm}(8.160, 14.240)$"
      ],
      "text/plain": [
       "<IPython.core.display.Math object>"
      ]
     },
     "metadata": {},
     "output_type": "display_data"
    }
   ],
   "source": [
    "display(Math(r'\\textbf{c}_{1}^{\\prime}\\bm{\\mu}:\\hspace{0.4cm}'\n",
    "             r'\\textbf{c}_{1}^{\\prime}\\bar{\\textbf{x}}'\n",
    "             r'\\pm '\n",
    "             r'\\sqrt{ \\frac{ (n-1)(q-1)}{n-(q-1) } F_{ q-1, n-(q-1) }(\\alpha) }'\n",
    "             r'\\sqrt{ \\frac{\\textbf{c}_{1}^{\\prime}\\textbf{S}\\textbf{c}_{1}}{n} }'\n",
    "             r'='\n",
    "             f'{(c1.T @ xbar).item():.2f}'\n",
    "             r'\\pm '\n",
    "             fr'\\sqrt{{ {f_crit:.2f} }}'\n",
    "             fr'\\sqrt{{ \\frac{{ {(c1.T @ S @ c1).item()} }}{{ {n} }} }}'\n",
    "             '='\n",
    "             f'{(c1.T @ xbar).item():.2f}'\n",
    "             r'\\pm'\n",
    "             f'{np.sqrt(f_crit) * np.sqrt((c1.T @ S @ c1).item() / n):.2f}'\n",
    "             r'\\hspace{0.2cm}\\text{or}\\hspace{0.2cm}'\n",
    "             f'({c1_95ci[0]:.3f}, {c1_95ci[1]:.3f})'\n",
    "             ))"
   ]
  },
  {
   "cell_type": "code",
   "execution_count": 10,
   "metadata": {},
   "outputs": [],
   "source": [
    "c2 = np.array([0,-1,1])[:,np.newaxis]  # Same as row 2 in C above.\n",
    "c2_95ci = (c2.T @ xbar).item() + np.array([-1, 1]) * np.sqrt(f_crit) * np.sqrt((c2.T @ S @ c2).item() / n)"
   ]
  },
  {
   "cell_type": "code",
   "execution_count": 11,
   "metadata": {},
   "outputs": [
    {
     "data": {
      "text/latex": [
       "$\\displaystyle \\textbf{c}_{2}^{\\prime}\\bm{\\mu}:\\hspace{0.4cm}\\textbf{c}_{2}^{\\prime}\\bar{\\textbf{x}}\\pm \\sqrt{ \\frac{ (n-1)(q-1)}{n-(q-1) } F_{ q-1, n-(q-1) }(\\alpha) }\\sqrt{ \\frac{\\textbf{c}_{2}^{\\prime}\\textbf{S}\\textbf{c}_{2}}{n} }=-6.90\\pm \\sqrt{ 6.66 }\\sqrt{ \\frac{ 66.4 }{ 40 } }=-6.90\\pm3.33\\hspace{0.2cm}\\text{or}\\hspace{0.2cm}(-10.225, -3.575)$"
      ],
      "text/plain": [
       "<IPython.core.display.Math object>"
      ]
     },
     "metadata": {},
     "output_type": "display_data"
    }
   ],
   "source": [
    "display(Math(r'\\textbf{c}_{2}^{\\prime}\\bm{\\mu}:\\hspace{0.4cm}'\n",
    "             r'\\textbf{c}_{2}^{\\prime}\\bar{\\textbf{x}}'\n",
    "             r'\\pm '\n",
    "             r'\\sqrt{ \\frac{ (n-1)(q-1)}{n-(q-1) } F_{ q-1, n-(q-1) }(\\alpha) }'\n",
    "             r'\\sqrt{ \\frac{\\textbf{c}_{2}^{\\prime}\\textbf{S}\\textbf{c}_{2}}{n} }'\n",
    "             r'='\n",
    "             f'{(c2.T @ xbar).item():.2f}'\n",
    "             r'\\pm '\n",
    "             fr'\\sqrt{{ {f_crit:.2f} }}'\n",
    "             fr'\\sqrt{{ \\frac{{ {(c2.T @ S @ c2).item()} }}{{ {n} }} }}'\n",
    "             '='\n",
    "             f'{(c2.T @ xbar).item():.2f}'\n",
    "             r'\\pm'\n",
    "             f'{np.sqrt(f_crit) * np.sqrt((c2.T @ S @ c2).item() / n):.2f}'\n",
    "             r'\\hspace{0.2cm}\\text{or}\\hspace{0.2cm}'\n",
    "             f'({c2_95ci[0]:.3f}, {c2_95ci[1]:.3f})'\n",
    "             ))"
   ]
  },
  {
   "cell_type": "code",
   "execution_count": 12,
   "metadata": {},
   "outputs": [],
   "source": [
    "c3 = np.array([-1,0,1])[:,np.newaxis]\n",
    "c3_95ci = (c3.T @ xbar).item() + np.array([-1, 1]) * np.sqrt(f_crit) * np.sqrt((c3.T @ S @ c3).item() / n)"
   ]
  },
  {
   "cell_type": "code",
   "execution_count": 13,
   "metadata": {},
   "outputs": [
    {
     "data": {
      "text/latex": [
       "$\\displaystyle \\textbf{c}_{3}^{\\prime}\\bm{\\mu}:\\hspace{0.4cm}\\textbf{c}_{3}^{\\prime}\\bar{\\textbf{x}}\\pm \\sqrt{ \\frac{ (n-1)(q-1)}{n-(q-1) } F_{ q-1, n-(q-1) }(\\alpha) }\\sqrt{ \\frac{\\textbf{c}_{3}^{\\prime}\\textbf{S}\\textbf{c}_{3}}{n} }=4.30\\pm \\sqrt{ 6.66 }\\sqrt{ \\frac{ 56.7 }{ 40 } }=4.30\\pm3.07\\hspace{0.2cm}\\text{or}\\hspace{0.2cm}(1.227, 7.373)$"
      ],
      "text/plain": [
       "<IPython.core.display.Math object>"
      ]
     },
     "metadata": {},
     "output_type": "display_data"
    }
   ],
   "source": [
    "display(Math(r'\\textbf{c}_{3}^{\\prime}\\bm{\\mu}:\\hspace{0.4cm}'\n",
    "             r'\\textbf{c}_{3}^{\\prime}\\bar{\\textbf{x}}'\n",
    "             r'\\pm '\n",
    "             r'\\sqrt{ \\frac{ (n-1)(q-1)}{n-(q-1) } F_{ q-1, n-(q-1) }(\\alpha) }'\n",
    "             r'\\sqrt{ \\frac{\\textbf{c}_{3}^{\\prime}\\textbf{S}\\textbf{c}_{3}}{n} }'\n",
    "             r'='\n",
    "             f'{(c3.T @ xbar).item():.2f}'\n",
    "             r'\\pm '\n",
    "             fr'\\sqrt{{ {f_crit:.2f} }}'\n",
    "             fr'\\sqrt{{ \\frac{{ {(c3.T @ S @ c3).item()} }}{{ {n} }} }}'\n",
    "             '='\n",
    "             f'{(c3.T @ xbar).item():.2f}'\n",
    "             r'\\pm'\n",
    "             f'{np.sqrt(f_crit) * np.sqrt((c3.T @ S @ c3).item() / n):.2f}'\n",
    "             r'\\hspace{0.2cm}\\text{or}\\hspace{0.2cm}'\n",
    "             f'({c3_95ci[0]:.3f}, {c3_95ci[1]:.3f})'\n",
    "             ))"
   ]
  }
 ],
 "metadata": {
  "kernelspec": {
   "display_name": "py312",
   "language": "python",
   "name": "py312"
  },
  "language_info": {
   "codemirror_mode": {
    "name": "ipython",
    "version": 3
   },
   "file_extension": ".py",
   "mimetype": "text/x-python",
   "name": "python",
   "nbconvert_exporter": "python",
   "pygments_lexer": "ipython3",
   "version": "3.12.5"
  }
 },
 "nbformat": 4,
 "nbformat_minor": 2
}
