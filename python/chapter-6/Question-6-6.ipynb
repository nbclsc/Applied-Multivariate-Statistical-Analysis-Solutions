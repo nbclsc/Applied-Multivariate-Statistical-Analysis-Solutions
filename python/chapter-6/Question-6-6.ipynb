{
 "cells": [
  {
   "cell_type": "markdown",
   "metadata": {},
   "source": [
    "# Exercise 6.6"
   ]
  },
  {
   "cell_type": "code",
   "execution_count": 1,
   "metadata": {},
   "outputs": [],
   "source": [
    "import pathlib\n",
    "import numpy as np\n",
    "import pandas as pd\n",
    "import scipy.linalg as la\n",
    "from IPython.display import display, Math\n",
    "from scipy import stats"
   ]
  },
  {
   "cell_type": "code",
   "execution_count": 2,
   "metadata": {},
   "outputs": [],
   "source": [
    "def load_data():\n",
    "    f = pathlib.Path(r'..\\..\\Data\\Exercise6.8.xlsx')\n",
    "    df = pd.read_excel(f)\n",
    "    # Only keep Treatments 2 and 3.\n",
    "    df = df[df.Treat.isin([2,3])].copy()\n",
    "    return df"
   ]
  },
  {
   "cell_type": "code",
   "execution_count": 3,
   "metadata": {},
   "outputs": [],
   "source": [
    "df = load_data()"
   ]
  },
  {
   "cell_type": "code",
   "execution_count": 4,
   "metadata": {},
   "outputs": [],
   "source": [
    "n = df.shape[0]\n",
    "p = 2\n",
    "g = df.Treat.nunique()"
   ]
  },
  {
   "cell_type": "markdown",
   "metadata": {},
   "source": [
    "### (a)"
   ]
  },
  {
   "cell_type": "code",
   "execution_count": 5,
   "metadata": {},
   "outputs": [],
   "source": [
    "S_pooled = sum([(g.shape[0] - 1)*g[['resp1','resp2']].cov() for _, g in df.groupby('Treat')])/(n - g)\n",
    "S_pooled = S_pooled.to_numpy()"
   ]
  },
  {
   "cell_type": "code",
   "execution_count": 6,
   "metadata": {},
   "outputs": [
    {
     "data": {
      "text/latex": [
       "$\\displaystyle \\textbf{S}_{\\text{pooled}}=\\left[\\begin{array}{rr}1.6 & -1.4 \\\\-1.4 & 2.0\\end{array}\\right]$"
      ],
      "text/plain": [
       "<IPython.core.display.Math object>"
      ]
     },
     "metadata": {},
     "output_type": "display_data"
    }
   ],
   "source": [
    "display(Math(r'\\textbf{S}_{\\text{pooled}}'\n",
    "             '='\n",
    "             r'\\left['\n",
    "             r'\\begin{array}{rr}'\n",
    "             fr'{S_pooled[0,0]} & {S_pooled[0,1]} \\\\'\n",
    "             f'{S_pooled[1,0]} & {S_pooled[1,1]}'\n",
    "             r'\\end{array}'\n",
    "             r'\\right]'\n",
    "             ))"
   ]
  },
  {
   "cell_type": "markdown",
   "metadata": {},
   "source": [
    "### (b)"
   ]
  },
  {
   "cell_type": "markdown",
   "metadata": {},
   "source": [
    "Using the test from page 285,\n",
    "$$\n",
    "    H_{0}: \\bm{\\mu}_{2} - \\bm{\\mu}_{3} = \\bm{\\delta}_{0} = \\textbf{0}\n",
    "$$\n",
    "\n",
    "$$\n",
    "    T^{2}\n",
    "    =\n",
    "    {(\\bar{\\textbf{x}}_{2} - \\bar{\\textbf{x}}_{3} - \\bm{\\delta}_{0})}^{2}\n",
    "    {\\left[\n",
    "        \\left(\n",
    "            \\frac{1}{n_{2}}\n",
    "            +\n",
    "            \\frac{1}{n_{3}}\n",
    "        \\right)\n",
    "        \\textbf{S}_{\\text{pooled}}\n",
    "    \\right]}^{-1}\n",
    "    (\\bar{\\textbf{x}}_{2} - \\bar{\\textbf{x}}_{3} - \\bm{\\delta}_{0})\n",
    "    > c^{2}\n",
    "$$"
   ]
  },
  {
   "cell_type": "markdown",
   "metadata": {},
   "source": [
    "Here,\n",
    "$$\n",
    "    \\bm{\\delta}_{0}\n",
    "    =\n",
    "    \\textbf{0}\n",
    "    =\n",
    "    \\left[\n",
    "        \\begin{array}{cc}\n",
    "            0 \\\\\n",
    "            0\n",
    "        \\end{array}\n",
    "    \\right]\n",
    "$$"
   ]
  },
  {
   "cell_type": "code",
   "execution_count": 7,
   "metadata": {},
   "outputs": [],
   "source": [
    "alpha = 0.01\n",
    "n2, n3 = df.value_counts('Treat').sort_index()\n",
    "xbar = df.groupby('Treat').mean().T.to_numpy()"
   ]
  },
  {
   "cell_type": "code",
   "execution_count": 8,
   "metadata": {},
   "outputs": [],
   "source": [
    "# Create a vector used to take the difference between the second and third group mean vectors.\n",
    "c = np.array([[1],[-1]])\n",
    "# We're testing that the difference between groups two and three are zero, so \\bm{\\delta}_{0} is the zero vector.\n",
    "delta0 = np.zeros([2,1])"
   ]
  },
  {
   "cell_type": "code",
   "execution_count": 9,
   "metadata": {},
   "outputs": [],
   "source": [
    "# Take the difference between the second and third group mean vectors.\n",
    "d = xbar @ c\n"
   ]
  },
  {
   "cell_type": "code",
   "execution_count": 10,
   "metadata": {},
   "outputs": [],
   "source": [
    "T2 = ((d - delta0).T @ la.inv((1/n2 + 1/n3) * S_pooled) @ (d - delta0)).item()"
   ]
  },
  {
   "cell_type": "code",
   "execution_count": 11,
   "metadata": {},
   "outputs": [],
   "source": [
    "# Compute c^{2} from what's on page 286.\n",
    "f_value = stats.f.ppf(1-alpha, dfn=p, dfd=n2+n3-(p+1))\n",
    "const = ((n2 + n3 - 2)*p)/(n2 + n3 - (p + 1))\n",
    "c2 = const * f_value"
   ]
  },
  {
   "cell_type": "code",
   "execution_count": 18,
   "metadata": {},
   "outputs": [
    {
     "data": {
      "text/latex": [
       "$\\displaystyle c^{2}=\\frac{(n_{2} + n_{3}  - 2)p}{(n_{2} + n_{3} - (p + 1))}F_{p, n_{2} + n_{3} - (p+1)}(\\alpha)=\\frac{ (5)(2) }{ 4 }F_{ 2, 4 }(0.01)=2.500 \\times 18.00=45.00$"
      ],
      "text/plain": [
       "<IPython.core.display.Math object>"
      ]
     },
     "metadata": {},
     "output_type": "display_data"
    }
   ],
   "source": [
    "display(Math('c^{2}'\n",
    "             '='\n",
    "             r'\\frac{(n_{2} + n_{3}  - 2)p}{(n_{2} + n_{3} - (p + 1))}'\n",
    "             r'F_{p, n_{2} + n_{3} - (p+1)}(\\alpha)'\n",
    "             '='\n",
    "             fr'\\frac{{ ({n2 + n3 - 2})({p}) }}{{ {n2 + n3 - (p + 1)} }}'\n",
    "             fr'F_{{ {p}, {n2 + n3 - (p+1)} }}({alpha})'\n",
    "             '='\n",
    "             fr'{const:.3f} \\times {f_value:.2f}'\n",
    "             '='\n",
    "             f'{c2:.2f}'\n",
    "             ))"
   ]
  },
  {
   "cell_type": "code",
   "execution_count": 17,
   "metadata": {},
   "outputs": [
    {
     "data": {
      "text/latex": [
       "$\\displaystyle \\text{We have that } T^{2} = 3.87 < c^2 = F_{ 2, 4 }(0.01) = 45.00 \\text{, so we would fail to reject the null hypothesis that } \\bm{\\mu}_{2} = \\bm{\\mu}_{3} \\text{ (the mean vectors for the two groups are equal)}.$"
      ],
      "text/plain": [
       "<IPython.core.display.Math object>"
      ]
     },
     "metadata": {},
     "output_type": "display_data"
    }
   ],
   "source": [
    "if T2 > c2:\n",
    "    display(Math(fr'\\text{{We have that }} T^{{2}} = {T2:.2f} > c^{2} = F_{{ {p}, {n2+n3-(p+1)} }}({alpha}) = '\n",
    "                 fr'{c2:.2f} \\text{{, so we would reject the null hypothesis that }} '\n",
    "                 r'\\bm{\\mu}_{2} = \\bm{\\mu}_{3} \\text{ (the mean vectors for the two groups are equal)}.'\n",
    "                 ))\n",
    "else:\n",
    "    display(Math(fr'\\text{{We have that }} T^{{2}} = {T2:.2f} < c^{2} = F_{{ {p}, {n2+n3-(p+1)} }}({alpha}) = '\n",
    "                 fr'{c2:.2f} \\text{{, so we would fail to reject the null hypothesis that }} '\n",
    "                 r'\\bm{\\mu}_{2} = \\bm{\\mu}_{3} \\text{ (the mean vectors for the two groups are equal)}.'\n",
    "                ))"
   ]
  },
  {
   "cell_type": "markdown",
   "metadata": {},
   "source": [
    "### (c)"
   ]
  },
  {
   "cell_type": "markdown",
   "metadata": {},
   "source": [
    "Using Result 6.3 on page 288\n",
    "\n",
    "$$\n",
    "    \\textbf{a}^{\\prime}\n",
    "    {(\\bar{\\textbf{X}}_{2} - \\bar{\\textbf{X}}_{3})}\n",
    "    \\pm\n",
    "    c\n",
    "    \\sqrt{\n",
    "        \\textbf{a}^{\\prime}\n",
    "        \\left(\n",
    "            \\frac{1}{n_{2}}\n",
    "            +\n",
    "            \\frac{1}{n_{3}}\n",
    "        \\right)\n",
    "        \\textbf{S}_{\\text{pooled}}\n",
    "        \\textbf{a}\n",
    "    }\n",
    "$$\n",
    "where\n",
    "$$\n",
    "    c^{2}\n",
    "    =\n",
    "    \\frac{(n_{2} + n_{3} - 2)p}{n_{2} + n_{3} - (p + 1)}\n",
    "    F_{p, n_{2} + n_{3} - (p + 1)}\n",
    "    (\\alpha)\n",
    "$$"
   ]
  },
  {
   "cell_type": "markdown",
   "metadata": {},
   "source": [
    "Setup the $\\textbf{a}$ vectors,\n",
    "$$\n",
    "\\textbf{a}_{1}\n",
    "=\n",
    "\\begin{bmatrix}\n",
    "    1 \\\\\n",
    "    0\n",
    "\\end{bmatrix}\n",
    "\\hspace{0.2cm}\n",
    "\\text{and}\n",
    "\\hspace{0.2cm}\n",
    "\\textbf{a}_{2}\n",
    "=\n",
    "\\begin{bmatrix}\n",
    "    1 \\\\\n",
    "    0\n",
    "\\end{bmatrix}\n",
    "$$"
   ]
  },
  {
   "cell_type": "code",
   "execution_count": 14,
   "metadata": {},
   "outputs": [],
   "source": [
    "a1 = np.array([[1], [0]])\n",
    "a2 = np.array([[0], [1]])"
   ]
  },
  {
   "cell_type": "code",
   "execution_count": 15,
   "metadata": {},
   "outputs": [],
   "source": [
    "ci99 = np.vstack([\n",
    "    a1.T @ d + np.array([-1, 1]) * np.sqrt(c2) * np.sqrt((1/n2 + 1/n3) * (a1.T @ S_pooled @ a1)).item(),\n",
    "    a2.T @ d + np.array([-1, 1]) * np.sqrt(c2) * np.sqrt((1/n2 + 1/n3) * (a2.T @ S_pooled @ a2)).item()\n",
    "    ])"
   ]
  },
  {
   "cell_type": "code",
   "execution_count": 16,
   "metadata": {},
   "outputs": [
    {
     "data": {
      "text/latex": [
       "$\\displaystyle \\mu_{ 21 } - \\mu_{ 31 }:(2.0 - 3.0)\\pm \\sqrt{45.00} \\sqrt{\\left(\\frac{1}{3} + \\frac{1}{4}\\right) 1.60}\\hspace{0.4cm}\\text{or}\\hspace{0.4cm}-7.481 \\leq \\mu_{ 21 } - \\mu_{ 31 } \\leq 5.481$"
      ],
      "text/plain": [
       "<IPython.core.display.Math object>"
      ]
     },
     "metadata": {},
     "output_type": "display_data"
    },
    {
     "data": {
      "text/latex": [
       "$\\displaystyle \\mu_{ 22 } - \\mu_{ 32 }:(4.0 - 2.0)\\pm \\sqrt{45.00} \\sqrt{\\left(\\frac{1}{3} + \\frac{1}{4}\\right) 2.00}\\hspace{0.4cm}\\text{or}\\hspace{0.4cm}-5.246 \\leq \\mu_{ 22 } - \\mu_{ 32 } \\leq 9.246$"
      ],
      "text/plain": [
       "<IPython.core.display.Math object>"
      ]
     },
     "metadata": {},
     "output_type": "display_data"
    }
   ],
   "source": [
    "for i in range(ci99.shape[0]):\n",
    "    display(Math(fr'\\mu_{{ 2{i+1} }} - \\mu_{{ 3{i+1} }}:'\n",
    "                 fr'({xbar[i,0]:.1f} - {xbar[i,1]:.1f})'\n",
    "                 fr'\\pm \\sqrt{{{c2:.2f}}} '\n",
    "                 fr'\\sqrt{{\\left(\\frac{{1}}{{{n2}}} + \\frac{{1}}{{{n3}}}\\right) {S_pooled[i,i]:.2f}}}'\n",
    "                 r'\\hspace{0.4cm}\\text{or}\\hspace{0.4cm}'\n",
    "                 fr'{ci99[i,0]:.3f} \\leq \\mu_{{ 2{i+1} }} - \\mu_{{ 3{i+1} }} \\leq {ci99[i,1]:.3f}'\n",
    "                 ))"
   ]
  }
 ],
 "metadata": {
  "kernelspec": {
   "display_name": "py312",
   "language": "python",
   "name": "py312"
  },
  "language_info": {
   "codemirror_mode": {
    "name": "ipython",
    "version": 3
   },
   "file_extension": ".py",
   "mimetype": "text/x-python",
   "name": "python",
   "nbconvert_exporter": "python",
   "pygments_lexer": "ipython3",
   "version": "3.12.5"
  }
 },
 "nbformat": 4,
 "nbformat_minor": 2
}
