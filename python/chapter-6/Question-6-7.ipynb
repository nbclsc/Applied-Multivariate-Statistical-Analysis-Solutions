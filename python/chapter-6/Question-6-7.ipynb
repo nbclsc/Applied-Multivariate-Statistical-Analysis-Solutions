{
 "cells": [
  {
   "cell_type": "markdown",
   "metadata": {},
   "source": [
    "# Exercise 6.7"
   ]
  },
  {
   "cell_type": "code",
   "execution_count": 1,
   "metadata": {},
   "outputs": [],
   "source": [
    "import numpy as np\n",
    "import numpy.linalg as la\n",
    "from IPython.display import Math, display\n",
    "from scipy import stats"
   ]
  },
  {
   "cell_type": "markdown",
   "metadata": {},
   "source": [
    "Samples of sizes $n_{1} = 45$ and $n_{2} = 55$ were taken of Wisconsin\n",
    "homeowners with and without air conditioning, respectively. (Data courtesy of Statistical\n",
    "Laboratory, University of Wisconsin.) Two measurements of electrical usage\n",
    "(in kilowatt hours) were considered. The first is a measure of total on-peak consumption\n",
    "($X_{1}$) during July, and the second is a measure of total off-peak consumption\n",
    "( $X_{2}$) during July."
   ]
  },
  {
   "cell_type": "code",
   "execution_count": 2,
   "metadata": {},
   "outputs": [],
   "source": [
    "n1 = 45\n",
    "n2 = 55"
   ]
  },
  {
   "cell_type": "code",
   "execution_count": 3,
   "metadata": {},
   "outputs": [],
   "source": [
    "xbar1 = np.array([[204.4], [556.6]])\n",
    "xbar2 = np.array([[130.0], [355.0]])\n",
    "p = xbar1.shape[0]"
   ]
  },
  {
   "cell_type": "code",
   "execution_count": 4,
   "metadata": {},
   "outputs": [],
   "source": [
    "S1 = np.array([[13825.3, 23823.4], [23823.4, 73107.4]])\n",
    "S2 = np.array([[ 8632.0, 19616.7], [19616.7, 55964.5]])"
   ]
  },
  {
   "cell_type": "markdown",
   "metadata": {},
   "source": [
    "$$\n",
    "    \\textbf{S}_{\\text{pooled}}\n",
    "    =\n",
    "    \\frac{(n_{1} - 1)\\textbf{S}_{1} + (n_{2} - 1)\\textbf{S}_{2}}{(n_{1} - 1) + (n_{2} - 1)}\n",
    "$$"
   ]
  },
  {
   "cell_type": "code",
   "execution_count": 5,
   "metadata": {},
   "outputs": [
    {
     "data": {
      "text/plain": [
       "array([[10963.68571429, 21505.42244898],\n",
       "       [21505.42244898, 63661.3122449 ]])"
      ]
     },
     "execution_count": 5,
     "metadata": {},
     "output_type": "execute_result"
    }
   ],
   "source": [
    "S_pooled = ((n1 - 1)*S1 + (n2 - 1)*S2) / ((n1 - 1) + (n2 - 1))\n",
    "S_pooled"
   ]
  },
  {
   "cell_type": "code",
   "execution_count": 6,
   "metadata": {},
   "outputs": [],
   "source": [
    "T2 = ((xbar1 - xbar2).T @ la.inv((1/n1 + 1/n2) * S_pooled) @ (xbar1 - xbar2)).item()"
   ]
  },
  {
   "cell_type": "code",
   "execution_count": 7,
   "metadata": {},
   "outputs": [
    {
     "data": {
      "text/latex": [
       "$\\displaystyle T^{2}={[\\bar{\\textbf{X}}_{1} - \\bar{\\textbf{X}}_{2} - (\\bm{\\mu}_{1} - \\bm{\\mu}_{2})]}^{\\prime}{\\left[\\left(\\frac{1}{n_{1}}+\\frac{1}{n_{2}}\\right)\\textbf{S}_{\\text{pooled}}\\right]}^{-1}[\\bar{\\textbf{X}}_{1} - \\bar{\\textbf{X}}_{2} - (\\bm{\\mu}_{1} - \\bm{\\mu}_{2})]=16.0662$"
      ],
      "text/plain": [
       "<IPython.core.display.Math object>"
      ]
     },
     "metadata": {},
     "output_type": "display_data"
    }
   ],
   "source": [
    "display(Math('T^{2}'\n",
    "             '='\n",
    "             r'{[\\bar{\\textbf{X}}_{1} - \\bar{\\textbf{X}}_{2} - (\\bm{\\mu}_{1} - \\bm{\\mu}_{2})]}^{\\prime}'\n",
    "             r'{\\left['\n",
    "             r'\\left('\n",
    "             r'\\frac{1}{n_{1}}'\n",
    "             '+'\n",
    "             r'\\frac{1}{n_{2}}'\n",
    "             r'\\right)'\n",
    "             r'\\textbf{S}_{\\text{pooled}}'\n",
    "             r'\\right]}^{-1}'\n",
    "             r'[\\bar{\\textbf{X}}_{1} - \\bar{\\textbf{X}}_{2} - (\\bm{\\mu}_{1} - \\bm{\\mu}_{2})]'\n",
    "             '='\n",
    "             f'{T2:.4f}'\n",
    "             ))"
   ]
  },
  {
   "cell_type": "code",
   "execution_count": 8,
   "metadata": {},
   "outputs": [],
   "source": [
    "alpha = 0.05\n",
    "const = ((n1 + n2 - 2)*p)/(n1 + n2 - (p+1))\n",
    "f_value = stats.f.ppf(1-alpha, dfn=p, dfd=n1+n2-(p+1))\n",
    "c2 = const * f_value"
   ]
  },
  {
   "cell_type": "code",
   "execution_count": 9,
   "metadata": {},
   "outputs": [
    {
     "data": {
      "text/latex": [
       "$\\displaystyle c^{2}=\\frac{(n_{1} + n_{2} - 2)p}{(n_{1} + n_{2} - (p + 1))}F_{p, n_{1} + n_{2} - (p + 1)}(\\alpha)=\\frac{ (98)2 }{ (97) }F_{ 2, 97 }(0.05)=2.0206 \\times 3.0902=6.2441$"
      ],
      "text/plain": [
       "<IPython.core.display.Math object>"
      ]
     },
     "metadata": {},
     "output_type": "display_data"
    }
   ],
   "source": [
    "display(Math('c^{2}'\n",
    "             '='\n",
    "             r'\\frac{(n_{1} + n_{2} - 2)p}{(n_{1} + n_{2} - (p + 1))}'\n",
    "             r'F_{p, n_{1} + n_{2} - (p + 1)}(\\alpha)'\n",
    "             '='\n",
    "             fr'\\frac{{ ({ n1 + n2 - 2 }){ p } }}{{ ({ n1 + n2 - (p + 1) }) }}'\n",
    "             fr'F_{{ { p }, { n1 + n2 - (p + 1) } }}({ alpha })'\n",
    "             '='\n",
    "             fr'{const:.4f} \\times {f_value:.4f}'\n",
    "             '='\n",
    "             f'{c2:.4f}'\n",
    "             ))"
   ]
  },
  {
   "cell_type": "code",
   "execution_count": 10,
   "metadata": {},
   "outputs": [
    {
     "data": {
      "text/latex": [
       "$\\displaystyle \\text{We have that } T^{2} = 16.07 > c^2 = F_{ 2, 97 }(0.05) = 6.24 \\text{, so we would reject the null hypothesis that } \\bm{\\mu}_{1} = \\bm{\\mu}_{2} \\text{ (the mean vectors for the two groups are equal)}.$"
      ],
      "text/plain": [
       "<IPython.core.display.Math object>"
      ]
     },
     "metadata": {},
     "output_type": "display_data"
    }
   ],
   "source": [
    "if T2 > c2:\n",
    "    display(Math(fr'\\text{{We have that }} T^{{2}} = {T2:.2f} > c^{2} = F_{{ {p}, {n1+n2-(p+1)} }}({alpha}) = '\n",
    "                 fr'{c2:.2f} \\text{{, so we would reject the null hypothesis that }} '\n",
    "                 r'\\bm{\\mu}_{1} = \\bm{\\mu}_{2} \\text{ (the mean vectors for the two groups are equal)}.'\n",
    "                 ))\n",
    "else:\n",
    "    display(Math(fr'\\text{{We have that }} T^{{2}} = {T2:.2f} < c^{2} = F_{{ {p}, {n1+n2-(p+1)} }}({alpha}) = '\n",
    "                 fr'{c2:.2f} \\text{{, so we would fail to reject the null hypothesis that }} '\n",
    "                 r'\\bm{\\mu}_{1} = \\bm{\\mu}_{2} \\text{ (the mean vectors for the two groups are equal)}.'\n",
    "                ))"
   ]
  },
  {
   "cell_type": "code",
   "execution_count": 11,
   "metadata": {},
   "outputs": [],
   "source": [
    "ahat = la.inv(S_pooled) @ (xbar1 - xbar2)"
   ]
  },
  {
   "cell_type": "code",
   "execution_count": 12,
   "metadata": {},
   "outputs": [
    {
     "data": {
      "text/latex": [
       "$\\displaystyle \\hat{\\textbf{a}}\\propto\\textbf{S}^{-1}_{\\text{pooled}}(\\bar{\\textbf{x}}_{1} - \\bar{\\textbf{x}}_{2})=\\left[\\begin{array}{c}0.0017 \\\\0.0026\\end{array}\\right]$"
      ],
      "text/plain": [
       "<IPython.core.display.Math object>"
      ]
     },
     "metadata": {},
     "output_type": "display_data"
    }
   ],
   "source": [
    "display(Math(r'\\hat{\\textbf{a}}'\n",
    "             r'\\propto'\n",
    "             r'\\textbf{S}^{-1}_{\\text{pooled}}(\\bar{\\textbf{x}}_{1} - \\bar{\\textbf{x}}_{2})'\n",
    "             '='\n",
    "             r'\\left['\n",
    "             r'\\begin{array}{c}'\n",
    "             fr'{ahat[0,0]:.4f} \\\\'\n",
    "             fr'{ahat[1,0]:.4f}'\n",
    "             r'\\end{array}'\n",
    "                r'\\right]'\n",
    "             ))"
   ]
  }
 ],
 "metadata": {
  "kernelspec": {
   "display_name": "py312",
   "language": "python",
   "name": "py312"
  },
  "language_info": {
   "codemirror_mode": {
    "name": "ipython",
    "version": 3
   },
   "file_extension": ".py",
   "mimetype": "text/x-python",
   "name": "python",
   "nbconvert_exporter": "python",
   "pygments_lexer": "ipython3",
   "version": "3.12.5"
  }
 },
 "nbformat": 4,
 "nbformat_minor": 2
}
