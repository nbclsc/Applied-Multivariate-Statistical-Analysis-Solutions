{
 "cells": [
  {
   "cell_type": "markdown",
   "metadata": {},
   "source": [
    "# Exercise 6.8"
   ]
  },
  {
   "cell_type": "code",
   "execution_count": null,
   "metadata": {},
   "outputs": [],
   "source": [
    "import pathlib\n",
    "import numpy as np\n",
    "import pandas as pd\n",
    "import scipy.linalg as la\n",
    "from collections import namedtuple\n",
    "from IPython.display import display, Math\n",
    "from scipy import stats"
   ]
  },
  {
   "cell_type": "code",
   "execution_count": 3,
   "metadata": {},
   "outputs": [],
   "source": [
    "def load_data():\n",
    "    f = pathlib.Path(r'..\\..\\Data\\Exercise6.8.xlsx')\n",
    "    df = pd.read_excel(f)\n",
    "    return df"
   ]
  },
  {
   "cell_type": "code",
   "execution_count": 4,
   "metadata": {},
   "outputs": [],
   "source": [
    "df = load_data()"
   ]
  },
  {
   "cell_type": "code",
   "execution_count": null,
   "metadata": {},
   "outputs": [],
   "source": [
    "n = df.shape[0]\n",
    "p = 2\n",
    "g = df.Treat.nunique()\n",
    "n1, n2, n3 = df.Treat.value_counts().tolist()"
   ]
  },
  {
   "cell_type": "markdown",
   "metadata": {},
   "source": [
    "## (a)"
   ]
  },
  {
   "cell_type": "code",
   "execution_count": null,
   "metadata": {},
   "outputs": [],
   "source": [
    "def obs_breakdown(df: pd.DataFrame, trt_col: str, var_col: str) -> namedtuple:\n",
    "    '''\n",
    "    Breakdown observations for an input variable into mean, treatment, and residual components.\n",
    "    Args:\n",
    "        df (pd.DataFrame): Input data with a column for treatments and columns for each variable.\n",
    "        trt_col (str): The column with the treatments (groups).\n",
    "        var_col (str): The variable breakdown.\n",
    "    Return:\n",
    "        namedtuple: The named tuple has elements: 'Variable', 'Obs', 'Mean', 'TreatmentEffect',\n",
    "        'Residual'.\n",
    "    '''\n",
    "    # Store the output for the observations breakdown for a given variable.\n",
    "    ObsBreakdown = namedtuple('ObsBreakdown', ['Variable', 'Obs', 'Mean', 'TreatmentEffect', 'Residual'])\n",
    "    df = df[[trt_col, var_col]].copy()\n",
    "\n",
    "    # The number of groups.\n",
    "    g = df[trt_col].nunique()\n",
    "    # The max number of observations within a group.\n",
    "    n_max = df[trt_col].value_counts().max()\n",
    "\n",
    "    # Setup the arrays to store the data.\n",
    "    obs_a = np.full([g, n_max], np.nan)\n",
    "    global_mean_a = np.full([g, n_max], np.nan)\n",
    "    trt_effect_a = np.full([g, n_max], np.nan)\n",
    "    residual_a = np.full([g, n_max], np.nan)\n",
    "\n",
    "    global_mean = np.mean(df[var_col])\n",
    "    for i, (_, r) in enumerate(df.groupby(trt_col)):\n",
    "        # Store the group data for a variable in a numpy array.\n",
    "        grp_a = r[var_col].to_numpy()\n",
    "        n = grp_a.shape[0]\n",
    "        grp_mean = np.mean(grp_a)\n",
    "\n",
    "        # Compute the breakdown.\n",
    "        obs_a[i, :len(grp_a)] = grp_a\n",
    "        global_mean_a[i, :len(grp_a)] = np.repeat(global_mean, n)\n",
    "        trt_effect_a[i, :len(grp_a)] = np.repeat(grp_mean, n) - np.repeat(global_mean, n)\n",
    "        residual_a[i, :len(grp_a)] = grp_a - np.repeat(grp_mean, n)\n",
    "        \n",
    "    return ObsBreakdown(Variable=var_col,\n",
    "                        Obs=obs_a,\n",
    "                        Mean=global_mean_a,\n",
    "                        TreatmentEffect=trt_effect_a,\n",
    "                        Residual=residual_a)"
   ]
  },
  {
   "cell_type": "code",
   "execution_count": 308,
   "metadata": {},
   "outputs": [],
   "source": [
    "def create_array_text(a: np.ndarray) -> str:\n",
    "    '''\n",
    "    Create a text string with the latex code to generate an array.\n",
    "    Args:\n",
    "        a (np.ndarray): Contains array data to generate a latex array for.\n",
    "    Returns:\n",
    "        str: Latex code for the input array.\n",
    "    '''\n",
    "    g, n = a.shape\n",
    "    array_col_num = 'r' * n\n",
    "    start_array_latex = fr'\\left[\\begin{{array}}{{ {array_col_num} }}'\n",
    "    end_array_latex = r'\\end{array}\\right]'\n",
    "    array_str = start_array_latex\n",
    "    for i in range(g):\n",
    "        array_str += ' & '.join(['' if np.isnan(v) else str(int(v)) for v in a[i,:]])\n",
    "        array_str += r' \\\\ '\n",
    "    array_str += end_array_latex\n",
    "    return array_str\n",
    "\n",
    "def display_obs_breakdown(data: namedtuple, spacing: list[str]) -> None:\n",
    "    '''\n",
    "    Take a breakdown of observations into components and display them using latex.\n",
    "    Args:\n",
    "        data (namedtuple): Contains breakdown of observations into components.\n",
    "        Row for each group, column for each observation.\n",
    "        spacing list[str]: A list with 4 string elements.\n",
    "        Something like, ['0.5cm','2.0cm','2.2cm','2.5cm'].\n",
    "    '''\n",
    "    assert len(spacing)==4, 'Spacing must have 4 string elements.'\n",
    "    obs_latex = create_array_text(data.Obs)\n",
    "    mean_latex = create_array_text(data.Mean)\n",
    "    trt_effect_latex = create_array_text(data.TreatmentEffect)\n",
    "    residual_latex = create_array_text(data.Residual)\n",
    "    display(Math(fr'\\text{{Variable: {data.Variable}}}'))\n",
    "    display(Math(f'{obs_latex}'\n",
    "                 ' = '\n",
    "                 f'{mean_latex}'\n",
    "                 ' + '\n",
    "                 f'{trt_effect_latex}'\n",
    "                 ' + '\n",
    "                 f'{residual_latex}'\n",
    "                 ))\n",
    "    display(Math(fr'\\hspace{{ {spacing[0]} }}\\text{{(observation)}}'\n",
    "                 fr'\\hspace{{ {spacing[1]} }}\\text{{(mean)}}'\n",
    "                 fr'\\hspace{{ {spacing[2]} }}\\text{{(treatment effect)}}'\n",
    "                 fr'\\hspace{{ {spacing[3]} }}\\text{{(residual)}}'))"
   ]
  },
  {
   "cell_type": "markdown",
   "metadata": {},
   "source": [
    "From (6-39)\n",
    "$$\n",
    "    \\begin{array}{ccccccc}\n",
    "        \\textbf{x}_{\\ell j} & = & \\bar{\\textbf{x}} & + & (\\textbf{x}_{\\ell} - \\bar{\\textbf{x}}) & + & (\\textbf{x}_{\\ell j} - \\textbf{x}_{\\ell}) \\\\\n",
    "        \\textbf{(observation)}\n",
    "        &\n",
    "        &\n",
    "        \\left(\n",
    "            \\begin{array}{c}\n",
    "                \\text{overall sample} \\\\\n",
    "                \\text{mean } \\hat{\\bm{\\mu}}\n",
    "            \\end{array}\n",
    "        \\right)\n",
    "        &\n",
    "        &\n",
    "        \\left(\n",
    "            \\begin{array}{c}\n",
    "                \\text{estimated} \\\\\n",
    "                \\text{treatment} \\\\\n",
    "                \\text{effect } \\hat{\\bm{\\tau}}_{\\ell}\n",
    "            \\end{array}\n",
    "        \\right)\n",
    "        &\n",
    "        &\n",
    "        \\left(\n",
    "            \\begin{array}{c}\n",
    "                \\text{residual } \\\\\n",
    "                \\text{effect } \\hat{\\textbf{e}}_{\\ell j}\n",
    "            \\end{array}\n",
    "        \\right)\n",
    "    \\end{array}\n",
    "$$"
   ]
  },
  {
   "cell_type": "code",
   "execution_count": 309,
   "metadata": {},
   "outputs": [],
   "source": [
    "resp1_breakdown = obs_breakdown(df, trt_col='Treat', var_col='resp1')\n",
    "resp2_breakdown = obs_breakdown(df, trt_col='Treat', var_col='resp2')"
   ]
  },
  {
   "cell_type": "code",
   "execution_count": 310,
   "metadata": {},
   "outputs": [
    {
     "data": {
      "text/latex": [
       "$\\displaystyle \\text{Variable: resp1}$"
      ],
      "text/plain": [
       "<IPython.core.display.Math object>"
      ]
     },
     "metadata": {},
     "output_type": "display_data"
    },
    {
     "data": {
      "text/latex": [
       "$\\displaystyle \\left[\\begin{array}{ rrrrr }6 & 5 & 8 & 4 & 7 \\\\ 3 & 1 & 2 &  &  \\\\ 2 & 5 & 3 & 2 &  \\\\ \\end{array}\\right] = \\left[\\begin{array}{ rrrrr }4 & 4 & 4 & 4 & 4 \\\\ 4 & 4 & 4 &  &  \\\\ 4 & 4 & 4 & 4 &  \\\\ \\end{array}\\right] + \\left[\\begin{array}{ rrrrr }2 & 2 & 2 & 2 & 2 \\\\ -2 & -2 & -2 &  &  \\\\ -1 & -1 & -1 & -1 &  \\\\ \\end{array}\\right] + \\left[\\begin{array}{ rrrrr }0 & -1 & 2 & -2 & 1 \\\\ 1 & -1 & 0 &  &  \\\\ -1 & 2 & 0 & -1 &  \\\\ \\end{array}\\right]$"
      ],
      "text/plain": [
       "<IPython.core.display.Math object>"
      ]
     },
     "metadata": {},
     "output_type": "display_data"
    },
    {
     "data": {
      "text/latex": [
       "$\\displaystyle \\hspace{ 0.5cm }\\text{(observation)}\\hspace{ 2.0cm }\\text{(mean)}\\hspace{ 2.2cm }\\text{(treatment effect)}\\hspace{ 2.5cm }\\text{(residual)}$"
      ],
      "text/plain": [
       "<IPython.core.display.Math object>"
      ]
     },
     "metadata": {},
     "output_type": "display_data"
    }
   ],
   "source": [
    "some_spacing = ['0.5cm','2.0cm','2.2cm','2.5cm']\n",
    "display_obs_breakdown(resp1_breakdown, spacing=some_spacing)"
   ]
  },
  {
   "cell_type": "code",
   "execution_count": 311,
   "metadata": {},
   "outputs": [
    {
     "data": {
      "text/latex": [
       "$\\displaystyle \\text{Variable: resp2}$"
      ],
      "text/plain": [
       "<IPython.core.display.Math object>"
      ]
     },
     "metadata": {},
     "output_type": "display_data"
    },
    {
     "data": {
      "text/latex": [
       "$\\displaystyle \\left[\\begin{array}{ rrrrr }7 & 9 & 6 & 9 & 9 \\\\ 3 & 6 & 3 &  &  \\\\ 3 & 1 & 1 & 3 &  \\\\ \\end{array}\\right] = \\left[\\begin{array}{ rrrrr }5 & 5 & 5 & 5 & 5 \\\\ 5 & 5 & 5 &  &  \\\\ 5 & 5 & 5 & 5 &  \\\\ \\end{array}\\right] + \\left[\\begin{array}{ rrrrr }3 & 3 & 3 & 3 & 3 \\\\ -1 & -1 & -1 &  &  \\\\ -3 & -3 & -3 & -3 &  \\\\ \\end{array}\\right] + \\left[\\begin{array}{ rrrrr }-1 & 1 & -2 & 1 & 1 \\\\ -1 & 2 & -1 &  &  \\\\ 1 & -1 & -1 & 1 &  \\\\ \\end{array}\\right]$"
      ],
      "text/plain": [
       "<IPython.core.display.Math object>"
      ]
     },
     "metadata": {},
     "output_type": "display_data"
    },
    {
     "data": {
      "text/latex": [
       "$\\displaystyle \\hspace{ 0.5cm }\\text{(observation)}\\hspace{ 2.0cm }\\text{(mean)}\\hspace{ 2.2cm }\\text{(treatment effect)}\\hspace{ 2.5cm }\\text{(residual)}$"
      ],
      "text/plain": [
       "<IPython.core.display.Math object>"
      ]
     },
     "metadata": {},
     "output_type": "display_data"
    }
   ],
   "source": [
    "display_obs_breakdown(resp2_breakdown, spacing=some_spacing)"
   ]
  },
  {
   "cell_type": "markdown",
   "metadata": {},
   "source": [
    "## (b)"
   ]
  },
  {
   "cell_type": "markdown",
   "metadata": {},
   "source": [
    "Okay, what's displayed above is, $\\textbf{X}_{v} = \\textbf{M}_{v} + \\textbf{T}_{v} + \\textbf{E}_{v}$, where $v$ identifies which measurement we're looking at.\n",
    "For the sum of squares and cross-products in the MANOVA table we need a matrix result, that comes from some block computations. An example of what that looks like for the treatment effect is below. The The Hadamard product, denoted by $\\circ$, performs elementwise multiplication of the entries of matrices of the same dimensions. The code for the computations in the `compute_ss_matrices` function uses is more similar to the first part.\n",
    "\n",
    "$$\n",
    "\\left[\n",
    "    \\begin{array}{cc}\n",
    "        \\text{sum}(\\textbf{T}_{1} \\circ \\textbf{T}_{1}) & \\text{sum}(\\textbf{T}_{1} \\circ \\textbf{T}_{2}) \\\\\n",
    "        \\text{sum}(\\textbf{T}_{2} \\circ \\textbf{T}_{1}) & \\text{sum}(\\textbf{T}_{2} \\circ \\textbf{T}_{2})\n",
    "    \\end{array}\n",
    "\\right]\n",
    "=\n",
    "\\left[\n",
    "    \\begin{array}{cc}\n",
    "        \\text{tr}(\\textbf{T}_{1}^{\\prime} \\textbf{T}_{1}) & \\text{tr}(\\textbf{T}_{1}^{\\prime} \\textbf{T}_{2}) \\\\\n",
    "        \\text{tr}(\\textbf{T}_{2}^{\\prime} \\textbf{T}_{1}) & \\text{tr}(\\textbf{T}_{2}^{\\prime} \\textbf{T}_{2})\n",
    "    \\end{array}\n",
    "\\right]\n",
    "$$"
   ]
  },
  {
   "cell_type": "code",
   "execution_count": 295,
   "metadata": {},
   "outputs": [],
   "source": [
    "def compute_ss_matrices(a1: np.ndarray, a2: np.ndarray):\n",
    "    # Stack the two matrices. The first dim is the variable. The rest is the 3x5 matrix of data.\n",
    "    X = np.stack([a1, a2])\n",
    "    X = np.nan_to_num(X)\n",
    "    # For [1,2], axis 1 is groups. Axis 2 is observation within group.\n",
    "    Y = np.tensordot(X, X, axes=([1, 2], [1, 2]))\n",
    "    return Y"
   ]
  },
  {
   "cell_type": "code",
   "execution_count": null,
   "metadata": {},
   "outputs": [],
   "source": [
    "# Treatment effect SS.\n",
    "B = compute_ss_matrices(resp1_breakdown.TreatmentEffect, resp2_breakdown.TreatmentEffect)"
   ]
  },
  {
   "cell_type": "code",
   "execution_count": null,
   "metadata": {},
   "outputs": [],
   "source": [
    "# Residual SS.\n",
    "W = compute_ss_matrices(resp1_breakdown.Residual, resp2_breakdown.Residual)"
   ]
  },
  {
   "cell_type": "code",
   "execution_count": null,
   "metadata": {},
   "outputs": [],
   "source": [
    "# This T is for Total SS, not Treatment effect SS.\n",
    "T = compute_ss_matrices(resp1_breakdown.Obs, resp2_breakdown.Obs) - compute_ss_matrices(resp1_breakdown.Mean, resp2_breakdown.Mean)"
   ]
  },
  {
   "cell_type": "code",
   "execution_count": 317,
   "metadata": {},
   "outputs": [
    {
     "data": {
      "text/latex": [
       "$\\displaystyle \\begin{array}{lll}\\text{Source} & \\text{Matrix of sum of squares} &  \\\\\\text{of variation} & \\text{and cross products} & \\text{Degrees of freedom} \\\\\\hline \\\\\\text{Treatment} & \\left[\\begin{array}{ rr }36 & 48 \\\\ 48 & 84 \\\\ \\end{array}\\right] & 3 - 1 = 2 \\\\ \\\\\\text{Residual} & \\left[\\begin{array}{ rr }36 & 48 \\\\ 48 & 84 \\\\ \\end{array}\\right] &5 + 4 + 3 - 3 = 9 \\\\ \\\\\\hline \\\\\\text{Total (corrected)} & \\left[\\begin{array}{ rr }54 & 35 \\\\ 35 & 102 \\\\ \\end{array}\\right] & 11\\end{array}$"
      ],
      "text/plain": [
       "<IPython.core.display.Math object>"
      ]
     },
     "metadata": {},
     "output_type": "display_data"
    }
   ],
   "source": [
    "display(Math(r'\\begin{array}{lll}'\n",
    "             r'\\text{Source} & \\text{Matrix of sum of squares} &  \\\\'\n",
    "             r'\\text{of variation} & \\text{and cross products} & \\text{Degrees of freedom} \\\\'\n",
    "             r'\\hline \\\\'\n",
    "             r'\\text{Treatment} & '\n",
    "             f'{create_array_text(B)} & '\n",
    "             fr'{g} - 1 = {g - 1} \\\\ \\\\'\n",
    "             r'\\text{Residual} & '\n",
    "             f'{create_array_text(B)} &'\n",
    "             fr'{n1} + {n2} + {n3} - {g} = {n - g} \\\\ \\\\'\n",
    "             r'\\hline \\\\'\n",
    "             r'\\text{Total (corrected)} & '\n",
    "             f'{create_array_text(T)} & '\n",
    "             f'{(n - 1)}'\n",
    "             r'\\end{array}'\n",
    "             ))"
   ]
  },
  {
   "cell_type": "code",
   "execution_count": 318,
   "metadata": {},
   "outputs": [
    {
     "data": {
      "text/plain": [
       "True"
      ]
     },
     "execution_count": 318,
     "metadata": {},
     "output_type": "execute_result"
    }
   ],
   "source": [
    "np.all(np.equal(T, B + W))"
   ]
  },
  {
   "cell_type": "markdown",
   "metadata": {},
   "source": [
    "## (c)"
   ]
  },
  {
   "cell_type": "code",
   "execution_count": 321,
   "metadata": {},
   "outputs": [],
   "source": [
    "lmbda_star = la.det(W)/la.det(B + W)"
   ]
  },
  {
   "cell_type": "code",
   "execution_count": 322,
   "metadata": {},
   "outputs": [
    {
     "data": {
      "text/latex": [
       "$\\displaystyle \\Lambda^{\\star}=\\frac{\\left|\\textbf{W}\\right|}{\\left|\\textbf{B} + \\textbf{W}\\right|}=\\frac{18(18) - (-13)^{2} }{54(102) - (35)^{2} }=\\frac{155}{8156}=0.0362$"
      ],
      "text/plain": [
       "<IPython.core.display.Math object>"
      ]
     },
     "metadata": {},
     "output_type": "display_data"
    }
   ],
   "source": [
    "display(Math(r'\\Lambda^{\\star}'\n",
    "             '='\n",
    "             r'\\frac{\\left|\\textbf{W}\\right|}{\\left|\\textbf{B} + \\textbf{W}\\right|}'\n",
    "             '='\n",
    "             fr'\\frac{{{W[0,0]:.0f}({W[1,1]:.0f}) - ({W[0,1]:.0f})^{{2}} }}{{{T[0,0]:.0f}({T[1,1]:.0f}) - ({T[0,1]:.0f})^{{2}} }}'\n",
    "             '='\n",
    "             fr'\\frac{{{la.det(W):.0f}}}{{{la.det(T + W):.0f}}}'\n",
    "             '='\n",
    "             f'{lmbda_star:.4f}'\n",
    "             ))"
   ]
  },
  {
   "cell_type": "code",
   "execution_count": null,
   "metadata": {},
   "outputs": [],
   "source": [
    "test_stat = ((n - g - 1)/(g-1)) * (1 - np.sqrt(lmbda_star))/np.sqrt(lmbda_star)"
   ]
  },
  {
   "cell_type": "code",
   "execution_count": 325,
   "metadata": {},
   "outputs": [
    {
     "data": {
      "text/latex": [
       "$\\displaystyle F^{\\star} = \\left( \\frac{ \\sum n_{\\ell} - g - 1 }{ g - 1 } \\right)\\left( \\frac{ 1 - \\sqrt{\\Lambda^{\\star}} }{ \\sqrt{\\Lambda^{\\star}} } \\right)=\\left( \\frac{ 12 - 3 - 1 }{ 3 - 1 } \\right)\\left( \\frac{ 1 - \\sqrt{ 0.0362 } }{ \\sqrt{ 0.0362 } } \\right)=17.0266$"
      ],
      "text/plain": [
       "<IPython.core.display.Math object>"
      ]
     },
     "metadata": {},
     "output_type": "display_data"
    }
   ],
   "source": [
    "display(Math(r'F^{\\star} = \\left( \\frac{ \\sum n_{\\ell} - g - 1 }{ g - 1 } \\right)'\n",
    "             r'\\left( \\frac{ 1 - \\sqrt{\\Lambda^{\\star}} }{ \\sqrt{\\Lambda^{\\star}} } \\right)'\n",
    "             '='\n",
    "             fr'\\left( \\frac{{ {n} - {g} - 1 }}{{ {g} - 1 }} \\right)'\n",
    "             fr'\\left( \\frac{{ 1 - \\sqrt{{ {lmbda_star:.4f} }} }}{{ \\sqrt{{ {lmbda_star:.4f} }} }} \\right)'\n",
    "             '='\n",
    "             f'{test_stat:.4f}'\n",
    "             ))"
   ]
  },
  {
   "cell_type": "code",
   "execution_count": 327,
   "metadata": {},
   "outputs": [],
   "source": [
    "alpha = 0.01\n",
    "f_crit = stats.f.ppf(1-alpha, dfn=2*(g-1), dfd=2*(n-g-1))"
   ]
  },
  {
   "cell_type": "code",
   "execution_count": 330,
   "metadata": {},
   "outputs": [
    {
     "data": {
      "text/latex": [
       "$\\displaystyle \\text{Since} \\hspace{0.2cm} p = 2\\hspace{0.2cm} \\text{and} \\hspace{0.2cm} g = 3 \\hspace{0.2cm} \\text{using Table 6.3},\\left( \\frac{ \\sum n_{\\ell} - g - 1 }{ g - 1 } \\right)\\left( \\frac{ 1 - \\sqrt{\\Lambda^{\\star}} }{ \\sqrt{\\Lambda^{\\star}} } \\right)\\sim F_{2(g-1), 2(\\sum n_{\\ell} - g - 1)}=4.7726$"
      ],
      "text/plain": [
       "<IPython.core.display.Math object>"
      ]
     },
     "metadata": {},
     "output_type": "display_data"
    }
   ],
   "source": [
    "display(Math(fr'\\text{{Since}} \\hspace{{0.2cm}} p = {p}'\n",
    "             fr'\\hspace{{0.2cm}} \\text{{and}} \\hspace{{0.2cm}} '\n",
    "             fr'g = {g} \\hspace{{0.2cm}} \\text{{using Table 6.3}},'\n",
    "             r'\\left( \\frac{ \\sum n_{\\ell} - g - 1 }{ g - 1 } \\right)'\n",
    "             r'\\left( \\frac{ 1 - \\sqrt{\\Lambda^{\\star}} }{ \\sqrt{\\Lambda^{\\star}} } \\right)'\n",
    "             r'\\sim F_{2(g-1), 2(\\sum n_{\\ell} - g - 1)}'\n",
    "             '='\n",
    "             f'{f_crit:.4f}'\n",
    "             ))"
   ]
  },
  {
   "cell_type": "code",
   "execution_count": 326,
   "metadata": {},
   "outputs": [
    {
     "data": {
      "text/latex": [
       "$\\displaystyle \\text{We have that } F^{\\star} = 17.027 > F_{\\text{crit}} = F_{4, 16 } \\left( 0.01 \\right) = 4.773 \\text{, so we would reject the null hypothesis that } \\bm{\\tau}_{1} = \\bm{\\tau}_{3} = \\bm{\\tau}_{3} = \\textbf{0}$"
      ],
      "text/plain": [
       "<IPython.core.display.Math object>"
      ]
     },
     "metadata": {},
     "output_type": "display_data"
    }
   ],
   "source": [
    "if test_stat > f_crit:\n",
    "    display(Math(fr'\\text{{We have that }} F^{{\\star}} = {test_stat:.3f} > F_{{\\text{{crit}}}} = F_{{{2*(g-1)}, {2*(n-g-1)} }} \\left( {alpha} \\right) = '\n",
    "                 fr'{f_crit:.3f} \\text{{, so we would reject the null hypothesis that }} '\n",
    "                 r'\\bm{\\tau}_{1} = \\bm{\\tau}_{3} = \\bm{\\tau}_{3} = \\textbf{0}'))\n",
    "else:\n",
    "    display(Math(fr'\\text{{We have that }} F^{{\\star}} = {test_stat:.3f} \\leq F_{{\\text{{crit}}}} = F_{{{2*(g-1)}, {2*(n-g-1)} }} \\left( {alpha} \\right) = '\n",
    "                fr'{f_crit:.3f} \\text{{, so we would fail to reject the null hypothesis that }} '\n",
    "                r'\\bm{\\tau}_{1} = \\bm{\\tau}_{3} = \\bm{\\tau}_{3} = \\textbf{0}'))"
   ]
  }
 ],
 "metadata": {
  "kernelspec": {
   "display_name": "py312",
   "language": "python",
   "name": "py312"
  },
  "language_info": {
   "codemirror_mode": {
    "name": "ipython",
    "version": 3
   },
   "file_extension": ".py",
   "mimetype": "text/x-python",
   "name": "python",
   "nbconvert_exporter": "python",
   "pygments_lexer": "ipython3",
   "version": "3.12.5"
  }
 },
 "nbformat": 4,
 "nbformat_minor": 2
}
