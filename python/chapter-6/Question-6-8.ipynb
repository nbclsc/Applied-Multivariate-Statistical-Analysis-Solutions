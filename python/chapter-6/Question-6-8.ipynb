{
 "cells": [
  {
   "cell_type": "markdown",
   "metadata": {},
   "source": [
    "# Exercise 6.8"
   ]
  },
  {
   "cell_type": "code",
   "execution_count": 1,
   "metadata": {},
   "outputs": [],
   "source": [
    "import pathlib\n",
    "import numpy as np\n",
    "import pandas as pd\n",
    "import scipy.linalg as la\n",
    "from IPython.display import display, Math\n",
    "from scipy import stats\n",
    "import chapter_6_utils"
   ]
  },
  {
   "cell_type": "code",
   "execution_count": 2,
   "metadata": {},
   "outputs": [],
   "source": [
    "def load_data():\n",
    "    f = pathlib.Path(r'..\\..\\Data\\Exercise6.8.xlsx')\n",
    "    df = pd.read_excel(f)\n",
    "    return df"
   ]
  },
  {
   "cell_type": "code",
   "execution_count": 3,
   "metadata": {},
   "outputs": [],
   "source": [
    "df = load_data()"
   ]
  },
  {
   "cell_type": "code",
   "execution_count": 4,
   "metadata": {},
   "outputs": [
    {
     "data": {
      "text/plain": [
       "resp1    3.0\n",
       "resp2    2.0\n",
       "dtype: float64"
      ]
     },
     "execution_count": 4,
     "metadata": {},
     "output_type": "execute_result"
    }
   ],
   "source": [
    "df.loc[df.Treat.eq(3), ['resp1', 'resp2']].mean()"
   ]
  },
  {
   "cell_type": "code",
   "execution_count": 5,
   "metadata": {},
   "outputs": [],
   "source": [
    "n = df.shape[0]\n",
    "p = 2\n",
    "g = df.Treat.nunique()\n",
    "n1, n2, n3 = df.Treat.value_counts().tolist()"
   ]
  },
  {
   "cell_type": "markdown",
   "metadata": {},
   "source": [
    "## (a)"
   ]
  },
  {
   "cell_type": "markdown",
   "metadata": {},
   "source": [
    "From (6-39)\n",
    "$$\n",
    "    \\begin{array}{ccccccc}\n",
    "        \\textbf{x}_{\\ell j} & = & \\bar{\\textbf{x}} & + & (\\textbf{x}_{\\ell} - \\bar{\\textbf{x}}) & + & (\\textbf{x}_{\\ell j} - \\textbf{x}_{\\ell}) \\\\\n",
    "        \\textbf{(observation)}\n",
    "        &\n",
    "        &\n",
    "        \\left(\n",
    "            \\begin{array}{c}\n",
    "                \\text{overall sample} \\\\\n",
    "                \\text{mean } \\hat{\\bm{\\mu}}\n",
    "            \\end{array}\n",
    "        \\right)\n",
    "        &\n",
    "        &\n",
    "        \\left(\n",
    "            \\begin{array}{c}\n",
    "                \\text{estimated} \\\\\n",
    "                \\text{treatment} \\\\\n",
    "                \\text{effect } \\hat{\\bm{\\tau}}_{\\ell}\n",
    "            \\end{array}\n",
    "        \\right)\n",
    "        &\n",
    "        &\n",
    "        \\left(\n",
    "            \\begin{array}{c}\n",
    "                \\text{residual } \\\\\n",
    "                \\text{effect } \\hat{\\textbf{e}}_{\\ell j}\n",
    "            \\end{array}\n",
    "        \\right)\n",
    "    \\end{array}\n",
    "$$"
   ]
  },
  {
   "cell_type": "code",
   "execution_count": 6,
   "metadata": {},
   "outputs": [],
   "source": [
    "resp1_breakdown = chapter_6_utils.manova_obs_breakdown(df, trt_col='Treat', var_col='resp1')\n",
    "resp2_breakdown = chapter_6_utils.manova_obs_breakdown(df, trt_col='Treat', var_col='resp2')"
   ]
  },
  {
   "cell_type": "code",
   "execution_count": 7,
   "metadata": {},
   "outputs": [
    {
     "data": {
      "text/latex": [
       "$\\displaystyle \\text{Variable: resp1}$"
      ],
      "text/plain": [
       "<IPython.core.display.Math object>"
      ]
     },
     "metadata": {},
     "output_type": "display_data"
    },
    {
     "data": {
      "text/latex": [
       "$\\displaystyle \\left[\\begin{array}{ rrrrr }\\phantom{-} 6 & \\phantom{-} 5 & \\phantom{-} 8 & \\phantom{-} 4 & \\phantom{-} 7 \\\\ \\phantom{-} 3 & \\phantom{-} 1 & \\phantom{-} 2 &  &  \\\\ \\phantom{-} 2 & \\phantom{-} 5 & \\phantom{-} 3 & \\phantom{-} 2 &  \\\\ \\end{array}\\right] = \\left[\\begin{array}{ rrrrr }\\phantom{-} 4 & \\phantom{-} 4 & \\phantom{-} 4 & \\phantom{-} 4 & \\phantom{-} 4 \\\\ \\phantom{-} 4 & \\phantom{-} 4 & \\phantom{-} 4 &  &  \\\\ \\phantom{-} 4 & \\phantom{-} 4 & \\phantom{-} 4 & \\phantom{-} 4 &  \\\\ \\end{array}\\right] + \\left[\\begin{array}{ rrrrr }\\phantom{-} 2 & \\phantom{-} 2 & \\phantom{-} 2 & \\phantom{-} 2 & \\phantom{-} 2 \\\\ -2 & -2 & -2 &  &  \\\\ -1 & -1 & -1 & -1 &  \\\\ \\end{array}\\right] + \\left[\\begin{array}{ rrrrr }\\phantom{-} 0 & -1 & \\phantom{-} 2 & -2 & \\phantom{-} 1 \\\\ \\phantom{-} 1 & -1 & \\phantom{-} 0 &  &  \\\\ -1 & \\phantom{-} 2 & \\phantom{-} 0 & -1 &  \\\\ \\end{array}\\right]$"
      ],
      "text/plain": [
       "<IPython.core.display.Math object>"
      ]
     },
     "metadata": {},
     "output_type": "display_data"
    },
    {
     "data": {
      "text/latex": [
       "$\\displaystyle \\hspace{ 0.5cm }\\text{(observation)}\\hspace{ 2.0cm }\\text{(mean)}\\hspace{ 2.2cm }\\text{(treatment effect)}\\hspace{ 2.5cm }\\text{(residual)}$"
      ],
      "text/plain": [
       "<IPython.core.display.Math object>"
      ]
     },
     "metadata": {},
     "output_type": "display_data"
    }
   ],
   "source": [
    "some_spacing = ['0.5cm','2.0cm','2.2cm','2.5cm']\n",
    "chapter_6_utils.display_manova_obs_breakdown(resp1_breakdown, spacing=some_spacing)"
   ]
  },
  {
   "cell_type": "code",
   "execution_count": 8,
   "metadata": {},
   "outputs": [
    {
     "data": {
      "text/latex": [
       "$\\displaystyle \\text{Variable: resp2}$"
      ],
      "text/plain": [
       "<IPython.core.display.Math object>"
      ]
     },
     "metadata": {},
     "output_type": "display_data"
    },
    {
     "data": {
      "text/latex": [
       "$\\displaystyle \\left[\\begin{array}{ rrrrr }\\phantom{-} 7 & \\phantom{-} 9 & \\phantom{-} 6 & \\phantom{-} 9 & \\phantom{-} 9 \\\\ \\phantom{-} 3 & \\phantom{-} 6 & \\phantom{-} 3 &  &  \\\\ \\phantom{-} 3 & \\phantom{-} 1 & \\phantom{-} 1 & \\phantom{-} 3 &  \\\\ \\end{array}\\right] = \\left[\\begin{array}{ rrrrr }\\phantom{-} 5 & \\phantom{-} 5 & \\phantom{-} 5 & \\phantom{-} 5 & \\phantom{-} 5 \\\\ \\phantom{-} 5 & \\phantom{-} 5 & \\phantom{-} 5 &  &  \\\\ \\phantom{-} 5 & \\phantom{-} 5 & \\phantom{-} 5 & \\phantom{-} 5 &  \\\\ \\end{array}\\right] + \\left[\\begin{array}{ rrrrr }\\phantom{-} 3 & \\phantom{-} 3 & \\phantom{-} 3 & \\phantom{-} 3 & \\phantom{-} 3 \\\\ -1 & -1 & -1 &  &  \\\\ -3 & -3 & -3 & -3 &  \\\\ \\end{array}\\right] + \\left[\\begin{array}{ rrrrr }-1 & \\phantom{-} 1 & -2 & \\phantom{-} 1 & \\phantom{-} 1 \\\\ -1 & \\phantom{-} 2 & -1 &  &  \\\\ \\phantom{-} 1 & -1 & -1 & \\phantom{-} 1 &  \\\\ \\end{array}\\right]$"
      ],
      "text/plain": [
       "<IPython.core.display.Math object>"
      ]
     },
     "metadata": {},
     "output_type": "display_data"
    },
    {
     "data": {
      "text/latex": [
       "$\\displaystyle \\hspace{ 0.5cm }\\text{(observation)}\\hspace{ 2.0cm }\\text{(mean)}\\hspace{ 2.2cm }\\text{(treatment effect)}\\hspace{ 2.5cm }\\text{(residual)}$"
      ],
      "text/plain": [
       "<IPython.core.display.Math object>"
      ]
     },
     "metadata": {},
     "output_type": "display_data"
    }
   ],
   "source": [
    "chapter_6_utils.display_manova_obs_breakdown(resp2_breakdown, spacing=some_spacing)"
   ]
  },
  {
   "cell_type": "markdown",
   "metadata": {},
   "source": [
    "## (b)"
   ]
  },
  {
   "cell_type": "markdown",
   "metadata": {},
   "source": [
    "Okay, what's displayed above is, $\\textbf{X}_{v} = \\textbf{M}_{v} + \\textbf{T}_{v} + \\textbf{E}_{v}$, where $v$ identifies which measurement we're looking at.\n",
    "For the sum of squares and cross-products in the MANOVA table we need a matrix result, that comes from some block computations. An example of what that looks like for the treatment effect is below. The The Hadamard product, denoted by $\\circ$, performs elementwise multiplication of the entries of matrices of the same dimensions. The code for the computations in the `compute_ss_matrices` function uses is more similar to the first part.\n",
    "\n",
    "$$\n",
    "\\left[\n",
    "    \\begin{array}{cc}\n",
    "        \\text{sum}(\\textbf{T}_{1} \\circ \\textbf{T}_{1}) & \\text{sum}(\\textbf{T}_{1} \\circ \\textbf{T}_{2}) \\\\\n",
    "        \\text{sum}(\\textbf{T}_{2} \\circ \\textbf{T}_{1}) & \\text{sum}(\\textbf{T}_{2} \\circ \\textbf{T}_{2})\n",
    "    \\end{array}\n",
    "\\right]\n",
    "=\n",
    "\\left[\n",
    "    \\begin{array}{cc}\n",
    "        \\text{tr}(\\textbf{T}_{1}^{\\prime} \\textbf{T}_{1}) & \\text{tr}(\\textbf{T}_{1}^{\\prime} \\textbf{T}_{2}) \\\\\n",
    "        \\text{tr}(\\textbf{T}_{2}^{\\prime} \\textbf{T}_{1}) & \\text{tr}(\\textbf{T}_{2}^{\\prime} \\textbf{T}_{2})\n",
    "    \\end{array}\n",
    "\\right]\n",
    "$$"
   ]
  },
  {
   "cell_type": "code",
   "execution_count": 9,
   "metadata": {},
   "outputs": [],
   "source": [
    "def compute_manova_ss_matrices(a1: np.ndarray, a2: np.ndarray):\n",
    "    # Stack the two matrices. The first dim is the variable. The rest is the 3x5 matrix of data.\n",
    "    X = np.stack([a1, a2])\n",
    "    X = np.nan_to_num(X)\n",
    "    # For [1,2], axis 1 is groups. Axis 2 is observation within group.\n",
    "    Y = np.tensordot(X, X, axes=([1, 2], [1, 2]))\n",
    "    return Y"
   ]
  },
  {
   "cell_type": "code",
   "execution_count": 10,
   "metadata": {},
   "outputs": [],
   "source": [
    "# Treatment effect SS.\n",
    "B = compute_manova_ss_matrices(resp1_breakdown.TreatmentEffect, resp2_breakdown.TreatmentEffect)"
   ]
  },
  {
   "cell_type": "code",
   "execution_count": 11,
   "metadata": {},
   "outputs": [],
   "source": [
    "# Residual SS.\n",
    "W = compute_manova_ss_matrices(resp1_breakdown.Residual, resp2_breakdown.Residual)"
   ]
  },
  {
   "cell_type": "code",
   "execution_count": 12,
   "metadata": {},
   "outputs": [],
   "source": [
    "# This T is for Total SS, not Treatment effect SS.\n",
    "T = compute_manova_ss_matrices(resp1_breakdown.Obs, resp2_breakdown.Obs) - compute_manova_ss_matrices(resp1_breakdown.Mean, resp2_breakdown.Mean)"
   ]
  },
  {
   "cell_type": "code",
   "execution_count": 13,
   "metadata": {},
   "outputs": [
    {
     "data": {
      "text/latex": [
       "$\\displaystyle \\begin{array}{lll}\\text{Source} & \\text{Matrix of sum of squares} &  \\\\\\text{of variation} & \\text{and cross products} & \\text{Degrees of freedom} \\\\\\hline \\\\\\text{Treatment} & \\left[\\begin{array}{ rr }\\phantom{-} 36 & \\phantom{-} 48 \\\\ \\phantom{-} 48 & \\phantom{-} 84 \\\\ \\end{array}\\right] & 3 - 1 = 2 \\\\ \\\\\\text{Residual} & \\left[\\begin{array}{ rr }\\phantom{-} 18 & -13 \\\\ -13 & \\phantom{-} 18 \\\\ \\end{array}\\right] &5 + 4 + 3 - 3 = 9 \\\\ \\\\\\hline \\\\\\text{Total (corrected)} & \\left[\\begin{array}{ rr }\\phantom{-} 54 & \\phantom{-} 35 \\\\ \\phantom{-} 35 & \\phantom{-} 102 \\\\ \\end{array}\\right] & 11\\end{array}$"
      ],
      "text/plain": [
       "<IPython.core.display.Math object>"
      ]
     },
     "metadata": {},
     "output_type": "display_data"
    }
   ],
   "source": [
    "display(Math(r'\\begin{array}{lll}'\n",
    "             r'\\text{Source} & \\text{Matrix of sum of squares} &  \\\\'\n",
    "             r'\\text{of variation} & \\text{and cross products} & \\text{Degrees of freedom} \\\\'\n",
    "             r'\\hline \\\\'\n",
    "             r'\\text{Treatment} & '\n",
    "             f'{chapter_6_utils.create_array_text(B)} & '\n",
    "             fr'{g} - 1 = {g - 1} \\\\ \\\\'\n",
    "             r'\\text{Residual} & '\n",
    "             f'{chapter_6_utils.create_array_text(W)} &'\n",
    "             fr'{n1} + {n2} + {n3} - {g} = {n - g} \\\\ \\\\'\n",
    "             r'\\hline \\\\'\n",
    "             r'\\text{Total (corrected)} & '\n",
    "             f'{chapter_6_utils.create_array_text(T)} & '\n",
    "             f'{(n - 1)}'\n",
    "             r'\\end{array}'\n",
    "             ))"
   ]
  },
  {
   "cell_type": "code",
   "execution_count": 14,
   "metadata": {},
   "outputs": [
    {
     "data": {
      "text/plain": [
       "True"
      ]
     },
     "execution_count": 14,
     "metadata": {},
     "output_type": "execute_result"
    }
   ],
   "source": [
    "np.all(np.equal(T, B + W))"
   ]
  },
  {
   "cell_type": "markdown",
   "metadata": {},
   "source": [
    "## (c)"
   ]
  },
  {
   "cell_type": "code",
   "execution_count": 15,
   "metadata": {},
   "outputs": [],
   "source": [
    "lmbda_star = la.det(W)/la.det(B + W)"
   ]
  },
  {
   "cell_type": "code",
   "execution_count": 16,
   "metadata": {},
   "outputs": [
    {
     "data": {
      "text/latex": [
       "$\\displaystyle \\Lambda^{\\star}=\\frac{\\left|\\textbf{W}\\right|}{\\left|\\textbf{B} + \\textbf{W}\\right|}=\\frac{18(18) - (-13)^{2} }{54(102) - (35)^{2} }=\\frac{155}{8156}=0.0362$"
      ],
      "text/plain": [
       "<IPython.core.display.Math object>"
      ]
     },
     "metadata": {},
     "output_type": "display_data"
    }
   ],
   "source": [
    "display(Math(r'\\Lambda^{\\star}'\n",
    "             '='\n",
    "             r'\\frac{\\left|\\textbf{W}\\right|}{\\left|\\textbf{B} + \\textbf{W}\\right|}'\n",
    "             '='\n",
    "             fr'\\frac{{{W[0,0]:.0f}({W[1,1]:.0f}) - ({W[0,1]:.0f})^{{2}} }}{{{T[0,0]:.0f}({T[1,1]:.0f}) - ({T[0,1]:.0f})^{{2}} }}'\n",
    "             '='\n",
    "             fr'\\frac{{{la.det(W):.0f}}}{{{la.det(T + W):.0f}}}'\n",
    "             '='\n",
    "             f'{lmbda_star:.4f}'\n",
    "             ))"
   ]
  },
  {
   "cell_type": "code",
   "execution_count": 17,
   "metadata": {},
   "outputs": [],
   "source": [
    "test_stat = ((n - g - 1)/(g-1)) * (1 - np.sqrt(lmbda_star))/np.sqrt(lmbda_star)"
   ]
  },
  {
   "cell_type": "code",
   "execution_count": 18,
   "metadata": {},
   "outputs": [
    {
     "data": {
      "text/latex": [
       "$\\displaystyle F^{\\star} = \\left( \\frac{ \\sum n_{\\ell} - g - 1 }{ g - 1 } \\right)\\left( \\frac{ 1 - \\sqrt{\\Lambda^{\\star}} }{ \\sqrt{\\Lambda^{\\star}} } \\right)=\\left( \\frac{ 12 - 3 - 1 }{ 3 - 1 } \\right)\\left( \\frac{ 1 - \\sqrt{ 0.0362 } }{ \\sqrt{ 0.0362 } } \\right)=17.0266$"
      ],
      "text/plain": [
       "<IPython.core.display.Math object>"
      ]
     },
     "metadata": {},
     "output_type": "display_data"
    }
   ],
   "source": [
    "display(Math(r'F^{\\star} = \\left( \\frac{ \\sum n_{\\ell} - g - 1 }{ g - 1 } \\right)'\n",
    "             r'\\left( \\frac{ 1 - \\sqrt{\\Lambda^{\\star}} }{ \\sqrt{\\Lambda^{\\star}} } \\right)'\n",
    "             '='\n",
    "             fr'\\left( \\frac{{ {n} - {g} - 1 }}{{ {g} - 1 }} \\right)'\n",
    "             fr'\\left( \\frac{{ 1 - \\sqrt{{ {lmbda_star:.4f} }} }}{{ \\sqrt{{ {lmbda_star:.4f} }} }} \\right)'\n",
    "             '='\n",
    "             f'{test_stat:.4f}'\n",
    "             ))"
   ]
  },
  {
   "cell_type": "code",
   "execution_count": 19,
   "metadata": {},
   "outputs": [],
   "source": [
    "alpha = 0.01\n",
    "f_crit = stats.f.ppf(1-alpha, dfn=2*(g-1), dfd=2*(n-g-1))"
   ]
  },
  {
   "cell_type": "code",
   "execution_count": 20,
   "metadata": {},
   "outputs": [
    {
     "data": {
      "text/latex": [
       "$\\displaystyle \\text{Since} \\hspace{0.2cm} p = 2\\hspace{0.2cm} \\text{and} \\hspace{0.2cm} g = 3 \\hspace{0.2cm} \\text{using Table 6.3},\\left( \\frac{ \\sum n_{\\ell} - g - 1 }{ g - 1 } \\right)\\left( \\frac{ 1 - \\sqrt{\\Lambda^{\\star}} }{ \\sqrt{\\Lambda^{\\star}} } \\right)\\sim F_{2(g-1), 2(\\sum n_{\\ell} - g - 1)}(\\alpha)=4.7726$"
      ],
      "text/plain": [
       "<IPython.core.display.Math object>"
      ]
     },
     "metadata": {},
     "output_type": "display_data"
    }
   ],
   "source": [
    "display(Math(fr'\\text{{Since}} \\hspace{{0.2cm}} p = {p}'\n",
    "             fr'\\hspace{{0.2cm}} \\text{{and}} \\hspace{{0.2cm}} '\n",
    "             fr'g = {g} \\hspace{{0.2cm}} \\text{{using Table 6.3}},'\n",
    "             r'\\left( \\frac{ \\sum n_{\\ell} - g - 1 }{ g - 1 } \\right)'\n",
    "             r'\\left( \\frac{ 1 - \\sqrt{\\Lambda^{\\star}} }{ \\sqrt{\\Lambda^{\\star}} } \\right)'\n",
    "             r'\\sim F_{2(g-1), 2(\\sum n_{\\ell} - g - 1)}(\\alpha)'\n",
    "             '='\n",
    "             f'{f_crit:.4f}'\n",
    "             ))"
   ]
  },
  {
   "cell_type": "code",
   "execution_count": 21,
   "metadata": {},
   "outputs": [
    {
     "data": {
      "text/latex": [
       "$\\displaystyle \\text{We have that } F^{\\star} = 17.027 > F_{\\text{crit}} = F_{4, 16 } \\left( 0.01 \\right) = 4.773 \\text{, so we would reject the null hypothesis that } \\bm{\\tau}_{1} = \\bm{\\tau}_{3} = \\bm{\\tau}_{3} = \\textbf{0}$"
      ],
      "text/plain": [
       "<IPython.core.display.Math object>"
      ]
     },
     "metadata": {},
     "output_type": "display_data"
    }
   ],
   "source": [
    "if test_stat > f_crit:\n",
    "    display(Math(fr'\\text{{We have that }} F^{{\\star}} = {test_stat:.3f} > F_{{\\text{{crit}}}} = F_{{{2*(g-1)}, {2*(n-g-1)} }} \\left( {alpha} \\right) = '\n",
    "                 fr'{f_crit:.3f} \\text{{, so we would reject the null hypothesis that }} '\n",
    "                 r'\\bm{\\tau}_{1} = \\bm{\\tau}_{3} = \\bm{\\tau}_{3} = \\textbf{0}'))\n",
    "else:\n",
    "    display(Math(fr'\\text{{We have that }} F^{{\\star}} = {test_stat:.3f} \\leq F_{{\\text{{crit}}}} = F_{{{2*(g-1)}, {2*(n-g-1)} }} \\left( {alpha} \\right) = '\n",
    "                fr'{f_crit:.3f} \\text{{, so we would fail to reject the null hypothesis that }} '\n",
    "                r'\\bm{\\tau}_{1} = \\bm{\\tau}_{3} = \\bm{\\tau}_{3} = \\textbf{0}'))"
   ]
  },
  {
   "cell_type": "code",
   "execution_count": 22,
   "metadata": {},
   "outputs": [],
   "source": [
    "test_stat_bartlett = -(n - 1 - (p + g)/2)*np.log(lmbda_star)"
   ]
  },
  {
   "cell_type": "code",
   "execution_count": 23,
   "metadata": {},
   "outputs": [
    {
     "data": {
      "text/latex": [
       "$\\displaystyle X^{\\star}=-(n - 1 - (p + g)/2)\\ln\\left(\\frac{|\\textbf{W}|}{|\\textbf{B} + \\textbf{W}|}\\right)=-(12 - 1 - (2 + 3)/2)\\ln\\left(\\frac{ 155 }{ 875 }\\right)=28.2114$"
      ],
      "text/plain": [
       "<IPython.core.display.Math object>"
      ]
     },
     "metadata": {},
     "output_type": "display_data"
    }
   ],
   "source": [
    "display(Math(r'X^{\\star}'\n",
    "             '='\n",
    "             '-(n - 1 - (p + g)/2)'\n",
    "             r'\\ln'\n",
    "             r'\\left('\n",
    "             r'\\frac{|\\textbf{W}|}{|\\textbf{B} + \\textbf{W}|}'\n",
    "             r'\\right)'\n",
    "             '='\n",
    "             f'-({n} - 1 - ({p} + {g})/2)'\n",
    "             r'\\ln'\n",
    "             r'\\left('\n",
    "             fr'\\frac{{ {la.det(W):.0f} }}{{ {la.det(B) + la.det(W):.0f} }}'\n",
    "             r'\\right)'\n",
    "             '='\n",
    "             f'{test_stat_bartlett:.4f}'\n",
    "             ))"
   ]
  },
  {
   "cell_type": "code",
   "execution_count": 24,
   "metadata": {},
   "outputs": [],
   "source": [
    "bartlett_crit = stats.chi2.ppf(1-alpha, df=p*(g-1))"
   ]
  },
  {
   "cell_type": "code",
   "execution_count": 25,
   "metadata": {},
   "outputs": [
    {
     "data": {
      "text/latex": [
       "$\\displaystyle X_{\\text{crit}}=\\chi_{p(g-1)}^{2}=\\chi_{ 2(2) }^{2}=13.2767$"
      ],
      "text/plain": [
       "<IPython.core.display.Math object>"
      ]
     },
     "metadata": {},
     "output_type": "display_data"
    }
   ],
   "source": [
    "display(Math(r'X_{\\text{crit}}'\n",
    "             '='\n",
    "             r'\\chi_{p(g-1)}^{2}'\n",
    "             '='\n",
    "             fr'\\chi_{{ {p}({g-1}) }}^{{2}}'\n",
    "             '='\n",
    "             f'{bartlett_crit:.4f}'\n",
    "             ))"
   ]
  },
  {
   "cell_type": "code",
   "execution_count": 26,
   "metadata": {},
   "outputs": [
    {
     "data": {
      "text/latex": [
       "$\\displaystyle \\text{For Bertlett\\'s test, we have that } X^{\\star} = 28.211 > X_{\\text{crit}} = \\chi_{ 2(2) }^{2} \\left( 0.01 \\right) = 13.277 \\text{, so we would reject the null hypothesis that } \\bm{\\tau}_{1} = \\bm{\\tau}_{3} = \\bm{\\tau}_{3} = \\textbf{0}$"
      ],
      "text/plain": [
       "<IPython.core.display.Math object>"
      ]
     },
     "metadata": {},
     "output_type": "display_data"
    }
   ],
   "source": [
    "if test_stat > f_crit:\n",
    "    display(Math(fr'\\text{{For Bertlett\\'s test, we have that }} X^{{\\star}} = {test_stat_bartlett:.3f} > X_{{\\text{{crit}}}} = \\chi_{{ {p}({g-1}) }}^{{2}} \\left( {alpha} \\right) = '\n",
    "                 fr'{bartlett_crit:.3f} \\text{{, so we would reject the null hypothesis that }} '\n",
    "                 r'\\bm{\\tau}_{1} = \\bm{\\tau}_{3} = \\bm{\\tau}_{3} = \\textbf{0}'))\n",
    "else:\n",
    "    display(Math(fr'\\text{{For Bertlett\\'s test, we have that }} X^{{\\star}} = {test_stat_bartlett:.3f} \\leq X_{{\\text{{crit}}}} = \\chi_{{ {p}({g-1}) }}^{{2}} \\left( {alpha} \\right) = '\n",
    "                fr'{bartlett_crit:.3f} \\text{{, so we would fail to reject the null hypothesis that }} '\n",
    "                r'\\bm{\\tau}_{1} = \\bm{\\tau}_{3} = \\bm{\\tau}_{3} = \\textbf{0}'))"
   ]
  }
 ],
 "metadata": {
  "kernelspec": {
   "display_name": "py312",
   "language": "python",
   "name": "py312"
  },
  "language_info": {
   "codemirror_mode": {
    "name": "ipython",
    "version": 3
   },
   "file_extension": ".py",
   "mimetype": "text/x-python",
   "name": "python",
   "nbconvert_exporter": "python",
   "pygments_lexer": "ipython3",
   "version": "3.12.5"
  }
 },
 "nbformat": 4,
 "nbformat_minor": 2
}
